{
 "cells": [
  {
   "cell_type": "code",
   "execution_count": 0,
   "metadata": {
    "application/vnd.databricks.v1+cell": {
     "cellMetadata": {
      "byteLimit": 2048000,
      "rowLimit": 10000
     },
     "inputWidgets": {},
     "nuid": "60dcef99-bfab-4fc9-8178-e8fef6df4d24",
     "showTitle": false,
     "tableResultSettingsMap": {},
     "title": ""
    }
   },
   "outputs": [
    {
     "output_type": "execute_result",
     "data": {
      "text/plain": [
       "[SecretScope(name='adlsstgconnection')]"
      ]
     },
     "execution_count": 1,
     "metadata": {},
     "output_type": "execute_result"
    }
   ],
   "source": [
    "# List all secret scopes available in the Databricks workspace\n",
    "\n",
    "dbutils.secrets.listScopes()"
   ]
  },
  {
   "cell_type": "code",
   "execution_count": 0,
   "metadata": {
    "application/vnd.databricks.v1+cell": {
     "cellMetadata": {
      "byteLimit": 2048000,
      "rowLimit": 10000
     },
     "inputWidgets": {},
     "nuid": "57229d92-5179-492e-8cc9-59ee660821eb",
     "showTitle": false,
     "tableResultSettingsMap": {},
     "title": ""
    }
   },
   "outputs": [
    {
     "output_type": "execute_result",
     "data": {
      "text/plain": [
       "[SecretMetadata(key='appid'),\n",
       " SecretMetadata(key='appsecret'),\n",
       " SecretMetadata(key='azure-sqldb-password'),\n",
       " SecretMetadata(key='azure-sqldb-username'),\n",
       " SecretMetadata(key='onprem-system-password')]"
      ]
     },
     "execution_count": 2,
     "metadata": {},
     "output_type": "execute_result"
    }
   ],
   "source": [
    "# List all secrets stored in the secret scope named 'adlsstgconnection'\n",
    "\n",
    "dbutils.secrets.list(\"adlsstgconnection\")"
   ]
  },
  {
   "cell_type": "code",
   "execution_count": 0,
   "metadata": {
    "application/vnd.databricks.v1+cell": {
     "cellMetadata": {
      "byteLimit": 2048000,
      "rowLimit": 10000
     },
     "inputWidgets": {},
     "nuid": "3caf09dc-fa9b-4ae6-bdbd-1eae19cb072e",
     "showTitle": false,
     "tableResultSettingsMap": {},
     "title": ""
    },
    "jupyter": {
     "outputs_hidden": true
    }
   },
   "outputs": [
    {
     "output_type": "stream",
     "name": "stdout",
     "output_type": "stream",
     "text": [
      "/mnt/project2-container is already mounted.\n"
     ]
    }
   ],
   "source": [
    "# Check if mount point exists or not if not then create new\n",
    "# Mount Azure Data Lake Storage (ADLS) container to Databricks File System (DBFS)\n",
    "# using OAuth authentication and credentials from secret scope\n",
    "\n",
    "mount_point = \"/mnt/project2-container\"\n",
    "\n",
    "if not any(mount.mountPoint == mount_point for mount in dbutils.fs.mounts()):\n",
    "    configs = {\n",
    "        \"fs.azure.account.auth.type\": \"OAuth\",\n",
    "        \"fs.azure.account.oauth.provider.type\": \"org.apache.hadoop.fs.azurebfs.oauth2.ClientCredsTokenProvider\",\n",
    "        \"fs.azure.account.oauth2.client.id\": dbutils.secrets.get(scope=\"adlsstgconnection\", key=\"appid\"),\n",
    "        \"fs.azure.account.oauth2.client.secret\": dbutils.secrets.get(scope=\"adlsstgconnection\", key=\"appsecret\"),\n",
    "        \"fs.azure.account.oauth2.client.endpoint\": \"https://login.microsoftonline.com/78be0424-72cf-4e7f-8a71-966bd89c103b/oauth2/token\"\n",
    "    }\n",
    "\n",
    "    dbutils.fs.mount(\n",
    "        source=\"abfss://project2-container@hsinghadls.dfs.core.windows.net/\",\n",
    "        mount_point=mount_point,\n",
    "        extra_configs=configs\n",
    "    )\n",
    "    print(f\"Mounted successfully at {mount_point}\")\n",
    "else:\n",
    "    print(f\"{mount_point} is already mounted.\")\n"
   ]
  },
  {
   "cell_type": "code",
   "execution_count": 0,
   "metadata": {
    "application/vnd.databricks.v1+cell": {
     "cellMetadata": {
      "byteLimit": 2048000,
      "rowLimit": 10000
     },
     "inputWidgets": {},
     "nuid": "9a2321fb-dd0c-47b0-87cd-9115d42db3dc",
     "showTitle": false,
     "tableResultSettingsMap": {},
     "title": ""
    }
   },
   "outputs": [
    {
     "output_type": "execute_result",
     "data": {
      "text/plain": [
       "[FileInfo(path='dbfs:/mnt/project2-container/Bronze_Layer/', name='Bronze_Layer/', size=0, modificationTime=1745394195000),\n",
       " FileInfo(path='dbfs:/mnt/project2-container/Gold_Layer/', name='Gold_Layer/', size=0, modificationTime=1745524456000),\n",
       " FileInfo(path='dbfs:/mnt/project2-container/Silver_Layer/', name='Silver_Layer/', size=0, modificationTime=1745523623000)]"
      ]
     },
     "execution_count": 4,
     "metadata": {},
     "output_type": "execute_result"
    }
   ],
   "source": [
    "# List all files and directories in the root of the mounted container '/mnt/project2-container'\n",
    "dbutils.fs.ls(\"/mnt/project2-container\")"
   ]
  },
  {
   "cell_type": "code",
   "execution_count": 0,
   "metadata": {
    "application/vnd.databricks.v1+cell": {
     "cellMetadata": {
      "byteLimit": 2048000,
      "rowLimit": 10000
     },
     "inputWidgets": {},
     "nuid": "2e6ad50a-7a51-41bc-993a-6d2d05d3af86",
     "showTitle": false,
     "tableResultSettingsMap": {},
     "title": ""
    }
   },
   "outputs": [],
   "source": [
    "# Function to generate a dynamic file path based on folder name and current date\n",
    "\n",
    "from datetime import datetime\n",
    "\n",
    "def get_file_path(folder_name):\n",
    "    current_date = datetime.now().strftime(\"%Y-%m-%d\")\n",
    "    year, month, day = current_date.split(\"-\")\n",
    "    file_path = f\"/mnt/project2-container/{folder_name}/{year}/{month}/{day}/\"\n",
    "\n",
    "    return file_path"
   ]
  },
  {
   "cell_type": "code",
   "execution_count": 0,
   "metadata": {
    "application/vnd.databricks.v1+cell": {
     "cellMetadata": {
      "byteLimit": 2048000,
      "rowLimit": 10000
     },
     "inputWidgets": {},
     "nuid": "11d42c4b-103b-489c-8985-2fe09df7fe28",
     "showTitle": false,
     "tableResultSettingsMap": {},
     "title": ""
    }
   },
   "outputs": [],
   "source": [
    "# Function to read data from ADLS at the given path and format using Spark\n",
    "\n",
    "\n",
    "def get_adls_data(path, file_format, file_name):\n",
    "    df = spark.read.format(file_format).option(\"header\", True).load(path + file_name)\n",
    "    \n",
    "    return df"
   ]
  },
  {
   "cell_type": "code",
   "execution_count": 0,
   "metadata": {
    "application/vnd.databricks.v1+cell": {
     "cellMetadata": {
      "byteLimit": 2048000,
      "rowLimit": 10000
     },
     "inputWidgets": {},
     "nuid": "cbd850a6-20b7-4c24-a616-00ed490f84df",
     "showTitle": false,
     "tableResultSettingsMap": {},
     "title": ""
    }
   },
   "outputs": [],
   "source": [
    "# Function to write a Spark DataFrame to ADLS in the given file format and mode\n",
    "\n",
    "def put_adls_data(path, file_format, df, file_name, mode):\n",
    "    df.write.format(file_format).mode(mode).save(path+ file_name)\n",
    "    \n",
    "    return df"
   ]
  },
  {
   "cell_type": "code",
   "execution_count": 0,
   "metadata": {
    "application/vnd.databricks.v1+cell": {
     "cellMetadata": {
      "byteLimit": 2048000,
      "rowLimit": 10000
     },
     "inputWidgets": {},
     "nuid": "42fbf6aa-156f-4567-875d-b03b71b9fcf7",
     "showTitle": false,
     "tableResultSettingsMap": {},
     "title": ""
    }
   },
   "outputs": [
    {
     "output_type": "stream",
     "name": "stdout",
     "output_type": "stream",
     "text": [
      "['accounts.csv', 'customers.csv', 'loan_payments.csv', 'loans.csv', 'transactions.csv']\n"
     ]
    }
   ],
   "source": [
    "# Function to list all file names in the Bronze layer for the current date\n",
    "# List and print all files in the dynamically generated Bronze layer path\n",
    "\n",
    "def list_csv_files_in_bronze(bronze_path): \n",
    "    files = dbutils.fs.ls(bronze_path)\n",
    "    file_names = [file.name for file in files if file.name]  \n",
    "    return file_names\n",
    "\n",
    "files = list_csv_files_in_bronze(get_file_path(\"Bronze_Layer\"))\n",
    "print(files)"
   ]
  }
 ],
 "metadata": {
  "application/vnd.databricks.v1+notebook": {
   "computePreferences": null,
   "dashboards": [],
   "environmentMetadata": {
    "base_environment": "",
    "environment_version": "2"
   },
   "inputWidgetPreferences": null,
   "language": "python",
   "notebookMetadata": {
    "pythonIndentUnit": 4
   },
   "notebookName": "MyUtilityFunctions",
   "widgets": {}
  },
  "language_info": {
   "name": "python"
  }
 },
 "nbformat": 4,
 "nbformat_minor": 0
}