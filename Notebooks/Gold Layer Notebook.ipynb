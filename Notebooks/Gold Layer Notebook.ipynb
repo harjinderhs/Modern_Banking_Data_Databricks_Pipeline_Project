{
 "cells": [
  {
   "cell_type": "code",
   "execution_count": 0,
   "metadata": {
    "application/vnd.databricks.v1+cell": {
     "cellMetadata": {
      "byteLimit": 2048000,
      "rowLimit": 10000
     },
     "inputWidgets": {},
     "nuid": "d54adfc8-0e5f-4af3-8d9c-647059b3e377",
     "showTitle": false,
     "tableResultSettingsMap": {},
     "title": ""
    }
   },
   "outputs": [
    {
     "output_type": "execute_result",
     "data": {
      "text/plain": [
       "[SecretScope(name='adlsstgconnection')]"
      ]
     },
     "execution_count": 2,
     "metadata": {},
     "output_type": "execute_result"
    }
   ],
   "source": [
    "%run \"/Workspace/Project2/MyUtilityFunctions\""
   ]
  },
  {
   "cell_type": "code",
   "execution_count": 0,
   "metadata": {
    "application/vnd.databricks.v1+cell": {
     "cellMetadata": {
      "byteLimit": 2048000,
      "rowLimit": 10000
     },
     "inputWidgets": {},
     "nuid": "ed5a3e91-c1f3-4eb0-9eff-6a7b6f08a0b5",
     "showTitle": false,
     "tableResultSettingsMap": {},
     "title": ""
    }
   },
   "outputs": [
    {
     "output_type": "stream",
     "name": "stdout",
     "output_type": "stream",
     "text": [
      "5\n"
     ]
    }
   ],
   "source": [
    "# Initialize list to store DataFrames\n",
    "# Load Silver Layer Parquet data for all files\n",
    "\n",
    "all_data_df=[]\n",
    "\n",
    "for i in range(0,len(files)):\n",
    "    all_data_df.append(get_adls_data(\"/mnt/project2-container/Silver_Layer/\", \"parquet\", files[i]\\\n",
    "        .replace(\".csv\", \"\")))\n",
    "\n",
    "print(len(all_data_df))"
   ]
  },
  {
   "cell_type": "code",
   "execution_count": 0,
   "metadata": {
    "application/vnd.databricks.v1+cell": {
     "cellMetadata": {
      "byteLimit": 2048000,
      "rowLimit": 10000
     },
     "inputWidgets": {},
     "nuid": "1d426e26-a11d-4363-a459-304771b63757",
     "showTitle": false,
     "tableResultSettingsMap": {},
     "title": ""
    }
   },
   "outputs": [],
   "source": [
    "%run \"/Workspace/Project2/GoldDeltaTableCreation\""
   ]
  },
  {
   "cell_type": "code",
   "execution_count": 0,
   "metadata": {
    "application/vnd.databricks.v1+cell": {
     "cellMetadata": {
      "byteLimit": 2048000,
      "implicitDf": true,
      "rowLimit": 10000
     },
     "inputWidgets": {},
     "nuid": "f808d29b-426b-4159-9b7a-d3ac4034ed2f",
     "showTitle": false,
     "tableResultSettingsMap": {},
     "title": ""
    }
   },
   "outputs": [],
   "source": [
    "# Generate Hashkey column for SCD (Slowly Changing Dimensions) tracking\n",
    "\n",
    "from pyspark.sql.functions import crc32, concat\n",
    "\n",
    "for i in range(0,len(files)):\n",
    "    all_data_df[i] = all_data_df[i].withColumn(\"Hashkey\", crc32(concat(*all_data_df[i].columns)))\n"
   ]
  },
  {
   "cell_type": "code",
   "execution_count": 0,
   "metadata": {
    "application/vnd.databricks.v1+cell": {
     "cellMetadata": {
      "byteLimit": 2048000,
      "rowLimit": 10000
     },
     "inputWidgets": {},
     "nuid": "2633b4d9-6b03-47ca-b2fc-4e5ec217de4b",
     "showTitle": false,
     "tableResultSettingsMap": {},
     "title": ""
    }
   },
   "outputs": [],
   "source": [
    "# Read existing Gold Layer Delta Tables\n",
    "\n",
    "from delta.tables import DeltaTable\n",
    "\n",
    "delta_tabels = []\n",
    "delta_table_dfs = []\n",
    "\n",
    "for i in range(0,len(files)):\n",
    "    fn = files[i].replace(\".csv\", \"\")\n",
    "    delta_tabels.append(DeltaTable.forPath(spark, f\"/mnt/project2-container/Gold_Layer/{fn}/\"))\n",
    "    delta_table_dfs.append(delta_tabels[i].toDF())\n",
    "\n"
   ]
  },
  {
   "cell_type": "code",
   "execution_count": 0,
   "metadata": {
    "application/vnd.databricks.v1+cell": {
     "cellMetadata": {
      "byteLimit": 2048000,
      "rowLimit": 10000
     },
     "inputWidgets": {},
     "nuid": "df410231-4d04-4d02-ba0c-b3347df64d4d",
     "showTitle": false,
     "tableResultSettingsMap": {},
     "title": ""
    }
   },
   "outputs": [],
   "source": [
    "# Define update and insert values for each table\n",
    "\n",
    "from pyspark.sql.functions import col, lit, current_timestamp\n",
    "\n",
    "values={\n",
    "    \"accounts.csv\": \n",
    "        {\n",
    "        \"set_values\":\n",
    "            {\n",
    "                \"tgt.AccountId\": \"src.AccountId\",\n",
    "                \"tgt.CustomerId\":\"src.CustomerId\" ,\n",
    "                \"tgt.AccountType\": \"src.AccountType\",\n",
    "                \"tgt.Balance\": \"src.Balance\",\n",
    "                \"tgt.UpdatedBy\": lit(\"Gold-Databricks-Update\"),\n",
    "                \"tgt.UpdatedDate\": current_timestamp(),\n",
    "                \"tgt.Hashkey\": \"src.Hashkey\" \n",
    "            },\n",
    "        \"insert_values\" :\n",
    "            {\n",
    "                \"tgt.AccountId\": \"src.AccountId\",\n",
    "                \"tgt.CustomerId\": \"src.CustomerId\" ,\n",
    "                \"tgt.AccountType\": \"src.AccountType\",\n",
    "                \"tgt.Balance\": \"src.Balance\",\n",
    "                \"tgt.CreatedBy\": lit(\"Gold-Databricks\"),\n",
    "                \"tgt.CreatedDate\": current_timestamp(),\n",
    "                \"tgt.UpdatedBy\": lit(\"Gold-Databricks\"),\n",
    "                \"tgt.UpdatedDate\": current_timestamp(),\n",
    "                \"tgt.Hashkey\": \"src.Hashkey\"\n",
    "            }\n",
    "    },\n",
    "        \n",
    "    \"customers.csv\": \n",
    "        {\n",
    "        \"set_values\":\n",
    "            {\n",
    "                \"tgt.CustomerId\": \"src.CustomerId\",\n",
    "                \"tgt.FirstName\": \"src.FirstName\",\n",
    "                \"tgt.LastName\": \"src.LastName\",\n",
    "                \"tgt.Address\": \"src.Address\",\n",
    "                \"tgt.City\": \"src.City\",\n",
    "                \"tgt.State\": \"src.State\",\n",
    "                \"tgt.Zip\": \"src.Zip\",\n",
    "                \"tgt.UpdatedBy\": lit(\"Gold-Databricks-Update\"),\n",
    "                \"tgt.UpdatedDate\": current_timestamp(),\n",
    "                \"tgt.Hashkey\": \"src.Hashkey\"\n",
    "            },\n",
    "        \"insert_values\" :\n",
    "            {\n",
    "                \"tgt.CustomerId\": \"src.CustomerId\",\n",
    "                \"tgt.FirstName\": \"src.FirstName\",\n",
    "                \"tgt.LastName\": \"src.LastName\",\n",
    "                \"tgt.Address\": \"src.Address\",\n",
    "                \"tgt.City\": \"src.City\",\n",
    "                \"tgt.State\": \"src.State\",\n",
    "                \"tgt.Zip\": \"src.Zip\",\n",
    "                \"tgt.CreatedBy\": lit(\"Gold-Databricks\"),\n",
    "                \"tgt.CreatedDate\": current_timestamp(),\n",
    "                \"tgt.UpdatedBy\": lit(\"Gold-Databricks\"),\n",
    "                \"tgt.UpdatedDate\": current_timestamp(),\n",
    "                \"tgt.Hashkey\": \"src.Hashkey\"\n",
    "            },\n",
    "    },\n",
    "               \n",
    "    \"loan_payments.csv\": \n",
    "    {\n",
    "        \"set_values\": {\n",
    "            \"tgt.PaymentId\": \"src.PaymentId\",\n",
    "            \"tgt.LoanId\": \"src.LoanId\",\n",
    "            \"tgt.PaymentDate\": \"src.PaymentDate\",\n",
    "            \"tgt.PaymentAmount\": \"src.PaymentAmount\",\n",
    "            \"tgt.UpdatedBy\": lit(\"Gold-Databricks-Update\"),\n",
    "            \"tgt.UpdatedDate\": current_timestamp(),\n",
    "            \"tgt.Hashkey\": \"src.Hashkey\"\n",
    "        },\n",
    "        \"insert_values\": {\n",
    "            \"tgt.PaymentId\": \"src.PaymentId\",\n",
    "            \"tgt.LoanId\": \"src.LoanId\",\n",
    "            \"tgt.PaymentDate\": \"src.PaymentDate\",\n",
    "            \"tgt.PaymentAmount\": \"src.PaymentAmount\",\n",
    "            \"tgt.CreatedBy\": lit(\"Gold-Databricks\"),\n",
    "            \"tgt.CreatedDate\": current_timestamp(),\n",
    "            \"tgt.UpdatedBy\": lit(\"Gold-Databricks\"),\n",
    "            \"tgt.UpdatedDate\": current_timestamp(),\n",
    "            \"tgt.Hashkey\": \"src.Hashkey\"\n",
    "        }\n",
    "    },\n",
    "\n",
    "    \"loans.csv\": \n",
    "        {\n",
    "        \"set_values\": {\n",
    "            \"tgt.LoanId\": \"src.LoanId\",\n",
    "            \"tgt.CustomerId\": \"src.CustomerId\",\n",
    "            \"tgt.LoanAmount\": \"src.LoanAmount\",\n",
    "            \"tgt.InterestRate\": \"src.InterestRate\",\n",
    "            \"tgt.LoanTerm\": \"src.LoanTerm\",\n",
    "            \"tgt.UpdatedBy\": lit(\"Gold-Databricks-Update\"),\n",
    "            \"tgt.UpdatedDate\": current_timestamp(),\n",
    "            \"tgt.Hashkey\": \"src.Hashkey\"\n",
    "        },\n",
    "        \"insert_values\": {\n",
    "            \"tgt.LoanId\": \"src.LoanId\",\n",
    "            \"tgt.CustomerId\": \"src.CustomerId\",\n",
    "            \"tgt.LoanAmount\": \"src.LoanAmount\",\n",
    "            \"tgt.InterestRate\": \"src.InterestRate\",\n",
    "            \"tgt.LoanTerm\": \"src.LoanTerm\",\n",
    "            \"tgt.CreatedBy\": lit(\"Gold-Databricks\"),\n",
    "            \"tgt.CreatedDate\": current_timestamp(),\n",
    "            \"tgt.UpdatedBy\": lit(\"Gold-Databricks\"),\n",
    "            \"tgt.UpdatedDate\": current_timestamp(),\n",
    "            \"tgt.Hashkey\": \"src.Hashkey\"\n",
    "        }\n",
    "    },\n",
    "\n",
    "    \"transactions.csv\": \n",
    "    {\n",
    "        \"set_values\": {\n",
    "            \"tgt.TransactionId\": \"src.TransactionId\",\n",
    "            \"tgt.AccountId\": \"src.AccountId\",\n",
    "            \"tgt.TransactionDate\": \"src.TransactionDate\",\n",
    "            \"tgt.TransactionAmount\": \"src.TransactionAmount\",\n",
    "            \"tgt.TransactionType\": \"src.TransactionType\",\n",
    "            \"tgt.UpdatedBy\": lit(\"Gold-Databricks-Update\"),\n",
    "            \"tgt.UpdatedDate\": current_timestamp(),\n",
    "            \"tgt.Hashkey\": \"src.Hashkey\"\n",
    "        },\n",
    "        \"insert_values\": {\n",
    "            \"tgt.TransactionId\": \"src.TransactionId\",\n",
    "            \"tgt.AccountId\": \"src.AccountId\",\n",
    "            \"tgt.TransactionDate\": \"src.TransactionDate\",\n",
    "            \"tgt.TransactionAmount\": \"src.TransactionAmount\",\n",
    "            \"tgt.TransactionType\": \"src.TransactionType\",\n",
    "            \"tgt.CreatedBy\": lit(\"Gold-Databricks\"),\n",
    "            \"tgt.CreatedDate\": current_timestamp(),\n",
    "            \"tgt.UpdatedBy\": lit(\"Gold-Databricks\"),\n",
    "            \"tgt.UpdatedDate\": current_timestamp(),\n",
    "            \"tgt.Hashkey\": \"src.Hashkey\"\n",
    "        }\n",
    "    }   \n",
    "    \n",
    "}"
   ]
  },
  {
   "cell_type": "code",
   "execution_count": 0,
   "metadata": {
    "application/vnd.databricks.v1+cell": {
     "cellMetadata": {
      "byteLimit": 2048000,
      "rowLimit": 10000
     },
     "inputWidgets": {},
     "nuid": "b69316bb-f346-4325-b33b-4c8283f28849",
     "showTitle": false,
     "tableResultSettingsMap": {},
     "title": ""
    }
   },
   "outputs": [
    {
     "output_type": "stream",
     "name": "stdout",
     "output_type": "stream",
     "text": [
      "['tgt.AccountId', 'tgt.CustomerId', 'tgt.PaymentId', 'tgt.LoanId', 'tgt.TransactionId']\n['src.AccountId', 'src.CustomerId', 'src.PaymentId', 'src.LoanId', 'src.TransactionId']\n"
     ]
    }
   ],
   "source": [
    "# Extract primary key mapping for each table\n",
    "\n",
    "tgt_ids = []\n",
    "src_ids = []\n",
    "\n",
    "for i in range(0,len(files)):\n",
    "    tgt_ids.append(next(iter(values[files[i]][\"set_values\"])))\n",
    "    src_ids.append(values[files[i]][\"set_values\"][tgt_ids[i]])\n",
    "    \n",
    "print(tgt_ids)\n",
    "print(src_ids)"
   ]
  },
  {
   "cell_type": "code",
   "execution_count": 0,
   "metadata": {
    "application/vnd.databricks.v1+cell": {
     "cellMetadata": {
      "byteLimit": 2048000,
      "rowLimit": 10000
     },
     "inputWidgets": {},
     "nuid": "64ab1261-1358-44ea-afc2-d197cab5c6ff",
     "showTitle": false,
     "tableResultSettingsMap": {},
     "title": ""
    }
   },
   "outputs": [],
   "source": [
    "# Identify new or changed records using anti join on Hashkey + Primary Key\n",
    "\n",
    "src1_dfs = []\n",
    "\n",
    "for i in range(0,len(files)):\n",
    "    src1_dfs.append(all_data_df[i].alias(\"src\").join(\n",
    "        delta_table_dfs[i].alias(\"tgt\"),\n",
    "        ( \n",
    "            (col(src_ids[i]) == col(tgt_ids[i])) & (col(\"src.Hashkey\") == col(\"tgt.Hashkey\"))\n",
    "        ),\n",
    "        \"anti\"\n",
    "    ).select(\"src.*\"))\n"
   ]
  },
  {
   "cell_type": "code",
   "execution_count": 0,
   "metadata": {
    "application/vnd.databricks.v1+cell": {
     "cellMetadata": {
      "byteLimit": 2048000,
      "rowLimit": 10000
     },
     "inputWidgets": {},
     "nuid": "150ceaf3-9a3d-44e1-ab8b-67ac51e36bfd",
     "showTitle": false,
     "tableResultSettingsMap": {},
     "title": ""
    }
   },
   "outputs": [],
   "source": [
    "# Perform MERGE to update or insert records into Gold Layer Delta tables\n",
    "\n",
    "for i in range(0,len(files)):\n",
    "    delta_tabels[i].alias(\"tgt\").merge(src1_dfs[i].alias(\"src\"),((col(tgt_ids[i]) == col(src_ids[i]))))\\\n",
    "        .whenMatchedUpdate(\n",
    "            set = values[files[i]][\"set_values\"]\n",
    "            )\\\n",
    "            .whenNotMatchedInsert(\n",
    "                values =  values[files[i]][\"insert_values\"]\n",
    "            ).execute()"
   ]
  },
  {
   "cell_type": "code",
   "execution_count": 0,
   "metadata": {
    "application/vnd.databricks.v1+cell": {
     "cellMetadata": {
      "byteLimit": 2048000,
      "implicitDf": true,
      "rowLimit": 10000
     },
     "inputWidgets": {},
     "nuid": "f8f45685-1435-4cf4-a6a5-b080bde04c71",
     "showTitle": false,
     "tableResultSettingsMap": {},
     "title": ""
    }
   },
   "outputs": [
    {
     "output_type": "display_data",
     "data": {
      "text/html": [
       "<style scoped>\n",
       "  .table-result-container {\n",
       "    max-height: 300px;\n",
       "    overflow: auto;\n",
       "  }\n",
       "  table, th, td {\n",
       "    border: 1px solid black;\n",
       "    border-collapse: collapse;\n",
       "  }\n",
       "  th, td {\n",
       "    padding: 5px;\n",
       "  }\n",
       "  th {\n",
       "    text-align: left;\n",
       "  }\n",
       "</style><div class='table-result-container'><table class='table-result'><thead style='background-color: white'><tr><th>AccountId</th><th>CustomerId</th><th>AccountType</th><th>Balance</th><th>CreatedBy</th><th>CreatedDate</th><th>UpdatedBy</th><th>UpdatedDate</th><th>Hashkey</th></tr></thead><tbody><tr><td>54</td><td>42</td><td>Checking</td><td>5500.50</td><td>Gold-Databricks</td><td>2025-04-24T19:57:13.858Z</td><td>Gold-Databricks</td><td>2025-04-24T19:57:13.858Z</td><td>221025946</td></tr><tr><td>88</td><td>1</td><td>Checking</td><td>8900.00</td><td>Gold-Databricks</td><td>2025-04-24T19:57:13.858Z</td><td>Gold-Databricks</td><td>2025-04-24T19:57:13.858Z</td><td>512030229</td></tr><tr><td>82</td><td>2</td><td>Checking</td><td>8300.50</td><td>Gold-Databricks</td><td>2025-04-24T19:57:13.858Z</td><td>Gold-Databricks</td><td>2025-04-24T19:57:13.858Z</td><td>3247491694</td></tr><tr><td>92</td><td>44</td><td>Checking</td><td>9300.00</td><td>Gold-Databricks</td><td>2025-04-24T19:57:13.858Z</td><td>Gold-Databricks</td><td>2025-04-24T19:57:13.858Z</td><td>485707070</td></tr><tr><td>21</td><td>53</td><td>Savings</td><td>300.25</td><td>Gold-Databricks</td><td>2025-04-24T19:57:13.858Z</td><td>Gold-Databricks</td><td>2025-04-24T19:57:13.858Z</td><td>2800704470</td></tr><tr><td>29</td><td>58</td><td>Savings</td><td>75.25</td><td>Gold-Databricks</td><td>2025-04-24T19:57:13.858Z</td><td>Gold-Databricks</td><td>2025-04-24T19:57:13.858Z</td><td>3637748452</td></tr><tr><td>35</td><td>62</td><td>Savings</td><td>175.75</td><td>Gold-Databricks</td><td>2025-04-24T19:57:13.858Z</td><td>Gold-Databricks</td><td>2025-04-24T19:57:13.858Z</td><td>3427479153</td></tr><tr><td>38</td><td>15</td><td>Checking</td><td>3900.50</td><td>Gold-Databricks</td><td>2025-04-24T19:57:13.858Z</td><td>Gold-Databricks</td><td>2025-04-24T19:57:13.858Z</td><td>1689886302</td></tr><tr><td>72</td><td>17</td><td>Checking</td><td>7300.00</td><td>Gold-Databricks</td><td>2025-04-24T19:57:13.858Z</td><td>Gold-Databricks</td><td>2025-04-24T19:57:13.858Z</td><td>1425050024</td></tr><tr><td>33</td><td>85</td><td>Savings</td><td>150.25</td><td>Gold-Databricks</td><td>2025-04-24T19:57:13.858Z</td><td>Gold-Databricks</td><td>2025-04-24T19:57:13.858Z</td><td>655204919</td></tr><tr><td>45</td><td>68</td><td>Savings</td><td>300.25</td><td>Gold-Databricks</td><td>2025-04-24T19:57:13.858Z</td><td>Gold-Databricks</td><td>2025-04-24T19:57:13.858Z</td><td>2343563725</td></tr><tr><td>86</td><td>21</td><td>Checking</td><td>8700.50</td><td>Gold-Databricks</td><td>2025-04-24T19:57:13.858Z</td><td>Gold-Databricks</td><td>2025-04-24T19:57:13.858Z</td><td>2919860885</td></tr><tr><td>51</td><td>72</td><td>Savings</td><td>375.75</td><td>Gold-Databricks</td><td>2025-04-24T19:57:13.858Z</td><td>Gold-Databricks</td><td>2025-04-24T19:57:13.858Z</td><td>1266528029</td></tr><tr><td>84</td><td>40</td><td>Checking</td><td>8500.00</td><td>Gold-Databricks</td><td>2025-04-24T19:57:13.858Z</td><td>Gold-Databricks</td><td>2025-04-24T19:57:13.858Z</td><td>2599751601</td></tr><tr><td>5</td><td>56</td><td>Savings</td><td>500.00</td><td>Gold-Databricks</td><td>2025-04-24T19:57:13.858Z</td><td>Gold-Databricks</td><td>2025-04-24T19:57:13.858Z</td><td>3886787448</td></tr><tr><td>15</td><td>47</td><td>Savings</td><td>700.75</td><td>Gold-Databricks</td><td>2025-04-24T19:57:13.858Z</td><td>Gold-Databricks</td><td>2025-04-24T19:57:13.858Z</td><td>1744154229</td></tr><tr><td>98</td><td>49</td><td>Checking</td><td>9900.50</td><td>Gold-Databricks</td><td>2025-04-24T19:57:13.858Z</td><td>Gold-Databricks</td><td>2025-04-24T19:57:13.858Z</td><td>3893038149</td></tr><tr><td>27</td><td>94</td><td>Savings</td><td>50.75</td><td>Gold-Databricks</td><td>2025-04-24T19:57:13.858Z</td><td>Gold-Databricks</td><td>2025-04-24T19:57:13.858Z</td><td>3045508432</td></tr><tr><td>31</td><td>71</td><td>Savings</td><td>125.75</td><td>Gold-Databricks</td><td>2025-04-24T19:57:13.858Z</td><td>Gold-Databricks</td><td>2025-04-24T19:57:13.858Z</td><td>352326581</td></tr><tr><td>22</td><td>37</td><td>Checking</td><td>2400.50</td><td>Gold-Databricks</td><td>2025-04-24T19:57:13.858Z</td><td>Gold-Databricks</td><td>2025-04-24T19:57:13.858Z</td><td>2771219456</td></tr><tr><td>56</td><td>28</td><td>Checking</td><td>5700.00</td><td>Gold-Databricks</td><td>2025-04-24T19:57:13.858Z</td><td>Gold-Databricks</td><td>2025-04-24T19:57:13.858Z</td><td>3877942592</td></tr><tr><td>83</td><td>82</td><td>Savings</td><td>775.75</td><td>Gold-Databricks</td><td>2025-04-24T19:57:13.858Z</td><td>Gold-Databricks</td><td>2025-04-24T19:57:13.858Z</td><td>293251303</td></tr><tr><td>17</td><td>99</td><td>Savings</td><td>600.25</td><td>Gold-Databricks</td><td>2025-04-24T19:57:13.858Z</td><td>Gold-Databricks</td><td>2025-04-24T19:57:13.858Z</td><td>1642826618</td></tr><tr><td>69</td><td>59</td><td>Savings</td><td>600.25</td><td>Gold-Databricks</td><td>2025-04-24T19:57:13.858Z</td><td>Gold-Databricks</td><td>2025-04-24T19:57:13.858Z</td><td>604940414</td></tr><tr><td>14</td><td>64</td><td>Checking</td><td>3200.50</td><td>Gold-Databricks</td><td>2025-04-24T19:57:13.858Z</td><td>Gold-Databricks</td><td>2025-04-24T19:57:13.858Z</td><td>3349647104</td></tr><tr><td>90</td><td>38</td><td>Checking</td><td>9100.50</td><td>Gold-Databricks</td><td>2025-04-24T19:57:13.858Z</td><td>Gold-Databricks</td><td>2025-04-24T19:57:13.858Z</td><td>2053712775</td></tr><tr><td>77</td><td>91</td><td>Savings</td><td>700.25</td><td>Gold-Databricks</td><td>2025-04-24T19:57:13.858Z</td><td>Gold-Databricks</td><td>2025-04-24T19:57:13.858Z</td><td>1054536161</td></tr><tr><td>70</td><td>33</td><td>Checking</td><td>7100.50</td><td>Gold-Databricks</td><td>2025-04-24T19:57:13.858Z</td><td>Gold-Databricks</td><td>2025-04-24T19:57:13.858Z</td><td>2277179008</td></tr><tr><td>34</td><td>41</td><td>Checking</td><td>3500.50</td><td>Gold-Databricks</td><td>2025-04-24T19:57:13.858Z</td><td>Gold-Databricks</td><td>2025-04-24T19:57:13.858Z</td><td>3295978363</td></tr><tr><td>95</td><td>60</td><td>Savings</td><td>925.75</td><td>Gold-Databricks</td><td>2025-04-24T19:57:13.858Z</td><td>Gold-Databricks</td><td>2025-04-24T19:57:13.858Z</td><td>1002059928</td></tr><tr><td>28</td><td>7</td><td>Checking</td><td>2900.00</td><td>Gold-Databricks</td><td>2025-04-24T19:57:13.858Z</td><td>Gold-Databricks</td><td>2025-04-24T19:57:13.858Z</td><td>2949242584</td></tr><tr><td>1</td><td>45</td><td>Savings</td><td>1000.50</td><td>Gold-Databricks</td><td>2025-04-24T19:57:13.858Z</td><td>Gold-Databricks</td><td>2025-04-24T19:57:13.858Z</td><td>2454403084</td></tr><tr><td>23</td><td>88</td><td>Savings</td><td>200.75</td><td>Gold-Databricks</td><td>2025-04-24T19:57:13.858Z</td><td>Gold-Databricks</td><td>2025-04-24T19:57:13.858Z</td><td>609358004</td></tr><tr><td>26</td><td>25</td><td>Checking</td><td>2800.50</td><td>Gold-Databricks</td><td>2025-04-24T19:57:13.858Z</td><td>Gold-Databricks</td><td>2025-04-24T19:57:13.858Z</td><td>356228814</td></tr><tr><td>52</td><td>10</td><td>Checking</td><td>5300.00</td><td>Gold-Databricks</td><td>2025-04-24T19:57:13.858Z</td><td>Gold-Databricks</td><td>2025-04-24T19:57:13.858Z</td><td>2280475706</td></tr><tr><td>68</td><td>8</td><td>Checking</td><td>6900.00</td><td>Gold-Databricks</td><td>2025-04-24T19:57:13.858Z</td><td>Gold-Databricks</td><td>2025-04-24T19:57:13.858Z</td><td>332953756</td></tr><tr><td>32</td><td>9</td><td>Checking</td><td>3300.00</td><td>Gold-Databricks</td><td>2025-04-24T19:57:13.858Z</td><td>Gold-Databricks</td><td>2025-04-24T19:57:13.858Z</td><td>2957212870</td></tr><tr><td>40</td><td>19</td><td>Checking</td><td>4100.00</td><td>Gold-Databricks</td><td>2025-04-24T19:57:13.858Z</td><td>Gold-Databricks</td><td>2025-04-24T19:57:13.858Z</td><td>2070805942</td></tr><tr><td>30</td><td>32</td><td>Checking</td><td>3100.50</td><td>Gold-Databricks</td><td>2025-04-24T19:57:13.858Z</td><td>Gold-Databricks</td><td>2025-04-24T19:57:13.858Z</td><td>2927145080</td></tr><tr><td>73</td><td>87</td><td>Savings</td><td>650.25</td><td>Gold-Databricks</td><td>2025-04-24T19:57:13.858Z</td><td>Gold-Databricks</td><td>2025-04-24T19:57:13.858Z</td><td>2825810413</td></tr><tr><td>53</td><td>86</td><td>Savings</td><td>400.25</td><td>Gold-Databricks</td><td>2025-04-24T19:57:13.858Z</td><td>Gold-Databricks</td><td>2025-04-24T19:57:13.858Z</td><td>1685401127</td></tr><tr><td>63</td><td>84</td><td>Savings</td><td>525.75</td><td>Gold-Databricks</td><td>2025-04-24T19:57:13.858Z</td><td>Gold-Databricks</td><td>2025-04-24T19:57:13.858Z</td><td>766784956</td></tr><tr><td>99</td><td>80</td><td>Savings</td><td>975.75</td><td>Gold-Databricks</td><td>2025-04-24T19:57:13.858Z</td><td>Gold-Databricks</td><td>2025-04-24T19:57:13.858Z</td><td>3104537685</td></tr><tr><td>60</td><td>20</td><td>Checking</td><td>6100.00</td><td>Gold-Databricks</td><td>2025-04-24T19:57:13.858Z</td><td>Gold-Databricks</td><td>2025-04-24T19:57:13.858Z</td><td>1825281187</td></tr><tr><td>78</td><td>4</td><td>Checking</td><td>7900.50</td><td>Gold-Databricks</td><td>2025-04-24T19:57:13.858Z</td><td>Gold-Databricks</td><td>2025-04-24T19:57:13.858Z</td><td>1790786833</td></tr><tr><td>25</td><td>66</td><td>Savings</td><td>100.25</td><td>Gold-Databricks</td><td>2025-04-24T19:57:13.858Z</td><td>Gold-Databricks</td><td>2025-04-24T19:57:13.858Z</td><td>2865279566</td></tr><tr><td>8</td><td>67</td><td>Checking</td><td>2200.00</td><td>Gold-Databricks</td><td>2025-04-24T19:57:13.858Z</td><td>Gold-Databricks</td><td>2025-04-24T19:57:13.858Z</td><td>3401041467</td></tr><tr><td>75</td><td>61</td><td>Savings</td><td>675.75</td><td>Gold-Databricks</td><td>2025-04-24T19:57:13.858Z</td><td>Gold-Databricks</td><td>2025-04-24T19:57:13.858Z</td><td>3727105245</td></tr><tr><td>94</td><td>39</td><td>Checking</td><td>9500.50</td><td>Gold-Databricks</td><td>2025-04-24T19:57:13.858Z</td><td>Gold-Databricks</td><td>2025-04-24T19:57:13.858Z</td><td>1159360864</td></tr><tr><td>13</td><td>29</td><td>Savings</td><td>1300.25</td><td>Gold-Databricks</td><td>2025-04-24T19:57:13.858Z</td><td>Gold-Databricks</td><td>2025-04-24T19:57:13.858Z</td><td>3025925162</td></tr><tr><td>48</td><td>6</td><td>Checking</td><td>4900.00</td><td>Gold-Databricks</td><td>2025-04-24T19:57:13.858Z</td><td>Gold-Databricks</td><td>2025-04-24T19:57:13.858Z</td><td>1734299941</td></tr><tr><td>100</td><td>50</td><td>Checking</td><td>10100.00</td><td>Gold-Databricks</td><td>2025-04-24T19:57:13.858Z</td><td>Gold-Databricks</td><td>2025-04-24T19:57:13.858Z</td><td>3183769099</td></tr><tr><td>46</td><td>24</td><td>Checking</td><td>4700.50</td><td>Gold-Databricks</td><td>2025-04-24T19:57:13.858Z</td><td>Gold-Databricks</td><td>2025-04-24T19:57:13.858Z</td><td>4139093359</td></tr><tr><td>76</td><td>22</td><td>Checking</td><td>7700.00</td><td>Gold-Databricks</td><td>2025-04-24T19:57:13.858Z</td><td>Gold-Databricks</td><td>2025-04-24T19:57:13.858Z</td><td>3359048414</td></tr><tr><td>42</td><td>36</td><td>Checking</td><td>4300.50</td><td>Gold-Databricks</td><td>2025-04-24T19:57:13.858Z</td><td>Gold-Databricks</td><td>2025-04-24T19:57:13.858Z</td><td>1993550944</td></tr><tr><td>87</td><td>93</td><td>Savings</td><td>825.75</td><td>Gold-Databricks</td><td>2025-04-24T19:57:13.858Z</td><td>Gold-Databricks</td><td>2025-04-24T19:57:13.858Z</td><td>3624526683</td></tr><tr><td>79</td><td>55</td><td>Savings</td><td>725.75</td><td>Gold-Databricks</td><td>2025-04-24T19:57:13.858Z</td><td>Gold-Databricks</td><td>2025-04-24T19:57:13.858Z</td><td>1919448738</td></tr><tr><td>91</td><td>77</td><td>Savings</td><td>875.75</td><td>Gold-Databricks</td><td>2025-04-24T19:57:13.858Z</td><td>Gold-Databricks</td><td>2025-04-24T19:57:13.858Z</td><td>805394914</td></tr><tr><td>39</td><td>74</td><td>Savings</td><td>225.75</td><td>Gold-Databricks</td><td>2025-04-24T19:57:13.858Z</td><td>Gold-Databricks</td><td>2025-04-24T19:57:13.858Z</td><td>1680117817</td></tr><tr><td>19</td><td>76</td><td>Savings</td><td>400.75</td><td>Gold-Databricks</td><td>2025-04-24T19:57:13.858Z</td><td>Gold-Databricks</td><td>2025-04-24T19:57:13.858Z</td><td>3392242716</td></tr><tr><td>58</td><td>16</td><td>Checking</td><td>5900.50</td><td>Gold-Databricks</td><td>2025-04-24T19:57:13.858Z</td><td>Gold-Databricks</td><td>2025-04-24T19:57:13.858Z</td><td>2917247935</td></tr><tr><td>50</td><td>31</td><td>Checking</td><td>5100.50</td><td>Gold-Databricks</td><td>2025-04-24T19:57:13.858Z</td><td>Gold-Databricks</td><td>2025-04-24T19:57:13.858Z</td><td>1730184601</td></tr><tr><td>59</td><td>75</td><td>Savings</td><td>475.75</td><td>Gold-Databricks</td><td>2025-04-24T19:57:13.858Z</td><td>Gold-Databricks</td><td>2025-04-24T19:57:13.858Z</td><td>1084664362</td></tr><tr><td>67</td><td>96</td><td>Savings</td><td>575.75</td><td>Gold-Databricks</td><td>2025-04-24T19:57:13.858Z</td><td>Gold-Databricks</td><td>2025-04-24T19:57:13.858Z</td><td>1777395982</td></tr><tr><td>10</td><td>92</td><td>Checking</td><td>1800.50</td><td>Gold-Databricks</td><td>2025-04-24T19:57:13.858Z</td><td>Gold-Databricks</td><td>2025-04-24T19:57:13.858Z</td><td>533177005</td></tr><tr><td>71</td><td>73</td><td>Savings</td><td>625.75</td><td>Gold-Databricks</td><td>2025-04-24T19:57:13.858Z</td><td>Gold-Databricks</td><td>2025-04-24T19:57:13.858Z</td><td>2590228591</td></tr><tr><td>37</td><td>98</td><td>Savings</td><td>200.25</td><td>Gold-Databricks</td><td>2025-04-24T19:57:13.858Z</td><td>Gold-Databricks</td><td>2025-04-24T19:57:13.858Z</td><td>3007953117</td></tr><tr><td>81</td><td>70</td><td>Savings</td><td>750.25</td><td>Gold-Databricks</td><td>2025-04-24T19:57:13.858Z</td><td>Gold-Databricks</td><td>2025-04-24T19:57:13.858Z</td><td>324394403</td></tr><tr><td>85</td><td>65</td><td>Savings</td><td>800.25</td><td>Gold-Databricks</td><td>2025-04-24T19:57:13.858Z</td><td>Gold-Databricks</td><td>2025-04-24T19:57:13.858Z</td><td>3280607492</td></tr><tr><td>93</td><td>79</td><td>Savings</td><td>900.25</td><td>Gold-Databricks</td><td>2025-04-24T19:57:13.858Z</td><td>Gold-Databricks</td><td>2025-04-24T19:57:13.858Z</td><td>1341072067</td></tr><tr><td>12</td><td>81</td><td>Checking</td><td>2700.00</td><td>Gold-Databricks</td><td>2025-04-24T19:57:13.858Z</td><td>Gold-Databricks</td><td>2025-04-24T19:57:13.858Z</td><td>4249714</td></tr><tr><td>49</td><td>57</td><td>Savings</td><td>350.25</td><td>Gold-Databricks</td><td>2025-04-24T19:57:13.858Z</td><td>Gold-Databricks</td><td>2025-04-24T19:57:13.858Z</td><td>2743366650</td></tr><tr><td>18</td><td>5</td><td>Checking</td><td>1600.50</td><td>Gold-Databricks</td><td>2025-04-24T19:57:13.858Z</td><td>Gold-Databricks</td><td>2025-04-24T19:57:13.858Z</td><td>544941373</td></tr><tr><td>96</td><td>48</td><td>Checking</td><td>9700.00</td><td>Gold-Databricks</td><td>2025-04-24T19:57:13.858Z</td><td>Gold-Databricks</td><td>2025-04-24T19:57:13.858Z</td><td>3750651349</td></tr><tr><td>24</td><td>11</td><td>Checking</td><td>2600.00</td><td>Gold-Databricks</td><td>2025-04-24T19:57:13.858Z</td><td>Gold-Databricks</td><td>2025-04-24T19:57:13.858Z</td><td>2917766518</td></tr><tr><td>61</td><td>52</td><td>Savings</td><td>500.25</td><td>Gold-Databricks</td><td>2025-04-24T19:57:13.858Z</td><td>Gold-Databricks</td><td>2025-04-24T19:57:13.858Z</td><td>2662432370</td></tr><tr><td>47</td><td>95</td><td>Savings</td><td>325.75</td><td>Gold-Databricks</td><td>2025-04-24T19:57:13.858Z</td><td>Gold-Databricks</td><td>2025-04-24T19:57:13.858Z</td><td>3742642303</td></tr><tr><td>74</td><td>43</td><td>Checking</td><td>7500.50</td><td>Gold-Databricks</td><td>2025-04-24T19:57:13.858Z</td><td>Gold-Databricks</td><td>2025-04-24T19:57:13.858Z</td><td>4241197050</td></tr><tr><td>9</td><td>14</td><td>Savings</td><td>900.25</td><td>Gold-Databricks</td><td>2025-04-24T19:57:13.858Z</td><td>Gold-Databricks</td><td>2025-04-24T19:57:13.858Z</td><td>1397533172</td></tr><tr><td>65</td><td>69</td><td>Savings</td><td>550.25</td><td>Gold-Databricks</td><td>2025-04-24T19:57:13.858Z</td><td>Gold-Databricks</td><td>2025-04-24T19:57:13.858Z</td><td>3693472785</td></tr><tr><td>36</td><td>27</td><td>Checking</td><td>3700.00</td><td>Gold-Databricks</td><td>2025-04-24T19:57:13.858Z</td><td>Gold-Databricks</td><td>2025-04-24T19:57:13.858Z</td><td>1804151109</td></tr><tr><td>66</td><td>26</td><td>Checking</td><td>6700.50</td><td>Gold-Databricks</td><td>2025-04-24T19:57:13.858Z</td><td>Gold-Databricks</td><td>2025-04-24T19:57:13.858Z</td><td>372242038</td></tr><tr><td>16</td><td>18</td><td>Checking</td><td>1400.00</td><td>Gold-Databricks</td><td>2025-04-24T19:57:13.858Z</td><td>Gold-Databricks</td><td>2025-04-24T19:57:13.858Z</td><td>427159154</td></tr><tr><td>64</td><td>12</td><td>Checking</td><td>6500.00</td><td>Gold-Databricks</td><td>2025-04-24T19:57:13.858Z</td><td>Gold-Databricks</td><td>2025-04-24T19:57:13.858Z</td><td>1796018383</td></tr><tr><td>89</td><td>54</td><td>Savings</td><td>850.25</td><td>Gold-Databricks</td><td>2025-04-24T19:57:13.858Z</td><td>Gold-Databricks</td><td>2025-04-24T19:57:13.858Z</td><td>540724915</td></tr><tr><td>3</td><td>78</td><td>Savings</td><td>1500.00</td><td>Gold-Databricks</td><td>2025-04-24T19:57:13.858Z</td><td>Gold-Databricks</td><td>2025-04-24T19:57:13.858Z</td><td>199654578</td></tr><tr><td>4</td><td>34</td><td>Checking</td><td>3000.25</td><td>Gold-Databricks</td><td>2025-04-24T19:57:13.858Z</td><td>Gold-Databricks</td><td>2025-04-24T19:57:13.858Z</td><td>761699333</td></tr><tr><td>6</td><td>23</td><td>Checking</td><td>1200.50</td><td>Gold-Databricks</td><td>2025-04-24T19:57:13.858Z</td><td>Gold-Databricks</td><td>2025-04-24T19:57:13.858Z</td><td>589336936</td></tr><tr><td>55</td><td>63</td><td>Savings</td><td>425.75</td><td>Gold-Databricks</td><td>2025-04-24T19:57:13.858Z</td><td>Gold-Databricks</td><td>2025-04-24T19:57:13.858Z</td><td>1851614924</td></tr><tr><td>11</td><td>3</td><td>Savings</td><td>1100.75</td><td>Gold-Databricks</td><td>2025-04-24T19:57:13.858Z</td><td>Gold-Databricks</td><td>2025-04-24T19:57:13.858Z</td><td>744264830</td></tr><tr><td>43</td><td>83</td><td>Savings</td><td>275.75</td><td>Gold-Databricks</td><td>2025-04-24T19:57:13.858Z</td><td>Gold-Databricks</td><td>2025-04-24T19:57:13.858Z</td><td>1235267699</td></tr><tr><td>20</td><td>21</td><td>Checking</td><td>2000.00</td><td>Gold-Databricks</td><td>2025-04-24T19:57:13.858Z</td><td>Gold-Databricks</td><td>2025-04-24T19:57:13.858Z</td><td>2020209643</td></tr><tr><td>57</td><td>97</td><td>Savings</td><td>450.25</td><td>Gold-Databricks</td><td>2025-04-24T19:57:13.858Z</td><td>Gold-Databricks</td><td>2025-04-24T19:57:13.858Z</td><td>1548801870</td></tr><tr><td>7</td><td>89</td><td>Savings</td><td>800.75</td><td>Gold-Databricks</td><td>2025-04-24T19:57:13.858Z</td><td>Gold-Databricks</td><td>2025-04-24T19:57:13.858Z</td><td>74260363</td></tr><tr><td>80</td><td>30</td><td>Checking</td><td>8100.00</td><td>Gold-Databricks</td><td>2025-04-24T19:57:13.858Z</td><td>Gold-Databricks</td><td>2025-04-24T19:57:13.858Z</td><td>3783554763</td></tr><tr><td>41</td><td>51</td><td>Savings</td><td>250.25</td><td>Gold-Databricks</td><td>2025-04-24T19:57:13.858Z</td><td>Gold-Databricks</td><td>2025-04-24T19:57:13.858Z</td><td>3809047718</td></tr><tr><td>44</td><td>13</td><td>Checking</td><td>4500.00</td><td>Gold-Databricks</td><td>2025-04-24T19:57:13.858Z</td><td>Gold-Databricks</td><td>2025-04-24T19:57:13.858Z</td><td>2599027119</td></tr><tr><td>2</td><td>12</td><td>Checking</td><td>2500.75</td><td>Gold-Databricks</td><td>2025-04-24T19:57:13.858Z</td><td>Gold-Databricks</td><td>2025-04-24T19:57:13.858Z</td><td>796571617</td></tr><tr><td>62</td><td>35</td><td>Checking</td><td>6300.50</td><td>Gold-Databricks</td><td>2025-04-24T19:57:13.858Z</td><td>Gold-Databricks</td><td>2025-04-24T19:57:13.858Z</td><td>800230545</td></tr><tr><td>97</td><td>90</td><td>Savings</td><td>950.25</td><td>Gold-Databricks</td><td>2025-04-24T19:57:13.858Z</td><td>Gold-Databricks</td><td>2025-04-24T19:57:13.858Z</td><td>270206465</td></tr></tbody></table></div>"
      ]
     },
     "metadata": {
      "application/vnd.databricks.v1+output": {
       "addedWidgets": {},
       "aggData": [],
       "aggError": "",
       "aggOverflow": false,
       "aggSchema": [],
       "aggSeriesLimitReached": false,
       "aggType": "",
       "arguments": {},
       "columnCustomDisplayInfos": {},
       "data": [
        [
         54,
         42,
         "Checking",
         "5500.50",
         "Gold-Databricks",
         "2025-04-24T19:57:13.858Z",
         "Gold-Databricks",
         "2025-04-24T19:57:13.858Z",
         221025946
        ],
        [
         88,
         1,
         "Checking",
         "8900.00",
         "Gold-Databricks",
         "2025-04-24T19:57:13.858Z",
         "Gold-Databricks",
         "2025-04-24T19:57:13.858Z",
         512030229
        ],
        [
         82,
         2,
         "Checking",
         "8300.50",
         "Gold-Databricks",
         "2025-04-24T19:57:13.858Z",
         "Gold-Databricks",
         "2025-04-24T19:57:13.858Z",
         3247491694
        ],
        [
         92,
         44,
         "Checking",
         "9300.00",
         "Gold-Databricks",
         "2025-04-24T19:57:13.858Z",
         "Gold-Databricks",
         "2025-04-24T19:57:13.858Z",
         485707070
        ],
        [
         21,
         53,
         "Savings",
         "300.25",
         "Gold-Databricks",
         "2025-04-24T19:57:13.858Z",
         "Gold-Databricks",
         "2025-04-24T19:57:13.858Z",
         2800704470
        ],
        [
         29,
         58,
         "Savings",
         "75.25",
         "Gold-Databricks",
         "2025-04-24T19:57:13.858Z",
         "Gold-Databricks",
         "2025-04-24T19:57:13.858Z",
         3637748452
        ],
        [
         35,
         62,
         "Savings",
         "175.75",
         "Gold-Databricks",
         "2025-04-24T19:57:13.858Z",
         "Gold-Databricks",
         "2025-04-24T19:57:13.858Z",
         3427479153
        ],
        [
         38,
         15,
         "Checking",
         "3900.50",
         "Gold-Databricks",
         "2025-04-24T19:57:13.858Z",
         "Gold-Databricks",
         "2025-04-24T19:57:13.858Z",
         1689886302
        ],
        [
         72,
         17,
         "Checking",
         "7300.00",
         "Gold-Databricks",
         "2025-04-24T19:57:13.858Z",
         "Gold-Databricks",
         "2025-04-24T19:57:13.858Z",
         1425050024
        ],
        [
         33,
         85,
         "Savings",
         "150.25",
         "Gold-Databricks",
         "2025-04-24T19:57:13.858Z",
         "Gold-Databricks",
         "2025-04-24T19:57:13.858Z",
         655204919
        ],
        [
         45,
         68,
         "Savings",
         "300.25",
         "Gold-Databricks",
         "2025-04-24T19:57:13.858Z",
         "Gold-Databricks",
         "2025-04-24T19:57:13.858Z",
         2343563725
        ],
        [
         86,
         21,
         "Checking",
         "8700.50",
         "Gold-Databricks",
         "2025-04-24T19:57:13.858Z",
         "Gold-Databricks",
         "2025-04-24T19:57:13.858Z",
         2919860885
        ],
        [
         51,
         72,
         "Savings",
         "375.75",
         "Gold-Databricks",
         "2025-04-24T19:57:13.858Z",
         "Gold-Databricks",
         "2025-04-24T19:57:13.858Z",
         1266528029
        ],
        [
         84,
         40,
         "Checking",
         "8500.00",
         "Gold-Databricks",
         "2025-04-24T19:57:13.858Z",
         "Gold-Databricks",
         "2025-04-24T19:57:13.858Z",
         2599751601
        ],
        [
         5,
         56,
         "Savings",
         "500.00",
         "Gold-Databricks",
         "2025-04-24T19:57:13.858Z",
         "Gold-Databricks",
         "2025-04-24T19:57:13.858Z",
         3886787448
        ],
        [
         15,
         47,
         "Savings",
         "700.75",
         "Gold-Databricks",
         "2025-04-24T19:57:13.858Z",
         "Gold-Databricks",
         "2025-04-24T19:57:13.858Z",
         1744154229
        ],
        [
         98,
         49,
         "Checking",
         "9900.50",
         "Gold-Databricks",
         "2025-04-24T19:57:13.858Z",
         "Gold-Databricks",
         "2025-04-24T19:57:13.858Z",
         3893038149
        ],
        [
         27,
         94,
         "Savings",
         "50.75",
         "Gold-Databricks",
         "2025-04-24T19:57:13.858Z",
         "Gold-Databricks",
         "2025-04-24T19:57:13.858Z",
         3045508432
        ],
        [
         31,
         71,
         "Savings",
         "125.75",
         "Gold-Databricks",
         "2025-04-24T19:57:13.858Z",
         "Gold-Databricks",
         "2025-04-24T19:57:13.858Z",
         352326581
        ],
        [
         22,
         37,
         "Checking",
         "2400.50",
         "Gold-Databricks",
         "2025-04-24T19:57:13.858Z",
         "Gold-Databricks",
         "2025-04-24T19:57:13.858Z",
         2771219456
        ],
        [
         56,
         28,
         "Checking",
         "5700.00",
         "Gold-Databricks",
         "2025-04-24T19:57:13.858Z",
         "Gold-Databricks",
         "2025-04-24T19:57:13.858Z",
         3877942592
        ],
        [
         83,
         82,
         "Savings",
         "775.75",
         "Gold-Databricks",
         "2025-04-24T19:57:13.858Z",
         "Gold-Databricks",
         "2025-04-24T19:57:13.858Z",
         293251303
        ],
        [
         17,
         99,
         "Savings",
         "600.25",
         "Gold-Databricks",
         "2025-04-24T19:57:13.858Z",
         "Gold-Databricks",
         "2025-04-24T19:57:13.858Z",
         1642826618
        ],
        [
         69,
         59,
         "Savings",
         "600.25",
         "Gold-Databricks",
         "2025-04-24T19:57:13.858Z",
         "Gold-Databricks",
         "2025-04-24T19:57:13.858Z",
         604940414
        ],
        [
         14,
         64,
         "Checking",
         "3200.50",
         "Gold-Databricks",
         "2025-04-24T19:57:13.858Z",
         "Gold-Databricks",
         "2025-04-24T19:57:13.858Z",
         3349647104
        ],
        [
         90,
         38,
         "Checking",
         "9100.50",
         "Gold-Databricks",
         "2025-04-24T19:57:13.858Z",
         "Gold-Databricks",
         "2025-04-24T19:57:13.858Z",
         2053712775
        ],
        [
         77,
         91,
         "Savings",
         "700.25",
         "Gold-Databricks",
         "2025-04-24T19:57:13.858Z",
         "Gold-Databricks",
         "2025-04-24T19:57:13.858Z",
         1054536161
        ],
        [
         70,
         33,
         "Checking",
         "7100.50",
         "Gold-Databricks",
         "2025-04-24T19:57:13.858Z",
         "Gold-Databricks",
         "2025-04-24T19:57:13.858Z",
         2277179008
        ],
        [
         34,
         41,
         "Checking",
         "3500.50",
         "Gold-Databricks",
         "2025-04-24T19:57:13.858Z",
         "Gold-Databricks",
         "2025-04-24T19:57:13.858Z",
         3295978363
        ],
        [
         95,
         60,
         "Savings",
         "925.75",
         "Gold-Databricks",
         "2025-04-24T19:57:13.858Z",
         "Gold-Databricks",
         "2025-04-24T19:57:13.858Z",
         1002059928
        ],
        [
         28,
         7,
         "Checking",
         "2900.00",
         "Gold-Databricks",
         "2025-04-24T19:57:13.858Z",
         "Gold-Databricks",
         "2025-04-24T19:57:13.858Z",
         2949242584
        ],
        [
         1,
         45,
         "Savings",
         "1000.50",
         "Gold-Databricks",
         "2025-04-24T19:57:13.858Z",
         "Gold-Databricks",
         "2025-04-24T19:57:13.858Z",
         2454403084
        ],
        [
         23,
         88,
         "Savings",
         "200.75",
         "Gold-Databricks",
         "2025-04-24T19:57:13.858Z",
         "Gold-Databricks",
         "2025-04-24T19:57:13.858Z",
         609358004
        ],
        [
         26,
         25,
         "Checking",
         "2800.50",
         "Gold-Databricks",
         "2025-04-24T19:57:13.858Z",
         "Gold-Databricks",
         "2025-04-24T19:57:13.858Z",
         356228814
        ],
        [
         52,
         10,
         "Checking",
         "5300.00",
         "Gold-Databricks",
         "2025-04-24T19:57:13.858Z",
         "Gold-Databricks",
         "2025-04-24T19:57:13.858Z",
         2280475706
        ],
        [
         68,
         8,
         "Checking",
         "6900.00",
         "Gold-Databricks",
         "2025-04-24T19:57:13.858Z",
         "Gold-Databricks",
         "2025-04-24T19:57:13.858Z",
         332953756
        ],
        [
         32,
         9,
         "Checking",
         "3300.00",
         "Gold-Databricks",
         "2025-04-24T19:57:13.858Z",
         "Gold-Databricks",
         "2025-04-24T19:57:13.858Z",
         2957212870
        ],
        [
         40,
         19,
         "Checking",
         "4100.00",
         "Gold-Databricks",
         "2025-04-24T19:57:13.858Z",
         "Gold-Databricks",
         "2025-04-24T19:57:13.858Z",
         2070805942
        ],
        [
         30,
         32,
         "Checking",
         "3100.50",
         "Gold-Databricks",
         "2025-04-24T19:57:13.858Z",
         "Gold-Databricks",
         "2025-04-24T19:57:13.858Z",
         2927145080
        ],
        [
         73,
         87,
         "Savings",
         "650.25",
         "Gold-Databricks",
         "2025-04-24T19:57:13.858Z",
         "Gold-Databricks",
         "2025-04-24T19:57:13.858Z",
         2825810413
        ],
        [
         53,
         86,
         "Savings",
         "400.25",
         "Gold-Databricks",
         "2025-04-24T19:57:13.858Z",
         "Gold-Databricks",
         "2025-04-24T19:57:13.858Z",
         1685401127
        ],
        [
         63,
         84,
         "Savings",
         "525.75",
         "Gold-Databricks",
         "2025-04-24T19:57:13.858Z",
         "Gold-Databricks",
         "2025-04-24T19:57:13.858Z",
         766784956
        ],
        [
         99,
         80,
         "Savings",
         "975.75",
         "Gold-Databricks",
         "2025-04-24T19:57:13.858Z",
         "Gold-Databricks",
         "2025-04-24T19:57:13.858Z",
         3104537685
        ],
        [
         60,
         20,
         "Checking",
         "6100.00",
         "Gold-Databricks",
         "2025-04-24T19:57:13.858Z",
         "Gold-Databricks",
         "2025-04-24T19:57:13.858Z",
         1825281187
        ],
        [
         78,
         4,
         "Checking",
         "7900.50",
         "Gold-Databricks",
         "2025-04-24T19:57:13.858Z",
         "Gold-Databricks",
         "2025-04-24T19:57:13.858Z",
         1790786833
        ],
        [
         25,
         66,
         "Savings",
         "100.25",
         "Gold-Databricks",
         "2025-04-24T19:57:13.858Z",
         "Gold-Databricks",
         "2025-04-24T19:57:13.858Z",
         2865279566
        ],
        [
         8,
         67,
         "Checking",
         "2200.00",
         "Gold-Databricks",
         "2025-04-24T19:57:13.858Z",
         "Gold-Databricks",
         "2025-04-24T19:57:13.858Z",
         3401041467
        ],
        [
         75,
         61,
         "Savings",
         "675.75",
         "Gold-Databricks",
         "2025-04-24T19:57:13.858Z",
         "Gold-Databricks",
         "2025-04-24T19:57:13.858Z",
         3727105245
        ],
        [
         94,
         39,
         "Checking",
         "9500.50",
         "Gold-Databricks",
         "2025-04-24T19:57:13.858Z",
         "Gold-Databricks",
         "2025-04-24T19:57:13.858Z",
         1159360864
        ],
        [
         13,
         29,
         "Savings",
         "1300.25",
         "Gold-Databricks",
         "2025-04-24T19:57:13.858Z",
         "Gold-Databricks",
         "2025-04-24T19:57:13.858Z",
         3025925162
        ],
        [
         48,
         6,
         "Checking",
         "4900.00",
         "Gold-Databricks",
         "2025-04-24T19:57:13.858Z",
         "Gold-Databricks",
         "2025-04-24T19:57:13.858Z",
         1734299941
        ],
        [
         100,
         50,
         "Checking",
         "10100.00",
         "Gold-Databricks",
         "2025-04-24T19:57:13.858Z",
         "Gold-Databricks",
         "2025-04-24T19:57:13.858Z",
         3183769099
        ],
        [
         46,
         24,
         "Checking",
         "4700.50",
         "Gold-Databricks",
         "2025-04-24T19:57:13.858Z",
         "Gold-Databricks",
         "2025-04-24T19:57:13.858Z",
         4139093359
        ],
        [
         76,
         22,
         "Checking",
         "7700.00",
         "Gold-Databricks",
         "2025-04-24T19:57:13.858Z",
         "Gold-Databricks",
         "2025-04-24T19:57:13.858Z",
         3359048414
        ],
        [
         42,
         36,
         "Checking",
         "4300.50",
         "Gold-Databricks",
         "2025-04-24T19:57:13.858Z",
         "Gold-Databricks",
         "2025-04-24T19:57:13.858Z",
         1993550944
        ],
        [
         87,
         93,
         "Savings",
         "825.75",
         "Gold-Databricks",
         "2025-04-24T19:57:13.858Z",
         "Gold-Databricks",
         "2025-04-24T19:57:13.858Z",
         3624526683
        ],
        [
         79,
         55,
         "Savings",
         "725.75",
         "Gold-Databricks",
         "2025-04-24T19:57:13.858Z",
         "Gold-Databricks",
         "2025-04-24T19:57:13.858Z",
         1919448738
        ],
        [
         91,
         77,
         "Savings",
         "875.75",
         "Gold-Databricks",
         "2025-04-24T19:57:13.858Z",
         "Gold-Databricks",
         "2025-04-24T19:57:13.858Z",
         805394914
        ],
        [
         39,
         74,
         "Savings",
         "225.75",
         "Gold-Databricks",
         "2025-04-24T19:57:13.858Z",
         "Gold-Databricks",
         "2025-04-24T19:57:13.858Z",
         1680117817
        ],
        [
         19,
         76,
         "Savings",
         "400.75",
         "Gold-Databricks",
         "2025-04-24T19:57:13.858Z",
         "Gold-Databricks",
         "2025-04-24T19:57:13.858Z",
         3392242716
        ],
        [
         58,
         16,
         "Checking",
         "5900.50",
         "Gold-Databricks",
         "2025-04-24T19:57:13.858Z",
         "Gold-Databricks",
         "2025-04-24T19:57:13.858Z",
         2917247935
        ],
        [
         50,
         31,
         "Checking",
         "5100.50",
         "Gold-Databricks",
         "2025-04-24T19:57:13.858Z",
         "Gold-Databricks",
         "2025-04-24T19:57:13.858Z",
         1730184601
        ],
        [
         59,
         75,
         "Savings",
         "475.75",
         "Gold-Databricks",
         "2025-04-24T19:57:13.858Z",
         "Gold-Databricks",
         "2025-04-24T19:57:13.858Z",
         1084664362
        ],
        [
         67,
         96,
         "Savings",
         "575.75",
         "Gold-Databricks",
         "2025-04-24T19:57:13.858Z",
         "Gold-Databricks",
         "2025-04-24T19:57:13.858Z",
         1777395982
        ],
        [
         10,
         92,
         "Checking",
         "1800.50",
         "Gold-Databricks",
         "2025-04-24T19:57:13.858Z",
         "Gold-Databricks",
         "2025-04-24T19:57:13.858Z",
         533177005
        ],
        [
         71,
         73,
         "Savings",
         "625.75",
         "Gold-Databricks",
         "2025-04-24T19:57:13.858Z",
         "Gold-Databricks",
         "2025-04-24T19:57:13.858Z",
         2590228591
        ],
        [
         37,
         98,
         "Savings",
         "200.25",
         "Gold-Databricks",
         "2025-04-24T19:57:13.858Z",
         "Gold-Databricks",
         "2025-04-24T19:57:13.858Z",
         3007953117
        ],
        [
         81,
         70,
         "Savings",
         "750.25",
         "Gold-Databricks",
         "2025-04-24T19:57:13.858Z",
         "Gold-Databricks",
         "2025-04-24T19:57:13.858Z",
         324394403
        ],
        [
         85,
         65,
         "Savings",
         "800.25",
         "Gold-Databricks",
         "2025-04-24T19:57:13.858Z",
         "Gold-Databricks",
         "2025-04-24T19:57:13.858Z",
         3280607492
        ],
        [
         93,
         79,
         "Savings",
         "900.25",
         "Gold-Databricks",
         "2025-04-24T19:57:13.858Z",
         "Gold-Databricks",
         "2025-04-24T19:57:13.858Z",
         1341072067
        ],
        [
         12,
         81,
         "Checking",
         "2700.00",
         "Gold-Databricks",
         "2025-04-24T19:57:13.858Z",
         "Gold-Databricks",
         "2025-04-24T19:57:13.858Z",
         4249714
        ],
        [
         49,
         57,
         "Savings",
         "350.25",
         "Gold-Databricks",
         "2025-04-24T19:57:13.858Z",
         "Gold-Databricks",
         "2025-04-24T19:57:13.858Z",
         2743366650
        ],
        [
         18,
         5,
         "Checking",
         "1600.50",
         "Gold-Databricks",
         "2025-04-24T19:57:13.858Z",
         "Gold-Databricks",
         "2025-04-24T19:57:13.858Z",
         544941373
        ],
        [
         96,
         48,
         "Checking",
         "9700.00",
         "Gold-Databricks",
         "2025-04-24T19:57:13.858Z",
         "Gold-Databricks",
         "2025-04-24T19:57:13.858Z",
         3750651349
        ],
        [
         24,
         11,
         "Checking",
         "2600.00",
         "Gold-Databricks",
         "2025-04-24T19:57:13.858Z",
         "Gold-Databricks",
         "2025-04-24T19:57:13.858Z",
         2917766518
        ],
        [
         61,
         52,
         "Savings",
         "500.25",
         "Gold-Databricks",
         "2025-04-24T19:57:13.858Z",
         "Gold-Databricks",
         "2025-04-24T19:57:13.858Z",
         2662432370
        ],
        [
         47,
         95,
         "Savings",
         "325.75",
         "Gold-Databricks",
         "2025-04-24T19:57:13.858Z",
         "Gold-Databricks",
         "2025-04-24T19:57:13.858Z",
         3742642303
        ],
        [
         74,
         43,
         "Checking",
         "7500.50",
         "Gold-Databricks",
         "2025-04-24T19:57:13.858Z",
         "Gold-Databricks",
         "2025-04-24T19:57:13.858Z",
         4241197050
        ],
        [
         9,
         14,
         "Savings",
         "900.25",
         "Gold-Databricks",
         "2025-04-24T19:57:13.858Z",
         "Gold-Databricks",
         "2025-04-24T19:57:13.858Z",
         1397533172
        ],
        [
         65,
         69,
         "Savings",
         "550.25",
         "Gold-Databricks",
         "2025-04-24T19:57:13.858Z",
         "Gold-Databricks",
         "2025-04-24T19:57:13.858Z",
         3693472785
        ],
        [
         36,
         27,
         "Checking",
         "3700.00",
         "Gold-Databricks",
         "2025-04-24T19:57:13.858Z",
         "Gold-Databricks",
         "2025-04-24T19:57:13.858Z",
         1804151109
        ],
        [
         66,
         26,
         "Checking",
         "6700.50",
         "Gold-Databricks",
         "2025-04-24T19:57:13.858Z",
         "Gold-Databricks",
         "2025-04-24T19:57:13.858Z",
         372242038
        ],
        [
         16,
         18,
         "Checking",
         "1400.00",
         "Gold-Databricks",
         "2025-04-24T19:57:13.858Z",
         "Gold-Databricks",
         "2025-04-24T19:57:13.858Z",
         427159154
        ],
        [
         64,
         12,
         "Checking",
         "6500.00",
         "Gold-Databricks",
         "2025-04-24T19:57:13.858Z",
         "Gold-Databricks",
         "2025-04-24T19:57:13.858Z",
         1796018383
        ],
        [
         89,
         54,
         "Savings",
         "850.25",
         "Gold-Databricks",
         "2025-04-24T19:57:13.858Z",
         "Gold-Databricks",
         "2025-04-24T19:57:13.858Z",
         540724915
        ],
        [
         3,
         78,
         "Savings",
         "1500.00",
         "Gold-Databricks",
         "2025-04-24T19:57:13.858Z",
         "Gold-Databricks",
         "2025-04-24T19:57:13.858Z",
         199654578
        ],
        [
         4,
         34,
         "Checking",
         "3000.25",
         "Gold-Databricks",
         "2025-04-24T19:57:13.858Z",
         "Gold-Databricks",
         "2025-04-24T19:57:13.858Z",
         761699333
        ],
        [
         6,
         23,
         "Checking",
         "1200.50",
         "Gold-Databricks",
         "2025-04-24T19:57:13.858Z",
         "Gold-Databricks",
         "2025-04-24T19:57:13.858Z",
         589336936
        ],
        [
         55,
         63,
         "Savings",
         "425.75",
         "Gold-Databricks",
         "2025-04-24T19:57:13.858Z",
         "Gold-Databricks",
         "2025-04-24T19:57:13.858Z",
         1851614924
        ],
        [
         11,
         3,
         "Savings",
         "1100.75",
         "Gold-Databricks",
         "2025-04-24T19:57:13.858Z",
         "Gold-Databricks",
         "2025-04-24T19:57:13.858Z",
         744264830
        ],
        [
         43,
         83,
         "Savings",
         "275.75",
         "Gold-Databricks",
         "2025-04-24T19:57:13.858Z",
         "Gold-Databricks",
         "2025-04-24T19:57:13.858Z",
         1235267699
        ],
        [
         20,
         21,
         "Checking",
         "2000.00",
         "Gold-Databricks",
         "2025-04-24T19:57:13.858Z",
         "Gold-Databricks",
         "2025-04-24T19:57:13.858Z",
         2020209643
        ],
        [
         57,
         97,
         "Savings",
         "450.25",
         "Gold-Databricks",
         "2025-04-24T19:57:13.858Z",
         "Gold-Databricks",
         "2025-04-24T19:57:13.858Z",
         1548801870
        ],
        [
         7,
         89,
         "Savings",
         "800.75",
         "Gold-Databricks",
         "2025-04-24T19:57:13.858Z",
         "Gold-Databricks",
         "2025-04-24T19:57:13.858Z",
         74260363
        ],
        [
         80,
         30,
         "Checking",
         "8100.00",
         "Gold-Databricks",
         "2025-04-24T19:57:13.858Z",
         "Gold-Databricks",
         "2025-04-24T19:57:13.858Z",
         3783554763
        ],
        [
         41,
         51,
         "Savings",
         "250.25",
         "Gold-Databricks",
         "2025-04-24T19:57:13.858Z",
         "Gold-Databricks",
         "2025-04-24T19:57:13.858Z",
         3809047718
        ],
        [
         44,
         13,
         "Checking",
         "4500.00",
         "Gold-Databricks",
         "2025-04-24T19:57:13.858Z",
         "Gold-Databricks",
         "2025-04-24T19:57:13.858Z",
         2599027119
        ],
        [
         2,
         12,
         "Checking",
         "2500.75",
         "Gold-Databricks",
         "2025-04-24T19:57:13.858Z",
         "Gold-Databricks",
         "2025-04-24T19:57:13.858Z",
         796571617
        ],
        [
         62,
         35,
         "Checking",
         "6300.50",
         "Gold-Databricks",
         "2025-04-24T19:57:13.858Z",
         "Gold-Databricks",
         "2025-04-24T19:57:13.858Z",
         800230545
        ],
        [
         97,
         90,
         "Savings",
         "950.25",
         "Gold-Databricks",
         "2025-04-24T19:57:13.858Z",
         "Gold-Databricks",
         "2025-04-24T19:57:13.858Z",
         270206465
        ]
       ],
       "datasetInfos": [],
       "dbfsResultPath": null,
       "isJsonSchema": true,
       "metadata": {
        "createTempViewForImplicitDf": true,
        "dataframeName": "_sqldf",
        "executionCount": 15
       },
       "overflow": false,
       "plotOptions": {
        "customPlotOptions": {},
        "displayType": "table",
        "pivotAggregation": null,
        "pivotColumns": null,
        "xColumns": null,
        "yColumns": null
       },
       "removedWidgets": [],
       "schema": [
        {
         "metadata": "{}",
         "name": "AccountId",
         "type": "\"integer\""
        },
        {
         "metadata": "{}",
         "name": "CustomerId",
         "type": "\"integer\""
        },
        {
         "metadata": "{}",
         "name": "AccountType",
         "type": "\"string\""
        },
        {
         "metadata": "{}",
         "name": "Balance",
         "type": "\"decimal(18,2)\""
        },
        {
         "metadata": "{}",
         "name": "CreatedBy",
         "type": "\"string\""
        },
        {
         "metadata": "{}",
         "name": "CreatedDate",
         "type": "\"timestamp\""
        },
        {
         "metadata": "{}",
         "name": "UpdatedBy",
         "type": "\"string\""
        },
        {
         "metadata": "{}",
         "name": "UpdatedDate",
         "type": "\"timestamp\""
        },
        {
         "metadata": "{}",
         "name": "Hashkey",
         "type": "\"long\""
        }
       ],
       "type": "table"
      }
     },
     "output_type": "display_data"
    },
    {
     "output_type": "execute_result",
     "data": {
      "text/plain": [
       "[SecretMetadata(key='appid'),\n",
       " SecretMetadata(key='appsecret'),\n",
       " SecretMetadata(key='azure-sqldb-password'),\n",
       " SecretMetadata(key='azure-sqldb-username'),\n",
       " SecretMetadata(key='onprem-system-password')]"
      ]
     },
     "execution_count": 3,
     "metadata": {},
     "output_type": "execute_result"
    },
    {
     "output_type": "display_data",
     "data": {
      "text/html": [
       "<style scoped>\n",
       "  .table-result-container {\n",
       "    max-height: 300px;\n",
       "    overflow: auto;\n",
       "  }\n",
       "  table, th, td {\n",
       "    border: 1px solid black;\n",
       "    border-collapse: collapse;\n",
       "  }\n",
       "  th, td {\n",
       "    padding: 5px;\n",
       "  }\n",
       "  th {\n",
       "    text-align: left;\n",
       "  }\n",
       "</style><div class='table-result-container'><table class='table-result'><thead style='background-color: white'><tr></tr></thead><tbody></tbody></table></div>"
      ]
     },
     "metadata": {
      "application/vnd.databricks.v1+output": {
       "addedWidgets": {},
       "aggData": [],
       "aggError": "",
       "aggOverflow": false,
       "aggSchema": [],
       "aggSeriesLimitReached": false,
       "aggType": "",
       "arguments": {},
       "columnCustomDisplayInfos": {},
       "data": [],
       "datasetInfos": [],
       "dbfsResultPath": null,
       "isJsonSchema": true,
       "metadata": {
        "dataframeName": null
       },
       "overflow": false,
       "plotOptions": {
        "customPlotOptions": {},
        "displayType": "table",
        "pivotAggregation": null,
        "pivotColumns": null,
        "xColumns": null,
        "yColumns": null
       },
       "removedWidgets": [],
       "schema": [],
       "type": "table"
      }
     },
     "output_type": "display_data"
    },
    {
     "output_type": "stream",
     "name": "stdout",
     "output_type": "stream",
     "text": [
      "/mnt/project2-container is already mounted.\n"
     ]
    },
    {
     "output_type": "execute_result",
     "data": {
      "text/plain": [
       "[FileInfo(path='dbfs:/mnt/project2-container/Bronze_Layer/', name='Bronze_Layer/', size=0, modificationTime=1745394195000),\n",
       " FileInfo(path='dbfs:/mnt/project2-container/Gold_Layer/', name='Gold_Layer/', size=0, modificationTime=1745524456000),\n",
       " FileInfo(path='dbfs:/mnt/project2-container/Silver_Layer/', name='Silver_Layer/', size=0, modificationTime=1745523623000)]"
      ]
     },
     "execution_count": 12,
     "metadata": {},
     "output_type": "execute_result"
    },
    {
     "output_type": "execute_result",
     "data": {
      "text/plain": [
       "[FileInfo(path='dbfs:/mnt/project2-container/Bronze_Layer/', name='Bronze_Layer/', size=0, modificationTime=1745394195000),\n",
       " FileInfo(path='dbfs:/mnt/project2-container/Gold_Layer/', name='Gold_Layer/', size=0, modificationTime=1745524456000),\n",
       " FileInfo(path='dbfs:/mnt/project2-container/Silver_Layer/', name='Silver_Layer/', size=0, modificationTime=1745523623000)]"
      ]
     },
     "execution_count": 5,
     "metadata": {},
     "output_type": "execute_result"
    },
    {
     "output_type": "display_data",
     "data": {
      "text/html": [
       "<style scoped>\n",
       "  .table-result-container {\n",
       "    max-height: 300px;\n",
       "    overflow: auto;\n",
       "  }\n",
       "  table, th, td {\n",
       "    border: 1px solid black;\n",
       "    border-collapse: collapse;\n",
       "  }\n",
       "  th, td {\n",
       "    padding: 5px;\n",
       "  }\n",
       "  th {\n",
       "    text-align: left;\n",
       "  }\n",
       "</style><div class='table-result-container'><table class='table-result'><thead style='background-color: white'><tr></tr></thead><tbody></tbody></table></div>"
      ]
     },
     "metadata": {
      "application/vnd.databricks.v1+output": {
       "addedWidgets": {},
       "aggData": [],
       "aggError": "",
       "aggOverflow": false,
       "aggSchema": [],
       "aggSeriesLimitReached": false,
       "aggType": "",
       "arguments": {},
       "columnCustomDisplayInfos": {},
       "data": [],
       "datasetInfos": [],
       "dbfsResultPath": null,
       "isJsonSchema": true,
       "metadata": {
        "dataframeName": null
       },
       "overflow": false,
       "plotOptions": {
        "customPlotOptions": {},
        "displayType": "table",
        "pivotAggregation": null,
        "pivotColumns": null,
        "xColumns": null,
        "yColumns": null
       },
       "removedWidgets": [],
       "schema": [],
       "type": "table"
      }
     },
     "output_type": "display_data"
    },
    {
     "output_type": "display_data",
     "data": {
      "text/html": [
       "<style scoped>\n",
       "  .table-result-container {\n",
       "    max-height: 300px;\n",
       "    overflow: auto;\n",
       "  }\n",
       "  table, th, td {\n",
       "    border: 1px solid black;\n",
       "    border-collapse: collapse;\n",
       "  }\n",
       "  th, td {\n",
       "    padding: 5px;\n",
       "  }\n",
       "  th {\n",
       "    text-align: left;\n",
       "  }\n",
       "</style><div class='table-result-container'><table class='table-result'><thead style='background-color: white'><tr></tr></thead><tbody></tbody></table></div>"
      ]
     },
     "metadata": {
      "application/vnd.databricks.v1+output": {
       "addedWidgets": {},
       "aggData": [],
       "aggError": "",
       "aggOverflow": false,
       "aggSchema": [],
       "aggSeriesLimitReached": false,
       "aggType": "",
       "arguments": {},
       "columnCustomDisplayInfos": {},
       "data": [],
       "datasetInfos": [],
       "dbfsResultPath": null,
       "isJsonSchema": true,
       "metadata": {
        "dataframeName": null
       },
       "overflow": false,
       "plotOptions": {
        "customPlotOptions": {},
        "displayType": "table",
        "pivotAggregation": null,
        "pivotColumns": null,
        "xColumns": null,
        "yColumns": null
       },
       "removedWidgets": [],
       "schema": [],
       "type": "table"
      }
     },
     "output_type": "display_data"
    },
    {
     "output_type": "display_data",
     "data": {
      "text/html": [
       "<style scoped>\n",
       "  .table-result-container {\n",
       "    max-height: 300px;\n",
       "    overflow: auto;\n",
       "  }\n",
       "  table, th, td {\n",
       "    border: 1px solid black;\n",
       "    border-collapse: collapse;\n",
       "  }\n",
       "  th, td {\n",
       "    padding: 5px;\n",
       "  }\n",
       "  th {\n",
       "    text-align: left;\n",
       "  }\n",
       "</style><div class='table-result-container'><table class='table-result'><thead style='background-color: white'><tr></tr></thead><tbody></tbody></table></div>"
      ]
     },
     "metadata": {
      "application/vnd.databricks.v1+output": {
       "addedWidgets": {},
       "aggData": [],
       "aggError": "",
       "aggOverflow": false,
       "aggSchema": [],
       "aggSeriesLimitReached": false,
       "aggType": "",
       "arguments": {},
       "columnCustomDisplayInfos": {},
       "data": [],
       "datasetInfos": [],
       "dbfsResultPath": null,
       "isJsonSchema": true,
       "metadata": {
        "dataframeName": null
       },
       "overflow": false,
       "plotOptions": {
        "customPlotOptions": {},
        "displayType": "table",
        "pivotAggregation": null,
        "pivotColumns": null,
        "xColumns": null,
        "yColumns": null
       },
       "removedWidgets": [],
       "schema": [],
       "type": "table"
      }
     },
     "output_type": "display_data"
    },
    {
     "output_type": "display_data",
     "data": {
      "text/html": [
       "<style scoped>\n",
       "  .table-result-container {\n",
       "    max-height: 300px;\n",
       "    overflow: auto;\n",
       "  }\n",
       "  table, th, td {\n",
       "    border: 1px solid black;\n",
       "    border-collapse: collapse;\n",
       "  }\n",
       "  th, td {\n",
       "    padding: 5px;\n",
       "  }\n",
       "  th {\n",
       "    text-align: left;\n",
       "  }\n",
       "</style><div class='table-result-container'><table class='table-result'><thead style='background-color: white'><tr></tr></thead><tbody></tbody></table></div>"
      ]
     },
     "metadata": {
      "application/vnd.databricks.v1+output": {
       "addedWidgets": {},
       "aggData": [],
       "aggError": "",
       "aggOverflow": false,
       "aggSchema": [],
       "aggSeriesLimitReached": false,
       "aggType": "",
       "arguments": {},
       "columnCustomDisplayInfos": {},
       "data": [],
       "datasetInfos": [],
       "dbfsResultPath": null,
       "isJsonSchema": true,
       "metadata": {
        "dataframeName": null
       },
       "overflow": false,
       "plotOptions": {
        "customPlotOptions": {},
        "displayType": "table",
        "pivotAggregation": null,
        "pivotColumns": null,
        "xColumns": null,
        "yColumns": null
       },
       "removedWidgets": [],
       "schema": [],
       "type": "table"
      }
     },
     "output_type": "display_data"
    },
    {
     "output_type": "stream",
     "name": "stdout",
     "output_type": "stream",
     "text": [
      "['accounts.csv', 'customers.csv', 'loan_payments.csv', 'loans.csv', 'transactions.csv']\n"
     ]
    },
    {
     "output_type": "display_data",
     "data": {
      "text/html": [
       "<style scoped>\n",
       "  .table-result-container {\n",
       "    max-height: 300px;\n",
       "    overflow: auto;\n",
       "  }\n",
       "  table, th, td {\n",
       "    border: 1px solid black;\n",
       "    border-collapse: collapse;\n",
       "  }\n",
       "  th, td {\n",
       "    padding: 5px;\n",
       "  }\n",
       "  th {\n",
       "    text-align: left;\n",
       "  }\n",
       "</style><div class='table-result-container'><table class='table-result'><thead style='background-color: white'><tr></tr></thead><tbody></tbody></table></div>"
      ]
     },
     "metadata": {
      "application/vnd.databricks.v1+output": {
       "addedWidgets": {},
       "aggData": [],
       "aggError": "",
       "aggOverflow": false,
       "aggSchema": [],
       "aggSeriesLimitReached": false,
       "aggType": "",
       "arguments": {},
       "columnCustomDisplayInfos": {},
       "data": [],
       "datasetInfos": [],
       "dbfsResultPath": null,
       "isJsonSchema": true,
       "metadata": {
        "dataframeName": null
       },
       "overflow": false,
       "plotOptions": {
        "customPlotOptions": {},
        "displayType": "table",
        "pivotAggregation": null,
        "pivotColumns": null,
        "xColumns": null,
        "yColumns": null
       },
       "removedWidgets": [],
       "schema": [],
       "type": "table"
      }
     },
     "output_type": "display_data"
    }
   ],
   "source": [
    "%sql\n",
    "\n",
    "select * from accounts"
   ]
  },
  {
   "cell_type": "code",
   "execution_count": 0,
   "metadata": {
    "application/vnd.databricks.v1+cell": {
     "cellMetadata": {
      "byteLimit": 2048000,
      "implicitDf": true,
      "rowLimit": 10000
     },
     "inputWidgets": {},
     "nuid": "da228769-c21c-4782-afcf-d4de7da83bef",
     "showTitle": false,
     "tableResultSettingsMap": {},
     "title": ""
    }
   },
   "outputs": [
    {
     "output_type": "display_data",
     "data": {
      "text/html": [
       "<style scoped>\n",
       "  .table-result-container {\n",
       "    max-height: 300px;\n",
       "    overflow: auto;\n",
       "  }\n",
       "  table, th, td {\n",
       "    border: 1px solid black;\n",
       "    border-collapse: collapse;\n",
       "  }\n",
       "  th, td {\n",
       "    padding: 5px;\n",
       "  }\n",
       "  th {\n",
       "    text-align: left;\n",
       "  }\n",
       "</style><div class='table-result-container'><table class='table-result'><thead style='background-color: white'><tr><th>CustomerId</th><th>FirstName</th><th>LastName</th><th>Address</th><th>City</th><th>State</th><th>Zip</th><th>CreatedBy</th><th>CreatedDate</th><th>UpdatedBy</th><th>UpdatedDate</th><th>Hashkey</th></tr></thead><tbody><tr><td>80</td><td>Emily</td><td>Jordan</td><td>8888 Airport rd</td><td>North Bay</td><td>ON</td><td>P1B0A1</td><td>Gold-Databricks</td><td>2025-04-24T19:57:21.635Z</td><td>Gold-Databricks-Update</td><td>2025-04-24T20:21:44.421Z</td><td>4117321498</td></tr><tr><td>88</td><td>Harjinder</td><td>Singh</td><td>86 Sunny Ave</td><td>Brampton</td><td>ON</td><td>P0J0A1</td><td>Gold-Databricks</td><td>2025-04-24T20:21:44.421Z</td><td>Gold-Databricks</td><td>2025-04-24T20:21:44.421Z</td><td>3976200911</td></tr></tbody></table></div>"
      ]
     },
     "metadata": {
      "application/vnd.databricks.v1+output": {
       "addedWidgets": {},
       "aggData": [],
       "aggError": "",
       "aggOverflow": false,
       "aggSchema": [],
       "aggSeriesLimitReached": false,
       "aggType": "",
       "arguments": {},
       "columnCustomDisplayInfos": {},
       "data": [
        [
         80,
         "Emily",
         "Jordan",
         "8888 Airport rd",
         "North Bay",
         "ON",
         "P1B0A1",
         "Gold-Databricks",
         "2025-04-24T19:57:21.635Z",
         "Gold-Databricks-Update",
         "2025-04-24T20:21:44.421Z",
         4117321498
        ],
        [
         88,
         "Harjinder",
         "Singh",
         "86 Sunny Ave",
         "Brampton",
         "ON",
         "P0J0A1",
         "Gold-Databricks",
         "2025-04-24T20:21:44.421Z",
         "Gold-Databricks",
         "2025-04-24T20:21:44.421Z",
         3976200911
        ]
       ],
       "datasetInfos": [],
       "dbfsResultPath": null,
       "isJsonSchema": true,
       "metadata": {
        "createTempViewForImplicitDf": true,
        "dataframeName": "_sqldf",
        "executionCount": 17
       },
       "overflow": false,
       "plotOptions": {
        "customPlotOptions": {},
        "displayType": "table",
        "pivotAggregation": null,
        "pivotColumns": null,
        "xColumns": null,
        "yColumns": null
       },
       "removedWidgets": [],
       "schema": [
        {
         "metadata": "{}",
         "name": "CustomerId",
         "type": "\"integer\""
        },
        {
         "metadata": "{}",
         "name": "FirstName",
         "type": "\"string\""
        },
        {
         "metadata": "{}",
         "name": "LastName",
         "type": "\"string\""
        },
        {
         "metadata": "{}",
         "name": "Address",
         "type": "\"string\""
        },
        {
         "metadata": "{}",
         "name": "City",
         "type": "\"string\""
        },
        {
         "metadata": "{}",
         "name": "State",
         "type": "\"string\""
        },
        {
         "metadata": "{}",
         "name": "Zip",
         "type": "\"string\""
        },
        {
         "metadata": "{}",
         "name": "CreatedBy",
         "type": "\"string\""
        },
        {
         "metadata": "{}",
         "name": "CreatedDate",
         "type": "\"timestamp\""
        },
        {
         "metadata": "{}",
         "name": "UpdatedBy",
         "type": "\"string\""
        },
        {
         "metadata": "{}",
         "name": "UpdatedDate",
         "type": "\"timestamp\""
        },
        {
         "metadata": "{}",
         "name": "Hashkey",
         "type": "\"long\""
        }
       ],
       "type": "table"
      }
     },
     "output_type": "display_data"
    }
   ],
   "source": [
    "%sql\n",
    "\n",
    "select * from customers where CustomerId in (80,88)"
   ]
  },
  {
   "cell_type": "code",
   "execution_count": 0,
   "metadata": {
    "application/vnd.databricks.v1+cell": {
     "cellMetadata": {
      "byteLimit": 2048000,
      "implicitDf": true,
      "rowLimit": 10000
     },
     "inputWidgets": {},
     "nuid": "dd0b5799-d76d-479b-85a1-0b0eea02b3f5",
     "showTitle": false,
     "tableResultSettingsMap": {},
     "title": ""
    }
   },
   "outputs": [
    {
     "output_type": "display_data",
     "data": {
      "text/html": [
       "<style scoped>\n",
       "  .table-result-container {\n",
       "    max-height: 300px;\n",
       "    overflow: auto;\n",
       "  }\n",
       "  table, th, td {\n",
       "    border: 1px solid black;\n",
       "    border-collapse: collapse;\n",
       "  }\n",
       "  th, td {\n",
       "    padding: 5px;\n",
       "  }\n",
       "  th {\n",
       "    text-align: left;\n",
       "  }\n",
       "</style><div class='table-result-container'><table class='table-result'><thead style='background-color: white'><tr><th>PaymentId</th><th>LoanId</th><th>PaymentDate</th><th>PaymentAmount</th><th>CreatedBy</th><th>CreatedDate</th><th>UpdatedBy</th><th>UpdatedDate</th><th>Hashkey</th></tr></thead><tbody><tr><td>4</td><td>89</td><td>2024-01-04</td><td>250.00</td><td>Gold-Databricks</td><td>2025-04-24T19:57:24.006Z</td><td>Gold-Databricks</td><td>2025-04-24T19:57:24.006Z</td><td>264335070</td></tr><tr><td>23</td><td>54</td><td>2024-01-23</td><td>1200.00</td><td>Gold-Databricks</td><td>2025-04-24T19:57:24.006Z</td><td>Gold-Databricks</td><td>2025-04-24T19:57:24.006Z</td><td>2859663238</td></tr><tr><td>92</td><td>13</td><td>2024-04-01</td><td>4650.00</td><td>Gold-Databricks</td><td>2025-04-24T19:57:24.006Z</td><td>Gold-Databricks</td><td>2025-04-24T19:57:24.006Z</td><td>3319289274</td></tr><tr><td>6</td><td>34</td><td>2024-01-06</td><td>350.00</td><td>Gold-Databricks</td><td>2025-04-24T19:57:24.006Z</td><td>Gold-Databricks</td><td>2025-04-24T19:57:24.006Z</td><td>3330136997</td></tr><tr><td>21</td><td>32</td><td>2024-01-21</td><td>1100.00</td><td>Gold-Databricks</td><td>2025-04-24T19:57:24.006Z</td><td>Gold-Databricks</td><td>2025-04-24T19:57:24.006Z</td><td>2813434115</td></tr><tr><td>39</td><td>30</td><td>2024-02-08</td><td>2000.00</td><td>Gold-Databricks</td><td>2025-04-24T19:57:24.006Z</td><td>Gold-Databricks</td><td>2025-04-24T19:57:24.006Z</td><td>2553646516</td></tr><tr><td>76</td><td>37</td><td>2024-03-16</td><td>3850.00</td><td>Gold-Databricks</td><td>2025-04-24T19:57:24.006Z</td><td>Gold-Databricks</td><td>2025-04-24T19:57:24.006Z</td><td>175174851</td></tr><tr><td>1</td><td>45</td><td>2024-01-01</td><td>100.00</td><td>Gold-Databricks</td><td>2025-04-24T19:57:24.006Z</td><td>Gold-Databricks</td><td>2025-04-24T19:57:24.006Z</td><td>4189237233</td></tr><tr><td>45</td><td>96</td><td>2024-02-14</td><td>2300.00</td><td>Gold-Databricks</td><td>2025-04-24T19:57:24.006Z</td><td>Gold-Databricks</td><td>2025-04-24T19:57:24.006Z</td><td>1621318141</td></tr><tr><td>34</td><td>75</td><td>2024-02-03</td><td>1750.00</td><td>Gold-Databricks</td><td>2025-04-24T19:57:24.006Z</td><td>Gold-Databricks</td><td>2025-04-24T19:57:24.006Z</td><td>1366633591</td></tr><tr><td>65</td><td>16</td><td>2024-03-05</td><td>3300.00</td><td>Gold-Databricks</td><td>2025-04-24T19:57:24.006Z</td><td>Gold-Databricks</td><td>2025-04-24T19:57:24.006Z</td><td>4085199564</td></tr><tr><td>96</td><td>57</td><td>2024-04-05</td><td>4850.00</td><td>Gold-Databricks</td><td>2025-04-24T19:57:24.006Z</td><td>Gold-Databricks</td><td>2025-04-24T19:57:24.006Z</td><td>527381219</td></tr><tr><td>14</td><td>55</td><td>2024-01-14</td><td>750.00</td><td>Gold-Databricks</td><td>2025-04-24T19:57:24.006Z</td><td>Gold-Databricks</td><td>2025-04-24T19:57:24.006Z</td><td>2348634532</td></tr><tr><td>3</td><td>67</td><td>2024-01-03</td><td>200.00</td><td>Gold-Databricks</td><td>2025-04-24T19:57:24.006Z</td><td>Gold-Databricks</td><td>2025-04-24T19:57:24.006Z</td><td>2777852429</td></tr><tr><td>36</td><td>97</td><td>2024-02-05</td><td>1850.00</td><td>Gold-Databricks</td><td>2025-04-24T19:57:24.006Z</td><td>Gold-Databricks</td><td>2025-04-24T19:57:24.006Z</td><td>156240419</td></tr><tr><td>29</td><td>20</td><td>2024-01-29</td><td>1500.00</td><td>Gold-Databricks</td><td>2025-04-24T19:57:24.006Z</td><td>Gold-Databricks</td><td>2025-04-24T19:57:24.006Z</td><td>1393641991</td></tr><tr><td>87</td><td>58</td><td>2024-03-27</td><td>4400.00</td><td>Gold-Databricks</td><td>2025-04-24T19:57:24.006Z</td><td>Gold-Databricks</td><td>2025-04-24T19:57:24.006Z</td><td>2921376310</td></tr><tr><td>72</td><td>93</td><td>2024-03-12</td><td>3650.00</td><td>Gold-Databricks</td><td>2025-04-24T19:57:24.006Z</td><td>Gold-Databricks</td><td>2025-04-24T19:57:24.006Z</td><td>3387588883</td></tr><tr><td>19</td><td>10</td><td>2024-01-19</td><td>1000.00</td><td>Gold-Databricks</td><td>2025-04-24T19:57:24.006Z</td><td>Gold-Databricks</td><td>2025-04-24T19:57:24.006Z</td><td>1347506748</td></tr><tr><td>56</td><td>17</td><td>2024-02-25</td><td>2850.00</td><td>Gold-Databricks</td><td>2025-04-24T19:57:24.006Z</td><td>Gold-Databricks</td><td>2025-04-24T19:57:24.006Z</td><td>1586711593</td></tr><tr><td>7</td><td>56</td><td>2024-01-07</td><td>400.00</td><td>Gold-Databricks</td><td>2025-04-24T19:57:24.006Z</td><td>Gold-Databricks</td><td>2025-04-24T19:57:24.006Z</td><td>1192820904</td></tr><tr><td>37</td><td>8</td><td>2024-02-06</td><td>1900.00</td><td>Gold-Databricks</td><td>2025-04-24T19:57:24.006Z</td><td>Gold-Databricks</td><td>2025-04-24T19:57:24.006Z</td><td>1399685596</td></tr><tr><td>88</td><td>69</td><td>2024-03-28</td><td>4450.00</td><td>Gold-Databricks</td><td>2025-04-24T19:57:24.006Z</td><td>Gold-Databricks</td><td>2025-04-24T19:57:24.006Z</td><td>1091152386</td></tr><tr><td>46</td><td>7</td><td>2024-02-15</td><td>2350.00</td><td>Gold-Databricks</td><td>2025-04-24T19:57:24.006Z</td><td>Gold-Databricks</td><td>2025-04-24T19:57:24.006Z</td><td>909840285</td></tr><tr><td>51</td><td>62</td><td>2024-02-20</td><td>2600.00</td><td>Gold-Databricks</td><td>2025-04-24T19:57:24.006Z</td><td>Gold-Databricks</td><td>2025-04-24T19:57:24.006Z</td><td>3690676350</td></tr><tr><td>52</td><td>73</td><td>2024-02-21</td><td>2650.00</td><td>Gold-Databricks</td><td>2025-04-24T19:57:24.006Z</td><td>Gold-Databricks</td><td>2025-04-24T19:57:24.006Z</td><td>2180006131</td></tr><tr><td>31</td><td>42</td><td>2024-01-31</td><td>1600.00</td><td>Gold-Databricks</td><td>2025-04-24T19:57:24.006Z</td><td>Gold-Databricks</td><td>2025-04-24T19:57:24.006Z</td><td>1567782063</td></tr><tr><td>43</td><td>74</td><td>2024-02-12</td><td>2200.00</td><td>Gold-Databricks</td><td>2025-04-24T19:57:24.006Z</td><td>Gold-Databricks</td><td>2025-04-24T19:57:24.006Z</td><td>1860095018</td></tr><tr><td>78</td><td>59</td><td>2024-03-18</td><td>3950.00</td><td>Gold-Databricks</td><td>2025-04-24T19:57:24.006Z</td><td>Gold-Databricks</td><td>2025-04-24T19:57:24.006Z</td><td>3154834603</td></tr><tr><td>80</td><td>81</td><td>2024-03-20</td><td>4050.00</td><td>Gold-Databricks</td><td>2025-04-24T19:57:24.006Z</td><td>Gold-Databricks</td><td>2025-04-24T19:57:24.006Z</td><td>1912209975</td></tr><tr><td>30</td><td>31</td><td>2024-01-30</td><td>1550.00</td><td>Gold-Databricks</td><td>2025-04-24T19:57:24.006Z</td><td>Gold-Databricks</td><td>2025-04-24T19:57:24.006Z</td><td>3995935809</td></tr><tr><td>57</td><td>28</td><td>2024-02-26</td><td>2900.00</td><td>Gold-Databricks</td><td>2025-04-24T19:57:24.006Z</td><td>Gold-Databricks</td><td>2025-04-24T19:57:24.006Z</td><td>2653151705</td></tr><tr><td>22</td><td>43</td><td>2024-01-22</td><td>1150.00</td><td>Gold-Databricks</td><td>2025-04-24T19:57:24.006Z</td><td>Gold-Databricks</td><td>2025-04-24T19:57:24.006Z</td><td>1683567650</td></tr><tr><td>28</td><td>9</td><td>2024-01-28</td><td>1450.00</td><td>Gold-Databricks</td><td>2025-04-24T19:57:24.006Z</td><td>Gold-Databricks</td><td>2025-04-24T19:57:24.006Z</td><td>3275070735</td></tr><tr><td>101</td><td>33</td><td>1900-01-01</td><td>1000.00</td><td>Gold-Databricks</td><td>2025-04-24T19:57:24.006Z</td><td>Gold-Databricks</td><td>2025-04-24T19:57:24.006Z</td><td>3872845067</td></tr><tr><td>58</td><td>39</td><td>2024-02-27</td><td>2950.00</td><td>Gold-Databricks</td><td>2025-04-24T19:57:24.006Z</td><td>Gold-Databricks</td><td>2025-04-24T19:57:24.006Z</td><td>618787123</td></tr><tr><td>75</td><td>26</td><td>2024-03-15</td><td>3800.00</td><td>Gold-Databricks</td><td>2025-04-24T19:57:24.006Z</td><td>Gold-Databricks</td><td>2025-04-24T19:57:24.006Z</td><td>3353666919</td></tr><tr><td>100</td><td>33</td><td>2024-04-10</td><td>1000.00</td><td>Gold-Databricks</td><td>2025-04-24T19:57:24.006Z</td><td>Gold-Databricks</td><td>2025-04-24T19:57:24.006Z</td><td>3282935963</td></tr><tr><td>53</td><td>84</td><td>2024-02-22</td><td>2700.00</td><td>Gold-Databricks</td><td>2025-04-24T19:57:24.006Z</td><td>Gold-Databricks</td><td>2025-04-24T19:57:24.006Z</td><td>3148471191</td></tr><tr><td>89</td><td>80</td><td>2024-03-29</td><td>4500.00</td><td>Gold-Databricks</td><td>2025-04-24T19:57:24.006Z</td><td>Gold-Databricks</td><td>2025-04-24T19:57:24.006Z</td><td>1119448632</td></tr><tr><td>69</td><td>60</td><td>2024-03-09</td><td>3500.00</td><td>Gold-Databricks</td><td>2025-04-24T19:57:24.006Z</td><td>Gold-Databricks</td><td>2025-04-24T19:57:24.006Z</td><td>491520019</td></tr><tr><td>97</td><td>68</td><td>2024-04-06</td><td>4900.00</td><td>Gold-Databricks</td><td>2025-04-24T19:57:24.006Z</td><td>Gold-Databricks</td><td>2025-04-24T19:57:24.006Z</td><td>3755974419</td></tr><tr><td>82</td><td>3</td><td>2024-03-22</td><td>4150.00</td><td>Gold-Databricks</td><td>2025-04-24T19:57:24.006Z</td><td>Gold-Databricks</td><td>2025-04-24T19:57:24.006Z</td><td>2787183901</td></tr><tr><td>60</td><td>61</td><td>2024-02-29</td><td>3050.00</td><td>Gold-Databricks</td><td>2025-04-24T19:57:24.006Z</td><td>Gold-Databricks</td><td>2025-04-24T19:57:24.006Z</td><td>376456588</td></tr><tr><td>68</td><td>49</td><td>2024-03-08</td><td>3450.00</td><td>Gold-Databricks</td><td>2025-04-24T19:57:24.006Z</td><td>Gold-Databricks</td><td>2025-04-24T19:57:24.006Z</td><td>33930531</td></tr><tr><td>73</td><td>4</td><td>2024-03-13</td><td>3700.00</td><td>Gold-Databricks</td><td>2025-04-24T19:57:24.006Z</td><td>Gold-Databricks</td><td>2025-04-24T19:57:24.006Z</td><td>2803722244</td></tr><tr><td>94</td><td>35</td><td>2024-04-03</td><td>4750.00</td><td>Gold-Databricks</td><td>2025-04-24T19:57:24.006Z</td><td>Gold-Databricks</td><td>2025-04-24T19:57:24.006Z</td><td>1343994555</td></tr><tr><td>16</td><td>77</td><td>2024-01-16</td><td>850.00</td><td>Gold-Databricks</td><td>2025-04-24T19:57:24.006Z</td><td>Gold-Databricks</td><td>2025-04-24T19:57:24.006Z</td><td>304986457</td></tr><tr><td>54</td><td>95</td><td>2024-02-23</td><td>2750.00</td><td>Gold-Databricks</td><td>2025-04-24T19:57:24.006Z</td><td>Gold-Databricks</td><td>2025-04-24T19:57:24.006Z</td><td>147511032</td></tr><tr><td>79</td><td>70</td><td>2024-03-19</td><td>4000.00</td><td>Gold-Databricks</td><td>2025-04-24T19:57:24.006Z</td><td>Gold-Databricks</td><td>2025-04-24T19:57:24.006Z</td><td>2385916642</td></tr><tr><td>59</td><td>50</td><td>2024-02-28</td><td>3000.00</td><td>Gold-Databricks</td><td>2025-04-24T19:57:24.006Z</td><td>Gold-Databricks</td><td>2025-04-24T19:57:24.006Z</td><td>2601744444</td></tr><tr><td>47</td><td>18</td><td>2024-02-16</td><td>2400.00</td><td>Gold-Databricks</td><td>2025-04-24T19:57:24.006Z</td><td>Gold-Databricks</td><td>2025-04-24T19:57:24.006Z</td><td>1742587055</td></tr><tr><td>2</td><td>23</td><td>2024-01-02</td><td>150.00</td><td>Gold-Databricks</td><td>2025-04-24T19:57:24.006Z</td><td>Gold-Databricks</td><td>2025-04-24T19:57:24.006Z</td><td>1457204963</td></tr><tr><td>77</td><td>48</td><td>2024-03-17</td><td>3900.00</td><td>Gold-Databricks</td><td>2025-04-24T19:57:24.006Z</td><td>Gold-Databricks</td><td>2025-04-24T19:57:24.006Z</td><td>1459068700</td></tr><tr><td>81</td><td>92</td><td>2024-03-21</td><td>4100.00</td><td>Gold-Databricks</td><td>2025-04-24T19:57:24.006Z</td><td>Gold-Databricks</td><td>2025-04-24T19:57:24.006Z</td><td>3055140156</td></tr><tr><td>85</td><td>36</td><td>2024-03-25</td><td>4300.00</td><td>Gold-Databricks</td><td>2025-04-24T19:57:24.006Z</td><td>Gold-Databricks</td><td>2025-04-24T19:57:24.006Z</td><td>2960336365</td></tr><tr><td>55</td><td>6</td><td>2024-02-24</td><td>2800.00</td><td>Gold-Databricks</td><td>2025-04-24T19:57:24.006Z</td><td>Gold-Databricks</td><td>2025-04-24T19:57:24.006Z</td><td>3826209936</td></tr><tr><td>13</td><td>44</td><td>2024-01-13</td><td>700.00</td><td>Gold-Databricks</td><td>2025-04-24T19:57:24.006Z</td><td>Gold-Databricks</td><td>2025-04-24T19:57:24.006Z</td><td>1774633368</td></tr><tr><td>20</td><td>21</td><td>2024-01-20</td><td>1050.00</td><td>Gold-Databricks</td><td>2025-04-24T19:57:24.006Z</td><td>Gold-Databricks</td><td>2025-04-24T19:57:24.006Z</td><td>1615996424</td></tr><tr><td>49</td><td>40</td><td>2024-02-18</td><td>2500.00</td><td>Gold-Databricks</td><td>2025-04-24T19:57:24.006Z</td><td>Gold-Databricks</td><td>2025-04-24T19:57:24.006Z</td><td>2618666669</td></tr><tr><td>38</td><td>19</td><td>2024-02-07</td><td>1950.00</td><td>Gold-Databricks</td><td>2025-04-24T19:57:24.006Z</td><td>Gold-Databricks</td><td>2025-04-24T19:57:24.006Z</td><td>1638363830</td></tr><tr><td>74</td><td>15</td><td>2024-03-14</td><td>3750.00</td><td>Gold-Databricks</td><td>2025-04-24T19:57:24.006Z</td><td>Gold-Databricks</td><td>2025-04-24T19:57:24.006Z</td><td>3135475598</td></tr><tr><td>8</td><td>78</td><td>2024-01-08</td><td>450.00</td><td>Gold-Databricks</td><td>2025-04-24T19:57:24.006Z</td><td>Gold-Databricks</td><td>2025-04-24T19:57:24.006Z</td><td>2203091019</td></tr><tr><td>95</td><td>46</td><td>2024-04-04</td><td>4800.00</td><td>Gold-Databricks</td><td>2025-04-24T19:57:24.006Z</td><td>Gold-Databricks</td><td>2025-04-24T19:57:24.006Z</td><td>1164194414</td></tr><tr><td>41</td><td>52</td><td>2024-02-10</td><td>2100.00</td><td>Gold-Databricks</td><td>2025-04-24T19:57:24.006Z</td><td>Gold-Databricks</td><td>2025-04-24T19:57:24.006Z</td><td>1756724649</td></tr><tr><td>17</td><td>88</td><td>2024-01-17</td><td>900.00</td><td>Gold-Databricks</td><td>2025-04-24T19:57:24.006Z</td><td>Gold-Databricks</td><td>2025-04-24T19:57:24.006Z</td><td>1962234224</td></tr><tr><td>91</td><td>2</td><td>2024-03-31</td><td>4600.00</td><td>Gold-Databricks</td><td>2025-04-24T19:57:24.006Z</td><td>Gold-Databricks</td><td>2025-04-24T19:57:24.006Z</td><td>1683991877</td></tr><tr><td>40</td><td>41</td><td>2024-02-09</td><td>2050.00</td><td>Gold-Databricks</td><td>2025-04-24T19:57:24.006Z</td><td>Gold-Databricks</td><td>2025-04-24T19:57:24.006Z</td><td>1343458395</td></tr><tr><td>84</td><td>25</td><td>2024-03-24</td><td>4250.00</td><td>Gold-Databricks</td><td>2025-04-24T19:57:24.006Z</td><td>Gold-Databricks</td><td>2025-04-24T19:57:24.006Z</td><td>2005965542</td></tr><tr><td>93</td><td>24</td><td>2024-04-02</td><td>4700.00</td><td>Gold-Databricks</td><td>2025-04-24T19:57:24.006Z</td><td>Gold-Databricks</td><td>2025-04-24T19:57:24.006Z</td><td>3816339412</td></tr><tr><td>9</td><td>90</td><td>2024-01-09</td><td>500.00</td><td>Gold-Databricks</td><td>2025-04-24T19:57:24.006Z</td><td>Gold-Databricks</td><td>2025-04-24T19:57:24.006Z</td><td>2681690964</td></tr><tr><td>25</td><td>76</td><td>2024-01-25</td><td>1300.00</td><td>Gold-Databricks</td><td>2025-04-24T19:57:24.006Z</td><td>Gold-Databricks</td><td>2025-04-24T19:57:24.006Z</td><td>3103134555</td></tr><tr><td>26</td><td>87</td><td>2024-01-26</td><td>1350.00</td><td>Gold-Databricks</td><td>2025-04-24T19:57:24.006Z</td><td>Gold-Databricks</td><td>2025-04-24T19:57:24.006Z</td><td>1817120886</td></tr><tr><td>48</td><td>29</td><td>2024-02-17</td><td>2450.00</td><td>Gold-Databricks</td><td>2025-04-24T19:57:24.006Z</td><td>Gold-Databricks</td><td>2025-04-24T19:57:24.006Z</td><td>3637231558</td></tr><tr><td>62</td><td>83</td><td>2024-03-02</td><td>3150.00</td><td>Gold-Databricks</td><td>2025-04-24T19:57:24.006Z</td><td>Gold-Databricks</td><td>2025-04-24T19:57:24.006Z</td><td>1029034042</td></tr><tr><td>99</td><td>1</td><td>2024-04-08</td><td>5000.00</td><td>Gold-Databricks</td><td>2025-04-24T19:57:24.006Z</td><td>Gold-Databricks</td><td>2025-04-24T19:57:24.006Z</td><td>2638423937</td></tr><tr><td>15</td><td>66</td><td>2024-01-15</td><td>800.00</td><td>Gold-Databricks</td><td>2025-04-24T19:57:24.006Z</td><td>Gold-Databricks</td><td>2025-04-24T19:57:24.006Z</td><td>1613741173</td></tr><tr><td>61</td><td>72</td><td>2024-03-01</td><td>3100.00</td><td>Gold-Databricks</td><td>2025-04-24T19:57:24.006Z</td><td>Gold-Databricks</td><td>2025-04-24T19:57:24.006Z</td><td>3924611863</td></tr><tr><td>33</td><td>64</td><td>2024-02-02</td><td>1700.00</td><td>Gold-Databricks</td><td>2025-04-24T19:57:24.006Z</td><td>Gold-Databricks</td><td>2025-04-24T19:57:24.006Z</td><td>3793101080</td></tr><tr><td>5</td><td>12</td><td>2024-01-05</td><td>300.00</td><td>Gold-Databricks</td><td>2025-04-24T19:57:24.006Z</td><td>Gold-Databricks</td><td>2025-04-24T19:57:24.006Z</td><td>438074744</td></tr><tr><td>27</td><td>98</td><td>2024-01-27</td><td>1400.00</td><td>Gold-Databricks</td><td>2025-04-24T19:57:24.006Z</td><td>Gold-Databricks</td><td>2025-04-24T19:57:24.006Z</td><td>2985570956</td></tr><tr><td>70</td><td>71</td><td>2024-03-10</td><td>3550.00</td><td>Gold-Databricks</td><td>2025-04-24T19:57:24.006Z</td><td>Gold-Databricks</td><td>2025-04-24T19:57:24.006Z</td><td>2691722837</td></tr><tr><td>83</td><td>14</td><td>2024-03-23</td><td>4200.00</td><td>Gold-Databricks</td><td>2025-04-24T19:57:24.006Z</td><td>Gold-Databricks</td><td>2025-04-24T19:57:24.006Z</td><td>2734147888</td></tr><tr><td>50</td><td>51</td><td>2024-02-19</td><td>2550.00</td><td>Gold-Databricks</td><td>2025-04-24T19:57:24.006Z</td><td>Gold-Databricks</td><td>2025-04-24T19:57:24.006Z</td><td>3731656210</td></tr><tr><td>86</td><td>47</td><td>2024-03-26</td><td>4350.00</td><td>Gold-Databricks</td><td>2025-04-24T19:57:24.006Z</td><td>Gold-Databricks</td><td>2025-04-24T19:57:24.006Z</td><td>1939572940</td></tr><tr><td>98</td><td>79</td><td>2024-04-07</td><td>4950.00</td><td>Gold-Databricks</td><td>2025-04-24T19:57:24.006Z</td><td>Gold-Databricks</td><td>2025-04-24T19:57:24.006Z</td><td>1696436217</td></tr><tr><td>32</td><td>53</td><td>2024-02-01</td><td>1650.00</td><td>Gold-Databricks</td><td>2025-04-24T19:57:24.006Z</td><td>Gold-Databricks</td><td>2025-04-24T19:57:24.006Z</td><td>3300311926</td></tr><tr><td>11</td><td>22</td><td>2024-01-11</td><td>600.00</td><td>Gold-Databricks</td><td>2025-04-24T19:57:24.006Z</td><td>Gold-Databricks</td><td>2025-04-24T19:57:24.006Z</td><td>3894410316</td></tr><tr><td>67</td><td>38</td><td>2024-03-07</td><td>3400.00</td><td>Gold-Databricks</td><td>2025-04-24T19:57:24.006Z</td><td>Gold-Databricks</td><td>2025-04-24T19:57:24.006Z</td><td>3867437585</td></tr><tr><td>18</td><td>99</td><td>2024-01-18</td><td>950.00</td><td>Gold-Databricks</td><td>2025-04-24T19:57:24.006Z</td><td>Gold-Databricks</td><td>2025-04-24T19:57:24.006Z</td><td>1842146605</td></tr><tr><td>42</td><td>63</td><td>2024-02-11</td><td>2150.00</td><td>Gold-Databricks</td><td>2025-04-24T19:57:24.006Z</td><td>Gold-Databricks</td><td>2025-04-24T19:57:24.006Z</td><td>929699495</td></tr><tr><td>44</td><td>85</td><td>2024-02-13</td><td>2250.00</td><td>Gold-Databricks</td><td>2025-04-24T19:57:24.006Z</td><td>Gold-Databricks</td><td>2025-04-24T19:57:24.006Z</td><td>3297825740</td></tr><tr><td>90</td><td>91</td><td>2024-03-30</td><td>4550.00</td><td>Gold-Databricks</td><td>2025-04-24T19:57:24.006Z</td><td>Gold-Databricks</td><td>2025-04-24T19:57:24.006Z</td><td>4286906494</td></tr><tr><td>71</td><td>82</td><td>2024-03-11</td><td>3600.00</td><td>Gold-Databricks</td><td>2025-04-24T19:57:24.006Z</td><td>Gold-Databricks</td><td>2025-04-24T19:57:24.006Z</td><td>75403447</td></tr><tr><td>12</td><td>33</td><td>2024-01-12</td><td>650.00</td><td>Gold-Databricks</td><td>2025-04-24T19:57:24.006Z</td><td>Gold-Databricks</td><td>2025-04-24T19:57:24.006Z</td><td>2585655648</td></tr><tr><td>24</td><td>65</td><td>2024-01-24</td><td>1250.00</td><td>Gold-Databricks</td><td>2025-04-24T19:57:24.006Z</td><td>Gold-Databricks</td><td>2025-04-24T19:57:24.006Z</td><td>2132126800</td></tr><tr><td>63</td><td>94</td><td>2024-03-03</td><td>3200.00</td><td>Gold-Databricks</td><td>2025-04-24T19:57:24.006Z</td><td>Gold-Databricks</td><td>2025-04-24T19:57:24.006Z</td><td>4085128094</td></tr><tr><td>64</td><td>5</td><td>2024-03-04</td><td>3250.00</td><td>Gold-Databricks</td><td>2025-04-24T19:57:24.006Z</td><td>Gold-Databricks</td><td>2025-04-24T19:57:24.006Z</td><td>3762579497</td></tr><tr><td>35</td><td>86</td><td>2024-02-04</td><td>1800.00</td><td>Gold-Databricks</td><td>2025-04-24T19:57:24.006Z</td><td>Gold-Databricks</td><td>2025-04-24T19:57:24.006Z</td><td>1398475438</td></tr><tr><td>66</td><td>27</td><td>2024-03-06</td><td>3350.00</td><td>Gold-Databricks</td><td>2025-04-24T19:57:24.006Z</td><td>Gold-Databricks</td><td>2025-04-24T19:57:24.006Z</td><td>994003179</td></tr><tr><td>10</td><td>11</td><td>2024-01-10</td><td>550.00</td><td>Gold-Databricks</td><td>2025-04-24T19:57:24.006Z</td><td>Gold-Databricks</td><td>2025-04-24T19:57:24.006Z</td><td>3325951132</td></tr></tbody></table></div>"
      ]
     },
     "metadata": {
      "application/vnd.databricks.v1+output": {
       "addedWidgets": {},
       "aggData": [],
       "aggError": "",
       "aggOverflow": false,
       "aggSchema": [],
       "aggSeriesLimitReached": false,
       "aggType": "",
       "arguments": {},
       "columnCustomDisplayInfos": {},
       "data": [
        [
         4,
         89,
         "2024-01-04",
         "250.00",
         "Gold-Databricks",
         "2025-04-24T19:57:24.006Z",
         "Gold-Databricks",
         "2025-04-24T19:57:24.006Z",
         264335070
        ],
        [
         23,
         54,
         "2024-01-23",
         "1200.00",
         "Gold-Databricks",
         "2025-04-24T19:57:24.006Z",
         "Gold-Databricks",
         "2025-04-24T19:57:24.006Z",
         2859663238
        ],
        [
         92,
         13,
         "2024-04-01",
         "4650.00",
         "Gold-Databricks",
         "2025-04-24T19:57:24.006Z",
         "Gold-Databricks",
         "2025-04-24T19:57:24.006Z",
         3319289274
        ],
        [
         6,
         34,
         "2024-01-06",
         "350.00",
         "Gold-Databricks",
         "2025-04-24T19:57:24.006Z",
         "Gold-Databricks",
         "2025-04-24T19:57:24.006Z",
         3330136997
        ],
        [
         21,
         32,
         "2024-01-21",
         "1100.00",
         "Gold-Databricks",
         "2025-04-24T19:57:24.006Z",
         "Gold-Databricks",
         "2025-04-24T19:57:24.006Z",
         2813434115
        ],
        [
         39,
         30,
         "2024-02-08",
         "2000.00",
         "Gold-Databricks",
         "2025-04-24T19:57:24.006Z",
         "Gold-Databricks",
         "2025-04-24T19:57:24.006Z",
         2553646516
        ],
        [
         76,
         37,
         "2024-03-16",
         "3850.00",
         "Gold-Databricks",
         "2025-04-24T19:57:24.006Z",
         "Gold-Databricks",
         "2025-04-24T19:57:24.006Z",
         175174851
        ],
        [
         1,
         45,
         "2024-01-01",
         "100.00",
         "Gold-Databricks",
         "2025-04-24T19:57:24.006Z",
         "Gold-Databricks",
         "2025-04-24T19:57:24.006Z",
         4189237233
        ],
        [
         45,
         96,
         "2024-02-14",
         "2300.00",
         "Gold-Databricks",
         "2025-04-24T19:57:24.006Z",
         "Gold-Databricks",
         "2025-04-24T19:57:24.006Z",
         1621318141
        ],
        [
         34,
         75,
         "2024-02-03",
         "1750.00",
         "Gold-Databricks",
         "2025-04-24T19:57:24.006Z",
         "Gold-Databricks",
         "2025-04-24T19:57:24.006Z",
         1366633591
        ],
        [
         65,
         16,
         "2024-03-05",
         "3300.00",
         "Gold-Databricks",
         "2025-04-24T19:57:24.006Z",
         "Gold-Databricks",
         "2025-04-24T19:57:24.006Z",
         4085199564
        ],
        [
         96,
         57,
         "2024-04-05",
         "4850.00",
         "Gold-Databricks",
         "2025-04-24T19:57:24.006Z",
         "Gold-Databricks",
         "2025-04-24T19:57:24.006Z",
         527381219
        ],
        [
         14,
         55,
         "2024-01-14",
         "750.00",
         "Gold-Databricks",
         "2025-04-24T19:57:24.006Z",
         "Gold-Databricks",
         "2025-04-24T19:57:24.006Z",
         2348634532
        ],
        [
         3,
         67,
         "2024-01-03",
         "200.00",
         "Gold-Databricks",
         "2025-04-24T19:57:24.006Z",
         "Gold-Databricks",
         "2025-04-24T19:57:24.006Z",
         2777852429
        ],
        [
         36,
         97,
         "2024-02-05",
         "1850.00",
         "Gold-Databricks",
         "2025-04-24T19:57:24.006Z",
         "Gold-Databricks",
         "2025-04-24T19:57:24.006Z",
         156240419
        ],
        [
         29,
         20,
         "2024-01-29",
         "1500.00",
         "Gold-Databricks",
         "2025-04-24T19:57:24.006Z",
         "Gold-Databricks",
         "2025-04-24T19:57:24.006Z",
         1393641991
        ],
        [
         87,
         58,
         "2024-03-27",
         "4400.00",
         "Gold-Databricks",
         "2025-04-24T19:57:24.006Z",
         "Gold-Databricks",
         "2025-04-24T19:57:24.006Z",
         2921376310
        ],
        [
         72,
         93,
         "2024-03-12",
         "3650.00",
         "Gold-Databricks",
         "2025-04-24T19:57:24.006Z",
         "Gold-Databricks",
         "2025-04-24T19:57:24.006Z",
         3387588883
        ],
        [
         19,
         10,
         "2024-01-19",
         "1000.00",
         "Gold-Databricks",
         "2025-04-24T19:57:24.006Z",
         "Gold-Databricks",
         "2025-04-24T19:57:24.006Z",
         1347506748
        ],
        [
         56,
         17,
         "2024-02-25",
         "2850.00",
         "Gold-Databricks",
         "2025-04-24T19:57:24.006Z",
         "Gold-Databricks",
         "2025-04-24T19:57:24.006Z",
         1586711593
        ],
        [
         7,
         56,
         "2024-01-07",
         "400.00",
         "Gold-Databricks",
         "2025-04-24T19:57:24.006Z",
         "Gold-Databricks",
         "2025-04-24T19:57:24.006Z",
         1192820904
        ],
        [
         37,
         8,
         "2024-02-06",
         "1900.00",
         "Gold-Databricks",
         "2025-04-24T19:57:24.006Z",
         "Gold-Databricks",
         "2025-04-24T19:57:24.006Z",
         1399685596
        ],
        [
         88,
         69,
         "2024-03-28",
         "4450.00",
         "Gold-Databricks",
         "2025-04-24T19:57:24.006Z",
         "Gold-Databricks",
         "2025-04-24T19:57:24.006Z",
         1091152386
        ],
        [
         46,
         7,
         "2024-02-15",
         "2350.00",
         "Gold-Databricks",
         "2025-04-24T19:57:24.006Z",
         "Gold-Databricks",
         "2025-04-24T19:57:24.006Z",
         909840285
        ],
        [
         51,
         62,
         "2024-02-20",
         "2600.00",
         "Gold-Databricks",
         "2025-04-24T19:57:24.006Z",
         "Gold-Databricks",
         "2025-04-24T19:57:24.006Z",
         3690676350
        ],
        [
         52,
         73,
         "2024-02-21",
         "2650.00",
         "Gold-Databricks",
         "2025-04-24T19:57:24.006Z",
         "Gold-Databricks",
         "2025-04-24T19:57:24.006Z",
         2180006131
        ],
        [
         31,
         42,
         "2024-01-31",
         "1600.00",
         "Gold-Databricks",
         "2025-04-24T19:57:24.006Z",
         "Gold-Databricks",
         "2025-04-24T19:57:24.006Z",
         1567782063
        ],
        [
         43,
         74,
         "2024-02-12",
         "2200.00",
         "Gold-Databricks",
         "2025-04-24T19:57:24.006Z",
         "Gold-Databricks",
         "2025-04-24T19:57:24.006Z",
         1860095018
        ],
        [
         78,
         59,
         "2024-03-18",
         "3950.00",
         "Gold-Databricks",
         "2025-04-24T19:57:24.006Z",
         "Gold-Databricks",
         "2025-04-24T19:57:24.006Z",
         3154834603
        ],
        [
         80,
         81,
         "2024-03-20",
         "4050.00",
         "Gold-Databricks",
         "2025-04-24T19:57:24.006Z",
         "Gold-Databricks",
         "2025-04-24T19:57:24.006Z",
         1912209975
        ],
        [
         30,
         31,
         "2024-01-30",
         "1550.00",
         "Gold-Databricks",
         "2025-04-24T19:57:24.006Z",
         "Gold-Databricks",
         "2025-04-24T19:57:24.006Z",
         3995935809
        ],
        [
         57,
         28,
         "2024-02-26",
         "2900.00",
         "Gold-Databricks",
         "2025-04-24T19:57:24.006Z",
         "Gold-Databricks",
         "2025-04-24T19:57:24.006Z",
         2653151705
        ],
        [
         22,
         43,
         "2024-01-22",
         "1150.00",
         "Gold-Databricks",
         "2025-04-24T19:57:24.006Z",
         "Gold-Databricks",
         "2025-04-24T19:57:24.006Z",
         1683567650
        ],
        [
         28,
         9,
         "2024-01-28",
         "1450.00",
         "Gold-Databricks",
         "2025-04-24T19:57:24.006Z",
         "Gold-Databricks",
         "2025-04-24T19:57:24.006Z",
         3275070735
        ],
        [
         101,
         33,
         "1900-01-01",
         "1000.00",
         "Gold-Databricks",
         "2025-04-24T19:57:24.006Z",
         "Gold-Databricks",
         "2025-04-24T19:57:24.006Z",
         3872845067
        ],
        [
         58,
         39,
         "2024-02-27",
         "2950.00",
         "Gold-Databricks",
         "2025-04-24T19:57:24.006Z",
         "Gold-Databricks",
         "2025-04-24T19:57:24.006Z",
         618787123
        ],
        [
         75,
         26,
         "2024-03-15",
         "3800.00",
         "Gold-Databricks",
         "2025-04-24T19:57:24.006Z",
         "Gold-Databricks",
         "2025-04-24T19:57:24.006Z",
         3353666919
        ],
        [
         100,
         33,
         "2024-04-10",
         "1000.00",
         "Gold-Databricks",
         "2025-04-24T19:57:24.006Z",
         "Gold-Databricks",
         "2025-04-24T19:57:24.006Z",
         3282935963
        ],
        [
         53,
         84,
         "2024-02-22",
         "2700.00",
         "Gold-Databricks",
         "2025-04-24T19:57:24.006Z",
         "Gold-Databricks",
         "2025-04-24T19:57:24.006Z",
         3148471191
        ],
        [
         89,
         80,
         "2024-03-29",
         "4500.00",
         "Gold-Databricks",
         "2025-04-24T19:57:24.006Z",
         "Gold-Databricks",
         "2025-04-24T19:57:24.006Z",
         1119448632
        ],
        [
         69,
         60,
         "2024-03-09",
         "3500.00",
         "Gold-Databricks",
         "2025-04-24T19:57:24.006Z",
         "Gold-Databricks",
         "2025-04-24T19:57:24.006Z",
         491520019
        ],
        [
         97,
         68,
         "2024-04-06",
         "4900.00",
         "Gold-Databricks",
         "2025-04-24T19:57:24.006Z",
         "Gold-Databricks",
         "2025-04-24T19:57:24.006Z",
         3755974419
        ],
        [
         82,
         3,
         "2024-03-22",
         "4150.00",
         "Gold-Databricks",
         "2025-04-24T19:57:24.006Z",
         "Gold-Databricks",
         "2025-04-24T19:57:24.006Z",
         2787183901
        ],
        [
         60,
         61,
         "2024-02-29",
         "3050.00",
         "Gold-Databricks",
         "2025-04-24T19:57:24.006Z",
         "Gold-Databricks",
         "2025-04-24T19:57:24.006Z",
         376456588
        ],
        [
         68,
         49,
         "2024-03-08",
         "3450.00",
         "Gold-Databricks",
         "2025-04-24T19:57:24.006Z",
         "Gold-Databricks",
         "2025-04-24T19:57:24.006Z",
         33930531
        ],
        [
         73,
         4,
         "2024-03-13",
         "3700.00",
         "Gold-Databricks",
         "2025-04-24T19:57:24.006Z",
         "Gold-Databricks",
         "2025-04-24T19:57:24.006Z",
         2803722244
        ],
        [
         94,
         35,
         "2024-04-03",
         "4750.00",
         "Gold-Databricks",
         "2025-04-24T19:57:24.006Z",
         "Gold-Databricks",
         "2025-04-24T19:57:24.006Z",
         1343994555
        ],
        [
         16,
         77,
         "2024-01-16",
         "850.00",
         "Gold-Databricks",
         "2025-04-24T19:57:24.006Z",
         "Gold-Databricks",
         "2025-04-24T19:57:24.006Z",
         304986457
        ],
        [
         54,
         95,
         "2024-02-23",
         "2750.00",
         "Gold-Databricks",
         "2025-04-24T19:57:24.006Z",
         "Gold-Databricks",
         "2025-04-24T19:57:24.006Z",
         147511032
        ],
        [
         79,
         70,
         "2024-03-19",
         "4000.00",
         "Gold-Databricks",
         "2025-04-24T19:57:24.006Z",
         "Gold-Databricks",
         "2025-04-24T19:57:24.006Z",
         2385916642
        ],
        [
         59,
         50,
         "2024-02-28",
         "3000.00",
         "Gold-Databricks",
         "2025-04-24T19:57:24.006Z",
         "Gold-Databricks",
         "2025-04-24T19:57:24.006Z",
         2601744444
        ],
        [
         47,
         18,
         "2024-02-16",
         "2400.00",
         "Gold-Databricks",
         "2025-04-24T19:57:24.006Z",
         "Gold-Databricks",
         "2025-04-24T19:57:24.006Z",
         1742587055
        ],
        [
         2,
         23,
         "2024-01-02",
         "150.00",
         "Gold-Databricks",
         "2025-04-24T19:57:24.006Z",
         "Gold-Databricks",
         "2025-04-24T19:57:24.006Z",
         1457204963
        ],
        [
         77,
         48,
         "2024-03-17",
         "3900.00",
         "Gold-Databricks",
         "2025-04-24T19:57:24.006Z",
         "Gold-Databricks",
         "2025-04-24T19:57:24.006Z",
         1459068700
        ],
        [
         81,
         92,
         "2024-03-21",
         "4100.00",
         "Gold-Databricks",
         "2025-04-24T19:57:24.006Z",
         "Gold-Databricks",
         "2025-04-24T19:57:24.006Z",
         3055140156
        ],
        [
         85,
         36,
         "2024-03-25",
         "4300.00",
         "Gold-Databricks",
         "2025-04-24T19:57:24.006Z",
         "Gold-Databricks",
         "2025-04-24T19:57:24.006Z",
         2960336365
        ],
        [
         55,
         6,
         "2024-02-24",
         "2800.00",
         "Gold-Databricks",
         "2025-04-24T19:57:24.006Z",
         "Gold-Databricks",
         "2025-04-24T19:57:24.006Z",
         3826209936
        ],
        [
         13,
         44,
         "2024-01-13",
         "700.00",
         "Gold-Databricks",
         "2025-04-24T19:57:24.006Z",
         "Gold-Databricks",
         "2025-04-24T19:57:24.006Z",
         1774633368
        ],
        [
         20,
         21,
         "2024-01-20",
         "1050.00",
         "Gold-Databricks",
         "2025-04-24T19:57:24.006Z",
         "Gold-Databricks",
         "2025-04-24T19:57:24.006Z",
         1615996424
        ],
        [
         49,
         40,
         "2024-02-18",
         "2500.00",
         "Gold-Databricks",
         "2025-04-24T19:57:24.006Z",
         "Gold-Databricks",
         "2025-04-24T19:57:24.006Z",
         2618666669
        ],
        [
         38,
         19,
         "2024-02-07",
         "1950.00",
         "Gold-Databricks",
         "2025-04-24T19:57:24.006Z",
         "Gold-Databricks",
         "2025-04-24T19:57:24.006Z",
         1638363830
        ],
        [
         74,
         15,
         "2024-03-14",
         "3750.00",
         "Gold-Databricks",
         "2025-04-24T19:57:24.006Z",
         "Gold-Databricks",
         "2025-04-24T19:57:24.006Z",
         3135475598
        ],
        [
         8,
         78,
         "2024-01-08",
         "450.00",
         "Gold-Databricks",
         "2025-04-24T19:57:24.006Z",
         "Gold-Databricks",
         "2025-04-24T19:57:24.006Z",
         2203091019
        ],
        [
         95,
         46,
         "2024-04-04",
         "4800.00",
         "Gold-Databricks",
         "2025-04-24T19:57:24.006Z",
         "Gold-Databricks",
         "2025-04-24T19:57:24.006Z",
         1164194414
        ],
        [
         41,
         52,
         "2024-02-10",
         "2100.00",
         "Gold-Databricks",
         "2025-04-24T19:57:24.006Z",
         "Gold-Databricks",
         "2025-04-24T19:57:24.006Z",
         1756724649
        ],
        [
         17,
         88,
         "2024-01-17",
         "900.00",
         "Gold-Databricks",
         "2025-04-24T19:57:24.006Z",
         "Gold-Databricks",
         "2025-04-24T19:57:24.006Z",
         1962234224
        ],
        [
         91,
         2,
         "2024-03-31",
         "4600.00",
         "Gold-Databricks",
         "2025-04-24T19:57:24.006Z",
         "Gold-Databricks",
         "2025-04-24T19:57:24.006Z",
         1683991877
        ],
        [
         40,
         41,
         "2024-02-09",
         "2050.00",
         "Gold-Databricks",
         "2025-04-24T19:57:24.006Z",
         "Gold-Databricks",
         "2025-04-24T19:57:24.006Z",
         1343458395
        ],
        [
         84,
         25,
         "2024-03-24",
         "4250.00",
         "Gold-Databricks",
         "2025-04-24T19:57:24.006Z",
         "Gold-Databricks",
         "2025-04-24T19:57:24.006Z",
         2005965542
        ],
        [
         93,
         24,
         "2024-04-02",
         "4700.00",
         "Gold-Databricks",
         "2025-04-24T19:57:24.006Z",
         "Gold-Databricks",
         "2025-04-24T19:57:24.006Z",
         3816339412
        ],
        [
         9,
         90,
         "2024-01-09",
         "500.00",
         "Gold-Databricks",
         "2025-04-24T19:57:24.006Z",
         "Gold-Databricks",
         "2025-04-24T19:57:24.006Z",
         2681690964
        ],
        [
         25,
         76,
         "2024-01-25",
         "1300.00",
         "Gold-Databricks",
         "2025-04-24T19:57:24.006Z",
         "Gold-Databricks",
         "2025-04-24T19:57:24.006Z",
         3103134555
        ],
        [
         26,
         87,
         "2024-01-26",
         "1350.00",
         "Gold-Databricks",
         "2025-04-24T19:57:24.006Z",
         "Gold-Databricks",
         "2025-04-24T19:57:24.006Z",
         1817120886
        ],
        [
         48,
         29,
         "2024-02-17",
         "2450.00",
         "Gold-Databricks",
         "2025-04-24T19:57:24.006Z",
         "Gold-Databricks",
         "2025-04-24T19:57:24.006Z",
         3637231558
        ],
        [
         62,
         83,
         "2024-03-02",
         "3150.00",
         "Gold-Databricks",
         "2025-04-24T19:57:24.006Z",
         "Gold-Databricks",
         "2025-04-24T19:57:24.006Z",
         1029034042
        ],
        [
         99,
         1,
         "2024-04-08",
         "5000.00",
         "Gold-Databricks",
         "2025-04-24T19:57:24.006Z",
         "Gold-Databricks",
         "2025-04-24T19:57:24.006Z",
         2638423937
        ],
        [
         15,
         66,
         "2024-01-15",
         "800.00",
         "Gold-Databricks",
         "2025-04-24T19:57:24.006Z",
         "Gold-Databricks",
         "2025-04-24T19:57:24.006Z",
         1613741173
        ],
        [
         61,
         72,
         "2024-03-01",
         "3100.00",
         "Gold-Databricks",
         "2025-04-24T19:57:24.006Z",
         "Gold-Databricks",
         "2025-04-24T19:57:24.006Z",
         3924611863
        ],
        [
         33,
         64,
         "2024-02-02",
         "1700.00",
         "Gold-Databricks",
         "2025-04-24T19:57:24.006Z",
         "Gold-Databricks",
         "2025-04-24T19:57:24.006Z",
         3793101080
        ],
        [
         5,
         12,
         "2024-01-05",
         "300.00",
         "Gold-Databricks",
         "2025-04-24T19:57:24.006Z",
         "Gold-Databricks",
         "2025-04-24T19:57:24.006Z",
         438074744
        ],
        [
         27,
         98,
         "2024-01-27",
         "1400.00",
         "Gold-Databricks",
         "2025-04-24T19:57:24.006Z",
         "Gold-Databricks",
         "2025-04-24T19:57:24.006Z",
         2985570956
        ],
        [
         70,
         71,
         "2024-03-10",
         "3550.00",
         "Gold-Databricks",
         "2025-04-24T19:57:24.006Z",
         "Gold-Databricks",
         "2025-04-24T19:57:24.006Z",
         2691722837
        ],
        [
         83,
         14,
         "2024-03-23",
         "4200.00",
         "Gold-Databricks",
         "2025-04-24T19:57:24.006Z",
         "Gold-Databricks",
         "2025-04-24T19:57:24.006Z",
         2734147888
        ],
        [
         50,
         51,
         "2024-02-19",
         "2550.00",
         "Gold-Databricks",
         "2025-04-24T19:57:24.006Z",
         "Gold-Databricks",
         "2025-04-24T19:57:24.006Z",
         3731656210
        ],
        [
         86,
         47,
         "2024-03-26",
         "4350.00",
         "Gold-Databricks",
         "2025-04-24T19:57:24.006Z",
         "Gold-Databricks",
         "2025-04-24T19:57:24.006Z",
         1939572940
        ],
        [
         98,
         79,
         "2024-04-07",
         "4950.00",
         "Gold-Databricks",
         "2025-04-24T19:57:24.006Z",
         "Gold-Databricks",
         "2025-04-24T19:57:24.006Z",
         1696436217
        ],
        [
         32,
         53,
         "2024-02-01",
         "1650.00",
         "Gold-Databricks",
         "2025-04-24T19:57:24.006Z",
         "Gold-Databricks",
         "2025-04-24T19:57:24.006Z",
         3300311926
        ],
        [
         11,
         22,
         "2024-01-11",
         "600.00",
         "Gold-Databricks",
         "2025-04-24T19:57:24.006Z",
         "Gold-Databricks",
         "2025-04-24T19:57:24.006Z",
         3894410316
        ],
        [
         67,
         38,
         "2024-03-07",
         "3400.00",
         "Gold-Databricks",
         "2025-04-24T19:57:24.006Z",
         "Gold-Databricks",
         "2025-04-24T19:57:24.006Z",
         3867437585
        ],
        [
         18,
         99,
         "2024-01-18",
         "950.00",
         "Gold-Databricks",
         "2025-04-24T19:57:24.006Z",
         "Gold-Databricks",
         "2025-04-24T19:57:24.006Z",
         1842146605
        ],
        [
         42,
         63,
         "2024-02-11",
         "2150.00",
         "Gold-Databricks",
         "2025-04-24T19:57:24.006Z",
         "Gold-Databricks",
         "2025-04-24T19:57:24.006Z",
         929699495
        ],
        [
         44,
         85,
         "2024-02-13",
         "2250.00",
         "Gold-Databricks",
         "2025-04-24T19:57:24.006Z",
         "Gold-Databricks",
         "2025-04-24T19:57:24.006Z",
         3297825740
        ],
        [
         90,
         91,
         "2024-03-30",
         "4550.00",
         "Gold-Databricks",
         "2025-04-24T19:57:24.006Z",
         "Gold-Databricks",
         "2025-04-24T19:57:24.006Z",
         4286906494
        ],
        [
         71,
         82,
         "2024-03-11",
         "3600.00",
         "Gold-Databricks",
         "2025-04-24T19:57:24.006Z",
         "Gold-Databricks",
         "2025-04-24T19:57:24.006Z",
         75403447
        ],
        [
         12,
         33,
         "2024-01-12",
         "650.00",
         "Gold-Databricks",
         "2025-04-24T19:57:24.006Z",
         "Gold-Databricks",
         "2025-04-24T19:57:24.006Z",
         2585655648
        ],
        [
         24,
         65,
         "2024-01-24",
         "1250.00",
         "Gold-Databricks",
         "2025-04-24T19:57:24.006Z",
         "Gold-Databricks",
         "2025-04-24T19:57:24.006Z",
         2132126800
        ],
        [
         63,
         94,
         "2024-03-03",
         "3200.00",
         "Gold-Databricks",
         "2025-04-24T19:57:24.006Z",
         "Gold-Databricks",
         "2025-04-24T19:57:24.006Z",
         4085128094
        ],
        [
         64,
         5,
         "2024-03-04",
         "3250.00",
         "Gold-Databricks",
         "2025-04-24T19:57:24.006Z",
         "Gold-Databricks",
         "2025-04-24T19:57:24.006Z",
         3762579497
        ],
        [
         35,
         86,
         "2024-02-04",
         "1800.00",
         "Gold-Databricks",
         "2025-04-24T19:57:24.006Z",
         "Gold-Databricks",
         "2025-04-24T19:57:24.006Z",
         1398475438
        ],
        [
         66,
         27,
         "2024-03-06",
         "3350.00",
         "Gold-Databricks",
         "2025-04-24T19:57:24.006Z",
         "Gold-Databricks",
         "2025-04-24T19:57:24.006Z",
         994003179
        ],
        [
         10,
         11,
         "2024-01-10",
         "550.00",
         "Gold-Databricks",
         "2025-04-24T19:57:24.006Z",
         "Gold-Databricks",
         "2025-04-24T19:57:24.006Z",
         3325951132
        ]
       ],
       "datasetInfos": [],
       "dbfsResultPath": null,
       "isJsonSchema": true,
       "metadata": {
        "createTempViewForImplicitDf": true,
        "dataframeName": "_sqldf",
        "executionCount": 15
       },
       "overflow": false,
       "plotOptions": {
        "customPlotOptions": {},
        "displayType": "table",
        "pivotAggregation": null,
        "pivotColumns": null,
        "xColumns": null,
        "yColumns": null
       },
       "removedWidgets": [],
       "schema": [
        {
         "metadata": "{}",
         "name": "PaymentId",
         "type": "\"integer\""
        },
        {
         "metadata": "{}",
         "name": "LoanId",
         "type": "\"integer\""
        },
        {
         "metadata": "{}",
         "name": "PaymentDate",
         "type": "\"date\""
        },
        {
         "metadata": "{}",
         "name": "PaymentAmount",
         "type": "\"decimal(18,2)\""
        },
        {
         "metadata": "{}",
         "name": "CreatedBy",
         "type": "\"string\""
        },
        {
         "metadata": "{}",
         "name": "CreatedDate",
         "type": "\"timestamp\""
        },
        {
         "metadata": "{}",
         "name": "UpdatedBy",
         "type": "\"string\""
        },
        {
         "metadata": "{}",
         "name": "UpdatedDate",
         "type": "\"timestamp\""
        },
        {
         "metadata": "{}",
         "name": "Hashkey",
         "type": "\"long\""
        }
       ],
       "type": "table"
      }
     },
     "output_type": "display_data"
    }
   ],
   "source": [
    "%sql\n",
    "\n",
    "select * from loan_payments@v1"
   ]
  },
  {
   "cell_type": "code",
   "execution_count": 0,
   "metadata": {
    "application/vnd.databricks.v1+cell": {
     "cellMetadata": {
      "byteLimit": 2048000,
      "implicitDf": true,
      "rowLimit": 10000
     },
     "inputWidgets": {},
     "nuid": "c692c2c1-eb0c-4aa7-81d4-0fd483d2c81c",
     "showTitle": false,
     "tableResultSettingsMap": {},
     "title": ""
    }
   },
   "outputs": [
    {
     "output_type": "display_data",
     "data": {
      "text/html": [
       "<style scoped>\n",
       "  .table-result-container {\n",
       "    max-height: 300px;\n",
       "    overflow: auto;\n",
       "  }\n",
       "  table, th, td {\n",
       "    border: 1px solid black;\n",
       "    border-collapse: collapse;\n",
       "  }\n",
       "  th, td {\n",
       "    padding: 5px;\n",
       "  }\n",
       "  th {\n",
       "    text-align: left;\n",
       "  }\n",
       "</style><div class='table-result-container'><table class='table-result'><thead style='background-color: white'><tr><th>LoanId</th><th>CustomerId</th><th>LoanAmount</th><th>InterestRate</th><th>LoanTerm</th><th>CreatedBy</th><th>CreatedDate</th><th>UpdatedBy</th><th>UpdatedDate</th><th>Hashkey</th></tr></thead><tbody><tr><td>54</td><td>42</td><td>30000.50</td><td>4.00</td><td>48</td><td>Gold-Databricks</td><td>2025-04-24T19:57:26.575Z</td><td>Gold-Databricks</td><td>2025-04-24T19:57:26.575Z</td><td>345409227</td></tr><tr><td>29</td><td>58</td><td>32500.25</td><td>5.00</td><td>36</td><td>Gold-Databricks</td><td>2025-04-24T19:57:26.575Z</td><td>Gold-Databricks</td><td>2025-04-24T19:57:26.575Z</td><td>2207440917</td></tr><tr><td>72</td><td>17</td><td>20000.00</td><td>3.00</td><td>24</td><td>Gold-Databricks</td><td>2025-04-24T19:57:26.575Z</td><td>Gold-Databricks</td><td>2025-04-24T19:57:26.575Z</td><td>249839685</td></tr><tr><td>88</td><td>1</td><td>27500.00</td><td>3.00</td><td>24</td><td>Gold-Databricks</td><td>2025-04-24T19:57:26.575Z</td><td>Gold-Databricks</td><td>2025-04-24T19:57:26.575Z</td><td>2680370733</td></tr><tr><td>78</td><td>4</td><td>27500.50</td><td>4.00</td><td>48</td><td>Gold-Databricks</td><td>2025-04-24T19:57:26.575Z</td><td>Gold-Databricks</td><td>2025-04-24T19:57:26.575Z</td><td>1801838765</td></tr><tr><td>18</td><td>5</td><td>27500.50</td><td>4.50</td><td>48</td><td>Gold-Databricks</td><td>2025-04-24T19:57:26.575Z</td><td>Gold-Databricks</td><td>2025-04-24T19:57:26.575Z</td><td>2462199601</td></tr><tr><td>70</td><td>33</td><td>37500.50</td><td>4.00</td><td>48</td><td>Gold-Databricks</td><td>2025-04-24T19:57:26.575Z</td><td>Gold-Databricks</td><td>2025-04-24T19:57:26.575Z</td><td>1845717833</td></tr><tr><td>17</td><td>99</td><td>22500.25</td><td>5.50</td><td>36</td><td>Gold-Databricks</td><td>2025-04-24T19:57:26.575Z</td><td>Gold-Databricks</td><td>2025-04-24T19:57:26.575Z</td><td>4079820486</td></tr><tr><td>46</td><td>24</td><td>17500.50</td><td>4.00</td><td>48</td><td>Gold-Databricks</td><td>2025-04-24T19:57:26.575Z</td><td>Gold-Databricks</td><td>2025-04-24T19:57:26.575Z</td><td>1769370360</td></tr><tr><td>8</td><td>67</td><td>27500.00</td><td>3.00</td><td>24</td><td>Gold-Databricks</td><td>2025-04-24T19:57:26.575Z</td><td>Gold-Databricks</td><td>2025-04-24T19:57:26.575Z</td><td>4106075248</td></tr><tr><td>79</td><td>55</td><td>32500.75</td><td>6.50</td><td>60</td><td>Gold-Databricks</td><td>2025-04-24T19:57:26.575Z</td><td>Gold-Databricks</td><td>2025-04-24T19:57:26.575Z</td><td>1199684142</td></tr><tr><td>23</td><td>88</td><td>15000.75</td><td>6.50</td><td>60</td><td>Gold-Databricks</td><td>2025-04-24T19:57:26.575Z</td><td>Gold-Databricks</td><td>2025-04-24T19:57:26.575Z</td><td>1778064991</td></tr><tr><td>53</td><td>86</td><td>15000.25</td><td>5.00</td><td>36</td><td>Gold-Databricks</td><td>2025-04-24T19:57:26.575Z</td><td>Gold-Databricks</td><td>2025-04-24T19:57:26.575Z</td><td>95809912</td></tr><tr><td>59</td><td>75</td><td>32500.75</td><td>6.00</td><td>60</td><td>Gold-Databricks</td><td>2025-04-24T19:57:26.575Z</td><td>Gold-Databricks</td><td>2025-04-24T19:57:26.575Z</td><td>1039161747</td></tr><tr><td>1</td><td>45</td><td>10000.50</td><td>5.50</td><td>36</td><td>Gold-Databricks</td><td>2025-04-24T19:57:26.575Z</td><td>Gold-Databricks</td><td>2025-04-24T19:57:26.575Z</td><td>2502041691</td></tr><tr><td>9</td><td>14</td><td>32500.25</td><td>5.50</td><td>36</td><td>Gold-Databricks</td><td>2025-04-24T19:57:26.575Z</td><td>Gold-Databricks</td><td>2025-04-24T19:57:26.575Z</td><td>3981072152</td></tr><tr><td>47</td><td>95</td><td>22500.75</td><td>6.50</td><td>60</td><td>Gold-Databricks</td><td>2025-04-24T19:57:26.575Z</td><td>Gold-Databricks</td><td>2025-04-24T19:57:26.575Z</td><td>2902091616</td></tr><tr><td>64</td><td>12</td><td>30000.00</td><td>3.00</td><td>24</td><td>Gold-Databricks</td><td>2025-04-24T19:57:26.575Z</td><td>Gold-Databricks</td><td>2025-04-24T19:57:26.575Z</td><td>83688026</td></tr><tr><td>96</td><td>48</td><td>17500.00</td><td>3.00</td><td>24</td><td>Gold-Databricks</td><td>2025-04-24T19:57:26.575Z</td><td>Gold-Databricks</td><td>2025-04-24T19:57:26.575Z</td><td>3208996066</td></tr><tr><td>27</td><td>94</td><td>22500.75</td><td>6.00</td><td>60</td><td>Gold-Databricks</td><td>2025-04-24T19:57:26.575Z</td><td>Gold-Databricks</td><td>2025-04-24T19:57:26.575Z</td><td>2416636917</td></tr><tr><td>84</td><td>40</td><td>30000.00</td><td>3.50</td><td>24</td><td>Gold-Databricks</td><td>2025-04-24T19:57:26.575Z</td><td>Gold-Databricks</td><td>2025-04-24T19:57:26.575Z</td><td>3326743868</td></tr><tr><td>56</td><td>28</td><td>17500.00</td><td>3.00</td><td>24</td><td>Gold-Databricks</td><td>2025-04-24T19:57:26.575Z</td><td>Gold-Databricks</td><td>2025-04-24T19:57:26.575Z</td><td>3768974492</td></tr><tr><td>86</td><td>21</td><td>17500.50</td><td>4.00</td><td>48</td><td>Gold-Databricks</td><td>2025-04-24T19:57:26.575Z</td><td>Gold-Databricks</td><td>2025-04-24T19:57:26.575Z</td><td>3548058147</td></tr><tr><td>50</td><td>31</td><td>37500.50</td><td>4.50</td><td>48</td><td>Gold-Databricks</td><td>2025-04-24T19:57:26.575Z</td><td>Gold-Databricks</td><td>2025-04-24T19:57:26.575Z</td><td>2402564490</td></tr><tr><td>33</td><td>85</td><td>15000.25</td><td>5.50</td><td>36</td><td>Gold-Databricks</td><td>2025-04-24T19:57:26.575Z</td><td>Gold-Databricks</td><td>2025-04-24T19:57:26.575Z</td><td>3626737984</td></tr><tr><td>4</td><td>34</td><td>30000.25</td><td>3.50</td><td>24</td><td>Gold-Databricks</td><td>2025-04-24T19:57:26.575Z</td><td>Gold-Databricks</td><td>2025-04-24T19:57:26.575Z</td><td>2847880128</td></tr><tr><td>16</td><td>18</td><td>17500.00</td><td>3.00</td><td>24</td><td>Gold-Databricks</td><td>2025-04-24T19:57:26.575Z</td><td>Gold-Databricks</td><td>2025-04-24T19:57:26.575Z</td><td>1224054208</td></tr><tr><td>37</td><td>98</td><td>22500.25</td><td>5.00</td><td>36</td><td>Gold-Databricks</td><td>2025-04-24T19:57:26.575Z</td><td>Gold-Databricks</td><td>2025-04-24T19:57:26.575Z</td><td>3168120220</td></tr><tr><td>62</td><td>35</td><td>20000.50</td><td>4.00</td><td>48</td><td>Gold-Databricks</td><td>2025-04-24T19:57:26.575Z</td><td>Gold-Databricks</td><td>2025-04-24T19:57:26.575Z</td><td>2629764668</td></tr><tr><td>93</td><td>79</td><td>15000.25</td><td>5.00</td><td>36</td><td>Gold-Databricks</td><td>2025-04-24T19:57:26.575Z</td><td>Gold-Databricks</td><td>2025-04-24T19:57:26.575Z</td><td>2461134402</td></tr><tr><td>49</td><td>57</td><td>32500.25</td><td>5.50</td><td>36</td><td>Gold-Databricks</td><td>2025-04-24T19:57:26.575Z</td><td>Gold-Databricks</td><td>2025-04-24T19:57:26.575Z</td><td>1962483968</td></tr><tr><td>31</td><td>71</td><td>10000.75</td><td>6.50</td><td>60</td><td>Gold-Databricks</td><td>2025-04-24T19:57:26.575Z</td><td>Gold-Databricks</td><td>2025-04-24T19:57:26.575Z</td><td>192986034</td></tr><tr><td>69</td><td>59</td><td>32500.25</td><td>5.00</td><td>36</td><td>Gold-Databricks</td><td>2025-04-24T19:57:26.575Z</td><td>Gold-Databricks</td><td>2025-04-24T19:57:26.575Z</td><td>1838491308</td></tr><tr><td>38</td><td>15</td><td>27500.50</td><td>4.00</td><td>48</td><td>Gold-Databricks</td><td>2025-04-24T19:57:26.575Z</td><td>Gold-Databricks</td><td>2025-04-24T19:57:26.575Z</td><td>2945825878</td></tr><tr><td>22</td><td>37</td><td>20000.50</td><td>4.00</td><td>48</td><td>Gold-Databricks</td><td>2025-04-24T19:57:26.575Z</td><td>Gold-Databricks</td><td>2025-04-24T19:57:26.575Z</td><td>684916720</td></tr><tr><td>83</td><td>82</td><td>15000.75</td><td>6.00</td><td>60</td><td>Gold-Databricks</td><td>2025-04-24T19:57:26.575Z</td><td>Gold-Databricks</td><td>2025-04-24T19:57:26.575Z</td><td>2402015606</td></tr><tr><td>41</td><td>51</td><td>10000.25</td><td>5.50</td><td>36</td><td>Gold-Databricks</td><td>2025-04-24T19:57:26.575Z</td><td>Gold-Databricks</td><td>2025-04-24T19:57:26.575Z</td><td>35156591</td></tr><tr><td>51</td><td>72</td><td>10000.75</td><td>6.00</td><td>60</td><td>Gold-Databricks</td><td>2025-04-24T19:57:26.575Z</td><td>Gold-Databricks</td><td>2025-04-24T19:57:26.575Z</td><td>3592350602</td></tr><tr><td>77</td><td>91</td><td>22500.25</td><td>5.00</td><td>36</td><td>Gold-Databricks</td><td>2025-04-24T19:57:26.575Z</td><td>Gold-Databricks</td><td>2025-04-24T19:57:26.575Z</td><td>1636529427</td></tr><tr><td>80</td><td>30</td><td>37500.00</td><td>3.00</td><td>24</td><td>Gold-Databricks</td><td>2025-04-24T19:57:26.575Z</td><td>Gold-Databricks</td><td>2025-04-24T19:57:26.575Z</td><td>3760375475</td></tr><tr><td>99</td><td>80</td><td>32500.75</td><td>6.00</td><td>60</td><td>Gold-Databricks</td><td>2025-04-24T19:57:26.575Z</td><td>Gold-Databricks</td><td>2025-04-24T19:57:26.575Z</td><td>2026085426</td></tr><tr><td>97</td><td>90</td><td>22500.25</td><td>5.50</td><td>36</td><td>Gold-Databricks</td><td>2025-04-24T19:57:26.575Z</td><td>Gold-Databricks</td><td>2025-04-24T19:57:26.575Z</td><td>3144396312</td></tr><tr><td>63</td><td>84</td><td>15000.75</td><td>6.50</td><td>60</td><td>Gold-Databricks</td><td>2025-04-24T19:57:26.575Z</td><td>Gold-Databricks</td><td>2025-04-24T19:57:26.575Z</td><td>805742781</td></tr><tr><td>32</td><td>9</td><td>20000.00</td><td>3.00</td><td>24</td><td>Gold-Databricks</td><td>2025-04-24T19:57:26.575Z</td><td>Gold-Databricks</td><td>2025-04-24T19:57:26.575Z</td><td>101795810</td></tr><tr><td>58</td><td>16</td><td>27500.50</td><td>4.50</td><td>48</td><td>Gold-Databricks</td><td>2025-04-24T19:57:26.575Z</td><td>Gold-Databricks</td><td>2025-04-24T19:57:26.575Z</td><td>1191541655</td></tr><tr><td>36</td><td>27</td><td>17500.00</td><td>3.50</td><td>24</td><td>Gold-Databricks</td><td>2025-04-24T19:57:26.575Z</td><td>Gold-Databricks</td><td>2025-04-24T19:57:26.575Z</td><td>2458878630</td></tr><tr><td>66</td><td>26</td><td>17500.50</td><td>4.50</td><td>48</td><td>Gold-Databricks</td><td>2025-04-24T19:57:26.575Z</td><td>Gold-Databricks</td><td>2025-04-24T19:57:26.575Z</td><td>2285969467</td></tr><tr><td>67</td><td>96</td><td>22500.75</td><td>6.00</td><td>60</td><td>Gold-Databricks</td><td>2025-04-24T19:57:26.575Z</td><td>Gold-Databricks</td><td>2025-04-24T19:57:26.575Z</td><td>40636567</td></tr><tr><td>45</td><td>68</td><td>25000.25</td><td>5.00</td><td>36</td><td>Gold-Databricks</td><td>2025-04-24T19:57:26.575Z</td><td>Gold-Databricks</td><td>2025-04-24T19:57:26.575Z</td><td>1252029156</td></tr><tr><td>74</td><td>43</td><td>30000.50</td><td>4.50</td><td>48</td><td>Gold-Databricks</td><td>2025-04-24T19:57:26.575Z</td><td>Gold-Databricks</td><td>2025-04-24T19:57:26.575Z</td><td>1215019206</td></tr><tr><td>13</td><td>29</td><td>15000.25</td><td>5.00</td><td>36</td><td>Gold-Databricks</td><td>2025-04-24T19:57:26.575Z</td><td>Gold-Databricks</td><td>2025-04-24T19:57:26.575Z</td><td>1193680727</td></tr><tr><td>75</td><td>61</td><td>25000.75</td><td>6.00</td><td>60</td><td>Gold-Databricks</td><td>2025-04-24T19:57:26.575Z</td><td>Gold-Databricks</td><td>2025-04-24T19:57:26.575Z</td><td>920703527</td></tr><tr><td>60</td><td>20</td><td>37500.00</td><td>3.50</td><td>24</td><td>Gold-Databricks</td><td>2025-04-24T19:57:26.575Z</td><td>Gold-Databricks</td><td>2025-04-24T19:57:26.575Z</td><td>1533285253</td></tr><tr><td>95</td><td>60</td><td>25000.75</td><td>6.50</td><td>60</td><td>Gold-Databricks</td><td>2025-04-24T19:57:26.575Z</td><td>Gold-Databricks</td><td>2025-04-24T19:57:26.575Z</td><td>3959425324</td></tr><tr><td>25</td><td>66</td><td>25000.25</td><td>5.50</td><td>36</td><td>Gold-Databricks</td><td>2025-04-24T19:57:26.575Z</td><td>Gold-Databricks</td><td>2025-04-24T19:57:26.575Z</td><td>549737095</td></tr><tr><td>61</td><td>52</td><td>10000.25</td><td>5.00</td><td>36</td><td>Gold-Databricks</td><td>2025-04-24T19:57:26.575Z</td><td>Gold-Databricks</td><td>2025-04-24T19:57:26.575Z</td><td>2894988696</td></tr><tr><td>12</td><td>81</td><td>20000.00</td><td>3.50</td><td>24</td><td>Gold-Databricks</td><td>2025-04-24T19:57:26.575Z</td><td>Gold-Databricks</td><td>2025-04-24T19:57:26.575Z</td><td>1426967511</td></tr><tr><td>44</td><td>13</td><td>30000.00</td><td>3.50</td><td>24</td><td>Gold-Databricks</td><td>2025-04-24T19:57:26.575Z</td><td>Gold-Databricks</td><td>2025-04-24T19:57:26.575Z</td><td>1476510807</td></tr><tr><td>24</td><td>11</td><td>30000.00</td><td>3.00</td><td>24</td><td>Gold-Databricks</td><td>2025-04-24T19:57:26.575Z</td><td>Gold-Databricks</td><td>2025-04-24T19:57:26.575Z</td><td>1829231123</td></tr><tr><td>26</td><td>25</td><td>17500.50</td><td>4.50</td><td>48</td><td>Gold-Databricks</td><td>2025-04-24T19:57:26.575Z</td><td>Gold-Databricks</td><td>2025-04-24T19:57:26.575Z</td><td>3787063410</td></tr><tr><td>28</td><td>7</td><td>27500.00</td><td>3.50</td><td>24</td><td>Gold-Databricks</td><td>2025-04-24T19:57:26.575Z</td><td>Gold-Databricks</td><td>2025-04-24T19:57:26.575Z</td><td>1591891469</td></tr><tr><td>2</td><td>12</td><td>20000.75</td><td>4.50</td><td>48</td><td>Gold-Databricks</td><td>2025-04-24T19:57:26.575Z</td><td>Gold-Databricks</td><td>2025-04-24T19:57:26.575Z</td><td>3355992476</td></tr><tr><td>30</td><td>32</td><td>37500.50</td><td>4.00</td><td>48</td><td>Gold-Databricks</td><td>2025-04-24T19:57:26.575Z</td><td>Gold-Databricks</td><td>2025-04-24T19:57:26.575Z</td><td>1738866251</td></tr><tr><td>68</td><td>8</td><td>27500.00</td><td>3.50</td><td>24</td><td>Gold-Databricks</td><td>2025-04-24T19:57:26.575Z</td><td>Gold-Databricks</td><td>2025-04-24T19:57:26.575Z</td><td>4092520027</td></tr><tr><td>87</td><td>93</td><td>22500.75</td><td>6.50</td><td>60</td><td>Gold-Databricks</td><td>2025-04-24T19:57:26.575Z</td><td>Gold-Databricks</td><td>2025-04-24T19:57:26.575Z</td><td>3240117383</td></tr><tr><td>82</td><td>2</td><td>20000.50</td><td>4.50</td><td>48</td><td>Gold-Databricks</td><td>2025-04-24T19:57:26.575Z</td><td>Gold-Databricks</td><td>2025-04-24T19:57:26.575Z</td><td>2229680730</td></tr><tr><td>98</td><td>49</td><td>27500.50</td><td>4.50</td><td>48</td><td>Gold-Databricks</td><td>2025-04-24T19:57:26.575Z</td><td>Gold-Databricks</td><td>2025-04-24T19:57:26.575Z</td><td>1140069127</td></tr><tr><td>15</td><td>47</td><td>25000.75</td><td>6.50</td><td>60</td><td>Gold-Databricks</td><td>2025-04-24T19:57:26.575Z</td><td>Gold-Databricks</td><td>2025-04-24T19:57:26.575Z</td><td>3344653795</td></tr><tr><td>71</td><td>73</td><td>10000.75</td><td>6.50</td><td>60</td><td>Gold-Databricks</td><td>2025-04-24T19:57:26.575Z</td><td>Gold-Databricks</td><td>2025-04-24T19:57:26.575Z</td><td>2582010064</td></tr><tr><td>3</td><td>78</td><td>15000.00</td><td>6.00</td><td>60</td><td>Gold-Databricks</td><td>2025-04-24T19:57:26.575Z</td><td>Gold-Databricks</td><td>2025-04-24T19:57:26.575Z</td><td>4060872917</td></tr><tr><td>52</td><td>10</td><td>20000.00</td><td>3.50</td><td>24</td><td>Gold-Databricks</td><td>2025-04-24T19:57:26.575Z</td><td>Gold-Databricks</td><td>2025-04-24T19:57:26.575Z</td><td>4076642709</td></tr><tr><td>7</td><td>89</td><td>22500.75</td><td>6.50</td><td>60</td><td>Gold-Databricks</td><td>2025-04-24T19:57:26.575Z</td><td>Gold-Databricks</td><td>2025-04-24T19:57:26.575Z</td><td>1348082437</td></tr><tr><td>55</td><td>63</td><td>25000.75</td><td>6.50</td><td>60</td><td>Gold-Databricks</td><td>2025-04-24T19:57:26.575Z</td><td>Gold-Databricks</td><td>2025-04-24T19:57:26.575Z</td><td>91833510</td></tr><tr><td>20</td><td>21</td><td>37500.00</td><td>3.50</td><td>24</td><td>Gold-Databricks</td><td>2025-04-24T19:57:26.575Z</td><td>Gold-Databricks</td><td>2025-04-24T19:57:26.575Z</td><td>1388545671</td></tr><tr><td>43</td><td>83</td><td>15000.75</td><td>6.00</td><td>60</td><td>Gold-Databricks</td><td>2025-04-24T19:57:26.575Z</td><td>Gold-Databricks</td><td>2025-04-24T19:57:26.575Z</td><td>2268876881</td></tr><tr><td>92</td><td>44</td><td>20000.00</td><td>3.50</td><td>24</td><td>Gold-Databricks</td><td>2025-04-24T19:57:26.575Z</td><td>Gold-Databricks</td><td>2025-04-24T19:57:26.575Z</td><td>298088102</td></tr><tr><td>94</td><td>39</td><td>30000.50</td><td>4.00</td><td>48</td><td>Gold-Databricks</td><td>2025-04-24T19:57:26.575Z</td><td>Gold-Databricks</td><td>2025-04-24T19:57:26.575Z</td><td>833634400</td></tr><tr><td>21</td><td>53</td><td>10000.25</td><td>5.00</td><td>36</td><td>Gold-Databricks</td><td>2025-04-24T19:57:26.575Z</td><td>Gold-Databricks</td><td>2025-04-24T19:57:26.575Z</td><td>1116324641</td></tr><tr><td>10</td><td>92</td><td>37500.50</td><td>4.50</td><td>48</td><td>Gold-Databricks</td><td>2025-04-24T19:57:26.575Z</td><td>Gold-Databricks</td><td>2025-04-24T19:57:26.575Z</td><td>888718168</td></tr><tr><td>73</td><td>87</td><td>15000.25</td><td>5.50</td><td>36</td><td>Gold-Databricks</td><td>2025-04-24T19:57:26.575Z</td><td>Gold-Databricks</td><td>2025-04-24T19:57:26.575Z</td><td>1246577186</td></tr><tr><td>89</td><td>54</td><td>32500.25</td><td>5.50</td><td>36</td><td>Gold-Databricks</td><td>2025-04-24T19:57:26.575Z</td><td>Gold-Databricks</td><td>2025-04-24T19:57:26.575Z</td><td>2642439306</td></tr><tr><td>57</td><td>97</td><td>22500.25</td><td>5.50</td><td>36</td><td>Gold-Databricks</td><td>2025-04-24T19:57:26.575Z</td><td>Gold-Databricks</td><td>2025-04-24T19:57:26.575Z</td><td>1270770825</td></tr><tr><td>100</td><td>50</td><td>37500.00</td><td>3.50</td><td>24</td><td>Gold-Databricks</td><td>2025-04-24T19:57:26.575Z</td><td>Gold-Databricks</td><td>2025-04-24T19:57:26.575Z</td><td>4130867853</td></tr><tr><td>6</td><td>23</td><td>17500.50</td><td>4.00</td><td>48</td><td>Gold-Databricks</td><td>2025-04-24T19:57:26.575Z</td><td>Gold-Databricks</td><td>2025-04-24T19:57:26.575Z</td><td>172242294</td></tr><tr><td>48</td><td>6</td><td>27500.00</td><td>3.00</td><td>24</td><td>Gold-Databricks</td><td>2025-04-24T19:57:26.575Z</td><td>Gold-Databricks</td><td>2025-04-24T19:57:26.575Z</td><td>2806356369</td></tr><tr><td>65</td><td>69</td><td>25000.25</td><td>5.50</td><td>36</td><td>Gold-Databricks</td><td>2025-04-24T19:57:26.575Z</td><td>Gold-Databricks</td><td>2025-04-24T19:57:26.575Z</td><td>89702846</td></tr><tr><td>90</td><td>38</td><td>37500.50</td><td>4.50</td><td>48</td><td>Gold-Databricks</td><td>2025-04-24T19:57:26.575Z</td><td>Gold-Databricks</td><td>2025-04-24T19:57:26.575Z</td><td>2944655530</td></tr><tr><td>85</td><td>65</td><td>25000.25</td><td>5.00</td><td>36</td><td>Gold-Databricks</td><td>2025-04-24T19:57:26.575Z</td><td>Gold-Databricks</td><td>2025-04-24T19:57:26.575Z</td><td>1749183214</td></tr><tr><td>14</td><td>64</td><td>30000.50</td><td>4.00</td><td>48</td><td>Gold-Databricks</td><td>2025-04-24T19:57:26.575Z</td><td>Gold-Databricks</td><td>2025-04-24T19:57:26.575Z</td><td>2167198012</td></tr><tr><td>40</td><td>19</td><td>37500.00</td><td>3.00</td><td>24</td><td>Gold-Databricks</td><td>2025-04-24T19:57:26.575Z</td><td>Gold-Databricks</td><td>2025-04-24T19:57:26.575Z</td><td>570153790</td></tr><tr><td>76</td><td>22</td><td>17500.00</td><td>3.50</td><td>24</td><td>Gold-Databricks</td><td>2025-04-24T19:57:26.575Z</td><td>Gold-Databricks</td><td>2025-04-24T19:57:26.575Z</td><td>1536261426</td></tr><tr><td>19</td><td>76</td><td>32500.75</td><td>6.00</td><td>60</td><td>Gold-Databricks</td><td>2025-04-24T19:57:26.575Z</td><td>Gold-Databricks</td><td>2025-04-24T19:57:26.575Z</td><td>848911239</td></tr><tr><td>81</td><td>70</td><td>10000.25</td><td>5.50</td><td>36</td><td>Gold-Databricks</td><td>2025-04-24T19:57:26.575Z</td><td>Gold-Databricks</td><td>2025-04-24T19:57:26.575Z</td><td>2726906585</td></tr><tr><td>42</td><td>36</td><td>20000.50</td><td>4.50</td><td>48</td><td>Gold-Databricks</td><td>2025-04-24T19:57:26.575Z</td><td>Gold-Databricks</td><td>2025-04-24T19:57:26.575Z</td><td>2686356858</td></tr><tr><td>91</td><td>77</td><td>10000.75</td><td>6.00</td><td>60</td><td>Gold-Databricks</td><td>2025-04-24T19:57:26.575Z</td><td>Gold-Databricks</td><td>2025-04-24T19:57:26.575Z</td><td>3349540278</td></tr><tr><td>5</td><td>56</td><td>25000.00</td><td>5.00</td><td>36</td><td>Gold-Databricks</td><td>2025-04-24T19:57:26.575Z</td><td>Gold-Databricks</td><td>2025-04-24T19:57:26.575Z</td><td>1867834730</td></tr><tr><td>39</td><td>74</td><td>32500.75</td><td>6.50</td><td>60</td><td>Gold-Databricks</td><td>2025-04-24T19:57:26.575Z</td><td>Gold-Databricks</td><td>2025-04-24T19:57:26.575Z</td><td>16829702</td></tr><tr><td>11</td><td>3</td><td>10000.75</td><td>6.00</td><td>60</td><td>Gold-Databricks</td><td>2025-04-24T19:57:26.575Z</td><td>Gold-Databricks</td><td>2025-04-24T19:57:26.575Z</td><td>2179146733</td></tr><tr><td>35</td><td>62</td><td>25000.75</td><td>6.00</td><td>60</td><td>Gold-Databricks</td><td>2025-04-24T19:57:26.575Z</td><td>Gold-Databricks</td><td>2025-04-24T19:57:26.575Z</td><td>965333043</td></tr><tr><td>34</td><td>41</td><td>30000.50</td><td>4.50</td><td>48</td><td>Gold-Databricks</td><td>2025-04-24T19:57:26.575Z</td><td>Gold-Databricks</td><td>2025-04-24T19:57:26.575Z</td><td>4228268298</td></tr></tbody></table></div>"
      ]
     },
     "metadata": {
      "application/vnd.databricks.v1+output": {
       "addedWidgets": {},
       "aggData": [],
       "aggError": "",
       "aggOverflow": false,
       "aggSchema": [],
       "aggSeriesLimitReached": false,
       "aggType": "",
       "arguments": {},
       "columnCustomDisplayInfos": {},
       "data": [
        [
         54,
         42,
         "30000.50",
         "4.00",
         48,
         "Gold-Databricks",
         "2025-04-24T19:57:26.575Z",
         "Gold-Databricks",
         "2025-04-24T19:57:26.575Z",
         345409227
        ],
        [
         29,
         58,
         "32500.25",
         "5.00",
         36,
         "Gold-Databricks",
         "2025-04-24T19:57:26.575Z",
         "Gold-Databricks",
         "2025-04-24T19:57:26.575Z",
         2207440917
        ],
        [
         72,
         17,
         "20000.00",
         "3.00",
         24,
         "Gold-Databricks",
         "2025-04-24T19:57:26.575Z",
         "Gold-Databricks",
         "2025-04-24T19:57:26.575Z",
         249839685
        ],
        [
         88,
         1,
         "27500.00",
         "3.00",
         24,
         "Gold-Databricks",
         "2025-04-24T19:57:26.575Z",
         "Gold-Databricks",
         "2025-04-24T19:57:26.575Z",
         2680370733
        ],
        [
         78,
         4,
         "27500.50",
         "4.00",
         48,
         "Gold-Databricks",
         "2025-04-24T19:57:26.575Z",
         "Gold-Databricks",
         "2025-04-24T19:57:26.575Z",
         1801838765
        ],
        [
         18,
         5,
         "27500.50",
         "4.50",
         48,
         "Gold-Databricks",
         "2025-04-24T19:57:26.575Z",
         "Gold-Databricks",
         "2025-04-24T19:57:26.575Z",
         2462199601
        ],
        [
         70,
         33,
         "37500.50",
         "4.00",
         48,
         "Gold-Databricks",
         "2025-04-24T19:57:26.575Z",
         "Gold-Databricks",
         "2025-04-24T19:57:26.575Z",
         1845717833
        ],
        [
         17,
         99,
         "22500.25",
         "5.50",
         36,
         "Gold-Databricks",
         "2025-04-24T19:57:26.575Z",
         "Gold-Databricks",
         "2025-04-24T19:57:26.575Z",
         4079820486
        ],
        [
         46,
         24,
         "17500.50",
         "4.00",
         48,
         "Gold-Databricks",
         "2025-04-24T19:57:26.575Z",
         "Gold-Databricks",
         "2025-04-24T19:57:26.575Z",
         1769370360
        ],
        [
         8,
         67,
         "27500.00",
         "3.00",
         24,
         "Gold-Databricks",
         "2025-04-24T19:57:26.575Z",
         "Gold-Databricks",
         "2025-04-24T19:57:26.575Z",
         4106075248
        ],
        [
         79,
         55,
         "32500.75",
         "6.50",
         60,
         "Gold-Databricks",
         "2025-04-24T19:57:26.575Z",
         "Gold-Databricks",
         "2025-04-24T19:57:26.575Z",
         1199684142
        ],
        [
         23,
         88,
         "15000.75",
         "6.50",
         60,
         "Gold-Databricks",
         "2025-04-24T19:57:26.575Z",
         "Gold-Databricks",
         "2025-04-24T19:57:26.575Z",
         1778064991
        ],
        [
         53,
         86,
         "15000.25",
         "5.00",
         36,
         "Gold-Databricks",
         "2025-04-24T19:57:26.575Z",
         "Gold-Databricks",
         "2025-04-24T19:57:26.575Z",
         95809912
        ],
        [
         59,
         75,
         "32500.75",
         "6.00",
         60,
         "Gold-Databricks",
         "2025-04-24T19:57:26.575Z",
         "Gold-Databricks",
         "2025-04-24T19:57:26.575Z",
         1039161747
        ],
        [
         1,
         45,
         "10000.50",
         "5.50",
         36,
         "Gold-Databricks",
         "2025-04-24T19:57:26.575Z",
         "Gold-Databricks",
         "2025-04-24T19:57:26.575Z",
         2502041691
        ],
        [
         9,
         14,
         "32500.25",
         "5.50",
         36,
         "Gold-Databricks",
         "2025-04-24T19:57:26.575Z",
         "Gold-Databricks",
         "2025-04-24T19:57:26.575Z",
         3981072152
        ],
        [
         47,
         95,
         "22500.75",
         "6.50",
         60,
         "Gold-Databricks",
         "2025-04-24T19:57:26.575Z",
         "Gold-Databricks",
         "2025-04-24T19:57:26.575Z",
         2902091616
        ],
        [
         64,
         12,
         "30000.00",
         "3.00",
         24,
         "Gold-Databricks",
         "2025-04-24T19:57:26.575Z",
         "Gold-Databricks",
         "2025-04-24T19:57:26.575Z",
         83688026
        ],
        [
         96,
         48,
         "17500.00",
         "3.00",
         24,
         "Gold-Databricks",
         "2025-04-24T19:57:26.575Z",
         "Gold-Databricks",
         "2025-04-24T19:57:26.575Z",
         3208996066
        ],
        [
         27,
         94,
         "22500.75",
         "6.00",
         60,
         "Gold-Databricks",
         "2025-04-24T19:57:26.575Z",
         "Gold-Databricks",
         "2025-04-24T19:57:26.575Z",
         2416636917
        ],
        [
         84,
         40,
         "30000.00",
         "3.50",
         24,
         "Gold-Databricks",
         "2025-04-24T19:57:26.575Z",
         "Gold-Databricks",
         "2025-04-24T19:57:26.575Z",
         3326743868
        ],
        [
         56,
         28,
         "17500.00",
         "3.00",
         24,
         "Gold-Databricks",
         "2025-04-24T19:57:26.575Z",
         "Gold-Databricks",
         "2025-04-24T19:57:26.575Z",
         3768974492
        ],
        [
         86,
         21,
         "17500.50",
         "4.00",
         48,
         "Gold-Databricks",
         "2025-04-24T19:57:26.575Z",
         "Gold-Databricks",
         "2025-04-24T19:57:26.575Z",
         3548058147
        ],
        [
         50,
         31,
         "37500.50",
         "4.50",
         48,
         "Gold-Databricks",
         "2025-04-24T19:57:26.575Z",
         "Gold-Databricks",
         "2025-04-24T19:57:26.575Z",
         2402564490
        ],
        [
         33,
         85,
         "15000.25",
         "5.50",
         36,
         "Gold-Databricks",
         "2025-04-24T19:57:26.575Z",
         "Gold-Databricks",
         "2025-04-24T19:57:26.575Z",
         3626737984
        ],
        [
         4,
         34,
         "30000.25",
         "3.50",
         24,
         "Gold-Databricks",
         "2025-04-24T19:57:26.575Z",
         "Gold-Databricks",
         "2025-04-24T19:57:26.575Z",
         2847880128
        ],
        [
         16,
         18,
         "17500.00",
         "3.00",
         24,
         "Gold-Databricks",
         "2025-04-24T19:57:26.575Z",
         "Gold-Databricks",
         "2025-04-24T19:57:26.575Z",
         1224054208
        ],
        [
         37,
         98,
         "22500.25",
         "5.00",
         36,
         "Gold-Databricks",
         "2025-04-24T19:57:26.575Z",
         "Gold-Databricks",
         "2025-04-24T19:57:26.575Z",
         3168120220
        ],
        [
         62,
         35,
         "20000.50",
         "4.00",
         48,
         "Gold-Databricks",
         "2025-04-24T19:57:26.575Z",
         "Gold-Databricks",
         "2025-04-24T19:57:26.575Z",
         2629764668
        ],
        [
         93,
         79,
         "15000.25",
         "5.00",
         36,
         "Gold-Databricks",
         "2025-04-24T19:57:26.575Z",
         "Gold-Databricks",
         "2025-04-24T19:57:26.575Z",
         2461134402
        ],
        [
         49,
         57,
         "32500.25",
         "5.50",
         36,
         "Gold-Databricks",
         "2025-04-24T19:57:26.575Z",
         "Gold-Databricks",
         "2025-04-24T19:57:26.575Z",
         1962483968
        ],
        [
         31,
         71,
         "10000.75",
         "6.50",
         60,
         "Gold-Databricks",
         "2025-04-24T19:57:26.575Z",
         "Gold-Databricks",
         "2025-04-24T19:57:26.575Z",
         192986034
        ],
        [
         69,
         59,
         "32500.25",
         "5.00",
         36,
         "Gold-Databricks",
         "2025-04-24T19:57:26.575Z",
         "Gold-Databricks",
         "2025-04-24T19:57:26.575Z",
         1838491308
        ],
        [
         38,
         15,
         "27500.50",
         "4.00",
         48,
         "Gold-Databricks",
         "2025-04-24T19:57:26.575Z",
         "Gold-Databricks",
         "2025-04-24T19:57:26.575Z",
         2945825878
        ],
        [
         22,
         37,
         "20000.50",
         "4.00",
         48,
         "Gold-Databricks",
         "2025-04-24T19:57:26.575Z",
         "Gold-Databricks",
         "2025-04-24T19:57:26.575Z",
         684916720
        ],
        [
         83,
         82,
         "15000.75",
         "6.00",
         60,
         "Gold-Databricks",
         "2025-04-24T19:57:26.575Z",
         "Gold-Databricks",
         "2025-04-24T19:57:26.575Z",
         2402015606
        ],
        [
         41,
         51,
         "10000.25",
         "5.50",
         36,
         "Gold-Databricks",
         "2025-04-24T19:57:26.575Z",
         "Gold-Databricks",
         "2025-04-24T19:57:26.575Z",
         35156591
        ],
        [
         51,
         72,
         "10000.75",
         "6.00",
         60,
         "Gold-Databricks",
         "2025-04-24T19:57:26.575Z",
         "Gold-Databricks",
         "2025-04-24T19:57:26.575Z",
         3592350602
        ],
        [
         77,
         91,
         "22500.25",
         "5.00",
         36,
         "Gold-Databricks",
         "2025-04-24T19:57:26.575Z",
         "Gold-Databricks",
         "2025-04-24T19:57:26.575Z",
         1636529427
        ],
        [
         80,
         30,
         "37500.00",
         "3.00",
         24,
         "Gold-Databricks",
         "2025-04-24T19:57:26.575Z",
         "Gold-Databricks",
         "2025-04-24T19:57:26.575Z",
         3760375475
        ],
        [
         99,
         80,
         "32500.75",
         "6.00",
         60,
         "Gold-Databricks",
         "2025-04-24T19:57:26.575Z",
         "Gold-Databricks",
         "2025-04-24T19:57:26.575Z",
         2026085426
        ],
        [
         97,
         90,
         "22500.25",
         "5.50",
         36,
         "Gold-Databricks",
         "2025-04-24T19:57:26.575Z",
         "Gold-Databricks",
         "2025-04-24T19:57:26.575Z",
         3144396312
        ],
        [
         63,
         84,
         "15000.75",
         "6.50",
         60,
         "Gold-Databricks",
         "2025-04-24T19:57:26.575Z",
         "Gold-Databricks",
         "2025-04-24T19:57:26.575Z",
         805742781
        ],
        [
         32,
         9,
         "20000.00",
         "3.00",
         24,
         "Gold-Databricks",
         "2025-04-24T19:57:26.575Z",
         "Gold-Databricks",
         "2025-04-24T19:57:26.575Z",
         101795810
        ],
        [
         58,
         16,
         "27500.50",
         "4.50",
         48,
         "Gold-Databricks",
         "2025-04-24T19:57:26.575Z",
         "Gold-Databricks",
         "2025-04-24T19:57:26.575Z",
         1191541655
        ],
        [
         36,
         27,
         "17500.00",
         "3.50",
         24,
         "Gold-Databricks",
         "2025-04-24T19:57:26.575Z",
         "Gold-Databricks",
         "2025-04-24T19:57:26.575Z",
         2458878630
        ],
        [
         66,
         26,
         "17500.50",
         "4.50",
         48,
         "Gold-Databricks",
         "2025-04-24T19:57:26.575Z",
         "Gold-Databricks",
         "2025-04-24T19:57:26.575Z",
         2285969467
        ],
        [
         67,
         96,
         "22500.75",
         "6.00",
         60,
         "Gold-Databricks",
         "2025-04-24T19:57:26.575Z",
         "Gold-Databricks",
         "2025-04-24T19:57:26.575Z",
         40636567
        ],
        [
         45,
         68,
         "25000.25",
         "5.00",
         36,
         "Gold-Databricks",
         "2025-04-24T19:57:26.575Z",
         "Gold-Databricks",
         "2025-04-24T19:57:26.575Z",
         1252029156
        ],
        [
         74,
         43,
         "30000.50",
         "4.50",
         48,
         "Gold-Databricks",
         "2025-04-24T19:57:26.575Z",
         "Gold-Databricks",
         "2025-04-24T19:57:26.575Z",
         1215019206
        ],
        [
         13,
         29,
         "15000.25",
         "5.00",
         36,
         "Gold-Databricks",
         "2025-04-24T19:57:26.575Z",
         "Gold-Databricks",
         "2025-04-24T19:57:26.575Z",
         1193680727
        ],
        [
         75,
         61,
         "25000.75",
         "6.00",
         60,
         "Gold-Databricks",
         "2025-04-24T19:57:26.575Z",
         "Gold-Databricks",
         "2025-04-24T19:57:26.575Z",
         920703527
        ],
        [
         60,
         20,
         "37500.00",
         "3.50",
         24,
         "Gold-Databricks",
         "2025-04-24T19:57:26.575Z",
         "Gold-Databricks",
         "2025-04-24T19:57:26.575Z",
         1533285253
        ],
        [
         95,
         60,
         "25000.75",
         "6.50",
         60,
         "Gold-Databricks",
         "2025-04-24T19:57:26.575Z",
         "Gold-Databricks",
         "2025-04-24T19:57:26.575Z",
         3959425324
        ],
        [
         25,
         66,
         "25000.25",
         "5.50",
         36,
         "Gold-Databricks",
         "2025-04-24T19:57:26.575Z",
         "Gold-Databricks",
         "2025-04-24T19:57:26.575Z",
         549737095
        ],
        [
         61,
         52,
         "10000.25",
         "5.00",
         36,
         "Gold-Databricks",
         "2025-04-24T19:57:26.575Z",
         "Gold-Databricks",
         "2025-04-24T19:57:26.575Z",
         2894988696
        ],
        [
         12,
         81,
         "20000.00",
         "3.50",
         24,
         "Gold-Databricks",
         "2025-04-24T19:57:26.575Z",
         "Gold-Databricks",
         "2025-04-24T19:57:26.575Z",
         1426967511
        ],
        [
         44,
         13,
         "30000.00",
         "3.50",
         24,
         "Gold-Databricks",
         "2025-04-24T19:57:26.575Z",
         "Gold-Databricks",
         "2025-04-24T19:57:26.575Z",
         1476510807
        ],
        [
         24,
         11,
         "30000.00",
         "3.00",
         24,
         "Gold-Databricks",
         "2025-04-24T19:57:26.575Z",
         "Gold-Databricks",
         "2025-04-24T19:57:26.575Z",
         1829231123
        ],
        [
         26,
         25,
         "17500.50",
         "4.50",
         48,
         "Gold-Databricks",
         "2025-04-24T19:57:26.575Z",
         "Gold-Databricks",
         "2025-04-24T19:57:26.575Z",
         3787063410
        ],
        [
         28,
         7,
         "27500.00",
         "3.50",
         24,
         "Gold-Databricks",
         "2025-04-24T19:57:26.575Z",
         "Gold-Databricks",
         "2025-04-24T19:57:26.575Z",
         1591891469
        ],
        [
         2,
         12,
         "20000.75",
         "4.50",
         48,
         "Gold-Databricks",
         "2025-04-24T19:57:26.575Z",
         "Gold-Databricks",
         "2025-04-24T19:57:26.575Z",
         3355992476
        ],
        [
         30,
         32,
         "37500.50",
         "4.00",
         48,
         "Gold-Databricks",
         "2025-04-24T19:57:26.575Z",
         "Gold-Databricks",
         "2025-04-24T19:57:26.575Z",
         1738866251
        ],
        [
         68,
         8,
         "27500.00",
         "3.50",
         24,
         "Gold-Databricks",
         "2025-04-24T19:57:26.575Z",
         "Gold-Databricks",
         "2025-04-24T19:57:26.575Z",
         4092520027
        ],
        [
         87,
         93,
         "22500.75",
         "6.50",
         60,
         "Gold-Databricks",
         "2025-04-24T19:57:26.575Z",
         "Gold-Databricks",
         "2025-04-24T19:57:26.575Z",
         3240117383
        ],
        [
         82,
         2,
         "20000.50",
         "4.50",
         48,
         "Gold-Databricks",
         "2025-04-24T19:57:26.575Z",
         "Gold-Databricks",
         "2025-04-24T19:57:26.575Z",
         2229680730
        ],
        [
         98,
         49,
         "27500.50",
         "4.50",
         48,
         "Gold-Databricks",
         "2025-04-24T19:57:26.575Z",
         "Gold-Databricks",
         "2025-04-24T19:57:26.575Z",
         1140069127
        ],
        [
         15,
         47,
         "25000.75",
         "6.50",
         60,
         "Gold-Databricks",
         "2025-04-24T19:57:26.575Z",
         "Gold-Databricks",
         "2025-04-24T19:57:26.575Z",
         3344653795
        ],
        [
         71,
         73,
         "10000.75",
         "6.50",
         60,
         "Gold-Databricks",
         "2025-04-24T19:57:26.575Z",
         "Gold-Databricks",
         "2025-04-24T19:57:26.575Z",
         2582010064
        ],
        [
         3,
         78,
         "15000.00",
         "6.00",
         60,
         "Gold-Databricks",
         "2025-04-24T19:57:26.575Z",
         "Gold-Databricks",
         "2025-04-24T19:57:26.575Z",
         4060872917
        ],
        [
         52,
         10,
         "20000.00",
         "3.50",
         24,
         "Gold-Databricks",
         "2025-04-24T19:57:26.575Z",
         "Gold-Databricks",
         "2025-04-24T19:57:26.575Z",
         4076642709
        ],
        [
         7,
         89,
         "22500.75",
         "6.50",
         60,
         "Gold-Databricks",
         "2025-04-24T19:57:26.575Z",
         "Gold-Databricks",
         "2025-04-24T19:57:26.575Z",
         1348082437
        ],
        [
         55,
         63,
         "25000.75",
         "6.50",
         60,
         "Gold-Databricks",
         "2025-04-24T19:57:26.575Z",
         "Gold-Databricks",
         "2025-04-24T19:57:26.575Z",
         91833510
        ],
        [
         20,
         21,
         "37500.00",
         "3.50",
         24,
         "Gold-Databricks",
         "2025-04-24T19:57:26.575Z",
         "Gold-Databricks",
         "2025-04-24T19:57:26.575Z",
         1388545671
        ],
        [
         43,
         83,
         "15000.75",
         "6.00",
         60,
         "Gold-Databricks",
         "2025-04-24T19:57:26.575Z",
         "Gold-Databricks",
         "2025-04-24T19:57:26.575Z",
         2268876881
        ],
        [
         92,
         44,
         "20000.00",
         "3.50",
         24,
         "Gold-Databricks",
         "2025-04-24T19:57:26.575Z",
         "Gold-Databricks",
         "2025-04-24T19:57:26.575Z",
         298088102
        ],
        [
         94,
         39,
         "30000.50",
         "4.00",
         48,
         "Gold-Databricks",
         "2025-04-24T19:57:26.575Z",
         "Gold-Databricks",
         "2025-04-24T19:57:26.575Z",
         833634400
        ],
        [
         21,
         53,
         "10000.25",
         "5.00",
         36,
         "Gold-Databricks",
         "2025-04-24T19:57:26.575Z",
         "Gold-Databricks",
         "2025-04-24T19:57:26.575Z",
         1116324641
        ],
        [
         10,
         92,
         "37500.50",
         "4.50",
         48,
         "Gold-Databricks",
         "2025-04-24T19:57:26.575Z",
         "Gold-Databricks",
         "2025-04-24T19:57:26.575Z",
         888718168
        ],
        [
         73,
         87,
         "15000.25",
         "5.50",
         36,
         "Gold-Databricks",
         "2025-04-24T19:57:26.575Z",
         "Gold-Databricks",
         "2025-04-24T19:57:26.575Z",
         1246577186
        ],
        [
         89,
         54,
         "32500.25",
         "5.50",
         36,
         "Gold-Databricks",
         "2025-04-24T19:57:26.575Z",
         "Gold-Databricks",
         "2025-04-24T19:57:26.575Z",
         2642439306
        ],
        [
         57,
         97,
         "22500.25",
         "5.50",
         36,
         "Gold-Databricks",
         "2025-04-24T19:57:26.575Z",
         "Gold-Databricks",
         "2025-04-24T19:57:26.575Z",
         1270770825
        ],
        [
         100,
         50,
         "37500.00",
         "3.50",
         24,
         "Gold-Databricks",
         "2025-04-24T19:57:26.575Z",
         "Gold-Databricks",
         "2025-04-24T19:57:26.575Z",
         4130867853
        ],
        [
         6,
         23,
         "17500.50",
         "4.00",
         48,
         "Gold-Databricks",
         "2025-04-24T19:57:26.575Z",
         "Gold-Databricks",
         "2025-04-24T19:57:26.575Z",
         172242294
        ],
        [
         48,
         6,
         "27500.00",
         "3.00",
         24,
         "Gold-Databricks",
         "2025-04-24T19:57:26.575Z",
         "Gold-Databricks",
         "2025-04-24T19:57:26.575Z",
         2806356369
        ],
        [
         65,
         69,
         "25000.25",
         "5.50",
         36,
         "Gold-Databricks",
         "2025-04-24T19:57:26.575Z",
         "Gold-Databricks",
         "2025-04-24T19:57:26.575Z",
         89702846
        ],
        [
         90,
         38,
         "37500.50",
         "4.50",
         48,
         "Gold-Databricks",
         "2025-04-24T19:57:26.575Z",
         "Gold-Databricks",
         "2025-04-24T19:57:26.575Z",
         2944655530
        ],
        [
         85,
         65,
         "25000.25",
         "5.00",
         36,
         "Gold-Databricks",
         "2025-04-24T19:57:26.575Z",
         "Gold-Databricks",
         "2025-04-24T19:57:26.575Z",
         1749183214
        ],
        [
         14,
         64,
         "30000.50",
         "4.00",
         48,
         "Gold-Databricks",
         "2025-04-24T19:57:26.575Z",
         "Gold-Databricks",
         "2025-04-24T19:57:26.575Z",
         2167198012
        ],
        [
         40,
         19,
         "37500.00",
         "3.00",
         24,
         "Gold-Databricks",
         "2025-04-24T19:57:26.575Z",
         "Gold-Databricks",
         "2025-04-24T19:57:26.575Z",
         570153790
        ],
        [
         76,
         22,
         "17500.00",
         "3.50",
         24,
         "Gold-Databricks",
         "2025-04-24T19:57:26.575Z",
         "Gold-Databricks",
         "2025-04-24T19:57:26.575Z",
         1536261426
        ],
        [
         19,
         76,
         "32500.75",
         "6.00",
         60,
         "Gold-Databricks",
         "2025-04-24T19:57:26.575Z",
         "Gold-Databricks",
         "2025-04-24T19:57:26.575Z",
         848911239
        ],
        [
         81,
         70,
         "10000.25",
         "5.50",
         36,
         "Gold-Databricks",
         "2025-04-24T19:57:26.575Z",
         "Gold-Databricks",
         "2025-04-24T19:57:26.575Z",
         2726906585
        ],
        [
         42,
         36,
         "20000.50",
         "4.50",
         48,
         "Gold-Databricks",
         "2025-04-24T19:57:26.575Z",
         "Gold-Databricks",
         "2025-04-24T19:57:26.575Z",
         2686356858
        ],
        [
         91,
         77,
         "10000.75",
         "6.00",
         60,
         "Gold-Databricks",
         "2025-04-24T19:57:26.575Z",
         "Gold-Databricks",
         "2025-04-24T19:57:26.575Z",
         3349540278
        ],
        [
         5,
         56,
         "25000.00",
         "5.00",
         36,
         "Gold-Databricks",
         "2025-04-24T19:57:26.575Z",
         "Gold-Databricks",
         "2025-04-24T19:57:26.575Z",
         1867834730
        ],
        [
         39,
         74,
         "32500.75",
         "6.50",
         60,
         "Gold-Databricks",
         "2025-04-24T19:57:26.575Z",
         "Gold-Databricks",
         "2025-04-24T19:57:26.575Z",
         16829702
        ],
        [
         11,
         3,
         "10000.75",
         "6.00",
         60,
         "Gold-Databricks",
         "2025-04-24T19:57:26.575Z",
         "Gold-Databricks",
         "2025-04-24T19:57:26.575Z",
         2179146733
        ],
        [
         35,
         62,
         "25000.75",
         "6.00",
         60,
         "Gold-Databricks",
         "2025-04-24T19:57:26.575Z",
         "Gold-Databricks",
         "2025-04-24T19:57:26.575Z",
         965333043
        ],
        [
         34,
         41,
         "30000.50",
         "4.50",
         48,
         "Gold-Databricks",
         "2025-04-24T19:57:26.575Z",
         "Gold-Databricks",
         "2025-04-24T19:57:26.575Z",
         4228268298
        ]
       ],
       "datasetInfos": [],
       "dbfsResultPath": null,
       "isJsonSchema": true,
       "metadata": {
        "createTempViewForImplicitDf": true,
        "dataframeName": "_sqldf",
        "executionCount": 14
       },
       "overflow": false,
       "plotOptions": {
        "customPlotOptions": {},
        "displayType": "table",
        "pivotAggregation": null,
        "pivotColumns": null,
        "xColumns": null,
        "yColumns": null
       },
       "removedWidgets": [],
       "schema": [
        {
         "metadata": "{}",
         "name": "LoanId",
         "type": "\"integer\""
        },
        {
         "metadata": "{}",
         "name": "CustomerId",
         "type": "\"integer\""
        },
        {
         "metadata": "{}",
         "name": "LoanAmount",
         "type": "\"decimal(10,2)\""
        },
        {
         "metadata": "{}",
         "name": "InterestRate",
         "type": "\"decimal(5,2)\""
        },
        {
         "metadata": "{}",
         "name": "LoanTerm",
         "type": "\"integer\""
        },
        {
         "metadata": "{}",
         "name": "CreatedBy",
         "type": "\"string\""
        },
        {
         "metadata": "{}",
         "name": "CreatedDate",
         "type": "\"timestamp\""
        },
        {
         "metadata": "{}",
         "name": "UpdatedBy",
         "type": "\"string\""
        },
        {
         "metadata": "{}",
         "name": "UpdatedDate",
         "type": "\"timestamp\""
        },
        {
         "metadata": "{}",
         "name": "Hashkey",
         "type": "\"long\""
        }
       ],
       "type": "table"
      }
     },
     "output_type": "display_data"
    }
   ],
   "source": [
    "%sql\n",
    "\n",
    "select * from loans"
   ]
  },
  {
   "cell_type": "code",
   "execution_count": 0,
   "metadata": {
    "application/vnd.databricks.v1+cell": {
     "cellMetadata": {
      "byteLimit": 2048000,
      "implicitDf": true,
      "rowLimit": 10000
     },
     "inputWidgets": {},
     "nuid": "7371c083-1227-41fd-ab32-53e6d3817876",
     "showTitle": false,
     "tableResultSettingsMap": {},
     "title": ""
    }
   },
   "outputs": [
    {
     "output_type": "display_data",
     "data": {
      "text/html": [
       "<style scoped>\n",
       "  .table-result-container {\n",
       "    max-height: 300px;\n",
       "    overflow: auto;\n",
       "  }\n",
       "  table, th, td {\n",
       "    border: 1px solid black;\n",
       "    border-collapse: collapse;\n",
       "  }\n",
       "  th, td {\n",
       "    padding: 5px;\n",
       "  }\n",
       "  th {\n",
       "    text-align: left;\n",
       "  }\n",
       "</style><div class='table-result-container'><table class='table-result'><thead style='background-color: white'><tr><th>TransactionId</th><th>AccountId</th><th>TransactionDate</th><th>TransactionAmount</th><th>TransactionType</th><th>CreatedBy</th><th>CreatedDate</th><th>UpdatedBy</th><th>UpdatedDate</th><th>Hashkey</th></tr></thead><tbody><tr><td>101</td><td>50</td><td>2024-04-09</td><td>400.25</td><td>Withdrawal</td><td>Gold-Databricks</td><td>2025-04-24T20:22:00.655Z</td><td>Gold-Databricks</td><td>2025-04-24T20:22:00.655Z</td><td>605294074</td></tr><tr><td>100</td><td>50</td><td>2024-04-09</td><td>550.25</td><td>Deposit</td><td>Gold-Databricks</td><td>2025-04-24T19:57:28.613Z</td><td>Gold-Databricks-Update</td><td>2025-04-24T20:22:00.655Z</td><td>100368312</td></tr></tbody></table></div>"
      ]
     },
     "metadata": {
      "application/vnd.databricks.v1+output": {
       "addedWidgets": {},
       "aggData": [],
       "aggError": "",
       "aggOverflow": false,
       "aggSchema": [],
       "aggSeriesLimitReached": false,
       "aggType": "",
       "arguments": {},
       "columnCustomDisplayInfos": {},
       "data": [
        [
         101,
         50,
         "2024-04-09",
         "400.25",
         "Withdrawal",
         "Gold-Databricks",
         "2025-04-24T20:22:00.655Z",
         "Gold-Databricks",
         "2025-04-24T20:22:00.655Z",
         605294074
        ],
        [
         100,
         50,
         "2024-04-09",
         "550.25",
         "Deposit",
         "Gold-Databricks",
         "2025-04-24T19:57:28.613Z",
         "Gold-Databricks-Update",
         "2025-04-24T20:22:00.655Z",
         100368312
        ]
       ],
       "datasetInfos": [],
       "dbfsResultPath": null,
       "isJsonSchema": true,
       "metadata": {
        "createTempViewForImplicitDf": true,
        "dataframeName": "_sqldf",
        "executionCount": 19
       },
       "overflow": false,
       "plotOptions": {
        "customPlotOptions": {},
        "displayType": "table",
        "pivotAggregation": null,
        "pivotColumns": null,
        "xColumns": null,
        "yColumns": null
       },
       "removedWidgets": [],
       "schema": [
        {
         "metadata": "{}",
         "name": "TransactionId",
         "type": "\"integer\""
        },
        {
         "metadata": "{}",
         "name": "AccountId",
         "type": "\"integer\""
        },
        {
         "metadata": "{}",
         "name": "TransactionDate",
         "type": "\"date\""
        },
        {
         "metadata": "{}",
         "name": "TransactionAmount",
         "type": "\"decimal(10,2)\""
        },
        {
         "metadata": "{}",
         "name": "TransactionType",
         "type": "\"string\""
        },
        {
         "metadata": "{}",
         "name": "CreatedBy",
         "type": "\"string\""
        },
        {
         "metadata": "{}",
         "name": "CreatedDate",
         "type": "\"timestamp\""
        },
        {
         "metadata": "{}",
         "name": "UpdatedBy",
         "type": "\"string\""
        },
        {
         "metadata": "{}",
         "name": "UpdatedDate",
         "type": "\"timestamp\""
        },
        {
         "metadata": "{}",
         "name": "Hashkey",
         "type": "\"long\""
        }
       ],
       "type": "table"
      }
     },
     "output_type": "display_data"
    }
   ],
   "source": [
    "%sql\n",
    "\n",
    "select * from transactions where TransactionId in (100, 101)"
   ]
  }
 ],
 "metadata": {
  "application/vnd.databricks.v1+notebook": {
   "computePreferences": null,
   "dashboards": [],
   "environmentMetadata": {
    "base_environment": "",
    "environment_version": "2"
   },
   "inputWidgetPreferences": null,
   "language": "python",
   "notebookMetadata": {
    "mostRecentlyExecutedCommandWithImplicitDF": {
     "commandId": 8973690046696393,
     "dataframes": [
      "_sqldf"
     ]
    },
    "pythonIndentUnit": 4
   },
   "notebookName": "Gold Layer Notebook",
   "widgets": {}
  },
  "language_info": {
   "name": "python"
  }
 },
 "nbformat": 4,
 "nbformat_minor": 0
}