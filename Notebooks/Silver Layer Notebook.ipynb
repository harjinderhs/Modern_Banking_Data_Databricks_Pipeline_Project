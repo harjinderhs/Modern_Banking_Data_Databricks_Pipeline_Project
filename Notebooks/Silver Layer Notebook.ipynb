{
 "cells": [
  {
   "cell_type": "code",
   "execution_count": 0,
   "metadata": {
    "application/vnd.databricks.v1+cell": {
     "cellMetadata": {
      "byteLimit": 2048000,
      "rowLimit": 10000
     },
     "inputWidgets": {},
     "nuid": "bd2b7681-dd35-4f17-bf02-7527b5c1ad80",
     "showTitle": false,
     "tableResultSettingsMap": {},
     "title": ""
    }
   },
   "outputs": [
    {
     "output_type": "execute_result",
     "data": {
      "text/plain": [
       "[SecretScope(name='adlsstgconnection')]"
      ]
     },
     "execution_count": 7,
     "metadata": {},
     "output_type": "execute_result"
    },
    {
     "output_type": "execute_result",
     "data": {
      "text/plain": [
       "[SecretMetadata(key='appid'),\n",
       " SecretMetadata(key='appsecret'),\n",
       " SecretMetadata(key='azure-sqldb-password'),\n",
       " SecretMetadata(key='azure-sqldb-username'),\n",
       " SecretMetadata(key='onprem-system-password')]"
      ]
     },
     "execution_count": 8,
     "metadata": {},
     "output_type": "execute_result"
    },
    {
     "output_type": "stream",
     "name": "stdout",
     "output_type": "stream",
     "text": [
      "/mnt/project2-container is already mounted.\n"
     ]
    },
    {
     "output_type": "execute_result",
     "data": {
      "text/plain": [
       "[FileInfo(path='dbfs:/mnt/project2-container/Bronze_Layer/', name='Bronze_Layer/', size=0, modificationTime=1745394195000),\n",
       " FileInfo(path='dbfs:/mnt/project2-container/Gold_Layer/', name='Gold_Layer/', size=0, modificationTime=1745524456000),\n",
       " FileInfo(path='dbfs:/mnt/project2-container/Silver_Layer/', name='Silver_Layer/', size=0, modificationTime=1745523623000)]"
      ]
     },
     "execution_count": 10,
     "metadata": {},
     "output_type": "execute_result"
    },
    {
     "output_type": "stream",
     "name": "stdout",
     "output_type": "stream",
     "text": [
      "['accounts.csv', 'customers.csv', 'loan_payments.csv', 'loans.csv', 'transactions.csv']\n"
     ]
    }
   ],
   "source": [
    "%run \"/Workspace/Project2/MyUtilityFunctions\" "
   ]
  },
  {
   "cell_type": "code",
   "execution_count": 0,
   "metadata": {
    "application/vnd.databricks.v1+cell": {
     "cellMetadata": {
      "byteLimit": 2048000,
      "rowLimit": 10000
     },
     "inputWidgets": {},
     "nuid": "24c814c0-77a9-475b-8d93-66bcb1c78616",
     "showTitle": false,
     "tableResultSettingsMap": {},
     "title": ""
    }
   },
   "outputs": [],
   "source": [
    "# Exit notebook if the number of files in the Bronze Layer is less than 5\n",
    "\n",
    "if len(files) < 5:\n",
    "    dbutils.notebook.exit(\"Exiting because the number of files is less than 5\")"
   ]
  },
  {
   "cell_type": "code",
   "execution_count": 0,
   "metadata": {
    "application/vnd.databricks.v1+cell": {
     "cellMetadata": {
      "byteLimit": 2048000,
      "rowLimit": 10000
     },
     "inputWidgets": {},
     "nuid": "2d3f3462-51fc-4aec-93b3-46eb38141cc4",
     "showTitle": false,
     "tableResultSettingsMap": {},
     "title": ""
    }
   },
   "outputs": [
    {
     "output_type": "display_data",
     "data": {
      "text/html": [
       "<style scoped>\n",
       "  .table-result-container {\n",
       "    max-height: 300px;\n",
       "    overflow: auto;\n",
       "  }\n",
       "  table, th, td {\n",
       "    border: 1px solid black;\n",
       "    border-collapse: collapse;\n",
       "  }\n",
       "  th, td {\n",
       "    padding: 5px;\n",
       "  }\n",
       "  th {\n",
       "    text-align: left;\n",
       "  }\n",
       "</style><div class='table-result-container'><table class='table-result'><thead style='background-color: white'><tr><th>transaction_id</th><th>account_id</th><th>transaction_date</th><th>transaction_amount</th><th>transaction_type</th></tr></thead><tbody><tr><td>1</td><td>45</td><td>01-01-2024</td><td>100.5</td><td>Deposit</td></tr><tr><td>2</td><td>12</td><td>02-01-2024</td><td>200.75</td><td>Withdrawal</td></tr><tr><td>3</td><td>78</td><td>03-01-2024</td><td>150</td><td>Deposit</td></tr><tr><td>4</td><td>34</td><td>04-01-2024</td><td>300.25</td><td>Withdrawal</td></tr><tr><td>5</td><td>56</td><td>05-01-2024</td><td>250</td><td>Deposit</td></tr><tr><td>6</td><td>23</td><td>06-01-2024</td><td>175</td><td>Withdrawal</td></tr><tr><td>7</td><td>89</td><td>07-01-2024</td><td>225.5</td><td>Deposit</td></tr><tr><td>8</td><td>67</td><td>08-01-2024</td><td>275.75</td><td>Withdrawal</td></tr><tr><td>9</td><td>14</td><td>09-01-2024</td><td>325</td><td>Deposit</td></tr><tr><td>10</td><td>92</td><td>10-01-2024</td><td>375.25</td><td>Withdrawal</td></tr><tr><td>11</td><td>3</td><td>11-01-2024</td><td>100.5</td><td>Deposit</td></tr><tr><td>12</td><td>81</td><td>12-01-2024</td><td>200.75</td><td>Withdrawal</td></tr><tr><td>13</td><td>29</td><td>13-01-2024</td><td>150</td><td>Deposit</td></tr><tr><td>14</td><td>64</td><td>14-01-2024</td><td>300.25</td><td>Withdrawal</td></tr><tr><td>15</td><td>47</td><td>15-01-2024</td><td>250</td><td>Deposit</td></tr><tr><td>16</td><td>18</td><td>16-01-2024</td><td>175</td><td>Withdrawal</td></tr><tr><td>17</td><td>99</td><td>17-01-2024</td><td>225.5</td><td>Deposit</td></tr><tr><td>18</td><td>5</td><td>18-01-2024</td><td>275.75</td><td>Withdrawal</td></tr><tr><td>19</td><td>76</td><td>19-01-2024</td><td>325</td><td>Deposit</td></tr><tr><td>20</td><td>21</td><td>20-01-2024</td><td>375.25</td><td>Withdrawal</td></tr><tr><td>21</td><td>53</td><td>21-01-2024</td><td>100.5</td><td>Deposit</td></tr><tr><td>22</td><td>37</td><td>22-01-2024</td><td>200.75</td><td>Withdrawal</td></tr><tr><td>23</td><td>88</td><td>23-01-2024</td><td>150</td><td>Deposit</td></tr><tr><td>24</td><td>11</td><td>24-01-2024</td><td>300.25</td><td>Withdrawal</td></tr><tr><td>25</td><td>66</td><td>25-01-2024</td><td>250</td><td>Deposit</td></tr><tr><td>26</td><td>25</td><td>26-01-2024</td><td>175</td><td>Withdrawal</td></tr><tr><td>27</td><td>94</td><td>27-01-2024</td><td>225.5</td><td>Deposit</td></tr><tr><td>28</td><td>7</td><td>28-01-2024</td><td>275.75</td><td>Withdrawal</td></tr><tr><td>29</td><td>58</td><td>29-01-2024</td><td>325</td><td>Deposit</td></tr><tr><td>30</td><td>32</td><td>30-01-2024</td><td>375.25</td><td>Withdrawal</td></tr><tr><td>31</td><td>71</td><td>31-01-2024</td><td>100.5</td><td>Deposit</td></tr><tr><td>32</td><td>9</td><td>01-02-2024</td><td>200.75</td><td>Withdrawal</td></tr><tr><td>33</td><td>85</td><td>02-02-2024</td><td>150</td><td>Deposit</td></tr><tr><td>34</td><td>41</td><td>03-02-2024</td><td>300.25</td><td>Withdrawal</td></tr><tr><td>35</td><td>62</td><td>04-02-2024</td><td>250</td><td>Deposit</td></tr><tr><td>36</td><td>27</td><td>05-02-2024</td><td>175</td><td>Withdrawal</td></tr><tr><td>37</td><td>98</td><td>06-02-2024</td><td>225.5</td><td>Deposit</td></tr><tr><td>38</td><td>15</td><td>07-02-2024</td><td>275.75</td><td>Withdrawal</td></tr><tr><td>39</td><td>74</td><td>08-02-2024</td><td>325</td><td>Deposit</td></tr><tr><td>40</td><td>19</td><td>09-02-2024</td><td>375.25</td><td>Withdrawal</td></tr><tr><td>41</td><td>51</td><td>10-02-2024</td><td>100.5</td><td>Deposit</td></tr><tr><td>42</td><td>36</td><td>11-02-2024</td><td>200.75</td><td>Withdrawal</td></tr><tr><td>43</td><td>83</td><td>12-02-2024</td><td>150</td><td>Deposit</td></tr><tr><td>44</td><td>13</td><td>13-02-2024</td><td>300.25</td><td>Withdrawal</td></tr><tr><td>45</td><td>68</td><td>14-02-2024</td><td>250</td><td>Deposit</td></tr><tr><td>46</td><td>24</td><td>15-02-2024</td><td>175</td><td>Withdrawal</td></tr><tr><td>47</td><td>95</td><td>16-02-2024</td><td>225.5</td><td>Deposit</td></tr><tr><td>48</td><td>6</td><td>17-02-2024</td><td>275.75</td><td>Withdrawal</td></tr><tr><td>49</td><td>57</td><td>18-02-2024</td><td>325</td><td>Deposit</td></tr><tr><td>50</td><td>31</td><td>19-02-2024</td><td>375.25</td><td>Withdrawal</td></tr><tr><td>51</td><td>72</td><td>20-02-2024</td><td>100.5</td><td>Deposit</td></tr><tr><td>52</td><td>10</td><td>21-02-2024</td><td>200.75</td><td>Withdrawal</td></tr><tr><td>53</td><td>86</td><td>22-02-2024</td><td>150</td><td>Deposit</td></tr><tr><td>54</td><td>42</td><td>23-02-2024</td><td>300.25</td><td>Withdrawal</td></tr><tr><td>55</td><td>63</td><td>24-02-2024</td><td>250</td><td>Deposit</td></tr><tr><td>56</td><td>28</td><td>25-02-2024</td><td>175</td><td>Withdrawal</td></tr><tr><td>57</td><td>97</td><td>26-02-2024</td><td>225.5</td><td>Deposit</td></tr><tr><td>58</td><td>16</td><td>27-02-2024</td><td>275.75</td><td>Withdrawal</td></tr><tr><td>59</td><td>75</td><td>28-02-2024</td><td>325</td><td>Deposit</td></tr><tr><td>60</td><td>20</td><td>29-02-2024</td><td>375.25</td><td>Withdrawal</td></tr><tr><td>61</td><td>52</td><td>01-03-2024</td><td>100.5</td><td>Deposit</td></tr><tr><td>62</td><td>35</td><td>02-03-2024</td><td>200.75</td><td>Withdrawal</td></tr><tr><td>63</td><td>84</td><td>03-03-2024</td><td>150</td><td>Deposit</td></tr><tr><td>64</td><td>12</td><td>04-03-2024</td><td>300.25</td><td>Withdrawal</td></tr><tr><td>65</td><td>69</td><td>05-03-2024</td><td>250</td><td>Deposit</td></tr><tr><td>66</td><td>26</td><td>06-03-2024</td><td>175</td><td>Withdrawal</td></tr><tr><td>67</td><td>96</td><td>07-03-2024</td><td>225.5</td><td>Deposit</td></tr><tr><td>68</td><td>8</td><td>08-03-2024</td><td>275.75</td><td>Withdrawal</td></tr><tr><td>69</td><td>59</td><td>09-03-2024</td><td>325</td><td>Deposit</td></tr><tr><td>70</td><td>33</td><td>10-03-2024</td><td>375.25</td><td>Withdrawal</td></tr><tr><td>71</td><td>73</td><td>11-03-2024</td><td>100.5</td><td>Deposit</td></tr><tr><td>72</td><td>17</td><td>12-03-2024</td><td>200.75</td><td>Withdrawal</td></tr><tr><td>73</td><td>87</td><td>13-03-2024</td><td>150</td><td>Deposit</td></tr><tr><td>74</td><td>43</td><td>14-03-2024</td><td>300.25</td><td>Withdrawal</td></tr><tr><td>75</td><td>61</td><td>15-03-2024</td><td>250</td><td>Deposit</td></tr><tr><td>76</td><td>22</td><td>16-03-2024</td><td>175</td><td>Withdrawal</td></tr><tr><td>77</td><td>91</td><td>17-03-2024</td><td>225.5</td><td>Deposit</td></tr><tr><td>78</td><td>4</td><td>18-03-2024</td><td>275.75</td><td>Withdrawal</td></tr><tr><td>79</td><td>55</td><td>19-03-2024</td><td>325</td><td>Deposit</td></tr><tr><td>80</td><td>30</td><td>20-03-2024</td><td>375.25</td><td>Withdrawal</td></tr><tr><td>81</td><td>70</td><td>21-03-2024</td><td>100.5</td><td>Deposit</td></tr><tr><td>82</td><td>2</td><td>22-03-2024</td><td>200.75</td><td>Withdrawal</td></tr><tr><td>83</td><td>82</td><td>23-03-2024</td><td>150</td><td>Deposit</td></tr><tr><td>84</td><td>40</td><td>24-03-2024</td><td>300.25</td><td>Withdrawal</td></tr><tr><td>85</td><td>65</td><td>25-03-2024</td><td>250</td><td>Deposit</td></tr><tr><td>86</td><td>21</td><td>26-03-2024</td><td>175</td><td>Withdrawal</td></tr><tr><td>87</td><td>93</td><td>27-03-2024</td><td>225.5</td><td>Deposit</td></tr><tr><td>88</td><td>1</td><td>28-03-2024</td><td>275.75</td><td>Withdrawal</td></tr><tr><td>89</td><td>54</td><td>29-03-2024</td><td>325</td><td>Deposit</td></tr><tr><td>90</td><td>38</td><td>30-03-2024</td><td>375.25</td><td>Withdrawal</td></tr><tr><td>91</td><td>77</td><td>31-03-2024</td><td>100.5</td><td>Deposit</td></tr><tr><td>92</td><td>44</td><td>01-04-2024</td><td>200.75</td><td>Withdrawal</td></tr><tr><td>93</td><td>79</td><td>02-04-2024</td><td>150</td><td>Deposit</td></tr><tr><td>94</td><td>39</td><td>03-04-2024</td><td>300.25</td><td>Withdrawal</td></tr><tr><td>95</td><td>60</td><td>04-04-2024</td><td>250</td><td>Deposit</td></tr><tr><td>96</td><td>48</td><td>05-04-2024</td><td>175</td><td>Withdrawal</td></tr><tr><td>97</td><td>90</td><td>06-04-2024</td><td>225.5</td><td>Deposit</td></tr><tr><td>98</td><td>49</td><td>07-04-2024</td><td>275.75</td><td>Withdrawal</td></tr><tr><td>99</td><td>80</td><td>08-04-2024</td><td>325</td><td>Deposit</td></tr><tr><td>100</td><td>50</td><td>09-04-2024</td><td>550.25</td><td>Deposit</td></tr><tr><td>101</td><td>50</td><td>09-04-2024</td><td>400.25</td><td>Withdrawal</td></tr></tbody></table></div>"
      ]
     },
     "metadata": {
      "application/vnd.databricks.v1+output": {
       "addedWidgets": {},
       "aggData": [],
       "aggError": "",
       "aggOverflow": false,
       "aggSchema": [],
       "aggSeriesLimitReached": false,
       "aggType": "",
       "arguments": {},
       "columnCustomDisplayInfos": {},
       "data": [
        [
         "1",
         "45",
         "01-01-2024",
         "100.5",
         "Deposit"
        ],
        [
         "2",
         "12",
         "02-01-2024",
         "200.75",
         "Withdrawal"
        ],
        [
         "3",
         "78",
         "03-01-2024",
         "150",
         "Deposit"
        ],
        [
         "4",
         "34",
         "04-01-2024",
         "300.25",
         "Withdrawal"
        ],
        [
         "5",
         "56",
         "05-01-2024",
         "250",
         "Deposit"
        ],
        [
         "6",
         "23",
         "06-01-2024",
         "175",
         "Withdrawal"
        ],
        [
         "7",
         "89",
         "07-01-2024",
         "225.5",
         "Deposit"
        ],
        [
         "8",
         "67",
         "08-01-2024",
         "275.75",
         "Withdrawal"
        ],
        [
         "9",
         "14",
         "09-01-2024",
         "325",
         "Deposit"
        ],
        [
         "10",
         "92",
         "10-01-2024",
         "375.25",
         "Withdrawal"
        ],
        [
         "11",
         "3",
         "11-01-2024",
         "100.5",
         "Deposit"
        ],
        [
         "12",
         "81",
         "12-01-2024",
         "200.75",
         "Withdrawal"
        ],
        [
         "13",
         "29",
         "13-01-2024",
         "150",
         "Deposit"
        ],
        [
         "14",
         "64",
         "14-01-2024",
         "300.25",
         "Withdrawal"
        ],
        [
         "15",
         "47",
         "15-01-2024",
         "250",
         "Deposit"
        ],
        [
         "16",
         "18",
         "16-01-2024",
         "175",
         "Withdrawal"
        ],
        [
         "17",
         "99",
         "17-01-2024",
         "225.5",
         "Deposit"
        ],
        [
         "18",
         "5",
         "18-01-2024",
         "275.75",
         "Withdrawal"
        ],
        [
         "19",
         "76",
         "19-01-2024",
         "325",
         "Deposit"
        ],
        [
         "20",
         "21",
         "20-01-2024",
         "375.25",
         "Withdrawal"
        ],
        [
         "21",
         "53",
         "21-01-2024",
         "100.5",
         "Deposit"
        ],
        [
         "22",
         "37",
         "22-01-2024",
         "200.75",
         "Withdrawal"
        ],
        [
         "23",
         "88",
         "23-01-2024",
         "150",
         "Deposit"
        ],
        [
         "24",
         "11",
         "24-01-2024",
         "300.25",
         "Withdrawal"
        ],
        [
         "25",
         "66",
         "25-01-2024",
         "250",
         "Deposit"
        ],
        [
         "26",
         "25",
         "26-01-2024",
         "175",
         "Withdrawal"
        ],
        [
         "27",
         "94",
         "27-01-2024",
         "225.5",
         "Deposit"
        ],
        [
         "28",
         "7",
         "28-01-2024",
         "275.75",
         "Withdrawal"
        ],
        [
         "29",
         "58",
         "29-01-2024",
         "325",
         "Deposit"
        ],
        [
         "30",
         "32",
         "30-01-2024",
         "375.25",
         "Withdrawal"
        ],
        [
         "31",
         "71",
         "31-01-2024",
         "100.5",
         "Deposit"
        ],
        [
         "32",
         "9",
         "01-02-2024",
         "200.75",
         "Withdrawal"
        ],
        [
         "33",
         "85",
         "02-02-2024",
         "150",
         "Deposit"
        ],
        [
         "34",
         "41",
         "03-02-2024",
         "300.25",
         "Withdrawal"
        ],
        [
         "35",
         "62",
         "04-02-2024",
         "250",
         "Deposit"
        ],
        [
         "36",
         "27",
         "05-02-2024",
         "175",
         "Withdrawal"
        ],
        [
         "37",
         "98",
         "06-02-2024",
         "225.5",
         "Deposit"
        ],
        [
         "38",
         "15",
         "07-02-2024",
         "275.75",
         "Withdrawal"
        ],
        [
         "39",
         "74",
         "08-02-2024",
         "325",
         "Deposit"
        ],
        [
         "40",
         "19",
         "09-02-2024",
         "375.25",
         "Withdrawal"
        ],
        [
         "41",
         "51",
         "10-02-2024",
         "100.5",
         "Deposit"
        ],
        [
         "42",
         "36",
         "11-02-2024",
         "200.75",
         "Withdrawal"
        ],
        [
         "43",
         "83",
         "12-02-2024",
         "150",
         "Deposit"
        ],
        [
         "44",
         "13",
         "13-02-2024",
         "300.25",
         "Withdrawal"
        ],
        [
         "45",
         "68",
         "14-02-2024",
         "250",
         "Deposit"
        ],
        [
         "46",
         "24",
         "15-02-2024",
         "175",
         "Withdrawal"
        ],
        [
         "47",
         "95",
         "16-02-2024",
         "225.5",
         "Deposit"
        ],
        [
         "48",
         "6",
         "17-02-2024",
         "275.75",
         "Withdrawal"
        ],
        [
         "49",
         "57",
         "18-02-2024",
         "325",
         "Deposit"
        ],
        [
         "50",
         "31",
         "19-02-2024",
         "375.25",
         "Withdrawal"
        ],
        [
         "51",
         "72",
         "20-02-2024",
         "100.5",
         "Deposit"
        ],
        [
         "52",
         "10",
         "21-02-2024",
         "200.75",
         "Withdrawal"
        ],
        [
         "53",
         "86",
         "22-02-2024",
         "150",
         "Deposit"
        ],
        [
         "54",
         "42",
         "23-02-2024",
         "300.25",
         "Withdrawal"
        ],
        [
         "55",
         "63",
         "24-02-2024",
         "250",
         "Deposit"
        ],
        [
         "56",
         "28",
         "25-02-2024",
         "175",
         "Withdrawal"
        ],
        [
         "57",
         "97",
         "26-02-2024",
         "225.5",
         "Deposit"
        ],
        [
         "58",
         "16",
         "27-02-2024",
         "275.75",
         "Withdrawal"
        ],
        [
         "59",
         "75",
         "28-02-2024",
         "325",
         "Deposit"
        ],
        [
         "60",
         "20",
         "29-02-2024",
         "375.25",
         "Withdrawal"
        ],
        [
         "61",
         "52",
         "01-03-2024",
         "100.5",
         "Deposit"
        ],
        [
         "62",
         "35",
         "02-03-2024",
         "200.75",
         "Withdrawal"
        ],
        [
         "63",
         "84",
         "03-03-2024",
         "150",
         "Deposit"
        ],
        [
         "64",
         "12",
         "04-03-2024",
         "300.25",
         "Withdrawal"
        ],
        [
         "65",
         "69",
         "05-03-2024",
         "250",
         "Deposit"
        ],
        [
         "66",
         "26",
         "06-03-2024",
         "175",
         "Withdrawal"
        ],
        [
         "67",
         "96",
         "07-03-2024",
         "225.5",
         "Deposit"
        ],
        [
         "68",
         "8",
         "08-03-2024",
         "275.75",
         "Withdrawal"
        ],
        [
         "69",
         "59",
         "09-03-2024",
         "325",
         "Deposit"
        ],
        [
         "70",
         "33",
         "10-03-2024",
         "375.25",
         "Withdrawal"
        ],
        [
         "71",
         "73",
         "11-03-2024",
         "100.5",
         "Deposit"
        ],
        [
         "72",
         "17",
         "12-03-2024",
         "200.75",
         "Withdrawal"
        ],
        [
         "73",
         "87",
         "13-03-2024",
         "150",
         "Deposit"
        ],
        [
         "74",
         "43",
         "14-03-2024",
         "300.25",
         "Withdrawal"
        ],
        [
         "75",
         "61",
         "15-03-2024",
         "250",
         "Deposit"
        ],
        [
         "76",
         "22",
         "16-03-2024",
         "175",
         "Withdrawal"
        ],
        [
         "77",
         "91",
         "17-03-2024",
         "225.5",
         "Deposit"
        ],
        [
         "78",
         "4",
         "18-03-2024",
         "275.75",
         "Withdrawal"
        ],
        [
         "79",
         "55",
         "19-03-2024",
         "325",
         "Deposit"
        ],
        [
         "80",
         "30",
         "20-03-2024",
         "375.25",
         "Withdrawal"
        ],
        [
         "81",
         "70",
         "21-03-2024",
         "100.5",
         "Deposit"
        ],
        [
         "82",
         "2",
         "22-03-2024",
         "200.75",
         "Withdrawal"
        ],
        [
         "83",
         "82",
         "23-03-2024",
         "150",
         "Deposit"
        ],
        [
         "84",
         "40",
         "24-03-2024",
         "300.25",
         "Withdrawal"
        ],
        [
         "85",
         "65",
         "25-03-2024",
         "250",
         "Deposit"
        ],
        [
         "86",
         "21",
         "26-03-2024",
         "175",
         "Withdrawal"
        ],
        [
         "87",
         "93",
         "27-03-2024",
         "225.5",
         "Deposit"
        ],
        [
         "88",
         "1",
         "28-03-2024",
         "275.75",
         "Withdrawal"
        ],
        [
         "89",
         "54",
         "29-03-2024",
         "325",
         "Deposit"
        ],
        [
         "90",
         "38",
         "30-03-2024",
         "375.25",
         "Withdrawal"
        ],
        [
         "91",
         "77",
         "31-03-2024",
         "100.5",
         "Deposit"
        ],
        [
         "92",
         "44",
         "01-04-2024",
         "200.75",
         "Withdrawal"
        ],
        [
         "93",
         "79",
         "02-04-2024",
         "150",
         "Deposit"
        ],
        [
         "94",
         "39",
         "03-04-2024",
         "300.25",
         "Withdrawal"
        ],
        [
         "95",
         "60",
         "04-04-2024",
         "250",
         "Deposit"
        ],
        [
         "96",
         "48",
         "05-04-2024",
         "175",
         "Withdrawal"
        ],
        [
         "97",
         "90",
         "06-04-2024",
         "225.5",
         "Deposit"
        ],
        [
         "98",
         "49",
         "07-04-2024",
         "275.75",
         "Withdrawal"
        ],
        [
         "99",
         "80",
         "08-04-2024",
         "325",
         "Deposit"
        ],
        [
         "100",
         "50",
         "09-04-2024",
         "550.25",
         "Deposit"
        ],
        [
         "101",
         "50",
         "09-04-2024",
         "400.25",
         "Withdrawal"
        ]
       ],
       "datasetInfos": [],
       "dbfsResultPath": null,
       "isJsonSchema": true,
       "metadata": {},
       "overflow": false,
       "plotOptions": {
        "customPlotOptions": {},
        "displayType": "table",
        "pivotAggregation": null,
        "pivotColumns": null,
        "xColumns": null,
        "yColumns": null
       },
       "removedWidgets": [],
       "schema": [
        {
         "metadata": "{}",
         "name": "transaction_id",
         "type": "\"string\""
        },
        {
         "metadata": "{}",
         "name": "account_id",
         "type": "\"string\""
        },
        {
         "metadata": "{}",
         "name": "transaction_date",
         "type": "\"string\""
        },
        {
         "metadata": "{}",
         "name": "transaction_amount",
         "type": "\"string\""
        },
        {
         "metadata": "{}",
         "name": "transaction_type",
         "type": "\"string\""
        }
       ],
       "type": "table"
      }
     },
     "output_type": "display_data"
    }
   ],
   "source": [
    "# Load all CSV files from Bronze Layer into a list of DataFrames\n",
    "\n",
    "raw_data_dfs=[]\n",
    "\n",
    "for i in range(0,len(files)):\n",
    "    raw_data_dfs.append(get_adls_data(get_file_path(\"Bronze_Layer\"), \"csv\", files[i]))\n",
    "\n",
    "display(raw_data_dfs[4])"
   ]
  },
  {
   "cell_type": "code",
   "execution_count": 0,
   "metadata": {
    "application/vnd.databricks.v1+cell": {
     "cellMetadata": {
      "byteLimit": 2048000,
      "rowLimit": 10000
     },
     "inputWidgets": {},
     "nuid": "d9012434-b576-43ce-b09a-366bfee9de48",
     "showTitle": false,
     "tableResultSettingsMap": {},
     "title": ""
    }
   },
   "outputs": [
    {
     "output_type": "display_data",
     "data": {
      "text/html": [
       "<style scoped>\n",
       "  .table-result-container {\n",
       "    max-height: 300px;\n",
       "    overflow: auto;\n",
       "  }\n",
       "  table, th, td {\n",
       "    border: 1px solid black;\n",
       "    border-collapse: collapse;\n",
       "  }\n",
       "  th, td {\n",
       "    padding: 5px;\n",
       "  }\n",
       "  th {\n",
       "    text-align: left;\n",
       "  }\n",
       "</style><div class='table-result-container'><table class='table-result'><thead style='background-color: white'><tr><th>transaction_id</th><th>account_id</th><th>transaction_date</th><th>transaction_amount</th><th>transaction_type</th></tr></thead><tbody><tr><td>1</td><td>45</td><td>01-01-2024</td><td>100.5</td><td>Deposit</td></tr><tr><td>2</td><td>12</td><td>02-01-2024</td><td>200.75</td><td>Withdrawal</td></tr><tr><td>3</td><td>78</td><td>03-01-2024</td><td>150</td><td>Deposit</td></tr><tr><td>4</td><td>34</td><td>04-01-2024</td><td>300.25</td><td>Withdrawal</td></tr><tr><td>5</td><td>56</td><td>05-01-2024</td><td>250</td><td>Deposit</td></tr><tr><td>6</td><td>23</td><td>06-01-2024</td><td>175</td><td>Withdrawal</td></tr><tr><td>7</td><td>89</td><td>07-01-2024</td><td>225.5</td><td>Deposit</td></tr><tr><td>8</td><td>67</td><td>08-01-2024</td><td>275.75</td><td>Withdrawal</td></tr><tr><td>9</td><td>14</td><td>09-01-2024</td><td>325</td><td>Deposit</td></tr><tr><td>10</td><td>92</td><td>10-01-2024</td><td>375.25</td><td>Withdrawal</td></tr><tr><td>11</td><td>3</td><td>11-01-2024</td><td>100.5</td><td>Deposit</td></tr><tr><td>12</td><td>81</td><td>12-01-2024</td><td>200.75</td><td>Withdrawal</td></tr><tr><td>13</td><td>29</td><td>13-01-2024</td><td>150</td><td>Deposit</td></tr><tr><td>14</td><td>64</td><td>14-01-2024</td><td>300.25</td><td>Withdrawal</td></tr><tr><td>15</td><td>47</td><td>15-01-2024</td><td>250</td><td>Deposit</td></tr><tr><td>16</td><td>18</td><td>16-01-2024</td><td>175</td><td>Withdrawal</td></tr><tr><td>17</td><td>99</td><td>17-01-2024</td><td>225.5</td><td>Deposit</td></tr><tr><td>18</td><td>5</td><td>18-01-2024</td><td>275.75</td><td>Withdrawal</td></tr><tr><td>19</td><td>76</td><td>19-01-2024</td><td>325</td><td>Deposit</td></tr><tr><td>20</td><td>21</td><td>20-01-2024</td><td>375.25</td><td>Withdrawal</td></tr><tr><td>21</td><td>53</td><td>21-01-2024</td><td>100.5</td><td>Deposit</td></tr><tr><td>22</td><td>37</td><td>22-01-2024</td><td>200.75</td><td>Withdrawal</td></tr><tr><td>23</td><td>88</td><td>23-01-2024</td><td>150</td><td>Deposit</td></tr><tr><td>24</td><td>11</td><td>24-01-2024</td><td>300.25</td><td>Withdrawal</td></tr><tr><td>25</td><td>66</td><td>25-01-2024</td><td>250</td><td>Deposit</td></tr><tr><td>26</td><td>25</td><td>26-01-2024</td><td>175</td><td>Withdrawal</td></tr><tr><td>27</td><td>94</td><td>27-01-2024</td><td>225.5</td><td>Deposit</td></tr><tr><td>28</td><td>7</td><td>28-01-2024</td><td>275.75</td><td>Withdrawal</td></tr><tr><td>29</td><td>58</td><td>29-01-2024</td><td>325</td><td>Deposit</td></tr><tr><td>30</td><td>32</td><td>30-01-2024</td><td>375.25</td><td>Withdrawal</td></tr><tr><td>31</td><td>71</td><td>31-01-2024</td><td>100.5</td><td>Deposit</td></tr><tr><td>32</td><td>9</td><td>01-02-2024</td><td>200.75</td><td>Withdrawal</td></tr><tr><td>33</td><td>85</td><td>02-02-2024</td><td>150</td><td>Deposit</td></tr><tr><td>34</td><td>41</td><td>03-02-2024</td><td>300.25</td><td>Withdrawal</td></tr><tr><td>35</td><td>62</td><td>04-02-2024</td><td>250</td><td>Deposit</td></tr><tr><td>36</td><td>27</td><td>05-02-2024</td><td>175</td><td>Withdrawal</td></tr><tr><td>37</td><td>98</td><td>06-02-2024</td><td>225.5</td><td>Deposit</td></tr><tr><td>38</td><td>15</td><td>07-02-2024</td><td>275.75</td><td>Withdrawal</td></tr><tr><td>39</td><td>74</td><td>08-02-2024</td><td>325</td><td>Deposit</td></tr><tr><td>40</td><td>19</td><td>09-02-2024</td><td>375.25</td><td>Withdrawal</td></tr><tr><td>41</td><td>51</td><td>10-02-2024</td><td>100.5</td><td>Deposit</td></tr><tr><td>42</td><td>36</td><td>11-02-2024</td><td>200.75</td><td>Withdrawal</td></tr><tr><td>43</td><td>83</td><td>12-02-2024</td><td>150</td><td>Deposit</td></tr><tr><td>44</td><td>13</td><td>13-02-2024</td><td>300.25</td><td>Withdrawal</td></tr><tr><td>45</td><td>68</td><td>14-02-2024</td><td>250</td><td>Deposit</td></tr><tr><td>46</td><td>24</td><td>15-02-2024</td><td>175</td><td>Withdrawal</td></tr><tr><td>47</td><td>95</td><td>16-02-2024</td><td>225.5</td><td>Deposit</td></tr><tr><td>48</td><td>6</td><td>17-02-2024</td><td>275.75</td><td>Withdrawal</td></tr><tr><td>49</td><td>57</td><td>18-02-2024</td><td>325</td><td>Deposit</td></tr><tr><td>50</td><td>31</td><td>19-02-2024</td><td>375.25</td><td>Withdrawal</td></tr><tr><td>51</td><td>72</td><td>20-02-2024</td><td>100.5</td><td>Deposit</td></tr><tr><td>52</td><td>10</td><td>21-02-2024</td><td>200.75</td><td>Withdrawal</td></tr><tr><td>53</td><td>86</td><td>22-02-2024</td><td>150</td><td>Deposit</td></tr><tr><td>54</td><td>42</td><td>23-02-2024</td><td>300.25</td><td>Withdrawal</td></tr><tr><td>55</td><td>63</td><td>24-02-2024</td><td>250</td><td>Deposit</td></tr><tr><td>56</td><td>28</td><td>25-02-2024</td><td>175</td><td>Withdrawal</td></tr><tr><td>57</td><td>97</td><td>26-02-2024</td><td>225.5</td><td>Deposit</td></tr><tr><td>58</td><td>16</td><td>27-02-2024</td><td>275.75</td><td>Withdrawal</td></tr><tr><td>59</td><td>75</td><td>28-02-2024</td><td>325</td><td>Deposit</td></tr><tr><td>60</td><td>20</td><td>29-02-2024</td><td>375.25</td><td>Withdrawal</td></tr><tr><td>61</td><td>52</td><td>01-03-2024</td><td>100.5</td><td>Deposit</td></tr><tr><td>62</td><td>35</td><td>02-03-2024</td><td>200.75</td><td>Withdrawal</td></tr><tr><td>63</td><td>84</td><td>03-03-2024</td><td>150</td><td>Deposit</td></tr><tr><td>64</td><td>12</td><td>04-03-2024</td><td>300.25</td><td>Withdrawal</td></tr><tr><td>65</td><td>69</td><td>05-03-2024</td><td>250</td><td>Deposit</td></tr><tr><td>66</td><td>26</td><td>06-03-2024</td><td>175</td><td>Withdrawal</td></tr><tr><td>67</td><td>96</td><td>07-03-2024</td><td>225.5</td><td>Deposit</td></tr><tr><td>68</td><td>8</td><td>08-03-2024</td><td>275.75</td><td>Withdrawal</td></tr><tr><td>69</td><td>59</td><td>09-03-2024</td><td>325</td><td>Deposit</td></tr><tr><td>70</td><td>33</td><td>10-03-2024</td><td>375.25</td><td>Withdrawal</td></tr><tr><td>71</td><td>73</td><td>11-03-2024</td><td>100.5</td><td>Deposit</td></tr><tr><td>72</td><td>17</td><td>12-03-2024</td><td>200.75</td><td>Withdrawal</td></tr><tr><td>73</td><td>87</td><td>13-03-2024</td><td>150</td><td>Deposit</td></tr><tr><td>74</td><td>43</td><td>14-03-2024</td><td>300.25</td><td>Withdrawal</td></tr><tr><td>75</td><td>61</td><td>15-03-2024</td><td>250</td><td>Deposit</td></tr><tr><td>76</td><td>22</td><td>16-03-2024</td><td>175</td><td>Withdrawal</td></tr><tr><td>77</td><td>91</td><td>17-03-2024</td><td>225.5</td><td>Deposit</td></tr><tr><td>78</td><td>4</td><td>18-03-2024</td><td>275.75</td><td>Withdrawal</td></tr><tr><td>79</td><td>55</td><td>19-03-2024</td><td>325</td><td>Deposit</td></tr><tr><td>80</td><td>30</td><td>20-03-2024</td><td>375.25</td><td>Withdrawal</td></tr><tr><td>81</td><td>70</td><td>21-03-2024</td><td>100.5</td><td>Deposit</td></tr><tr><td>82</td><td>2</td><td>22-03-2024</td><td>200.75</td><td>Withdrawal</td></tr><tr><td>83</td><td>82</td><td>23-03-2024</td><td>150</td><td>Deposit</td></tr><tr><td>84</td><td>40</td><td>24-03-2024</td><td>300.25</td><td>Withdrawal</td></tr><tr><td>85</td><td>65</td><td>25-03-2024</td><td>250</td><td>Deposit</td></tr><tr><td>86</td><td>21</td><td>26-03-2024</td><td>175</td><td>Withdrawal</td></tr><tr><td>87</td><td>93</td><td>27-03-2024</td><td>225.5</td><td>Deposit</td></tr><tr><td>88</td><td>1</td><td>28-03-2024</td><td>275.75</td><td>Withdrawal</td></tr><tr><td>89</td><td>54</td><td>29-03-2024</td><td>325</td><td>Deposit</td></tr><tr><td>90</td><td>38</td><td>30-03-2024</td><td>375.25</td><td>Withdrawal</td></tr><tr><td>91</td><td>77</td><td>31-03-2024</td><td>100.5</td><td>Deposit</td></tr><tr><td>92</td><td>44</td><td>01-04-2024</td><td>200.75</td><td>Withdrawal</td></tr><tr><td>93</td><td>79</td><td>02-04-2024</td><td>150</td><td>Deposit</td></tr><tr><td>94</td><td>39</td><td>03-04-2024</td><td>300.25</td><td>Withdrawal</td></tr><tr><td>95</td><td>60</td><td>04-04-2024</td><td>250</td><td>Deposit</td></tr><tr><td>96</td><td>48</td><td>05-04-2024</td><td>175</td><td>Withdrawal</td></tr><tr><td>97</td><td>90</td><td>06-04-2024</td><td>225.5</td><td>Deposit</td></tr><tr><td>98</td><td>49</td><td>07-04-2024</td><td>275.75</td><td>Withdrawal</td></tr><tr><td>99</td><td>80</td><td>08-04-2024</td><td>325</td><td>Deposit</td></tr><tr><td>100</td><td>50</td><td>09-04-2024</td><td>550.25</td><td>Deposit</td></tr><tr><td>101</td><td>50</td><td>09-04-2024</td><td>400.25</td><td>Withdrawal</td></tr></tbody></table></div>"
      ]
     },
     "metadata": {
      "application/vnd.databricks.v1+output": {
       "addedWidgets": {},
       "aggData": [],
       "aggError": "",
       "aggOverflow": false,
       "aggSchema": [],
       "aggSeriesLimitReached": false,
       "aggType": "",
       "arguments": {},
       "columnCustomDisplayInfos": {},
       "data": [
        [
         "1",
         "45",
         "01-01-2024",
         "100.5",
         "Deposit"
        ],
        [
         "2",
         "12",
         "02-01-2024",
         "200.75",
         "Withdrawal"
        ],
        [
         "3",
         "78",
         "03-01-2024",
         "150",
         "Deposit"
        ],
        [
         "4",
         "34",
         "04-01-2024",
         "300.25",
         "Withdrawal"
        ],
        [
         "5",
         "56",
         "05-01-2024",
         "250",
         "Deposit"
        ],
        [
         "6",
         "23",
         "06-01-2024",
         "175",
         "Withdrawal"
        ],
        [
         "7",
         "89",
         "07-01-2024",
         "225.5",
         "Deposit"
        ],
        [
         "8",
         "67",
         "08-01-2024",
         "275.75",
         "Withdrawal"
        ],
        [
         "9",
         "14",
         "09-01-2024",
         "325",
         "Deposit"
        ],
        [
         "10",
         "92",
         "10-01-2024",
         "375.25",
         "Withdrawal"
        ],
        [
         "11",
         "3",
         "11-01-2024",
         "100.5",
         "Deposit"
        ],
        [
         "12",
         "81",
         "12-01-2024",
         "200.75",
         "Withdrawal"
        ],
        [
         "13",
         "29",
         "13-01-2024",
         "150",
         "Deposit"
        ],
        [
         "14",
         "64",
         "14-01-2024",
         "300.25",
         "Withdrawal"
        ],
        [
         "15",
         "47",
         "15-01-2024",
         "250",
         "Deposit"
        ],
        [
         "16",
         "18",
         "16-01-2024",
         "175",
         "Withdrawal"
        ],
        [
         "17",
         "99",
         "17-01-2024",
         "225.5",
         "Deposit"
        ],
        [
         "18",
         "5",
         "18-01-2024",
         "275.75",
         "Withdrawal"
        ],
        [
         "19",
         "76",
         "19-01-2024",
         "325",
         "Deposit"
        ],
        [
         "20",
         "21",
         "20-01-2024",
         "375.25",
         "Withdrawal"
        ],
        [
         "21",
         "53",
         "21-01-2024",
         "100.5",
         "Deposit"
        ],
        [
         "22",
         "37",
         "22-01-2024",
         "200.75",
         "Withdrawal"
        ],
        [
         "23",
         "88",
         "23-01-2024",
         "150",
         "Deposit"
        ],
        [
         "24",
         "11",
         "24-01-2024",
         "300.25",
         "Withdrawal"
        ],
        [
         "25",
         "66",
         "25-01-2024",
         "250",
         "Deposit"
        ],
        [
         "26",
         "25",
         "26-01-2024",
         "175",
         "Withdrawal"
        ],
        [
         "27",
         "94",
         "27-01-2024",
         "225.5",
         "Deposit"
        ],
        [
         "28",
         "7",
         "28-01-2024",
         "275.75",
         "Withdrawal"
        ],
        [
         "29",
         "58",
         "29-01-2024",
         "325",
         "Deposit"
        ],
        [
         "30",
         "32",
         "30-01-2024",
         "375.25",
         "Withdrawal"
        ],
        [
         "31",
         "71",
         "31-01-2024",
         "100.5",
         "Deposit"
        ],
        [
         "32",
         "9",
         "01-02-2024",
         "200.75",
         "Withdrawal"
        ],
        [
         "33",
         "85",
         "02-02-2024",
         "150",
         "Deposit"
        ],
        [
         "34",
         "41",
         "03-02-2024",
         "300.25",
         "Withdrawal"
        ],
        [
         "35",
         "62",
         "04-02-2024",
         "250",
         "Deposit"
        ],
        [
         "36",
         "27",
         "05-02-2024",
         "175",
         "Withdrawal"
        ],
        [
         "37",
         "98",
         "06-02-2024",
         "225.5",
         "Deposit"
        ],
        [
         "38",
         "15",
         "07-02-2024",
         "275.75",
         "Withdrawal"
        ],
        [
         "39",
         "74",
         "08-02-2024",
         "325",
         "Deposit"
        ],
        [
         "40",
         "19",
         "09-02-2024",
         "375.25",
         "Withdrawal"
        ],
        [
         "41",
         "51",
         "10-02-2024",
         "100.5",
         "Deposit"
        ],
        [
         "42",
         "36",
         "11-02-2024",
         "200.75",
         "Withdrawal"
        ],
        [
         "43",
         "83",
         "12-02-2024",
         "150",
         "Deposit"
        ],
        [
         "44",
         "13",
         "13-02-2024",
         "300.25",
         "Withdrawal"
        ],
        [
         "45",
         "68",
         "14-02-2024",
         "250",
         "Deposit"
        ],
        [
         "46",
         "24",
         "15-02-2024",
         "175",
         "Withdrawal"
        ],
        [
         "47",
         "95",
         "16-02-2024",
         "225.5",
         "Deposit"
        ],
        [
         "48",
         "6",
         "17-02-2024",
         "275.75",
         "Withdrawal"
        ],
        [
         "49",
         "57",
         "18-02-2024",
         "325",
         "Deposit"
        ],
        [
         "50",
         "31",
         "19-02-2024",
         "375.25",
         "Withdrawal"
        ],
        [
         "51",
         "72",
         "20-02-2024",
         "100.5",
         "Deposit"
        ],
        [
         "52",
         "10",
         "21-02-2024",
         "200.75",
         "Withdrawal"
        ],
        [
         "53",
         "86",
         "22-02-2024",
         "150",
         "Deposit"
        ],
        [
         "54",
         "42",
         "23-02-2024",
         "300.25",
         "Withdrawal"
        ],
        [
         "55",
         "63",
         "24-02-2024",
         "250",
         "Deposit"
        ],
        [
         "56",
         "28",
         "25-02-2024",
         "175",
         "Withdrawal"
        ],
        [
         "57",
         "97",
         "26-02-2024",
         "225.5",
         "Deposit"
        ],
        [
         "58",
         "16",
         "27-02-2024",
         "275.75",
         "Withdrawal"
        ],
        [
         "59",
         "75",
         "28-02-2024",
         "325",
         "Deposit"
        ],
        [
         "60",
         "20",
         "29-02-2024",
         "375.25",
         "Withdrawal"
        ],
        [
         "61",
         "52",
         "01-03-2024",
         "100.5",
         "Deposit"
        ],
        [
         "62",
         "35",
         "02-03-2024",
         "200.75",
         "Withdrawal"
        ],
        [
         "63",
         "84",
         "03-03-2024",
         "150",
         "Deposit"
        ],
        [
         "64",
         "12",
         "04-03-2024",
         "300.25",
         "Withdrawal"
        ],
        [
         "65",
         "69",
         "05-03-2024",
         "250",
         "Deposit"
        ],
        [
         "66",
         "26",
         "06-03-2024",
         "175",
         "Withdrawal"
        ],
        [
         "67",
         "96",
         "07-03-2024",
         "225.5",
         "Deposit"
        ],
        [
         "68",
         "8",
         "08-03-2024",
         "275.75",
         "Withdrawal"
        ],
        [
         "69",
         "59",
         "09-03-2024",
         "325",
         "Deposit"
        ],
        [
         "70",
         "33",
         "10-03-2024",
         "375.25",
         "Withdrawal"
        ],
        [
         "71",
         "73",
         "11-03-2024",
         "100.5",
         "Deposit"
        ],
        [
         "72",
         "17",
         "12-03-2024",
         "200.75",
         "Withdrawal"
        ],
        [
         "73",
         "87",
         "13-03-2024",
         "150",
         "Deposit"
        ],
        [
         "74",
         "43",
         "14-03-2024",
         "300.25",
         "Withdrawal"
        ],
        [
         "75",
         "61",
         "15-03-2024",
         "250",
         "Deposit"
        ],
        [
         "76",
         "22",
         "16-03-2024",
         "175",
         "Withdrawal"
        ],
        [
         "77",
         "91",
         "17-03-2024",
         "225.5",
         "Deposit"
        ],
        [
         "78",
         "4",
         "18-03-2024",
         "275.75",
         "Withdrawal"
        ],
        [
         "79",
         "55",
         "19-03-2024",
         "325",
         "Deposit"
        ],
        [
         "80",
         "30",
         "20-03-2024",
         "375.25",
         "Withdrawal"
        ],
        [
         "81",
         "70",
         "21-03-2024",
         "100.5",
         "Deposit"
        ],
        [
         "82",
         "2",
         "22-03-2024",
         "200.75",
         "Withdrawal"
        ],
        [
         "83",
         "82",
         "23-03-2024",
         "150",
         "Deposit"
        ],
        [
         "84",
         "40",
         "24-03-2024",
         "300.25",
         "Withdrawal"
        ],
        [
         "85",
         "65",
         "25-03-2024",
         "250",
         "Deposit"
        ],
        [
         "86",
         "21",
         "26-03-2024",
         "175",
         "Withdrawal"
        ],
        [
         "87",
         "93",
         "27-03-2024",
         "225.5",
         "Deposit"
        ],
        [
         "88",
         "1",
         "28-03-2024",
         "275.75",
         "Withdrawal"
        ],
        [
         "89",
         "54",
         "29-03-2024",
         "325",
         "Deposit"
        ],
        [
         "90",
         "38",
         "30-03-2024",
         "375.25",
         "Withdrawal"
        ],
        [
         "91",
         "77",
         "31-03-2024",
         "100.5",
         "Deposit"
        ],
        [
         "92",
         "44",
         "01-04-2024",
         "200.75",
         "Withdrawal"
        ],
        [
         "93",
         "79",
         "02-04-2024",
         "150",
         "Deposit"
        ],
        [
         "94",
         "39",
         "03-04-2024",
         "300.25",
         "Withdrawal"
        ],
        [
         "95",
         "60",
         "04-04-2024",
         "250",
         "Deposit"
        ],
        [
         "96",
         "48",
         "05-04-2024",
         "175",
         "Withdrawal"
        ],
        [
         "97",
         "90",
         "06-04-2024",
         "225.5",
         "Deposit"
        ],
        [
         "98",
         "49",
         "07-04-2024",
         "275.75",
         "Withdrawal"
        ],
        [
         "99",
         "80",
         "08-04-2024",
         "325",
         "Deposit"
        ],
        [
         "100",
         "50",
         "09-04-2024",
         "550.25",
         "Deposit"
        ],
        [
         "101",
         "50",
         "09-04-2024",
         "400.25",
         "Withdrawal"
        ]
       ],
       "datasetInfos": [],
       "dbfsResultPath": null,
       "isJsonSchema": true,
       "metadata": {},
       "overflow": false,
       "plotOptions": {
        "customPlotOptions": {},
        "displayType": "table",
        "pivotAggregation": null,
        "pivotColumns": null,
        "xColumns": null,
        "yColumns": null
       },
       "removedWidgets": [],
       "schema": [
        {
         "metadata": "{}",
         "name": "transaction_id",
         "type": "\"string\""
        },
        {
         "metadata": "{}",
         "name": "account_id",
         "type": "\"string\""
        },
        {
         "metadata": "{}",
         "name": "transaction_date",
         "type": "\"string\""
        },
        {
         "metadata": "{}",
         "name": "transaction_amount",
         "type": "\"string\""
        },
        {
         "metadata": "{}",
         "name": "transaction_type",
         "type": "\"string\""
        }
       ],
       "type": "table"
      }
     },
     "output_type": "display_data"
    }
   ],
   "source": [
    "#  Import trim function and define function to filter out rows with null or blank ID columns\n",
    "# Apply filters on specific ID columns from each dataset\n",
    "\n",
    "from pyspark.sql.functions import trim\n",
    "\n",
    "def get_filtered_df(df, id_column):\n",
    "    return df.filter(trim(id_column).isNotNull())\n",
    "\n",
    "filtered_dfs = []\n",
    "\n",
    "filtered_dfs.append(get_filtered_df(raw_data_dfs[0], raw_data_dfs[0].account_id))\n",
    "filtered_dfs.append(get_filtered_df(raw_data_dfs[1], raw_data_dfs[1].customer_id))\n",
    "filtered_dfs.append(get_filtered_df(raw_data_dfs[2], raw_data_dfs[2].payment_id))   \n",
    "filtered_dfs.append(get_filtered_df(raw_data_dfs[3], raw_data_dfs[3].loan_id))\n",
    "filtered_dfs.append(get_filtered_df(raw_data_dfs[4], raw_data_dfs[4].transaction_id))\n",
    "\n",
    "display(filtered_dfs[4])\n"
   ]
  },
  {
   "cell_type": "code",
   "execution_count": 0,
   "metadata": {
    "application/vnd.databricks.v1+cell": {
     "cellMetadata": {
      "byteLimit": 2048000,
      "rowLimit": 10000
     },
     "inputWidgets": {},
     "nuid": "6180bc7c-e087-4130-a8da-6216a198d2fb",
     "showTitle": false,
     "tableResultSettingsMap": {},
     "title": ""
    }
   },
   "outputs": [
    {
     "output_type": "display_data",
     "data": {
      "text/html": [
       "<style scoped>\n",
       "  .table-result-container {\n",
       "    max-height: 300px;\n",
       "    overflow: auto;\n",
       "  }\n",
       "  table, th, td {\n",
       "    border: 1px solid black;\n",
       "    border-collapse: collapse;\n",
       "  }\n",
       "  th, td {\n",
       "    padding: 5px;\n",
       "  }\n",
       "  th {\n",
       "    text-align: left;\n",
       "  }\n",
       "</style><div class='table-result-container'><table class='table-result'><thead style='background-color: white'><tr><th>transaction_id</th><th>account_id</th><th>transaction_date</th><th>transaction_amount</th><th>transaction_type</th></tr></thead><tbody><tr><td>83</td><td>82</td><td>23-03-2024</td><td>150</td><td>Deposit</td></tr><tr><td>81</td><td>70</td><td>21-03-2024</td><td>100.5</td><td>Deposit</td></tr><tr><td>90</td><td>38</td><td>30-03-2024</td><td>375.25</td><td>Withdrawal</td></tr><tr><td>23</td><td>88</td><td>23-01-2024</td><td>150</td><td>Deposit</td></tr><tr><td>93</td><td>79</td><td>02-04-2024</td><td>150</td><td>Deposit</td></tr><tr><td>69</td><td>59</td><td>09-03-2024</td><td>325</td><td>Deposit</td></tr><tr><td>61</td><td>52</td><td>01-03-2024</td><td>100.5</td><td>Deposit</td></tr><tr><td>87</td><td>93</td><td>27-03-2024</td><td>225.5</td><td>Deposit</td></tr><tr><td>17</td><td>99</td><td>17-01-2024</td><td>225.5</td><td>Deposit</td></tr><tr><td>71</td><td>73</td><td>11-03-2024</td><td>100.5</td><td>Deposit</td></tr><tr><td>91</td><td>77</td><td>31-03-2024</td><td>100.5</td><td>Deposit</td></tr><tr><td>42</td><td>36</td><td>11-02-2024</td><td>200.75</td><td>Withdrawal</td></tr><tr><td>38</td><td>15</td><td>07-02-2024</td><td>275.75</td><td>Withdrawal</td></tr><tr><td>89</td><td>54</td><td>29-03-2024</td><td>325</td><td>Deposit</td></tr><tr><td>15</td><td>47</td><td>15-01-2024</td><td>250</td><td>Deposit</td></tr><tr><td>57</td><td>97</td><td>26-02-2024</td><td>225.5</td><td>Deposit</td></tr><tr><td>95</td><td>60</td><td>04-04-2024</td><td>250</td><td>Deposit</td></tr><tr><td>79</td><td>55</td><td>19-03-2024</td><td>325</td><td>Deposit</td></tr><tr><td>80</td><td>30</td><td>20-03-2024</td><td>375.25</td><td>Withdrawal</td></tr><tr><td>1</td><td>45</td><td>01-01-2024</td><td>100.5</td><td>Deposit</td></tr><tr><td>11</td><td>3</td><td>11-01-2024</td><td>100.5</td><td>Deposit</td></tr><tr><td>78</td><td>4</td><td>18-03-2024</td><td>275.75</td><td>Withdrawal</td></tr><tr><td>67</td><td>96</td><td>07-03-2024</td><td>225.5</td><td>Deposit</td></tr><tr><td>51</td><td>72</td><td>20-02-2024</td><td>100.5</td><td>Deposit</td></tr><tr><td>21</td><td>53</td><td>21-01-2024</td><td>100.5</td><td>Deposit</td></tr><tr><td>34</td><td>41</td><td>03-02-2024</td><td>300.25</td><td>Withdrawal</td></tr><tr><td>58</td><td>16</td><td>27-02-2024</td><td>275.75</td><td>Withdrawal</td></tr><tr><td>101</td><td>50</td><td>09-04-2024</td><td>400.25</td><td>Withdrawal</td></tr><tr><td>27</td><td>94</td><td>27-01-2024</td><td>225.5</td><td>Deposit</td></tr><tr><td>5</td><td>56</td><td>05-01-2024</td><td>250</td><td>Deposit</td></tr><tr><td>3</td><td>78</td><td>03-01-2024</td><td>150</td><td>Deposit</td></tr><tr><td>26</td><td>25</td><td>26-01-2024</td><td>175</td><td>Withdrawal</td></tr><tr><td>96</td><td>48</td><td>05-04-2024</td><td>175</td><td>Withdrawal</td></tr><tr><td>98</td><td>49</td><td>07-04-2024</td><td>275.75</td><td>Withdrawal</td></tr><tr><td>92</td><td>44</td><td>01-04-2024</td><td>200.75</td><td>Withdrawal</td></tr><tr><td>100</td><td>50</td><td>09-04-2024</td><td>550.25</td><td>Deposit</td></tr><tr><td>36</td><td>27</td><td>05-02-2024</td><td>175</td><td>Withdrawal</td></tr><tr><td>60</td><td>20</td><td>29-02-2024</td><td>375.25</td><td>Withdrawal</td></tr><tr><td>45</td><td>68</td><td>14-02-2024</td><td>250</td><td>Deposit</td></tr><tr><td>94</td><td>39</td><td>03-04-2024</td><td>300.25</td><td>Withdrawal</td></tr><tr><td>18</td><td>5</td><td>18-01-2024</td><td>275.75</td><td>Withdrawal</td></tr><tr><td>32</td><td>9</td><td>01-02-2024</td><td>200.75</td><td>Withdrawal</td></tr><tr><td>33</td><td>85</td><td>02-02-2024</td><td>150</td><td>Deposit</td></tr><tr><td>10</td><td>92</td><td>10-01-2024</td><td>375.25</td><td>Withdrawal</td></tr><tr><td>70</td><td>33</td><td>10-03-2024</td><td>375.25</td><td>Withdrawal</td></tr><tr><td>19</td><td>76</td><td>19-01-2024</td><td>325</td><td>Deposit</td></tr><tr><td>43</td><td>83</td><td>12-02-2024</td><td>150</td><td>Deposit</td></tr><tr><td>55</td><td>63</td><td>24-02-2024</td><td>250</td><td>Deposit</td></tr><tr><td>73</td><td>87</td><td>13-03-2024</td><td>150</td><td>Deposit</td></tr><tr><td>22</td><td>37</td><td>22-01-2024</td><td>200.75</td><td>Withdrawal</td></tr><tr><td>86</td><td>21</td><td>26-03-2024</td><td>175</td><td>Withdrawal</td></tr><tr><td>24</td><td>11</td><td>24-01-2024</td><td>300.25</td><td>Withdrawal</td></tr><tr><td>74</td><td>43</td><td>14-03-2024</td><td>300.25</td><td>Withdrawal</td></tr><tr><td>35</td><td>62</td><td>04-02-2024</td><td>250</td><td>Deposit</td></tr><tr><td>49</td><td>57</td><td>18-02-2024</td><td>325</td><td>Deposit</td></tr><tr><td>63</td><td>84</td><td>03-03-2024</td><td>150</td><td>Deposit</td></tr><tr><td>41</td><td>51</td><td>10-02-2024</td><td>100.5</td><td>Deposit</td></tr><tr><td>97</td><td>90</td><td>06-04-2024</td><td>225.5</td><td>Deposit</td></tr><tr><td>37</td><td>98</td><td>06-02-2024</td><td>225.5</td><td>Deposit</td></tr><tr><td>6</td><td>23</td><td>06-01-2024</td><td>175</td><td>Withdrawal</td></tr><tr><td>56</td><td>28</td><td>25-02-2024</td><td>175</td><td>Withdrawal</td></tr><tr><td>99</td><td>80</td><td>08-04-2024</td><td>325</td><td>Deposit</td></tr><tr><td>9</td><td>14</td><td>09-01-2024</td><td>325</td><td>Deposit</td></tr><tr><td>64</td><td>12</td><td>04-03-2024</td><td>300.25</td><td>Withdrawal</td></tr><tr><td>20</td><td>21</td><td>20-01-2024</td><td>375.25</td><td>Withdrawal</td></tr><tr><td>12</td><td>81</td><td>12-01-2024</td><td>200.75</td><td>Withdrawal</td></tr><tr><td>82</td><td>2</td><td>22-03-2024</td><td>200.75</td><td>Withdrawal</td></tr><tr><td>25</td><td>66</td><td>25-01-2024</td><td>250</td><td>Deposit</td></tr><tr><td>88</td><td>1</td><td>28-03-2024</td><td>275.75</td><td>Withdrawal</td></tr><tr><td>65</td><td>69</td><td>05-03-2024</td><td>250</td><td>Deposit</td></tr><tr><td>8</td><td>67</td><td>08-01-2024</td><td>275.75</td><td>Withdrawal</td></tr><tr><td>62</td><td>35</td><td>02-03-2024</td><td>200.75</td><td>Withdrawal</td></tr><tr><td>50</td><td>31</td><td>19-02-2024</td><td>375.25</td><td>Withdrawal</td></tr><tr><td>66</td><td>26</td><td>06-03-2024</td><td>175</td><td>Withdrawal</td></tr><tr><td>4</td><td>34</td><td>04-01-2024</td><td>300.25</td><td>Withdrawal</td></tr><tr><td>46</td><td>24</td><td>15-02-2024</td><td>175</td><td>Withdrawal</td></tr><tr><td>13</td><td>29</td><td>13-01-2024</td><td>150</td><td>Deposit</td></tr><tr><td>28</td><td>7</td><td>28-01-2024</td><td>275.75</td><td>Withdrawal</td></tr><tr><td>30</td><td>32</td><td>30-01-2024</td><td>375.25</td><td>Withdrawal</td></tr><tr><td>53</td><td>86</td><td>22-02-2024</td><td>150</td><td>Deposit</td></tr><tr><td>52</td><td>10</td><td>21-02-2024</td><td>200.75</td><td>Withdrawal</td></tr><tr><td>14</td><td>64</td><td>14-01-2024</td><td>300.25</td><td>Withdrawal</td></tr><tr><td>29</td><td>58</td><td>29-01-2024</td><td>325</td><td>Deposit</td></tr><tr><td>44</td><td>13</td><td>13-02-2024</td><td>300.25</td><td>Withdrawal</td></tr><tr><td>7</td><td>89</td><td>07-01-2024</td><td>225.5</td><td>Deposit</td></tr><tr><td>72</td><td>17</td><td>12-03-2024</td><td>200.75</td><td>Withdrawal</td></tr><tr><td>31</td><td>71</td><td>31-01-2024</td><td>100.5</td><td>Deposit</td></tr><tr><td>76</td><td>22</td><td>16-03-2024</td><td>175</td><td>Withdrawal</td></tr><tr><td>47</td><td>95</td><td>16-02-2024</td><td>225.5</td><td>Deposit</td></tr><tr><td>54</td><td>42</td><td>23-02-2024</td><td>300.25</td><td>Withdrawal</td></tr><tr><td>2</td><td>12</td><td>02-01-2024</td><td>200.75</td><td>Withdrawal</td></tr><tr><td>77</td><td>91</td><td>17-03-2024</td><td>225.5</td><td>Deposit</td></tr><tr><td>75</td><td>61</td><td>15-03-2024</td><td>250</td><td>Deposit</td></tr><tr><td>59</td><td>75</td><td>28-02-2024</td><td>325</td><td>Deposit</td></tr><tr><td>85</td><td>65</td><td>25-03-2024</td><td>250</td><td>Deposit</td></tr><tr><td>84</td><td>40</td><td>24-03-2024</td><td>300.25</td><td>Withdrawal</td></tr><tr><td>40</td><td>19</td><td>09-02-2024</td><td>375.25</td><td>Withdrawal</td></tr><tr><td>48</td><td>6</td><td>17-02-2024</td><td>275.75</td><td>Withdrawal</td></tr><tr><td>39</td><td>74</td><td>08-02-2024</td><td>325</td><td>Deposit</td></tr><tr><td>68</td><td>8</td><td>08-03-2024</td><td>275.75</td><td>Withdrawal</td></tr><tr><td>16</td><td>18</td><td>16-01-2024</td><td>175</td><td>Withdrawal</td></tr></tbody></table></div>"
      ]
     },
     "metadata": {
      "application/vnd.databricks.v1+output": {
       "addedWidgets": {},
       "aggData": [],
       "aggError": "",
       "aggOverflow": false,
       "aggSchema": [],
       "aggSeriesLimitReached": false,
       "aggType": "",
       "arguments": {},
       "columnCustomDisplayInfos": {},
       "data": [
        [
         "83",
         "82",
         "23-03-2024",
         "150",
         "Deposit"
        ],
        [
         "81",
         "70",
         "21-03-2024",
         "100.5",
         "Deposit"
        ],
        [
         "90",
         "38",
         "30-03-2024",
         "375.25",
         "Withdrawal"
        ],
        [
         "23",
         "88",
         "23-01-2024",
         "150",
         "Deposit"
        ],
        [
         "93",
         "79",
         "02-04-2024",
         "150",
         "Deposit"
        ],
        [
         "69",
         "59",
         "09-03-2024",
         "325",
         "Deposit"
        ],
        [
         "61",
         "52",
         "01-03-2024",
         "100.5",
         "Deposit"
        ],
        [
         "87",
         "93",
         "27-03-2024",
         "225.5",
         "Deposit"
        ],
        [
         "17",
         "99",
         "17-01-2024",
         "225.5",
         "Deposit"
        ],
        [
         "71",
         "73",
         "11-03-2024",
         "100.5",
         "Deposit"
        ],
        [
         "91",
         "77",
         "31-03-2024",
         "100.5",
         "Deposit"
        ],
        [
         "42",
         "36",
         "11-02-2024",
         "200.75",
         "Withdrawal"
        ],
        [
         "38",
         "15",
         "07-02-2024",
         "275.75",
         "Withdrawal"
        ],
        [
         "89",
         "54",
         "29-03-2024",
         "325",
         "Deposit"
        ],
        [
         "15",
         "47",
         "15-01-2024",
         "250",
         "Deposit"
        ],
        [
         "57",
         "97",
         "26-02-2024",
         "225.5",
         "Deposit"
        ],
        [
         "95",
         "60",
         "04-04-2024",
         "250",
         "Deposit"
        ],
        [
         "79",
         "55",
         "19-03-2024",
         "325",
         "Deposit"
        ],
        [
         "80",
         "30",
         "20-03-2024",
         "375.25",
         "Withdrawal"
        ],
        [
         "1",
         "45",
         "01-01-2024",
         "100.5",
         "Deposit"
        ],
        [
         "11",
         "3",
         "11-01-2024",
         "100.5",
         "Deposit"
        ],
        [
         "78",
         "4",
         "18-03-2024",
         "275.75",
         "Withdrawal"
        ],
        [
         "67",
         "96",
         "07-03-2024",
         "225.5",
         "Deposit"
        ],
        [
         "51",
         "72",
         "20-02-2024",
         "100.5",
         "Deposit"
        ],
        [
         "21",
         "53",
         "21-01-2024",
         "100.5",
         "Deposit"
        ],
        [
         "34",
         "41",
         "03-02-2024",
         "300.25",
         "Withdrawal"
        ],
        [
         "58",
         "16",
         "27-02-2024",
         "275.75",
         "Withdrawal"
        ],
        [
         "101",
         "50",
         "09-04-2024",
         "400.25",
         "Withdrawal"
        ],
        [
         "27",
         "94",
         "27-01-2024",
         "225.5",
         "Deposit"
        ],
        [
         "5",
         "56",
         "05-01-2024",
         "250",
         "Deposit"
        ],
        [
         "3",
         "78",
         "03-01-2024",
         "150",
         "Deposit"
        ],
        [
         "26",
         "25",
         "26-01-2024",
         "175",
         "Withdrawal"
        ],
        [
         "96",
         "48",
         "05-04-2024",
         "175",
         "Withdrawal"
        ],
        [
         "98",
         "49",
         "07-04-2024",
         "275.75",
         "Withdrawal"
        ],
        [
         "92",
         "44",
         "01-04-2024",
         "200.75",
         "Withdrawal"
        ],
        [
         "100",
         "50",
         "09-04-2024",
         "550.25",
         "Deposit"
        ],
        [
         "36",
         "27",
         "05-02-2024",
         "175",
         "Withdrawal"
        ],
        [
         "60",
         "20",
         "29-02-2024",
         "375.25",
         "Withdrawal"
        ],
        [
         "45",
         "68",
         "14-02-2024",
         "250",
         "Deposit"
        ],
        [
         "94",
         "39",
         "03-04-2024",
         "300.25",
         "Withdrawal"
        ],
        [
         "18",
         "5",
         "18-01-2024",
         "275.75",
         "Withdrawal"
        ],
        [
         "32",
         "9",
         "01-02-2024",
         "200.75",
         "Withdrawal"
        ],
        [
         "33",
         "85",
         "02-02-2024",
         "150",
         "Deposit"
        ],
        [
         "10",
         "92",
         "10-01-2024",
         "375.25",
         "Withdrawal"
        ],
        [
         "70",
         "33",
         "10-03-2024",
         "375.25",
         "Withdrawal"
        ],
        [
         "19",
         "76",
         "19-01-2024",
         "325",
         "Deposit"
        ],
        [
         "43",
         "83",
         "12-02-2024",
         "150",
         "Deposit"
        ],
        [
         "55",
         "63",
         "24-02-2024",
         "250",
         "Deposit"
        ],
        [
         "73",
         "87",
         "13-03-2024",
         "150",
         "Deposit"
        ],
        [
         "22",
         "37",
         "22-01-2024",
         "200.75",
         "Withdrawal"
        ],
        [
         "86",
         "21",
         "26-03-2024",
         "175",
         "Withdrawal"
        ],
        [
         "24",
         "11",
         "24-01-2024",
         "300.25",
         "Withdrawal"
        ],
        [
         "74",
         "43",
         "14-03-2024",
         "300.25",
         "Withdrawal"
        ],
        [
         "35",
         "62",
         "04-02-2024",
         "250",
         "Deposit"
        ],
        [
         "49",
         "57",
         "18-02-2024",
         "325",
         "Deposit"
        ],
        [
         "63",
         "84",
         "03-03-2024",
         "150",
         "Deposit"
        ],
        [
         "41",
         "51",
         "10-02-2024",
         "100.5",
         "Deposit"
        ],
        [
         "97",
         "90",
         "06-04-2024",
         "225.5",
         "Deposit"
        ],
        [
         "37",
         "98",
         "06-02-2024",
         "225.5",
         "Deposit"
        ],
        [
         "6",
         "23",
         "06-01-2024",
         "175",
         "Withdrawal"
        ],
        [
         "56",
         "28",
         "25-02-2024",
         "175",
         "Withdrawal"
        ],
        [
         "99",
         "80",
         "08-04-2024",
         "325",
         "Deposit"
        ],
        [
         "9",
         "14",
         "09-01-2024",
         "325",
         "Deposit"
        ],
        [
         "64",
         "12",
         "04-03-2024",
         "300.25",
         "Withdrawal"
        ],
        [
         "20",
         "21",
         "20-01-2024",
         "375.25",
         "Withdrawal"
        ],
        [
         "12",
         "81",
         "12-01-2024",
         "200.75",
         "Withdrawal"
        ],
        [
         "82",
         "2",
         "22-03-2024",
         "200.75",
         "Withdrawal"
        ],
        [
         "25",
         "66",
         "25-01-2024",
         "250",
         "Deposit"
        ],
        [
         "88",
         "1",
         "28-03-2024",
         "275.75",
         "Withdrawal"
        ],
        [
         "65",
         "69",
         "05-03-2024",
         "250",
         "Deposit"
        ],
        [
         "8",
         "67",
         "08-01-2024",
         "275.75",
         "Withdrawal"
        ],
        [
         "62",
         "35",
         "02-03-2024",
         "200.75",
         "Withdrawal"
        ],
        [
         "50",
         "31",
         "19-02-2024",
         "375.25",
         "Withdrawal"
        ],
        [
         "66",
         "26",
         "06-03-2024",
         "175",
         "Withdrawal"
        ],
        [
         "4",
         "34",
         "04-01-2024",
         "300.25",
         "Withdrawal"
        ],
        [
         "46",
         "24",
         "15-02-2024",
         "175",
         "Withdrawal"
        ],
        [
         "13",
         "29",
         "13-01-2024",
         "150",
         "Deposit"
        ],
        [
         "28",
         "7",
         "28-01-2024",
         "275.75",
         "Withdrawal"
        ],
        [
         "30",
         "32",
         "30-01-2024",
         "375.25",
         "Withdrawal"
        ],
        [
         "53",
         "86",
         "22-02-2024",
         "150",
         "Deposit"
        ],
        [
         "52",
         "10",
         "21-02-2024",
         "200.75",
         "Withdrawal"
        ],
        [
         "14",
         "64",
         "14-01-2024",
         "300.25",
         "Withdrawal"
        ],
        [
         "29",
         "58",
         "29-01-2024",
         "325",
         "Deposit"
        ],
        [
         "44",
         "13",
         "13-02-2024",
         "300.25",
         "Withdrawal"
        ],
        [
         "7",
         "89",
         "07-01-2024",
         "225.5",
         "Deposit"
        ],
        [
         "72",
         "17",
         "12-03-2024",
         "200.75",
         "Withdrawal"
        ],
        [
         "31",
         "71",
         "31-01-2024",
         "100.5",
         "Deposit"
        ],
        [
         "76",
         "22",
         "16-03-2024",
         "175",
         "Withdrawal"
        ],
        [
         "47",
         "95",
         "16-02-2024",
         "225.5",
         "Deposit"
        ],
        [
         "54",
         "42",
         "23-02-2024",
         "300.25",
         "Withdrawal"
        ],
        [
         "2",
         "12",
         "02-01-2024",
         "200.75",
         "Withdrawal"
        ],
        [
         "77",
         "91",
         "17-03-2024",
         "225.5",
         "Deposit"
        ],
        [
         "75",
         "61",
         "15-03-2024",
         "250",
         "Deposit"
        ],
        [
         "59",
         "75",
         "28-02-2024",
         "325",
         "Deposit"
        ],
        [
         "85",
         "65",
         "25-03-2024",
         "250",
         "Deposit"
        ],
        [
         "84",
         "40",
         "24-03-2024",
         "300.25",
         "Withdrawal"
        ],
        [
         "40",
         "19",
         "09-02-2024",
         "375.25",
         "Withdrawal"
        ],
        [
         "48",
         "6",
         "17-02-2024",
         "275.75",
         "Withdrawal"
        ],
        [
         "39",
         "74",
         "08-02-2024",
         "325",
         "Deposit"
        ],
        [
         "68",
         "8",
         "08-03-2024",
         "275.75",
         "Withdrawal"
        ],
        [
         "16",
         "18",
         "16-01-2024",
         "175",
         "Withdrawal"
        ]
       ],
       "datasetInfos": [],
       "dbfsResultPath": null,
       "isJsonSchema": true,
       "metadata": {},
       "overflow": false,
       "plotOptions": {
        "customPlotOptions": {},
        "displayType": "table",
        "pivotAggregation": null,
        "pivotColumns": null,
        "xColumns": null,
        "yColumns": null
       },
       "removedWidgets": [],
       "schema": [
        {
         "metadata": "{}",
         "name": "transaction_id",
         "type": "\"string\""
        },
        {
         "metadata": "{}",
         "name": "account_id",
         "type": "\"string\""
        },
        {
         "metadata": "{}",
         "name": "transaction_date",
         "type": "\"string\""
        },
        {
         "metadata": "{}",
         "name": "transaction_amount",
         "type": "\"string\""
        },
        {
         "metadata": "{}",
         "name": "transaction_type",
         "type": "\"string\""
        }
       ],
       "type": "table"
      }
     },
     "output_type": "display_data"
    }
   ],
   "source": [
    "# Define function to return distinct records\n",
    "# Create a list of distinct (deduplicated) DataFrames\n",
    "\n",
    "def get_distinct_df(df):\n",
    "    return df.distinct()\n",
    "\n",
    "distinct_dfs = []\n",
    "\n",
    "for i in range(0, len(filtered_dfs)):\n",
    "    distinct_dfs.append(get_distinct_df(filtered_dfs[i]))\n",
    "\n",
    "display(distinct_dfs[4])"
   ]
  },
  {
   "cell_type": "code",
   "execution_count": 0,
   "metadata": {
    "application/vnd.databricks.v1+cell": {
     "cellMetadata": {
      "byteLimit": 2048000,
      "rowLimit": 10000
     },
     "inputWidgets": {},
     "nuid": "a55c2a45-4066-454b-9559-1432a2b12b54",
     "showTitle": false,
     "tableResultSettingsMap": {},
     "title": ""
    }
   },
   "outputs": [],
   "source": [
    "# Define dictionary to fill missing values with default placeholders\n",
    "\n",
    "fillna_values = {\n",
    "    \"accounts.csv\": \n",
    "    {\n",
    "        \"customer_id\" : \"-1\", \"account_type\": \"N/A\", \"balance\": \"-1.00\"\n",
    "    },\n",
    "    \"customers.csv\": \n",
    "    {\n",
    "        \"first_name\": \"Unknown\", \"last_name\": \"Unknown\", \"address\": \"Unknown\", \"city\": \"Unknown\", \"state\": \"Unknown\", \"zip\": \"Unknown\"\n",
    "    },\n",
    "    \"loan_payments.csv\": \n",
    "    {\n",
    "        \"loan_id\": \"-1\", \"payment_date\": \"01-01-1900\", \"payment_amount\": \"-1.00\"\n",
    "    },  \n",
    "    \"loans.csv\": \n",
    "    {\n",
    "        \"customer_id\": \"-1\", \"loan_amount\": \"-1.00\", \"interest_rate\": \"-1.00\", \"loan_term\": \"-1\"\n",
    "    },\n",
    "    \"transactions.csv\": \n",
    "    {\n",
    "        \"account_id\": \"-1\", \"transaction_date\": \"01-01-1900\", \"transaction_amount\": \"0.00\", \"transaction_type\": \"N/A\"\n",
    "    }\n",
    "}"
   ]
  },
  {
   "cell_type": "code",
   "execution_count": 0,
   "metadata": {
    "application/vnd.databricks.v1+cell": {
     "cellMetadata": {
      "byteLimit": 2048000,
      "rowLimit": 10000
     },
     "inputWidgets": {},
     "nuid": "796baf45-7768-43bf-b2bd-0ab6ae720550",
     "showTitle": false,
     "tableResultSettingsMap": {},
     "title": ""
    }
   },
   "outputs": [
    {
     "output_type": "display_data",
     "data": {
      "text/html": [
       "<style scoped>\n",
       "  .table-result-container {\n",
       "    max-height: 300px;\n",
       "    overflow: auto;\n",
       "  }\n",
       "  table, th, td {\n",
       "    border: 1px solid black;\n",
       "    border-collapse: collapse;\n",
       "  }\n",
       "  th, td {\n",
       "    padding: 5px;\n",
       "  }\n",
       "  th {\n",
       "    text-align: left;\n",
       "  }\n",
       "</style><div class='table-result-container'><table class='table-result'><thead style='background-color: white'><tr><th>transaction_id</th><th>account_id</th><th>transaction_date</th><th>transaction_amount</th><th>transaction_type</th></tr></thead><tbody><tr><td>83</td><td>82</td><td>23-03-2024</td><td>150</td><td>Deposit</td></tr><tr><td>81</td><td>70</td><td>21-03-2024</td><td>100.5</td><td>Deposit</td></tr><tr><td>90</td><td>38</td><td>30-03-2024</td><td>375.25</td><td>Withdrawal</td></tr><tr><td>23</td><td>88</td><td>23-01-2024</td><td>150</td><td>Deposit</td></tr><tr><td>93</td><td>79</td><td>02-04-2024</td><td>150</td><td>Deposit</td></tr><tr><td>69</td><td>59</td><td>09-03-2024</td><td>325</td><td>Deposit</td></tr><tr><td>61</td><td>52</td><td>01-03-2024</td><td>100.5</td><td>Deposit</td></tr><tr><td>87</td><td>93</td><td>27-03-2024</td><td>225.5</td><td>Deposit</td></tr><tr><td>17</td><td>99</td><td>17-01-2024</td><td>225.5</td><td>Deposit</td></tr><tr><td>71</td><td>73</td><td>11-03-2024</td><td>100.5</td><td>Deposit</td></tr><tr><td>91</td><td>77</td><td>31-03-2024</td><td>100.5</td><td>Deposit</td></tr><tr><td>42</td><td>36</td><td>11-02-2024</td><td>200.75</td><td>Withdrawal</td></tr><tr><td>38</td><td>15</td><td>07-02-2024</td><td>275.75</td><td>Withdrawal</td></tr><tr><td>89</td><td>54</td><td>29-03-2024</td><td>325</td><td>Deposit</td></tr><tr><td>15</td><td>47</td><td>15-01-2024</td><td>250</td><td>Deposit</td></tr><tr><td>57</td><td>97</td><td>26-02-2024</td><td>225.5</td><td>Deposit</td></tr><tr><td>95</td><td>60</td><td>04-04-2024</td><td>250</td><td>Deposit</td></tr><tr><td>79</td><td>55</td><td>19-03-2024</td><td>325</td><td>Deposit</td></tr><tr><td>80</td><td>30</td><td>20-03-2024</td><td>375.25</td><td>Withdrawal</td></tr><tr><td>1</td><td>45</td><td>01-01-2024</td><td>100.5</td><td>Deposit</td></tr><tr><td>11</td><td>3</td><td>11-01-2024</td><td>100.5</td><td>Deposit</td></tr><tr><td>78</td><td>4</td><td>18-03-2024</td><td>275.75</td><td>Withdrawal</td></tr><tr><td>67</td><td>96</td><td>07-03-2024</td><td>225.5</td><td>Deposit</td></tr><tr><td>51</td><td>72</td><td>20-02-2024</td><td>100.5</td><td>Deposit</td></tr><tr><td>21</td><td>53</td><td>21-01-2024</td><td>100.5</td><td>Deposit</td></tr><tr><td>34</td><td>41</td><td>03-02-2024</td><td>300.25</td><td>Withdrawal</td></tr><tr><td>58</td><td>16</td><td>27-02-2024</td><td>275.75</td><td>Withdrawal</td></tr><tr><td>101</td><td>50</td><td>09-04-2024</td><td>400.25</td><td>Withdrawal</td></tr><tr><td>27</td><td>94</td><td>27-01-2024</td><td>225.5</td><td>Deposit</td></tr><tr><td>5</td><td>56</td><td>05-01-2024</td><td>250</td><td>Deposit</td></tr><tr><td>3</td><td>78</td><td>03-01-2024</td><td>150</td><td>Deposit</td></tr><tr><td>26</td><td>25</td><td>26-01-2024</td><td>175</td><td>Withdrawal</td></tr><tr><td>96</td><td>48</td><td>05-04-2024</td><td>175</td><td>Withdrawal</td></tr><tr><td>98</td><td>49</td><td>07-04-2024</td><td>275.75</td><td>Withdrawal</td></tr><tr><td>92</td><td>44</td><td>01-04-2024</td><td>200.75</td><td>Withdrawal</td></tr><tr><td>100</td><td>50</td><td>09-04-2024</td><td>550.25</td><td>Deposit</td></tr><tr><td>36</td><td>27</td><td>05-02-2024</td><td>175</td><td>Withdrawal</td></tr><tr><td>60</td><td>20</td><td>29-02-2024</td><td>375.25</td><td>Withdrawal</td></tr><tr><td>45</td><td>68</td><td>14-02-2024</td><td>250</td><td>Deposit</td></tr><tr><td>94</td><td>39</td><td>03-04-2024</td><td>300.25</td><td>Withdrawal</td></tr><tr><td>18</td><td>5</td><td>18-01-2024</td><td>275.75</td><td>Withdrawal</td></tr><tr><td>32</td><td>9</td><td>01-02-2024</td><td>200.75</td><td>Withdrawal</td></tr><tr><td>33</td><td>85</td><td>02-02-2024</td><td>150</td><td>Deposit</td></tr><tr><td>10</td><td>92</td><td>10-01-2024</td><td>375.25</td><td>Withdrawal</td></tr><tr><td>70</td><td>33</td><td>10-03-2024</td><td>375.25</td><td>Withdrawal</td></tr><tr><td>19</td><td>76</td><td>19-01-2024</td><td>325</td><td>Deposit</td></tr><tr><td>43</td><td>83</td><td>12-02-2024</td><td>150</td><td>Deposit</td></tr><tr><td>55</td><td>63</td><td>24-02-2024</td><td>250</td><td>Deposit</td></tr><tr><td>73</td><td>87</td><td>13-03-2024</td><td>150</td><td>Deposit</td></tr><tr><td>22</td><td>37</td><td>22-01-2024</td><td>200.75</td><td>Withdrawal</td></tr><tr><td>86</td><td>21</td><td>26-03-2024</td><td>175</td><td>Withdrawal</td></tr><tr><td>24</td><td>11</td><td>24-01-2024</td><td>300.25</td><td>Withdrawal</td></tr><tr><td>74</td><td>43</td><td>14-03-2024</td><td>300.25</td><td>Withdrawal</td></tr><tr><td>35</td><td>62</td><td>04-02-2024</td><td>250</td><td>Deposit</td></tr><tr><td>49</td><td>57</td><td>18-02-2024</td><td>325</td><td>Deposit</td></tr><tr><td>63</td><td>84</td><td>03-03-2024</td><td>150</td><td>Deposit</td></tr><tr><td>41</td><td>51</td><td>10-02-2024</td><td>100.5</td><td>Deposit</td></tr><tr><td>97</td><td>90</td><td>06-04-2024</td><td>225.5</td><td>Deposit</td></tr><tr><td>37</td><td>98</td><td>06-02-2024</td><td>225.5</td><td>Deposit</td></tr><tr><td>6</td><td>23</td><td>06-01-2024</td><td>175</td><td>Withdrawal</td></tr><tr><td>56</td><td>28</td><td>25-02-2024</td><td>175</td><td>Withdrawal</td></tr><tr><td>99</td><td>80</td><td>08-04-2024</td><td>325</td><td>Deposit</td></tr><tr><td>9</td><td>14</td><td>09-01-2024</td><td>325</td><td>Deposit</td></tr><tr><td>64</td><td>12</td><td>04-03-2024</td><td>300.25</td><td>Withdrawal</td></tr><tr><td>20</td><td>21</td><td>20-01-2024</td><td>375.25</td><td>Withdrawal</td></tr><tr><td>12</td><td>81</td><td>12-01-2024</td><td>200.75</td><td>Withdrawal</td></tr><tr><td>82</td><td>2</td><td>22-03-2024</td><td>200.75</td><td>Withdrawal</td></tr><tr><td>25</td><td>66</td><td>25-01-2024</td><td>250</td><td>Deposit</td></tr><tr><td>88</td><td>1</td><td>28-03-2024</td><td>275.75</td><td>Withdrawal</td></tr><tr><td>65</td><td>69</td><td>05-03-2024</td><td>250</td><td>Deposit</td></tr><tr><td>8</td><td>67</td><td>08-01-2024</td><td>275.75</td><td>Withdrawal</td></tr><tr><td>62</td><td>35</td><td>02-03-2024</td><td>200.75</td><td>Withdrawal</td></tr><tr><td>50</td><td>31</td><td>19-02-2024</td><td>375.25</td><td>Withdrawal</td></tr><tr><td>66</td><td>26</td><td>06-03-2024</td><td>175</td><td>Withdrawal</td></tr><tr><td>4</td><td>34</td><td>04-01-2024</td><td>300.25</td><td>Withdrawal</td></tr><tr><td>46</td><td>24</td><td>15-02-2024</td><td>175</td><td>Withdrawal</td></tr><tr><td>13</td><td>29</td><td>13-01-2024</td><td>150</td><td>Deposit</td></tr><tr><td>28</td><td>7</td><td>28-01-2024</td><td>275.75</td><td>Withdrawal</td></tr><tr><td>30</td><td>32</td><td>30-01-2024</td><td>375.25</td><td>Withdrawal</td></tr><tr><td>53</td><td>86</td><td>22-02-2024</td><td>150</td><td>Deposit</td></tr><tr><td>52</td><td>10</td><td>21-02-2024</td><td>200.75</td><td>Withdrawal</td></tr><tr><td>14</td><td>64</td><td>14-01-2024</td><td>300.25</td><td>Withdrawal</td></tr><tr><td>29</td><td>58</td><td>29-01-2024</td><td>325</td><td>Deposit</td></tr><tr><td>44</td><td>13</td><td>13-02-2024</td><td>300.25</td><td>Withdrawal</td></tr><tr><td>7</td><td>89</td><td>07-01-2024</td><td>225.5</td><td>Deposit</td></tr><tr><td>72</td><td>17</td><td>12-03-2024</td><td>200.75</td><td>Withdrawal</td></tr><tr><td>31</td><td>71</td><td>31-01-2024</td><td>100.5</td><td>Deposit</td></tr><tr><td>76</td><td>22</td><td>16-03-2024</td><td>175</td><td>Withdrawal</td></tr><tr><td>47</td><td>95</td><td>16-02-2024</td><td>225.5</td><td>Deposit</td></tr><tr><td>54</td><td>42</td><td>23-02-2024</td><td>300.25</td><td>Withdrawal</td></tr><tr><td>2</td><td>12</td><td>02-01-2024</td><td>200.75</td><td>Withdrawal</td></tr><tr><td>77</td><td>91</td><td>17-03-2024</td><td>225.5</td><td>Deposit</td></tr><tr><td>75</td><td>61</td><td>15-03-2024</td><td>250</td><td>Deposit</td></tr><tr><td>59</td><td>75</td><td>28-02-2024</td><td>325</td><td>Deposit</td></tr><tr><td>85</td><td>65</td><td>25-03-2024</td><td>250</td><td>Deposit</td></tr><tr><td>84</td><td>40</td><td>24-03-2024</td><td>300.25</td><td>Withdrawal</td></tr><tr><td>40</td><td>19</td><td>09-02-2024</td><td>375.25</td><td>Withdrawal</td></tr><tr><td>48</td><td>6</td><td>17-02-2024</td><td>275.75</td><td>Withdrawal</td></tr><tr><td>39</td><td>74</td><td>08-02-2024</td><td>325</td><td>Deposit</td></tr><tr><td>68</td><td>8</td><td>08-03-2024</td><td>275.75</td><td>Withdrawal</td></tr><tr><td>16</td><td>18</td><td>16-01-2024</td><td>175</td><td>Withdrawal</td></tr></tbody></table></div>"
      ]
     },
     "metadata": {
      "application/vnd.databricks.v1+output": {
       "addedWidgets": {},
       "aggData": [],
       "aggError": "",
       "aggOverflow": false,
       "aggSchema": [],
       "aggSeriesLimitReached": false,
       "aggType": "",
       "arguments": {},
       "columnCustomDisplayInfos": {},
       "data": [
        [
         "83",
         "82",
         "23-03-2024",
         "150",
         "Deposit"
        ],
        [
         "81",
         "70",
         "21-03-2024",
         "100.5",
         "Deposit"
        ],
        [
         "90",
         "38",
         "30-03-2024",
         "375.25",
         "Withdrawal"
        ],
        [
         "23",
         "88",
         "23-01-2024",
         "150",
         "Deposit"
        ],
        [
         "93",
         "79",
         "02-04-2024",
         "150",
         "Deposit"
        ],
        [
         "69",
         "59",
         "09-03-2024",
         "325",
         "Deposit"
        ],
        [
         "61",
         "52",
         "01-03-2024",
         "100.5",
         "Deposit"
        ],
        [
         "87",
         "93",
         "27-03-2024",
         "225.5",
         "Deposit"
        ],
        [
         "17",
         "99",
         "17-01-2024",
         "225.5",
         "Deposit"
        ],
        [
         "71",
         "73",
         "11-03-2024",
         "100.5",
         "Deposit"
        ],
        [
         "91",
         "77",
         "31-03-2024",
         "100.5",
         "Deposit"
        ],
        [
         "42",
         "36",
         "11-02-2024",
         "200.75",
         "Withdrawal"
        ],
        [
         "38",
         "15",
         "07-02-2024",
         "275.75",
         "Withdrawal"
        ],
        [
         "89",
         "54",
         "29-03-2024",
         "325",
         "Deposit"
        ],
        [
         "15",
         "47",
         "15-01-2024",
         "250",
         "Deposit"
        ],
        [
         "57",
         "97",
         "26-02-2024",
         "225.5",
         "Deposit"
        ],
        [
         "95",
         "60",
         "04-04-2024",
         "250",
         "Deposit"
        ],
        [
         "79",
         "55",
         "19-03-2024",
         "325",
         "Deposit"
        ],
        [
         "80",
         "30",
         "20-03-2024",
         "375.25",
         "Withdrawal"
        ],
        [
         "1",
         "45",
         "01-01-2024",
         "100.5",
         "Deposit"
        ],
        [
         "11",
         "3",
         "11-01-2024",
         "100.5",
         "Deposit"
        ],
        [
         "78",
         "4",
         "18-03-2024",
         "275.75",
         "Withdrawal"
        ],
        [
         "67",
         "96",
         "07-03-2024",
         "225.5",
         "Deposit"
        ],
        [
         "51",
         "72",
         "20-02-2024",
         "100.5",
         "Deposit"
        ],
        [
         "21",
         "53",
         "21-01-2024",
         "100.5",
         "Deposit"
        ],
        [
         "34",
         "41",
         "03-02-2024",
         "300.25",
         "Withdrawal"
        ],
        [
         "58",
         "16",
         "27-02-2024",
         "275.75",
         "Withdrawal"
        ],
        [
         "101",
         "50",
         "09-04-2024",
         "400.25",
         "Withdrawal"
        ],
        [
         "27",
         "94",
         "27-01-2024",
         "225.5",
         "Deposit"
        ],
        [
         "5",
         "56",
         "05-01-2024",
         "250",
         "Deposit"
        ],
        [
         "3",
         "78",
         "03-01-2024",
         "150",
         "Deposit"
        ],
        [
         "26",
         "25",
         "26-01-2024",
         "175",
         "Withdrawal"
        ],
        [
         "96",
         "48",
         "05-04-2024",
         "175",
         "Withdrawal"
        ],
        [
         "98",
         "49",
         "07-04-2024",
         "275.75",
         "Withdrawal"
        ],
        [
         "92",
         "44",
         "01-04-2024",
         "200.75",
         "Withdrawal"
        ],
        [
         "100",
         "50",
         "09-04-2024",
         "550.25",
         "Deposit"
        ],
        [
         "36",
         "27",
         "05-02-2024",
         "175",
         "Withdrawal"
        ],
        [
         "60",
         "20",
         "29-02-2024",
         "375.25",
         "Withdrawal"
        ],
        [
         "45",
         "68",
         "14-02-2024",
         "250",
         "Deposit"
        ],
        [
         "94",
         "39",
         "03-04-2024",
         "300.25",
         "Withdrawal"
        ],
        [
         "18",
         "5",
         "18-01-2024",
         "275.75",
         "Withdrawal"
        ],
        [
         "32",
         "9",
         "01-02-2024",
         "200.75",
         "Withdrawal"
        ],
        [
         "33",
         "85",
         "02-02-2024",
         "150",
         "Deposit"
        ],
        [
         "10",
         "92",
         "10-01-2024",
         "375.25",
         "Withdrawal"
        ],
        [
         "70",
         "33",
         "10-03-2024",
         "375.25",
         "Withdrawal"
        ],
        [
         "19",
         "76",
         "19-01-2024",
         "325",
         "Deposit"
        ],
        [
         "43",
         "83",
         "12-02-2024",
         "150",
         "Deposit"
        ],
        [
         "55",
         "63",
         "24-02-2024",
         "250",
         "Deposit"
        ],
        [
         "73",
         "87",
         "13-03-2024",
         "150",
         "Deposit"
        ],
        [
         "22",
         "37",
         "22-01-2024",
         "200.75",
         "Withdrawal"
        ],
        [
         "86",
         "21",
         "26-03-2024",
         "175",
         "Withdrawal"
        ],
        [
         "24",
         "11",
         "24-01-2024",
         "300.25",
         "Withdrawal"
        ],
        [
         "74",
         "43",
         "14-03-2024",
         "300.25",
         "Withdrawal"
        ],
        [
         "35",
         "62",
         "04-02-2024",
         "250",
         "Deposit"
        ],
        [
         "49",
         "57",
         "18-02-2024",
         "325",
         "Deposit"
        ],
        [
         "63",
         "84",
         "03-03-2024",
         "150",
         "Deposit"
        ],
        [
         "41",
         "51",
         "10-02-2024",
         "100.5",
         "Deposit"
        ],
        [
         "97",
         "90",
         "06-04-2024",
         "225.5",
         "Deposit"
        ],
        [
         "37",
         "98",
         "06-02-2024",
         "225.5",
         "Deposit"
        ],
        [
         "6",
         "23",
         "06-01-2024",
         "175",
         "Withdrawal"
        ],
        [
         "56",
         "28",
         "25-02-2024",
         "175",
         "Withdrawal"
        ],
        [
         "99",
         "80",
         "08-04-2024",
         "325",
         "Deposit"
        ],
        [
         "9",
         "14",
         "09-01-2024",
         "325",
         "Deposit"
        ],
        [
         "64",
         "12",
         "04-03-2024",
         "300.25",
         "Withdrawal"
        ],
        [
         "20",
         "21",
         "20-01-2024",
         "375.25",
         "Withdrawal"
        ],
        [
         "12",
         "81",
         "12-01-2024",
         "200.75",
         "Withdrawal"
        ],
        [
         "82",
         "2",
         "22-03-2024",
         "200.75",
         "Withdrawal"
        ],
        [
         "25",
         "66",
         "25-01-2024",
         "250",
         "Deposit"
        ],
        [
         "88",
         "1",
         "28-03-2024",
         "275.75",
         "Withdrawal"
        ],
        [
         "65",
         "69",
         "05-03-2024",
         "250",
         "Deposit"
        ],
        [
         "8",
         "67",
         "08-01-2024",
         "275.75",
         "Withdrawal"
        ],
        [
         "62",
         "35",
         "02-03-2024",
         "200.75",
         "Withdrawal"
        ],
        [
         "50",
         "31",
         "19-02-2024",
         "375.25",
         "Withdrawal"
        ],
        [
         "66",
         "26",
         "06-03-2024",
         "175",
         "Withdrawal"
        ],
        [
         "4",
         "34",
         "04-01-2024",
         "300.25",
         "Withdrawal"
        ],
        [
         "46",
         "24",
         "15-02-2024",
         "175",
         "Withdrawal"
        ],
        [
         "13",
         "29",
         "13-01-2024",
         "150",
         "Deposit"
        ],
        [
         "28",
         "7",
         "28-01-2024",
         "275.75",
         "Withdrawal"
        ],
        [
         "30",
         "32",
         "30-01-2024",
         "375.25",
         "Withdrawal"
        ],
        [
         "53",
         "86",
         "22-02-2024",
         "150",
         "Deposit"
        ],
        [
         "52",
         "10",
         "21-02-2024",
         "200.75",
         "Withdrawal"
        ],
        [
         "14",
         "64",
         "14-01-2024",
         "300.25",
         "Withdrawal"
        ],
        [
         "29",
         "58",
         "29-01-2024",
         "325",
         "Deposit"
        ],
        [
         "44",
         "13",
         "13-02-2024",
         "300.25",
         "Withdrawal"
        ],
        [
         "7",
         "89",
         "07-01-2024",
         "225.5",
         "Deposit"
        ],
        [
         "72",
         "17",
         "12-03-2024",
         "200.75",
         "Withdrawal"
        ],
        [
         "31",
         "71",
         "31-01-2024",
         "100.5",
         "Deposit"
        ],
        [
         "76",
         "22",
         "16-03-2024",
         "175",
         "Withdrawal"
        ],
        [
         "47",
         "95",
         "16-02-2024",
         "225.5",
         "Deposit"
        ],
        [
         "54",
         "42",
         "23-02-2024",
         "300.25",
         "Withdrawal"
        ],
        [
         "2",
         "12",
         "02-01-2024",
         "200.75",
         "Withdrawal"
        ],
        [
         "77",
         "91",
         "17-03-2024",
         "225.5",
         "Deposit"
        ],
        [
         "75",
         "61",
         "15-03-2024",
         "250",
         "Deposit"
        ],
        [
         "59",
         "75",
         "28-02-2024",
         "325",
         "Deposit"
        ],
        [
         "85",
         "65",
         "25-03-2024",
         "250",
         "Deposit"
        ],
        [
         "84",
         "40",
         "24-03-2024",
         "300.25",
         "Withdrawal"
        ],
        [
         "40",
         "19",
         "09-02-2024",
         "375.25",
         "Withdrawal"
        ],
        [
         "48",
         "6",
         "17-02-2024",
         "275.75",
         "Withdrawal"
        ],
        [
         "39",
         "74",
         "08-02-2024",
         "325",
         "Deposit"
        ],
        [
         "68",
         "8",
         "08-03-2024",
         "275.75",
         "Withdrawal"
        ],
        [
         "16",
         "18",
         "16-01-2024",
         "175",
         "Withdrawal"
        ]
       ],
       "datasetInfos": [],
       "dbfsResultPath": null,
       "isJsonSchema": true,
       "metadata": {},
       "overflow": false,
       "plotOptions": {
        "customPlotOptions": {},
        "displayType": "table",
        "pivotAggregation": null,
        "pivotColumns": null,
        "xColumns": null,
        "yColumns": null
       },
       "removedWidgets": [],
       "schema": [
        {
         "metadata": "{}",
         "name": "transaction_id",
         "type": "\"string\""
        },
        {
         "metadata": "{}",
         "name": "account_id",
         "type": "\"string\""
        },
        {
         "metadata": "{}",
         "name": "transaction_date",
         "type": "\"string\""
        },
        {
         "metadata": "{}",
         "name": "transaction_amount",
         "type": "\"string\""
        },
        {
         "metadata": "{}",
         "name": "transaction_type",
         "type": "\"string\""
        }
       ],
       "type": "table"
      }
     },
     "output_type": "display_data"
    }
   ],
   "source": [
    "# Define function to apply fillna transformation\n",
    "# Apply fillna to each distinct DataFrame using corresponding file key\n",
    "\n",
    "def get_fillna_df(df, fillna_values):\n",
    "    return df.fillna(fillna_values)\n",
    "\n",
    "fillna_dfs = []\n",
    "\n",
    "for i in range(0, len(distinct_dfs)):\n",
    "    fillna_dfs.append( get_fillna_df(distinct_dfs[i], fillna_values[files[i]]))\n",
    "   \n",
    "display(fillna_dfs[4])"
   ]
  },
  {
   "cell_type": "code",
   "execution_count": 0,
   "metadata": {
    "application/vnd.databricks.v1+cell": {
     "cellMetadata": {
      "byteLimit": 2048000,
      "rowLimit": 10000
     },
     "inputWidgets": {},
     "nuid": "e1479f3f-48c8-462f-8909-8ac8c3da3293",
     "showTitle": false,
     "tableResultSettingsMap": {},
     "title": ""
    }
   },
   "outputs": [
    {
     "output_type": "display_data",
     "data": {
      "text/html": [
       "<style scoped>\n",
       "  .table-result-container {\n",
       "    max-height: 300px;\n",
       "    overflow: auto;\n",
       "  }\n",
       "  table, th, td {\n",
       "    border: 1px solid black;\n",
       "    border-collapse: collapse;\n",
       "  }\n",
       "  th, td {\n",
       "    padding: 5px;\n",
       "  }\n",
       "  th {\n",
       "    text-align: left;\n",
       "  }\n",
       "</style><div class='table-result-container'><table class='table-result'><thead style='background-color: white'><tr><th>transaction_id</th><th>account_id</th><th>transaction_date</th><th>transaction_amount</th><th>transaction_type</th></tr></thead><tbody><tr><td>83</td><td>82</td><td>2024-03-23</td><td>150.0</td><td>Deposit</td></tr><tr><td>81</td><td>70</td><td>2024-03-21</td><td>100.5</td><td>Deposit</td></tr><tr><td>90</td><td>38</td><td>2024-03-30</td><td>375.25</td><td>Withdrawal</td></tr><tr><td>23</td><td>88</td><td>2024-01-23</td><td>150.0</td><td>Deposit</td></tr><tr><td>93</td><td>79</td><td>2024-04-02</td><td>150.0</td><td>Deposit</td></tr><tr><td>69</td><td>59</td><td>2024-03-09</td><td>325.0</td><td>Deposit</td></tr><tr><td>61</td><td>52</td><td>2024-03-01</td><td>100.5</td><td>Deposit</td></tr><tr><td>87</td><td>93</td><td>2024-03-27</td><td>225.5</td><td>Deposit</td></tr><tr><td>17</td><td>99</td><td>2024-01-17</td><td>225.5</td><td>Deposit</td></tr><tr><td>71</td><td>73</td><td>2024-03-11</td><td>100.5</td><td>Deposit</td></tr><tr><td>91</td><td>77</td><td>2024-03-31</td><td>100.5</td><td>Deposit</td></tr><tr><td>42</td><td>36</td><td>2024-02-11</td><td>200.75</td><td>Withdrawal</td></tr><tr><td>38</td><td>15</td><td>2024-02-07</td><td>275.75</td><td>Withdrawal</td></tr><tr><td>89</td><td>54</td><td>2024-03-29</td><td>325.0</td><td>Deposit</td></tr><tr><td>15</td><td>47</td><td>2024-01-15</td><td>250.0</td><td>Deposit</td></tr><tr><td>57</td><td>97</td><td>2024-02-26</td><td>225.5</td><td>Deposit</td></tr><tr><td>95</td><td>60</td><td>2024-04-04</td><td>250.0</td><td>Deposit</td></tr><tr><td>79</td><td>55</td><td>2024-03-19</td><td>325.0</td><td>Deposit</td></tr><tr><td>80</td><td>30</td><td>2024-03-20</td><td>375.25</td><td>Withdrawal</td></tr><tr><td>1</td><td>45</td><td>2024-01-01</td><td>100.5</td><td>Deposit</td></tr><tr><td>11</td><td>3</td><td>2024-01-11</td><td>100.5</td><td>Deposit</td></tr><tr><td>78</td><td>4</td><td>2024-03-18</td><td>275.75</td><td>Withdrawal</td></tr><tr><td>67</td><td>96</td><td>2024-03-07</td><td>225.5</td><td>Deposit</td></tr><tr><td>51</td><td>72</td><td>2024-02-20</td><td>100.5</td><td>Deposit</td></tr><tr><td>21</td><td>53</td><td>2024-01-21</td><td>100.5</td><td>Deposit</td></tr><tr><td>34</td><td>41</td><td>2024-02-03</td><td>300.25</td><td>Withdrawal</td></tr><tr><td>58</td><td>16</td><td>2024-02-27</td><td>275.75</td><td>Withdrawal</td></tr><tr><td>101</td><td>50</td><td>2024-04-09</td><td>400.25</td><td>Withdrawal</td></tr><tr><td>27</td><td>94</td><td>2024-01-27</td><td>225.5</td><td>Deposit</td></tr><tr><td>5</td><td>56</td><td>2024-01-05</td><td>250.0</td><td>Deposit</td></tr><tr><td>3</td><td>78</td><td>2024-01-03</td><td>150.0</td><td>Deposit</td></tr><tr><td>26</td><td>25</td><td>2024-01-26</td><td>175.0</td><td>Withdrawal</td></tr><tr><td>96</td><td>48</td><td>2024-04-05</td><td>175.0</td><td>Withdrawal</td></tr><tr><td>98</td><td>49</td><td>2024-04-07</td><td>275.75</td><td>Withdrawal</td></tr><tr><td>92</td><td>44</td><td>2024-04-01</td><td>200.75</td><td>Withdrawal</td></tr><tr><td>100</td><td>50</td><td>2024-04-09</td><td>550.25</td><td>Deposit</td></tr><tr><td>36</td><td>27</td><td>2024-02-05</td><td>175.0</td><td>Withdrawal</td></tr><tr><td>60</td><td>20</td><td>2024-02-29</td><td>375.25</td><td>Withdrawal</td></tr><tr><td>45</td><td>68</td><td>2024-02-14</td><td>250.0</td><td>Deposit</td></tr><tr><td>94</td><td>39</td><td>2024-04-03</td><td>300.25</td><td>Withdrawal</td></tr><tr><td>18</td><td>5</td><td>2024-01-18</td><td>275.75</td><td>Withdrawal</td></tr><tr><td>32</td><td>9</td><td>2024-02-01</td><td>200.75</td><td>Withdrawal</td></tr><tr><td>33</td><td>85</td><td>2024-02-02</td><td>150.0</td><td>Deposit</td></tr><tr><td>10</td><td>92</td><td>2024-01-10</td><td>375.25</td><td>Withdrawal</td></tr><tr><td>70</td><td>33</td><td>2024-03-10</td><td>375.25</td><td>Withdrawal</td></tr><tr><td>19</td><td>76</td><td>2024-01-19</td><td>325.0</td><td>Deposit</td></tr><tr><td>43</td><td>83</td><td>2024-02-12</td><td>150.0</td><td>Deposit</td></tr><tr><td>55</td><td>63</td><td>2024-02-24</td><td>250.0</td><td>Deposit</td></tr><tr><td>73</td><td>87</td><td>2024-03-13</td><td>150.0</td><td>Deposit</td></tr><tr><td>22</td><td>37</td><td>2024-01-22</td><td>200.75</td><td>Withdrawal</td></tr><tr><td>86</td><td>21</td><td>2024-03-26</td><td>175.0</td><td>Withdrawal</td></tr><tr><td>24</td><td>11</td><td>2024-01-24</td><td>300.25</td><td>Withdrawal</td></tr><tr><td>74</td><td>43</td><td>2024-03-14</td><td>300.25</td><td>Withdrawal</td></tr><tr><td>35</td><td>62</td><td>2024-02-04</td><td>250.0</td><td>Deposit</td></tr><tr><td>49</td><td>57</td><td>2024-02-18</td><td>325.0</td><td>Deposit</td></tr><tr><td>63</td><td>84</td><td>2024-03-03</td><td>150.0</td><td>Deposit</td></tr><tr><td>41</td><td>51</td><td>2024-02-10</td><td>100.5</td><td>Deposit</td></tr><tr><td>97</td><td>90</td><td>2024-04-06</td><td>225.5</td><td>Deposit</td></tr><tr><td>37</td><td>98</td><td>2024-02-06</td><td>225.5</td><td>Deposit</td></tr><tr><td>6</td><td>23</td><td>2024-01-06</td><td>175.0</td><td>Withdrawal</td></tr><tr><td>56</td><td>28</td><td>2024-02-25</td><td>175.0</td><td>Withdrawal</td></tr><tr><td>99</td><td>80</td><td>2024-04-08</td><td>325.0</td><td>Deposit</td></tr><tr><td>9</td><td>14</td><td>2024-01-09</td><td>325.0</td><td>Deposit</td></tr><tr><td>64</td><td>12</td><td>2024-03-04</td><td>300.25</td><td>Withdrawal</td></tr><tr><td>20</td><td>21</td><td>2024-01-20</td><td>375.25</td><td>Withdrawal</td></tr><tr><td>12</td><td>81</td><td>2024-01-12</td><td>200.75</td><td>Withdrawal</td></tr><tr><td>82</td><td>2</td><td>2024-03-22</td><td>200.75</td><td>Withdrawal</td></tr><tr><td>25</td><td>66</td><td>2024-01-25</td><td>250.0</td><td>Deposit</td></tr><tr><td>88</td><td>1</td><td>2024-03-28</td><td>275.75</td><td>Withdrawal</td></tr><tr><td>65</td><td>69</td><td>2024-03-05</td><td>250.0</td><td>Deposit</td></tr><tr><td>8</td><td>67</td><td>2024-01-08</td><td>275.75</td><td>Withdrawal</td></tr><tr><td>62</td><td>35</td><td>2024-03-02</td><td>200.75</td><td>Withdrawal</td></tr><tr><td>50</td><td>31</td><td>2024-02-19</td><td>375.25</td><td>Withdrawal</td></tr><tr><td>66</td><td>26</td><td>2024-03-06</td><td>175.0</td><td>Withdrawal</td></tr><tr><td>4</td><td>34</td><td>2024-01-04</td><td>300.25</td><td>Withdrawal</td></tr><tr><td>46</td><td>24</td><td>2024-02-15</td><td>175.0</td><td>Withdrawal</td></tr><tr><td>13</td><td>29</td><td>2024-01-13</td><td>150.0</td><td>Deposit</td></tr><tr><td>28</td><td>7</td><td>2024-01-28</td><td>275.75</td><td>Withdrawal</td></tr><tr><td>30</td><td>32</td><td>2024-01-30</td><td>375.25</td><td>Withdrawal</td></tr><tr><td>53</td><td>86</td><td>2024-02-22</td><td>150.0</td><td>Deposit</td></tr><tr><td>52</td><td>10</td><td>2024-02-21</td><td>200.75</td><td>Withdrawal</td></tr><tr><td>14</td><td>64</td><td>2024-01-14</td><td>300.25</td><td>Withdrawal</td></tr><tr><td>29</td><td>58</td><td>2024-01-29</td><td>325.0</td><td>Deposit</td></tr><tr><td>44</td><td>13</td><td>2024-02-13</td><td>300.25</td><td>Withdrawal</td></tr><tr><td>7</td><td>89</td><td>2024-01-07</td><td>225.5</td><td>Deposit</td></tr><tr><td>72</td><td>17</td><td>2024-03-12</td><td>200.75</td><td>Withdrawal</td></tr><tr><td>31</td><td>71</td><td>2024-01-31</td><td>100.5</td><td>Deposit</td></tr><tr><td>76</td><td>22</td><td>2024-03-16</td><td>175.0</td><td>Withdrawal</td></tr><tr><td>47</td><td>95</td><td>2024-02-16</td><td>225.5</td><td>Deposit</td></tr><tr><td>54</td><td>42</td><td>2024-02-23</td><td>300.25</td><td>Withdrawal</td></tr><tr><td>2</td><td>12</td><td>2024-01-02</td><td>200.75</td><td>Withdrawal</td></tr><tr><td>77</td><td>91</td><td>2024-03-17</td><td>225.5</td><td>Deposit</td></tr><tr><td>75</td><td>61</td><td>2024-03-15</td><td>250.0</td><td>Deposit</td></tr><tr><td>59</td><td>75</td><td>2024-02-28</td><td>325.0</td><td>Deposit</td></tr><tr><td>85</td><td>65</td><td>2024-03-25</td><td>250.0</td><td>Deposit</td></tr><tr><td>84</td><td>40</td><td>2024-03-24</td><td>300.25</td><td>Withdrawal</td></tr><tr><td>40</td><td>19</td><td>2024-02-09</td><td>375.25</td><td>Withdrawal</td></tr><tr><td>48</td><td>6</td><td>2024-02-17</td><td>275.75</td><td>Withdrawal</td></tr><tr><td>39</td><td>74</td><td>2024-02-08</td><td>325.0</td><td>Deposit</td></tr><tr><td>68</td><td>8</td><td>2024-03-08</td><td>275.75</td><td>Withdrawal</td></tr><tr><td>16</td><td>18</td><td>2024-01-16</td><td>175.0</td><td>Withdrawal</td></tr></tbody></table></div>"
      ]
     },
     "metadata": {
      "application/vnd.databricks.v1+output": {
       "addedWidgets": {},
       "aggData": [],
       "aggError": "",
       "aggOverflow": false,
       "aggSchema": [],
       "aggSeriesLimitReached": false,
       "aggType": "",
       "arguments": {},
       "columnCustomDisplayInfos": {},
       "data": [
        [
         83,
         82,
         "2024-03-23",
         150.0,
         "Deposit"
        ],
        [
         81,
         70,
         "2024-03-21",
         100.5,
         "Deposit"
        ],
        [
         90,
         38,
         "2024-03-30",
         375.25,
         "Withdrawal"
        ],
        [
         23,
         88,
         "2024-01-23",
         150.0,
         "Deposit"
        ],
        [
         93,
         79,
         "2024-04-02",
         150.0,
         "Deposit"
        ],
        [
         69,
         59,
         "2024-03-09",
         325.0,
         "Deposit"
        ],
        [
         61,
         52,
         "2024-03-01",
         100.5,
         "Deposit"
        ],
        [
         87,
         93,
         "2024-03-27",
         225.5,
         "Deposit"
        ],
        [
         17,
         99,
         "2024-01-17",
         225.5,
         "Deposit"
        ],
        [
         71,
         73,
         "2024-03-11",
         100.5,
         "Deposit"
        ],
        [
         91,
         77,
         "2024-03-31",
         100.5,
         "Deposit"
        ],
        [
         42,
         36,
         "2024-02-11",
         200.75,
         "Withdrawal"
        ],
        [
         38,
         15,
         "2024-02-07",
         275.75,
         "Withdrawal"
        ],
        [
         89,
         54,
         "2024-03-29",
         325.0,
         "Deposit"
        ],
        [
         15,
         47,
         "2024-01-15",
         250.0,
         "Deposit"
        ],
        [
         57,
         97,
         "2024-02-26",
         225.5,
         "Deposit"
        ],
        [
         95,
         60,
         "2024-04-04",
         250.0,
         "Deposit"
        ],
        [
         79,
         55,
         "2024-03-19",
         325.0,
         "Deposit"
        ],
        [
         80,
         30,
         "2024-03-20",
         375.25,
         "Withdrawal"
        ],
        [
         1,
         45,
         "2024-01-01",
         100.5,
         "Deposit"
        ],
        [
         11,
         3,
         "2024-01-11",
         100.5,
         "Deposit"
        ],
        [
         78,
         4,
         "2024-03-18",
         275.75,
         "Withdrawal"
        ],
        [
         67,
         96,
         "2024-03-07",
         225.5,
         "Deposit"
        ],
        [
         51,
         72,
         "2024-02-20",
         100.5,
         "Deposit"
        ],
        [
         21,
         53,
         "2024-01-21",
         100.5,
         "Deposit"
        ],
        [
         34,
         41,
         "2024-02-03",
         300.25,
         "Withdrawal"
        ],
        [
         58,
         16,
         "2024-02-27",
         275.75,
         "Withdrawal"
        ],
        [
         101,
         50,
         "2024-04-09",
         400.25,
         "Withdrawal"
        ],
        [
         27,
         94,
         "2024-01-27",
         225.5,
         "Deposit"
        ],
        [
         5,
         56,
         "2024-01-05",
         250.0,
         "Deposit"
        ],
        [
         3,
         78,
         "2024-01-03",
         150.0,
         "Deposit"
        ],
        [
         26,
         25,
         "2024-01-26",
         175.0,
         "Withdrawal"
        ],
        [
         96,
         48,
         "2024-04-05",
         175.0,
         "Withdrawal"
        ],
        [
         98,
         49,
         "2024-04-07",
         275.75,
         "Withdrawal"
        ],
        [
         92,
         44,
         "2024-04-01",
         200.75,
         "Withdrawal"
        ],
        [
         100,
         50,
         "2024-04-09",
         550.25,
         "Deposit"
        ],
        [
         36,
         27,
         "2024-02-05",
         175.0,
         "Withdrawal"
        ],
        [
         60,
         20,
         "2024-02-29",
         375.25,
         "Withdrawal"
        ],
        [
         45,
         68,
         "2024-02-14",
         250.0,
         "Deposit"
        ],
        [
         94,
         39,
         "2024-04-03",
         300.25,
         "Withdrawal"
        ],
        [
         18,
         5,
         "2024-01-18",
         275.75,
         "Withdrawal"
        ],
        [
         32,
         9,
         "2024-02-01",
         200.75,
         "Withdrawal"
        ],
        [
         33,
         85,
         "2024-02-02",
         150.0,
         "Deposit"
        ],
        [
         10,
         92,
         "2024-01-10",
         375.25,
         "Withdrawal"
        ],
        [
         70,
         33,
         "2024-03-10",
         375.25,
         "Withdrawal"
        ],
        [
         19,
         76,
         "2024-01-19",
         325.0,
         "Deposit"
        ],
        [
         43,
         83,
         "2024-02-12",
         150.0,
         "Deposit"
        ],
        [
         55,
         63,
         "2024-02-24",
         250.0,
         "Deposit"
        ],
        [
         73,
         87,
         "2024-03-13",
         150.0,
         "Deposit"
        ],
        [
         22,
         37,
         "2024-01-22",
         200.75,
         "Withdrawal"
        ],
        [
         86,
         21,
         "2024-03-26",
         175.0,
         "Withdrawal"
        ],
        [
         24,
         11,
         "2024-01-24",
         300.25,
         "Withdrawal"
        ],
        [
         74,
         43,
         "2024-03-14",
         300.25,
         "Withdrawal"
        ],
        [
         35,
         62,
         "2024-02-04",
         250.0,
         "Deposit"
        ],
        [
         49,
         57,
         "2024-02-18",
         325.0,
         "Deposit"
        ],
        [
         63,
         84,
         "2024-03-03",
         150.0,
         "Deposit"
        ],
        [
         41,
         51,
         "2024-02-10",
         100.5,
         "Deposit"
        ],
        [
         97,
         90,
         "2024-04-06",
         225.5,
         "Deposit"
        ],
        [
         37,
         98,
         "2024-02-06",
         225.5,
         "Deposit"
        ],
        [
         6,
         23,
         "2024-01-06",
         175.0,
         "Withdrawal"
        ],
        [
         56,
         28,
         "2024-02-25",
         175.0,
         "Withdrawal"
        ],
        [
         99,
         80,
         "2024-04-08",
         325.0,
         "Deposit"
        ],
        [
         9,
         14,
         "2024-01-09",
         325.0,
         "Deposit"
        ],
        [
         64,
         12,
         "2024-03-04",
         300.25,
         "Withdrawal"
        ],
        [
         20,
         21,
         "2024-01-20",
         375.25,
         "Withdrawal"
        ],
        [
         12,
         81,
         "2024-01-12",
         200.75,
         "Withdrawal"
        ],
        [
         82,
         2,
         "2024-03-22",
         200.75,
         "Withdrawal"
        ],
        [
         25,
         66,
         "2024-01-25",
         250.0,
         "Deposit"
        ],
        [
         88,
         1,
         "2024-03-28",
         275.75,
         "Withdrawal"
        ],
        [
         65,
         69,
         "2024-03-05",
         250.0,
         "Deposit"
        ],
        [
         8,
         67,
         "2024-01-08",
         275.75,
         "Withdrawal"
        ],
        [
         62,
         35,
         "2024-03-02",
         200.75,
         "Withdrawal"
        ],
        [
         50,
         31,
         "2024-02-19",
         375.25,
         "Withdrawal"
        ],
        [
         66,
         26,
         "2024-03-06",
         175.0,
         "Withdrawal"
        ],
        [
         4,
         34,
         "2024-01-04",
         300.25,
         "Withdrawal"
        ],
        [
         46,
         24,
         "2024-02-15",
         175.0,
         "Withdrawal"
        ],
        [
         13,
         29,
         "2024-01-13",
         150.0,
         "Deposit"
        ],
        [
         28,
         7,
         "2024-01-28",
         275.75,
         "Withdrawal"
        ],
        [
         30,
         32,
         "2024-01-30",
         375.25,
         "Withdrawal"
        ],
        [
         53,
         86,
         "2024-02-22",
         150.0,
         "Deposit"
        ],
        [
         52,
         10,
         "2024-02-21",
         200.75,
         "Withdrawal"
        ],
        [
         14,
         64,
         "2024-01-14",
         300.25,
         "Withdrawal"
        ],
        [
         29,
         58,
         "2024-01-29",
         325.0,
         "Deposit"
        ],
        [
         44,
         13,
         "2024-02-13",
         300.25,
         "Withdrawal"
        ],
        [
         7,
         89,
         "2024-01-07",
         225.5,
         "Deposit"
        ],
        [
         72,
         17,
         "2024-03-12",
         200.75,
         "Withdrawal"
        ],
        [
         31,
         71,
         "2024-01-31",
         100.5,
         "Deposit"
        ],
        [
         76,
         22,
         "2024-03-16",
         175.0,
         "Withdrawal"
        ],
        [
         47,
         95,
         "2024-02-16",
         225.5,
         "Deposit"
        ],
        [
         54,
         42,
         "2024-02-23",
         300.25,
         "Withdrawal"
        ],
        [
         2,
         12,
         "2024-01-02",
         200.75,
         "Withdrawal"
        ],
        [
         77,
         91,
         "2024-03-17",
         225.5,
         "Deposit"
        ],
        [
         75,
         61,
         "2024-03-15",
         250.0,
         "Deposit"
        ],
        [
         59,
         75,
         "2024-02-28",
         325.0,
         "Deposit"
        ],
        [
         85,
         65,
         "2024-03-25",
         250.0,
         "Deposit"
        ],
        [
         84,
         40,
         "2024-03-24",
         300.25,
         "Withdrawal"
        ],
        [
         40,
         19,
         "2024-02-09",
         375.25,
         "Withdrawal"
        ],
        [
         48,
         6,
         "2024-02-17",
         275.75,
         "Withdrawal"
        ],
        [
         39,
         74,
         "2024-02-08",
         325.0,
         "Deposit"
        ],
        [
         68,
         8,
         "2024-03-08",
         275.75,
         "Withdrawal"
        ],
        [
         16,
         18,
         "2024-01-16",
         175.0,
         "Withdrawal"
        ]
       ],
       "datasetInfos": [],
       "dbfsResultPath": null,
       "isJsonSchema": true,
       "metadata": {},
       "overflow": false,
       "plotOptions": {
        "customPlotOptions": {},
        "displayType": "table",
        "pivotAggregation": null,
        "pivotColumns": null,
        "xColumns": null,
        "yColumns": null
       },
       "removedWidgets": [],
       "schema": [
        {
         "metadata": "{}",
         "name": "transaction_id",
         "type": "\"integer\""
        },
        {
         "metadata": "{}",
         "name": "account_id",
         "type": "\"integer\""
        },
        {
         "metadata": "{}",
         "name": "transaction_date",
         "type": "\"date\""
        },
        {
         "metadata": "{}",
         "name": "transaction_amount",
         "type": "\"double\""
        },
        {
         "metadata": "{}",
         "name": "transaction_type",
         "type": "\"string\""
        }
       ],
       "type": "table"
      }
     },
     "output_type": "display_data"
    }
   ],
   "source": [
    "# Import data types and transformation functions\n",
    "# Cast columns in all dataframes to appropriate types using Spark data types\n",
    "# Example shown for one dataset (cast_accounts_df)\n",
    "\n",
    "from pyspark.sql.types import IntegerType, DoubleType, StringType, DateType\n",
    "from pyspark.sql.functions import to_date\n",
    "\n",
    "\n",
    "cast_accounts_df = fillna_dfs[0].select(\n",
    "    fillna_dfs[0].account_id.cast(IntegerType()),\n",
    "    fillna_dfs[0].customer_id.cast(IntegerType()),\n",
    "    fillna_dfs[0].account_type.cast(StringType()),\n",
    "    fillna_dfs[0].balance.cast(DoubleType())\n",
    ")\n",
    "\n",
    "cast_customers_df = fillna_dfs[1].select(\n",
    "    fillna_dfs[1].customer_id.cast(IntegerType()),\n",
    "    fillna_dfs[1].first_name.cast(StringType()),\n",
    "    fillna_dfs[1].last_name.cast(StringType()),\n",
    "    fillna_dfs[1].address.cast(StringType()),\n",
    "    fillna_dfs[1].city.cast(StringType()),\n",
    "    fillna_dfs[1].state.cast(StringType()),\n",
    "    fillna_dfs[1].zip.cast(StringType())\n",
    ")\n",
    "\n",
    "cast_loan_payments_df = fillna_dfs[2].select(\n",
    "    fillna_dfs[2].payment_id.cast(IntegerType()),\n",
    "    fillna_dfs[2].loan_id.cast(IntegerType()),\n",
    "    to_date(fillna_dfs[2].payment_date, \"dd-MM-yyyy\").alias(\"payment_date\"),\n",
    "    fillna_dfs[2].payment_amount.cast(DoubleType())\n",
    ")\n",
    "\n",
    "cast_loans_df = fillna_dfs[3].select(\n",
    "    fillna_dfs[3].loan_id.cast(IntegerType()),\n",
    "    fillna_dfs[3].customer_id.cast(IntegerType()),\n",
    "    fillna_dfs[3].loan_amount.cast(DoubleType()),\n",
    "    fillna_dfs[3].interest_rate.cast(DoubleType()),\n",
    "    fillna_dfs[3].loan_term.cast(IntegerType())\n",
    ")\n",
    "\n",
    "cast_transactions_df = fillna_dfs[4].select(\n",
    "    fillna_dfs[4].transaction_id.cast(IntegerType()),\n",
    "    fillna_dfs[4].account_id.cast(IntegerType()),\n",
    "    to_date(fillna_dfs[4].transaction_date, \"dd-MM-yyyy\").alias(\"transaction_date\"),\n",
    "    fillna_dfs[4].transaction_amount.cast(DoubleType()),\n",
    "    fillna_dfs[4].transaction_type.cast(StringType())\n",
    ")\n",
    "\n",
    "display(cast_transactions_df)\n"
   ]
  },
  {
   "cell_type": "code",
   "execution_count": 0,
   "metadata": {
    "application/vnd.databricks.v1+cell": {
     "cellMetadata": {
      "byteLimit": 2048000,
      "rowLimit": 10000
     },
     "inputWidgets": {},
     "nuid": "a30c2f3b-c936-432c-93fc-962a12aebc3c",
     "showTitle": false,
     "tableResultSettingsMap": {},
     "title": ""
    }
   },
   "outputs": [
    {
     "output_type": "display_data",
     "data": {
      "text/html": [
       "<style scoped>\n",
       "  .table-result-container {\n",
       "    max-height: 300px;\n",
       "    overflow: auto;\n",
       "  }\n",
       "  table, th, td {\n",
       "    border: 1px solid black;\n",
       "    border-collapse: collapse;\n",
       "  }\n",
       "  th, td {\n",
       "    padding: 5px;\n",
       "  }\n",
       "  th {\n",
       "    text-align: left;\n",
       "  }\n",
       "</style><div class='table-result-container'><table class='table-result'><thead style='background-color: white'><tr><th>TransactionId</th><th>AccountId</th><th>TransactionDate</th><th>TransactionAmount</th><th>TransactionType</th></tr></thead><tbody><tr><td>83</td><td>82</td><td>2024-03-23</td><td>150.0</td><td>Deposit</td></tr><tr><td>81</td><td>70</td><td>2024-03-21</td><td>100.5</td><td>Deposit</td></tr><tr><td>90</td><td>38</td><td>2024-03-30</td><td>375.25</td><td>Withdrawal</td></tr><tr><td>23</td><td>88</td><td>2024-01-23</td><td>150.0</td><td>Deposit</td></tr><tr><td>93</td><td>79</td><td>2024-04-02</td><td>150.0</td><td>Deposit</td></tr><tr><td>69</td><td>59</td><td>2024-03-09</td><td>325.0</td><td>Deposit</td></tr><tr><td>61</td><td>52</td><td>2024-03-01</td><td>100.5</td><td>Deposit</td></tr><tr><td>87</td><td>93</td><td>2024-03-27</td><td>225.5</td><td>Deposit</td></tr><tr><td>17</td><td>99</td><td>2024-01-17</td><td>225.5</td><td>Deposit</td></tr><tr><td>71</td><td>73</td><td>2024-03-11</td><td>100.5</td><td>Deposit</td></tr><tr><td>91</td><td>77</td><td>2024-03-31</td><td>100.5</td><td>Deposit</td></tr><tr><td>42</td><td>36</td><td>2024-02-11</td><td>200.75</td><td>Withdrawal</td></tr><tr><td>38</td><td>15</td><td>2024-02-07</td><td>275.75</td><td>Withdrawal</td></tr><tr><td>89</td><td>54</td><td>2024-03-29</td><td>325.0</td><td>Deposit</td></tr><tr><td>15</td><td>47</td><td>2024-01-15</td><td>250.0</td><td>Deposit</td></tr><tr><td>57</td><td>97</td><td>2024-02-26</td><td>225.5</td><td>Deposit</td></tr><tr><td>95</td><td>60</td><td>2024-04-04</td><td>250.0</td><td>Deposit</td></tr><tr><td>79</td><td>55</td><td>2024-03-19</td><td>325.0</td><td>Deposit</td></tr><tr><td>80</td><td>30</td><td>2024-03-20</td><td>375.25</td><td>Withdrawal</td></tr><tr><td>1</td><td>45</td><td>2024-01-01</td><td>100.5</td><td>Deposit</td></tr><tr><td>11</td><td>3</td><td>2024-01-11</td><td>100.5</td><td>Deposit</td></tr><tr><td>78</td><td>4</td><td>2024-03-18</td><td>275.75</td><td>Withdrawal</td></tr><tr><td>67</td><td>96</td><td>2024-03-07</td><td>225.5</td><td>Deposit</td></tr><tr><td>51</td><td>72</td><td>2024-02-20</td><td>100.5</td><td>Deposit</td></tr><tr><td>21</td><td>53</td><td>2024-01-21</td><td>100.5</td><td>Deposit</td></tr><tr><td>34</td><td>41</td><td>2024-02-03</td><td>300.25</td><td>Withdrawal</td></tr><tr><td>58</td><td>16</td><td>2024-02-27</td><td>275.75</td><td>Withdrawal</td></tr><tr><td>101</td><td>50</td><td>2024-04-09</td><td>400.25</td><td>Withdrawal</td></tr><tr><td>27</td><td>94</td><td>2024-01-27</td><td>225.5</td><td>Deposit</td></tr><tr><td>5</td><td>56</td><td>2024-01-05</td><td>250.0</td><td>Deposit</td></tr><tr><td>3</td><td>78</td><td>2024-01-03</td><td>150.0</td><td>Deposit</td></tr><tr><td>26</td><td>25</td><td>2024-01-26</td><td>175.0</td><td>Withdrawal</td></tr><tr><td>96</td><td>48</td><td>2024-04-05</td><td>175.0</td><td>Withdrawal</td></tr><tr><td>98</td><td>49</td><td>2024-04-07</td><td>275.75</td><td>Withdrawal</td></tr><tr><td>92</td><td>44</td><td>2024-04-01</td><td>200.75</td><td>Withdrawal</td></tr><tr><td>100</td><td>50</td><td>2024-04-09</td><td>550.25</td><td>Deposit</td></tr><tr><td>36</td><td>27</td><td>2024-02-05</td><td>175.0</td><td>Withdrawal</td></tr><tr><td>60</td><td>20</td><td>2024-02-29</td><td>375.25</td><td>Withdrawal</td></tr><tr><td>45</td><td>68</td><td>2024-02-14</td><td>250.0</td><td>Deposit</td></tr><tr><td>94</td><td>39</td><td>2024-04-03</td><td>300.25</td><td>Withdrawal</td></tr><tr><td>18</td><td>5</td><td>2024-01-18</td><td>275.75</td><td>Withdrawal</td></tr><tr><td>32</td><td>9</td><td>2024-02-01</td><td>200.75</td><td>Withdrawal</td></tr><tr><td>33</td><td>85</td><td>2024-02-02</td><td>150.0</td><td>Deposit</td></tr><tr><td>10</td><td>92</td><td>2024-01-10</td><td>375.25</td><td>Withdrawal</td></tr><tr><td>70</td><td>33</td><td>2024-03-10</td><td>375.25</td><td>Withdrawal</td></tr><tr><td>19</td><td>76</td><td>2024-01-19</td><td>325.0</td><td>Deposit</td></tr><tr><td>43</td><td>83</td><td>2024-02-12</td><td>150.0</td><td>Deposit</td></tr><tr><td>55</td><td>63</td><td>2024-02-24</td><td>250.0</td><td>Deposit</td></tr><tr><td>73</td><td>87</td><td>2024-03-13</td><td>150.0</td><td>Deposit</td></tr><tr><td>22</td><td>37</td><td>2024-01-22</td><td>200.75</td><td>Withdrawal</td></tr><tr><td>86</td><td>21</td><td>2024-03-26</td><td>175.0</td><td>Withdrawal</td></tr><tr><td>24</td><td>11</td><td>2024-01-24</td><td>300.25</td><td>Withdrawal</td></tr><tr><td>74</td><td>43</td><td>2024-03-14</td><td>300.25</td><td>Withdrawal</td></tr><tr><td>35</td><td>62</td><td>2024-02-04</td><td>250.0</td><td>Deposit</td></tr><tr><td>49</td><td>57</td><td>2024-02-18</td><td>325.0</td><td>Deposit</td></tr><tr><td>63</td><td>84</td><td>2024-03-03</td><td>150.0</td><td>Deposit</td></tr><tr><td>41</td><td>51</td><td>2024-02-10</td><td>100.5</td><td>Deposit</td></tr><tr><td>97</td><td>90</td><td>2024-04-06</td><td>225.5</td><td>Deposit</td></tr><tr><td>37</td><td>98</td><td>2024-02-06</td><td>225.5</td><td>Deposit</td></tr><tr><td>6</td><td>23</td><td>2024-01-06</td><td>175.0</td><td>Withdrawal</td></tr><tr><td>56</td><td>28</td><td>2024-02-25</td><td>175.0</td><td>Withdrawal</td></tr><tr><td>99</td><td>80</td><td>2024-04-08</td><td>325.0</td><td>Deposit</td></tr><tr><td>9</td><td>14</td><td>2024-01-09</td><td>325.0</td><td>Deposit</td></tr><tr><td>64</td><td>12</td><td>2024-03-04</td><td>300.25</td><td>Withdrawal</td></tr><tr><td>20</td><td>21</td><td>2024-01-20</td><td>375.25</td><td>Withdrawal</td></tr><tr><td>12</td><td>81</td><td>2024-01-12</td><td>200.75</td><td>Withdrawal</td></tr><tr><td>82</td><td>2</td><td>2024-03-22</td><td>200.75</td><td>Withdrawal</td></tr><tr><td>25</td><td>66</td><td>2024-01-25</td><td>250.0</td><td>Deposit</td></tr><tr><td>88</td><td>1</td><td>2024-03-28</td><td>275.75</td><td>Withdrawal</td></tr><tr><td>65</td><td>69</td><td>2024-03-05</td><td>250.0</td><td>Deposit</td></tr><tr><td>8</td><td>67</td><td>2024-01-08</td><td>275.75</td><td>Withdrawal</td></tr><tr><td>62</td><td>35</td><td>2024-03-02</td><td>200.75</td><td>Withdrawal</td></tr><tr><td>50</td><td>31</td><td>2024-02-19</td><td>375.25</td><td>Withdrawal</td></tr><tr><td>66</td><td>26</td><td>2024-03-06</td><td>175.0</td><td>Withdrawal</td></tr><tr><td>4</td><td>34</td><td>2024-01-04</td><td>300.25</td><td>Withdrawal</td></tr><tr><td>46</td><td>24</td><td>2024-02-15</td><td>175.0</td><td>Withdrawal</td></tr><tr><td>13</td><td>29</td><td>2024-01-13</td><td>150.0</td><td>Deposit</td></tr><tr><td>28</td><td>7</td><td>2024-01-28</td><td>275.75</td><td>Withdrawal</td></tr><tr><td>30</td><td>32</td><td>2024-01-30</td><td>375.25</td><td>Withdrawal</td></tr><tr><td>53</td><td>86</td><td>2024-02-22</td><td>150.0</td><td>Deposit</td></tr><tr><td>52</td><td>10</td><td>2024-02-21</td><td>200.75</td><td>Withdrawal</td></tr><tr><td>14</td><td>64</td><td>2024-01-14</td><td>300.25</td><td>Withdrawal</td></tr><tr><td>29</td><td>58</td><td>2024-01-29</td><td>325.0</td><td>Deposit</td></tr><tr><td>44</td><td>13</td><td>2024-02-13</td><td>300.25</td><td>Withdrawal</td></tr><tr><td>7</td><td>89</td><td>2024-01-07</td><td>225.5</td><td>Deposit</td></tr><tr><td>72</td><td>17</td><td>2024-03-12</td><td>200.75</td><td>Withdrawal</td></tr><tr><td>31</td><td>71</td><td>2024-01-31</td><td>100.5</td><td>Deposit</td></tr><tr><td>76</td><td>22</td><td>2024-03-16</td><td>175.0</td><td>Withdrawal</td></tr><tr><td>47</td><td>95</td><td>2024-02-16</td><td>225.5</td><td>Deposit</td></tr><tr><td>54</td><td>42</td><td>2024-02-23</td><td>300.25</td><td>Withdrawal</td></tr><tr><td>2</td><td>12</td><td>2024-01-02</td><td>200.75</td><td>Withdrawal</td></tr><tr><td>77</td><td>91</td><td>2024-03-17</td><td>225.5</td><td>Deposit</td></tr><tr><td>75</td><td>61</td><td>2024-03-15</td><td>250.0</td><td>Deposit</td></tr><tr><td>59</td><td>75</td><td>2024-02-28</td><td>325.0</td><td>Deposit</td></tr><tr><td>85</td><td>65</td><td>2024-03-25</td><td>250.0</td><td>Deposit</td></tr><tr><td>84</td><td>40</td><td>2024-03-24</td><td>300.25</td><td>Withdrawal</td></tr><tr><td>40</td><td>19</td><td>2024-02-09</td><td>375.25</td><td>Withdrawal</td></tr><tr><td>48</td><td>6</td><td>2024-02-17</td><td>275.75</td><td>Withdrawal</td></tr><tr><td>39</td><td>74</td><td>2024-02-08</td><td>325.0</td><td>Deposit</td></tr><tr><td>68</td><td>8</td><td>2024-03-08</td><td>275.75</td><td>Withdrawal</td></tr><tr><td>16</td><td>18</td><td>2024-01-16</td><td>175.0</td><td>Withdrawal</td></tr></tbody></table></div>"
      ]
     },
     "metadata": {
      "application/vnd.databricks.v1+output": {
       "addedWidgets": {},
       "aggData": [],
       "aggError": "",
       "aggOverflow": false,
       "aggSchema": [],
       "aggSeriesLimitReached": false,
       "aggType": "",
       "arguments": {},
       "columnCustomDisplayInfos": {},
       "data": [
        [
         83,
         82,
         "2024-03-23",
         150.0,
         "Deposit"
        ],
        [
         81,
         70,
         "2024-03-21",
         100.5,
         "Deposit"
        ],
        [
         90,
         38,
         "2024-03-30",
         375.25,
         "Withdrawal"
        ],
        [
         23,
         88,
         "2024-01-23",
         150.0,
         "Deposit"
        ],
        [
         93,
         79,
         "2024-04-02",
         150.0,
         "Deposit"
        ],
        [
         69,
         59,
         "2024-03-09",
         325.0,
         "Deposit"
        ],
        [
         61,
         52,
         "2024-03-01",
         100.5,
         "Deposit"
        ],
        [
         87,
         93,
         "2024-03-27",
         225.5,
         "Deposit"
        ],
        [
         17,
         99,
         "2024-01-17",
         225.5,
         "Deposit"
        ],
        [
         71,
         73,
         "2024-03-11",
         100.5,
         "Deposit"
        ],
        [
         91,
         77,
         "2024-03-31",
         100.5,
         "Deposit"
        ],
        [
         42,
         36,
         "2024-02-11",
         200.75,
         "Withdrawal"
        ],
        [
         38,
         15,
         "2024-02-07",
         275.75,
         "Withdrawal"
        ],
        [
         89,
         54,
         "2024-03-29",
         325.0,
         "Deposit"
        ],
        [
         15,
         47,
         "2024-01-15",
         250.0,
         "Deposit"
        ],
        [
         57,
         97,
         "2024-02-26",
         225.5,
         "Deposit"
        ],
        [
         95,
         60,
         "2024-04-04",
         250.0,
         "Deposit"
        ],
        [
         79,
         55,
         "2024-03-19",
         325.0,
         "Deposit"
        ],
        [
         80,
         30,
         "2024-03-20",
         375.25,
         "Withdrawal"
        ],
        [
         1,
         45,
         "2024-01-01",
         100.5,
         "Deposit"
        ],
        [
         11,
         3,
         "2024-01-11",
         100.5,
         "Deposit"
        ],
        [
         78,
         4,
         "2024-03-18",
         275.75,
         "Withdrawal"
        ],
        [
         67,
         96,
         "2024-03-07",
         225.5,
         "Deposit"
        ],
        [
         51,
         72,
         "2024-02-20",
         100.5,
         "Deposit"
        ],
        [
         21,
         53,
         "2024-01-21",
         100.5,
         "Deposit"
        ],
        [
         34,
         41,
         "2024-02-03",
         300.25,
         "Withdrawal"
        ],
        [
         58,
         16,
         "2024-02-27",
         275.75,
         "Withdrawal"
        ],
        [
         101,
         50,
         "2024-04-09",
         400.25,
         "Withdrawal"
        ],
        [
         27,
         94,
         "2024-01-27",
         225.5,
         "Deposit"
        ],
        [
         5,
         56,
         "2024-01-05",
         250.0,
         "Deposit"
        ],
        [
         3,
         78,
         "2024-01-03",
         150.0,
         "Deposit"
        ],
        [
         26,
         25,
         "2024-01-26",
         175.0,
         "Withdrawal"
        ],
        [
         96,
         48,
         "2024-04-05",
         175.0,
         "Withdrawal"
        ],
        [
         98,
         49,
         "2024-04-07",
         275.75,
         "Withdrawal"
        ],
        [
         92,
         44,
         "2024-04-01",
         200.75,
         "Withdrawal"
        ],
        [
         100,
         50,
         "2024-04-09",
         550.25,
         "Deposit"
        ],
        [
         36,
         27,
         "2024-02-05",
         175.0,
         "Withdrawal"
        ],
        [
         60,
         20,
         "2024-02-29",
         375.25,
         "Withdrawal"
        ],
        [
         45,
         68,
         "2024-02-14",
         250.0,
         "Deposit"
        ],
        [
         94,
         39,
         "2024-04-03",
         300.25,
         "Withdrawal"
        ],
        [
         18,
         5,
         "2024-01-18",
         275.75,
         "Withdrawal"
        ],
        [
         32,
         9,
         "2024-02-01",
         200.75,
         "Withdrawal"
        ],
        [
         33,
         85,
         "2024-02-02",
         150.0,
         "Deposit"
        ],
        [
         10,
         92,
         "2024-01-10",
         375.25,
         "Withdrawal"
        ],
        [
         70,
         33,
         "2024-03-10",
         375.25,
         "Withdrawal"
        ],
        [
         19,
         76,
         "2024-01-19",
         325.0,
         "Deposit"
        ],
        [
         43,
         83,
         "2024-02-12",
         150.0,
         "Deposit"
        ],
        [
         55,
         63,
         "2024-02-24",
         250.0,
         "Deposit"
        ],
        [
         73,
         87,
         "2024-03-13",
         150.0,
         "Deposit"
        ],
        [
         22,
         37,
         "2024-01-22",
         200.75,
         "Withdrawal"
        ],
        [
         86,
         21,
         "2024-03-26",
         175.0,
         "Withdrawal"
        ],
        [
         24,
         11,
         "2024-01-24",
         300.25,
         "Withdrawal"
        ],
        [
         74,
         43,
         "2024-03-14",
         300.25,
         "Withdrawal"
        ],
        [
         35,
         62,
         "2024-02-04",
         250.0,
         "Deposit"
        ],
        [
         49,
         57,
         "2024-02-18",
         325.0,
         "Deposit"
        ],
        [
         63,
         84,
         "2024-03-03",
         150.0,
         "Deposit"
        ],
        [
         41,
         51,
         "2024-02-10",
         100.5,
         "Deposit"
        ],
        [
         97,
         90,
         "2024-04-06",
         225.5,
         "Deposit"
        ],
        [
         37,
         98,
         "2024-02-06",
         225.5,
         "Deposit"
        ],
        [
         6,
         23,
         "2024-01-06",
         175.0,
         "Withdrawal"
        ],
        [
         56,
         28,
         "2024-02-25",
         175.0,
         "Withdrawal"
        ],
        [
         99,
         80,
         "2024-04-08",
         325.0,
         "Deposit"
        ],
        [
         9,
         14,
         "2024-01-09",
         325.0,
         "Deposit"
        ],
        [
         64,
         12,
         "2024-03-04",
         300.25,
         "Withdrawal"
        ],
        [
         20,
         21,
         "2024-01-20",
         375.25,
         "Withdrawal"
        ],
        [
         12,
         81,
         "2024-01-12",
         200.75,
         "Withdrawal"
        ],
        [
         82,
         2,
         "2024-03-22",
         200.75,
         "Withdrawal"
        ],
        [
         25,
         66,
         "2024-01-25",
         250.0,
         "Deposit"
        ],
        [
         88,
         1,
         "2024-03-28",
         275.75,
         "Withdrawal"
        ],
        [
         65,
         69,
         "2024-03-05",
         250.0,
         "Deposit"
        ],
        [
         8,
         67,
         "2024-01-08",
         275.75,
         "Withdrawal"
        ],
        [
         62,
         35,
         "2024-03-02",
         200.75,
         "Withdrawal"
        ],
        [
         50,
         31,
         "2024-02-19",
         375.25,
         "Withdrawal"
        ],
        [
         66,
         26,
         "2024-03-06",
         175.0,
         "Withdrawal"
        ],
        [
         4,
         34,
         "2024-01-04",
         300.25,
         "Withdrawal"
        ],
        [
         46,
         24,
         "2024-02-15",
         175.0,
         "Withdrawal"
        ],
        [
         13,
         29,
         "2024-01-13",
         150.0,
         "Deposit"
        ],
        [
         28,
         7,
         "2024-01-28",
         275.75,
         "Withdrawal"
        ],
        [
         30,
         32,
         "2024-01-30",
         375.25,
         "Withdrawal"
        ],
        [
         53,
         86,
         "2024-02-22",
         150.0,
         "Deposit"
        ],
        [
         52,
         10,
         "2024-02-21",
         200.75,
         "Withdrawal"
        ],
        [
         14,
         64,
         "2024-01-14",
         300.25,
         "Withdrawal"
        ],
        [
         29,
         58,
         "2024-01-29",
         325.0,
         "Deposit"
        ],
        [
         44,
         13,
         "2024-02-13",
         300.25,
         "Withdrawal"
        ],
        [
         7,
         89,
         "2024-01-07",
         225.5,
         "Deposit"
        ],
        [
         72,
         17,
         "2024-03-12",
         200.75,
         "Withdrawal"
        ],
        [
         31,
         71,
         "2024-01-31",
         100.5,
         "Deposit"
        ],
        [
         76,
         22,
         "2024-03-16",
         175.0,
         "Withdrawal"
        ],
        [
         47,
         95,
         "2024-02-16",
         225.5,
         "Deposit"
        ],
        [
         54,
         42,
         "2024-02-23",
         300.25,
         "Withdrawal"
        ],
        [
         2,
         12,
         "2024-01-02",
         200.75,
         "Withdrawal"
        ],
        [
         77,
         91,
         "2024-03-17",
         225.5,
         "Deposit"
        ],
        [
         75,
         61,
         "2024-03-15",
         250.0,
         "Deposit"
        ],
        [
         59,
         75,
         "2024-02-28",
         325.0,
         "Deposit"
        ],
        [
         85,
         65,
         "2024-03-25",
         250.0,
         "Deposit"
        ],
        [
         84,
         40,
         "2024-03-24",
         300.25,
         "Withdrawal"
        ],
        [
         40,
         19,
         "2024-02-09",
         375.25,
         "Withdrawal"
        ],
        [
         48,
         6,
         "2024-02-17",
         275.75,
         "Withdrawal"
        ],
        [
         39,
         74,
         "2024-02-08",
         325.0,
         "Deposit"
        ],
        [
         68,
         8,
         "2024-03-08",
         275.75,
         "Withdrawal"
        ],
        [
         16,
         18,
         "2024-01-16",
         175.0,
         "Withdrawal"
        ]
       ],
       "datasetInfos": [],
       "dbfsResultPath": null,
       "isJsonSchema": true,
       "metadata": {},
       "overflow": false,
       "plotOptions": {
        "customPlotOptions": {},
        "displayType": "table",
        "pivotAggregation": null,
        "pivotColumns": null,
        "xColumns": null,
        "yColumns": null
       },
       "removedWidgets": [],
       "schema": [
        {
         "metadata": "{}",
         "name": "TransactionId",
         "type": "\"integer\""
        },
        {
         "metadata": "{}",
         "name": "AccountId",
         "type": "\"integer\""
        },
        {
         "metadata": "{}",
         "name": "TransactionDate",
         "type": "\"date\""
        },
        {
         "metadata": "{}",
         "name": "TransactionAmount",
         "type": "\"double\""
        },
        {
         "metadata": "{}",
         "name": "TransactionType",
         "type": "\"string\""
        }
       ],
       "type": "table"
      }
     },
     "output_type": "display_data"
    }
   ],
   "source": [
    "# Rename columns for better readability and consistency using CamelCase\n",
    "\n",
    "accounts_df = cast_accounts_df.withColumnRenamed(\"account_id\", \"AccountId\")\\\n",
    "    .withColumnRenamed(\"customer_id\", \"CustomerId\")\\\n",
    "    .withColumnRenamed(\"account_type\", \"AccountType\")\\\n",
    "    .withColumnRenamed(\"balance\", \"Balance\")\n",
    "\n",
    "customers_df = cast_customers_df.withColumnRenamed(\"customer_id\", \"CustomerId\")\\\n",
    "    .withColumnRenamed(\"first_name\", \"FirstName\")\\\n",
    "    .withColumnRenamed(\"last_name\", \"LastName\")\\\n",
    "    .withColumnRenamed(\"address\", \"Address\")\\\n",
    "    .withColumnRenamed(\"city\", \"City\")\\\n",
    "    .withColumnRenamed(\"state\", \"State\")\\\n",
    "    .withColumnRenamed(\"zip\", \"Zip\")\n",
    "\n",
    "loan_payments_df = cast_loan_payments_df.withColumnRenamed(\"payment_id\", \"PaymentId\")\\\n",
    "    .withColumnRenamed(\"loan_id\", \"LoanId\")\\\n",
    "    .withColumnRenamed(\"payment_date\", \"PaymentDate\")\\\n",
    "    .withColumnRenamed(\"payment_amount\", \"PaymentAmount\")\n",
    "\n",
    "loans_df = cast_loans_df.withColumnRenamed(\"loan_id\", \"LoanId\")\\\n",
    "    .withColumnRenamed(\"customer_id\", \"CustomerId\")\\\n",
    "    .withColumnRenamed(\"loan_amount\", \"LoanAmount\")\\\n",
    "    .withColumnRenamed(\"interest_rate\", \"InterestRate\")\\\n",
    "    .withColumnRenamed(\"loan_term\", \"LoanTerm\")\n",
    "\n",
    "transactions_df = cast_transactions_df.withColumnRenamed(\"transaction_id\", \"TransactionId\")\\\n",
    "    .withColumnRenamed(\"account_id\", \"AccountId\")\\\n",
    "    .withColumnRenamed(\"transaction_date\", \"TransactionDate\")\\\n",
    "    .withColumnRenamed(\"transaction_amount\", \"TransactionAmount\")\\\n",
    "    .withColumnRenamed(\"transaction_type\", \"TransactionType\")\n",
    "\n",
    "display(transactions_df)"
   ]
  },
  {
   "cell_type": "code",
   "execution_count": 0,
   "metadata": {
    "application/vnd.databricks.v1+cell": {
     "cellMetadata": {
      "byteLimit": 2048000,
      "rowLimit": 10000
     },
     "inputWidgets": {},
     "nuid": "64ab1fbf-e319-4d82-b941-099fc6fb7b28",
     "showTitle": false,
     "tableResultSettingsMap": {},
     "title": ""
    }
   },
   "outputs": [
    {
     "output_type": "display_data",
     "data": {
      "text/html": [
       "<style scoped>\n",
       "  .table-result-container {\n",
       "    max-height: 300px;\n",
       "    overflow: auto;\n",
       "  }\n",
       "  table, th, td {\n",
       "    border: 1px solid black;\n",
       "    border-collapse: collapse;\n",
       "  }\n",
       "  th, td {\n",
       "    padding: 5px;\n",
       "  }\n",
       "  th {\n",
       "    text-align: left;\n",
       "  }\n",
       "</style><div class='table-result-container'><table class='table-result'><thead style='background-color: white'><tr><th>AccountId</th><th>CustomerId</th><th>Balance</th><th>LoanId</th><th>LoanAmount</th><th>PaymentId</th><th>PaymentAmount</th><th>PaymentDate</th><th>TransactionId</th><th>TransactionAmount</th><th>TransactionDate</th></tr></thead><tbody><tr><td>55</td><td>63</td><td>425.75</td><td>55</td><td>25000.75</td><td>14</td><td>750.0</td><td>2024-01-14</td><td>79</td><td>325.0</td><td>2024-03-19</td></tr><tr><td>33</td><td>85</td><td>150.25</td><td>33</td><td>15000.25</td><td>100</td><td>1000.0</td><td>2024-04-10</td><td>70</td><td>375.25</td><td>2024-03-10</td></tr><tr><td>24</td><td>11</td><td>2600.0</td><td>24</td><td>30000.0</td><td>93</td><td>4700.0</td><td>2024-04-02</td><td>46</td><td>175.0</td><td>2024-02-15</td></tr><tr><td>18</td><td>5</td><td>1600.5</td><td>18</td><td>27500.5</td><td>47</td><td>2400.0</td><td>2024-02-16</td><td>16</td><td>175.0</td><td>2024-01-16</td></tr><tr><td>5</td><td>56</td><td>500.0</td><td>5</td><td>25000.0</td><td>64</td><td>3250.0</td><td>2024-03-04</td><td>18</td><td>275.75</td><td>2024-01-18</td></tr><tr><td>83</td><td>82</td><td>775.75</td><td>83</td><td>15000.75</td><td>62</td><td>3150.0</td><td>2024-03-02</td><td>43</td><td>150.0</td><td>2024-02-12</td></tr><tr><td>6</td><td>23</td><td>1200.5</td><td>6</td><td>17500.5</td><td>55</td><td>2800.0</td><td>2024-02-24</td><td>48</td><td>275.75</td><td>2024-02-17</td></tr><tr><td>50</td><td>31</td><td>5100.5</td><td>50</td><td>37500.5</td><td>59</td><td>3000.0</td><td>2024-02-28</td><td>100</td><td>550.25</td><td>2024-04-09</td></tr><tr><td>34</td><td>41</td><td>3500.5</td><td>34</td><td>30000.5</td><td>6</td><td>350.0</td><td>2024-01-06</td><td>4</td><td>300.25</td><td>2024-01-04</td></tr><tr><td>80</td><td>30</td><td>8100.0</td><td>80</td><td>37500.0</td><td>89</td><td>4500.0</td><td>2024-03-29</td><td>99</td><td>325.0</td><td>2024-04-08</td></tr><tr><td>74</td><td>43</td><td>7500.5</td><td>74</td><td>30000.5</td><td>43</td><td>2200.0</td><td>2024-02-12</td><td>39</td><td>325.0</td><td>2024-02-08</td></tr><tr><td>30</td><td>32</td><td>3100.5</td><td>30</td><td>37500.5</td><td>39</td><td>2000.0</td><td>2024-02-08</td><td>80</td><td>375.25</td><td>2024-03-20</td></tr><tr><td>69</td><td>59</td><td>600.25</td><td>69</td><td>32500.25</td><td>88</td><td>4450.0</td><td>2024-03-28</td><td>65</td><td>250.0</td><td>2024-03-05</td></tr><tr><td>86</td><td>21</td><td>8700.5</td><td>86</td><td>17500.5</td><td>35</td><td>1800.0</td><td>2024-02-04</td><td>53</td><td>150.0</td><td>2024-02-22</td></tr><tr><td>84</td><td>40</td><td>8500.0</td><td>84</td><td>30000.0</td><td>53</td><td>2700.0</td><td>2024-02-22</td><td>63</td><td>150.0</td><td>2024-03-03</td></tr><tr><td>96</td><td>48</td><td>9700.0</td><td>96</td><td>17500.0</td><td>45</td><td>2300.0</td><td>2024-02-14</td><td>67</td><td>225.5</td><td>2024-03-07</td></tr><tr><td>88</td><td>1</td><td>8900.0</td><td>88</td><td>27500.0</td><td>17</td><td>900.0</td><td>2024-01-17</td><td>23</td><td>150.0</td><td>2024-01-23</td></tr><tr><td>39</td><td>74</td><td>225.75</td><td>39</td><td>32500.75</td><td>58</td><td>2950.0</td><td>2024-02-27</td><td>94</td><td>300.25</td><td>2024-04-03</td></tr><tr><td>49</td><td>57</td><td>350.25</td><td>49</td><td>32500.25</td><td>68</td><td>3450.0</td><td>2024-03-08</td><td>98</td><td>275.75</td><td>2024-04-07</td></tr><tr><td>82</td><td>2</td><td>8300.5</td><td>82</td><td>20000.5</td><td>71</td><td>3600.0</td><td>2024-03-11</td><td>83</td><td>150.0</td><td>2024-03-23</td></tr><tr><td>53</td><td>86</td><td>400.25</td><td>53</td><td>15000.25</td><td>32</td><td>1650.0</td><td>2024-02-01</td><td>21</td><td>100.5</td><td>2024-01-21</td></tr><tr><td>38</td><td>15</td><td>3900.5</td><td>38</td><td>27500.5</td><td>67</td><td>3400.0</td><td>2024-03-07</td><td>90</td><td>375.25</td><td>2024-03-30</td></tr><tr><td>65</td><td>69</td><td>550.25</td><td>65</td><td>25000.25</td><td>24</td><td>1250.0</td><td>2024-01-24</td><td>85</td><td>250.0</td><td>2024-03-25</td></tr><tr><td>86</td><td>21</td><td>8700.5</td><td>20</td><td>37500.0</td><td>29</td><td>1500.0</td><td>2024-01-29</td><td>53</td><td>150.0</td><td>2024-02-22</td></tr><tr><td>15</td><td>47</td><td>700.75</td><td>15</td><td>25000.75</td><td>74</td><td>3750.0</td><td>2024-03-14</td><td>38</td><td>275.75</td><td>2024-02-07</td></tr><tr><td>48</td><td>6</td><td>4900.0</td><td>48</td><td>27500.0</td><td>77</td><td>3900.0</td><td>2024-03-17</td><td>96</td><td>175.0</td><td>2024-04-05</td></tr><tr><td>3</td><td>78</td><td>1500.0</td><td>3</td><td>15000.0</td><td>82</td><td>4150.0</td><td>2024-03-22</td><td>11</td><td>100.5</td><td>2024-01-11</td></tr><tr><td>14</td><td>64</td><td>3200.5</td><td>14</td><td>30000.5</td><td>83</td><td>4200.0</td><td>2024-03-23</td><td>9</td><td>325.0</td><td>2024-01-09</td></tr><tr><td>59</td><td>75</td><td>475.75</td><td>59</td><td>32500.75</td><td>78</td><td>3950.0</td><td>2024-03-18</td><td>69</td><td>325.0</td><td>2024-03-09</td></tr><tr><td>4</td><td>34</td><td>3000.25</td><td>4</td><td>30000.25</td><td>73</td><td>3700.0</td><td>2024-03-13</td><td>78</td><td>275.75</td><td>2024-03-18</td></tr><tr><td>20</td><td>21</td><td>2000.0</td><td>86</td><td>17500.5</td><td>35</td><td>1800.0</td><td>2024-02-04</td><td>60</td><td>375.25</td><td>2024-02-29</td></tr><tr><td>64</td><td>12</td><td>6500.0</td><td>64</td><td>30000.0</td><td>33</td><td>1700.0</td><td>2024-02-02</td><td>14</td><td>300.25</td><td>2024-01-14</td></tr><tr><td>89</td><td>54</td><td>850.25</td><td>89</td><td>32500.25</td><td>4</td><td>250.0</td><td>2024-01-04</td><td>7</td><td>225.5</td><td>2024-01-07</td></tr><tr><td>93</td><td>79</td><td>900.25</td><td>93</td><td>15000.25</td><td>72</td><td>3650.0</td><td>2024-03-12</td><td>87</td><td>225.5</td><td>2024-03-27</td></tr><tr><td>62</td><td>35</td><td>6300.5</td><td>62</td><td>20000.5</td><td>51</td><td>2600.0</td><td>2024-02-20</td><td>35</td><td>250.0</td><td>2024-02-04</td></tr><tr><td>16</td><td>18</td><td>1400.0</td><td>16</td><td>17500.0</td><td>65</td><td>3300.0</td><td>2024-03-05</td><td>58</td><td>275.75</td><td>2024-02-27</td></tr><tr><td>42</td><td>36</td><td>4300.5</td><td>42</td><td>20000.5</td><td>31</td><td>1600.0</td><td>2024-01-31</td><td>54</td><td>300.25</td><td>2024-02-23</td></tr><tr><td>75</td><td>61</td><td>675.75</td><td>75</td><td>25000.75</td><td>34</td><td>1750.0</td><td>2024-02-03</td><td>59</td><td>325.0</td><td>2024-02-28</td></tr><tr><td>2</td><td>12</td><td>2500.75</td><td>2</td><td>20000.75</td><td>91</td><td>4600.0</td><td>2024-03-31</td><td>82</td><td>200.75</td><td>2024-03-22</td></tr><tr><td>52</td><td>10</td><td>5300.0</td><td>52</td><td>20000.0</td><td>41</td><td>2100.0</td><td>2024-02-10</td><td>61</td><td>100.5</td><td>2024-03-01</td></tr><tr><td>33</td><td>85</td><td>150.25</td><td>33</td><td>15000.25</td><td>12</td><td>650.0</td><td>2024-01-12</td><td>70</td><td>375.25</td><td>2024-03-10</td></tr><tr><td>26</td><td>25</td><td>2800.5</td><td>26</td><td>17500.5</td><td>75</td><td>3800.0</td><td>2024-03-15</td><td>66</td><td>175.0</td><td>2024-03-06</td></tr><tr><td>19</td><td>76</td><td>400.75</td><td>19</td><td>32500.75</td><td>38</td><td>1950.0</td><td>2024-02-07</td><td>40</td><td>375.25</td><td>2024-02-09</td></tr><tr><td>78</td><td>4</td><td>7900.5</td><td>78</td><td>27500.5</td><td>8</td><td>450.0</td><td>2024-01-08</td><td>3</td><td>150.0</td><td>2024-01-03</td></tr><tr><td>73</td><td>87</td><td>650.25</td><td>73</td><td>15000.25</td><td>52</td><td>2650.0</td><td>2024-02-21</td><td>71</td><td>100.5</td><td>2024-03-11</td></tr><tr><td>85</td><td>65</td><td>800.25</td><td>85</td><td>25000.25</td><td>44</td><td>2250.0</td><td>2024-02-13</td><td>33</td><td>150.0</td><td>2024-02-02</td></tr><tr><td>28</td><td>7</td><td>2900.0</td><td>28</td><td>27500.0</td><td>57</td><td>2900.0</td><td>2024-02-26</td><td>56</td><td>175.0</td><td>2024-02-25</td></tr><tr><td>72</td><td>17</td><td>7300.0</td><td>72</td><td>20000.0</td><td>61</td><td>3100.0</td><td>2024-03-01</td><td>51</td><td>100.5</td><td>2024-02-20</td></tr><tr><td>40</td><td>19</td><td>4100.0</td><td>40</td><td>37500.0</td><td>49</td><td>2500.0</td><td>2024-02-18</td><td>84</td><td>300.25</td><td>2024-03-24</td></tr><tr><td>90</td><td>38</td><td>9100.5</td><td>90</td><td>37500.5</td><td>9</td><td>500.0</td><td>2024-01-09</td><td>97</td><td>225.5</td><td>2024-04-06</td></tr><tr><td>71</td><td>73</td><td>625.75</td><td>71</td><td>10000.75</td><td>70</td><td>3550.0</td><td>2024-03-10</td><td>31</td><td>100.5</td><td>2024-01-31</td></tr><tr><td>20</td><td>21</td><td>2000.0</td><td>20</td><td>37500.0</td><td>29</td><td>1500.0</td><td>2024-01-29</td><td>60</td><td>375.25</td><td>2024-02-29</td></tr><tr><td>56</td><td>28</td><td>5700.0</td><td>56</td><td>17500.0</td><td>7</td><td>400.0</td><td>2024-01-07</td><td>5</td><td>250.0</td><td>2024-01-05</td></tr><tr><td>94</td><td>39</td><td>9500.5</td><td>94</td><td>30000.5</td><td>63</td><td>3200.0</td><td>2024-03-03</td><td>27</td><td>225.5</td><td>2024-01-27</td></tr><tr><td>68</td><td>8</td><td>6900.0</td><td>68</td><td>27500.0</td><td>97</td><td>4900.0</td><td>2024-04-06</td><td>45</td><td>250.0</td><td>2024-02-14</td></tr><tr><td>66</td><td>26</td><td>6700.5</td><td>66</td><td>17500.5</td><td>15</td><td>800.0</td><td>2024-01-15</td><td>25</td><td>250.0</td><td>2024-01-25</td></tr><tr><td>36</td><td>27</td><td>3700.0</td><td>36</td><td>17500.0</td><td>85</td><td>4300.0</td><td>2024-03-25</td><td>42</td><td>200.75</td><td>2024-02-11</td></tr><tr><td>76</td><td>22</td><td>7700.0</td><td>76</td><td>17500.0</td><td>25</td><td>1300.0</td><td>2024-01-25</td><td>19</td><td>325.0</td><td>2024-01-19</td></tr><tr><td>91</td><td>77</td><td>875.75</td><td>91</td><td>10000.75</td><td>90</td><td>4550.0</td><td>2024-03-30</td><td>77</td><td>225.5</td><td>2024-03-17</td></tr><tr><td>95</td><td>60</td><td>925.75</td><td>95</td><td>25000.75</td><td>54</td><td>2750.0</td><td>2024-02-23</td><td>47</td><td>225.5</td><td>2024-02-16</td></tr><tr><td>33</td><td>85</td><td>150.25</td><td>33</td><td>15000.25</td><td>101</td><td>1000.0</td><td>1900-01-01</td><td>70</td><td>375.25</td><td>2024-03-10</td></tr><tr><td>70</td><td>33</td><td>7100.5</td><td>70</td><td>37500.5</td><td>79</td><td>4000.0</td><td>2024-03-19</td><td>81</td><td>100.5</td><td>2024-03-21</td></tr><tr><td>50</td><td>31</td><td>5100.5</td><td>50</td><td>37500.5</td><td>59</td><td>3000.0</td><td>2024-02-28</td><td>101</td><td>400.25</td><td>2024-04-09</td></tr><tr><td>31</td><td>71</td><td>125.75</td><td>31</td><td>10000.75</td><td>30</td><td>1550.0</td><td>2024-01-30</td><td>50</td><td>375.25</td><td>2024-02-19</td></tr><tr><td>13</td><td>29</td><td>1300.25</td><td>13</td><td>15000.25</td><td>92</td><td>4650.0</td><td>2024-04-01</td><td>44</td><td>300.25</td><td>2024-02-13</td></tr><tr><td>21</td><td>53</td><td>300.25</td><td>21</td><td>10000.25</td><td>20</td><td>1050.0</td><td>2024-01-20</td><td>20</td><td>375.25</td><td>2024-01-20</td></tr><tr><td>43</td><td>83</td><td>275.75</td><td>43</td><td>15000.75</td><td>22</td><td>1150.0</td><td>2024-01-22</td><td>74</td><td>300.25</td><td>2024-03-14</td></tr><tr><td>2</td><td>12</td><td>2500.75</td><td>64</td><td>30000.0</td><td>33</td><td>1700.0</td><td>2024-02-02</td><td>82</td><td>200.75</td><td>2024-03-22</td></tr><tr><td>60</td><td>20</td><td>6100.0</td><td>60</td><td>37500.0</td><td>69</td><td>3500.0</td><td>2024-03-09</td><td>95</td><td>250.0</td><td>2024-04-04</td></tr><tr><td>98</td><td>49</td><td>9900.5</td><td>98</td><td>27500.5</td><td>27</td><td>1400.0</td><td>2024-01-27</td><td>37</td><td>225.5</td><td>2024-02-06</td></tr><tr><td>92</td><td>44</td><td>9300.0</td><td>92</td><td>20000.0</td><td>81</td><td>4100.0</td><td>2024-03-21</td><td>10</td><td>375.25</td><td>2024-01-10</td></tr><tr><td>25</td><td>66</td><td>100.25</td><td>25</td><td>25000.25</td><td>84</td><td>4250.0</td><td>2024-03-24</td><td>26</td><td>175.0</td><td>2024-01-26</td></tr><tr><td>1</td><td>45</td><td>1000.5</td><td>1</td><td>10000.5</td><td>99</td><td>5000.0</td><td>2024-04-08</td><td>88</td><td>275.75</td><td>2024-03-28</td></tr><tr><td>79</td><td>55</td><td>725.75</td><td>79</td><td>32500.75</td><td>98</td><td>4950.0</td><td>2024-04-07</td><td>93</td><td>150.0</td><td>2024-04-02</td></tr><tr><td>63</td><td>84</td><td>525.75</td><td>63</td><td>15000.75</td><td>42</td><td>2150.0</td><td>2024-02-11</td><td>55</td><td>250.0</td><td>2024-02-24</td></tr><tr><td>44</td><td>13</td><td>4500.0</td><td>44</td><td>30000.0</td><td>13</td><td>700.0</td><td>2024-01-13</td><td>92</td><td>200.75</td><td>2024-04-01</td></tr><tr><td>81</td><td>70</td><td>750.25</td><td>81</td><td>10000.25</td><td>80</td><td>4050.0</td><td>2024-03-20</td><td>12</td><td>200.75</td><td>2024-01-12</td></tr><tr><td>12</td><td>81</td><td>2700.0</td><td>12</td><td>20000.0</td><td>5</td><td>300.0</td><td>2024-01-05</td><td>2</td><td>200.75</td><td>2024-01-02</td></tr><tr><td>51</td><td>72</td><td>375.75</td><td>51</td><td>10000.75</td><td>50</td><td>2550.0</td><td>2024-02-19</td><td>41</td><td>100.5</td><td>2024-02-10</td></tr><tr><td>22</td><td>37</td><td>2400.5</td><td>22</td><td>20000.5</td><td>11</td><td>600.0</td><td>2024-01-11</td><td>76</td><td>175.0</td><td>2024-03-16</td></tr><tr><td>54</td><td>42</td><td>5500.5</td><td>54</td><td>30000.5</td><td>23</td><td>1200.0</td><td>2024-01-23</td><td>89</td><td>325.0</td><td>2024-03-29</td></tr><tr><td>58</td><td>16</td><td>5900.5</td><td>58</td><td>27500.5</td><td>87</td><td>4400.0</td><td>2024-03-27</td><td>29</td><td>325.0</td><td>2024-01-29</td></tr><tr><td>41</td><td>51</td><td>250.25</td><td>41</td><td>10000.25</td><td>40</td><td>2050.0</td><td>2024-02-09</td><td>34</td><td>300.25</td><td>2024-02-03</td></tr><tr><td>64</td><td>12</td><td>6500.0</td><td>2</td><td>20000.75</td><td>91</td><td>4600.0</td><td>2024-03-31</td><td>14</td><td>300.25</td><td>2024-01-14</td></tr><tr><td>32</td><td>9</td><td>3300.0</td><td>32</td><td>20000.0</td><td>21</td><td>1100.0</td><td>2024-01-21</td><td>30</td><td>375.25</td><td>2024-01-30</td></tr><tr><td>9</td><td>14</td><td>900.25</td><td>9</td><td>32500.25</td><td>28</td><td>1450.0</td><td>2024-01-28</td><td>32</td><td>200.75</td><td>2024-02-01</td></tr><tr><td>35</td><td>62</td><td>175.75</td><td>35</td><td>25000.75</td><td>94</td><td>4750.0</td><td>2024-04-03</td><td>62</td><td>200.75</td><td>2024-03-02</td></tr><tr><td>11</td><td>3</td><td>1100.75</td><td>11</td><td>10000.75</td><td>10</td><td>550.0</td><td>2024-01-10</td><td>24</td><td>300.25</td><td>2024-01-24</td></tr><tr><td>23</td><td>88</td><td>200.75</td><td>23</td><td>15000.75</td><td>2</td><td>150.0</td><td>2024-01-02</td><td>6</td><td>175.0</td><td>2024-01-06</td></tr><tr><td>8</td><td>67</td><td>2200.0</td><td>8</td><td>27500.0</td><td>37</td><td>1900.0</td><td>2024-02-06</td><td>68</td><td>275.75</td><td>2024-03-08</td></tr><tr><td>45</td><td>68</td><td>300.25</td><td>45</td><td>25000.25</td><td>1</td><td>100.0</td><td>2024-01-01</td><td>1</td><td>100.5</td><td>2024-01-01</td></tr><tr><td>29</td><td>58</td><td>75.25</td><td>29</td><td>32500.25</td><td>48</td><td>2450.0</td><td>2024-02-17</td><td>13</td><td>150.0</td><td>2024-01-13</td></tr><tr><td>21</td><td>53</td><td>300.25</td><td>21</td><td>10000.25</td><td>20</td><td>1050.0</td><td>2024-01-20</td><td>86</td><td>175.0</td><td>2024-03-26</td></tr><tr><td>12</td><td>81</td><td>2700.0</td><td>12</td><td>20000.0</td><td>5</td><td>300.0</td><td>2024-01-05</td><td>64</td><td>300.25</td><td>2024-03-04</td></tr><tr><td>61</td><td>52</td><td>500.25</td><td>61</td><td>10000.25</td><td>60</td><td>3050.0</td><td>2024-02-29</td><td>75</td><td>250.0</td><td>2024-03-15</td></tr><tr><td>99</td><td>80</td><td>975.75</td><td>99</td><td>32500.75</td><td>18</td><td>950.0</td><td>2024-01-18</td><td>17</td><td>225.5</td><td>2024-01-17</td></tr></tbody></table></div>"
      ]
     },
     "metadata": {
      "application/vnd.databricks.v1+output": {
       "addedWidgets": {},
       "aggData": [],
       "aggError": "",
       "aggOverflow": false,
       "aggSchema": [],
       "aggSeriesLimitReached": false,
       "aggType": "",
       "arguments": {},
       "columnCustomDisplayInfos": {},
       "data": [
        [
         55,
         63,
         425.75,
         55,
         25000.75,
         14,
         750.0,
         "2024-01-14",
         79,
         325.0,
         "2024-03-19"
        ],
        [
         33,
         85,
         150.25,
         33,
         15000.25,
         100,
         1000.0,
         "2024-04-10",
         70,
         375.25,
         "2024-03-10"
        ],
        [
         24,
         11,
         2600.0,
         24,
         30000.0,
         93,
         4700.0,
         "2024-04-02",
         46,
         175.0,
         "2024-02-15"
        ],
        [
         18,
         5,
         1600.5,
         18,
         27500.5,
         47,
         2400.0,
         "2024-02-16",
         16,
         175.0,
         "2024-01-16"
        ],
        [
         5,
         56,
         500.0,
         5,
         25000.0,
         64,
         3250.0,
         "2024-03-04",
         18,
         275.75,
         "2024-01-18"
        ],
        [
         83,
         82,
         775.75,
         83,
         15000.75,
         62,
         3150.0,
         "2024-03-02",
         43,
         150.0,
         "2024-02-12"
        ],
        [
         6,
         23,
         1200.5,
         6,
         17500.5,
         55,
         2800.0,
         "2024-02-24",
         48,
         275.75,
         "2024-02-17"
        ],
        [
         50,
         31,
         5100.5,
         50,
         37500.5,
         59,
         3000.0,
         "2024-02-28",
         100,
         550.25,
         "2024-04-09"
        ],
        [
         34,
         41,
         3500.5,
         34,
         30000.5,
         6,
         350.0,
         "2024-01-06",
         4,
         300.25,
         "2024-01-04"
        ],
        [
         80,
         30,
         8100.0,
         80,
         37500.0,
         89,
         4500.0,
         "2024-03-29",
         99,
         325.0,
         "2024-04-08"
        ],
        [
         74,
         43,
         7500.5,
         74,
         30000.5,
         43,
         2200.0,
         "2024-02-12",
         39,
         325.0,
         "2024-02-08"
        ],
        [
         30,
         32,
         3100.5,
         30,
         37500.5,
         39,
         2000.0,
         "2024-02-08",
         80,
         375.25,
         "2024-03-20"
        ],
        [
         69,
         59,
         600.25,
         69,
         32500.25,
         88,
         4450.0,
         "2024-03-28",
         65,
         250.0,
         "2024-03-05"
        ],
        [
         86,
         21,
         8700.5,
         86,
         17500.5,
         35,
         1800.0,
         "2024-02-04",
         53,
         150.0,
         "2024-02-22"
        ],
        [
         84,
         40,
         8500.0,
         84,
         30000.0,
         53,
         2700.0,
         "2024-02-22",
         63,
         150.0,
         "2024-03-03"
        ],
        [
         96,
         48,
         9700.0,
         96,
         17500.0,
         45,
         2300.0,
         "2024-02-14",
         67,
         225.5,
         "2024-03-07"
        ],
        [
         88,
         1,
         8900.0,
         88,
         27500.0,
         17,
         900.0,
         "2024-01-17",
         23,
         150.0,
         "2024-01-23"
        ],
        [
         39,
         74,
         225.75,
         39,
         32500.75,
         58,
         2950.0,
         "2024-02-27",
         94,
         300.25,
         "2024-04-03"
        ],
        [
         49,
         57,
         350.25,
         49,
         32500.25,
         68,
         3450.0,
         "2024-03-08",
         98,
         275.75,
         "2024-04-07"
        ],
        [
         82,
         2,
         8300.5,
         82,
         20000.5,
         71,
         3600.0,
         "2024-03-11",
         83,
         150.0,
         "2024-03-23"
        ],
        [
         53,
         86,
         400.25,
         53,
         15000.25,
         32,
         1650.0,
         "2024-02-01",
         21,
         100.5,
         "2024-01-21"
        ],
        [
         38,
         15,
         3900.5,
         38,
         27500.5,
         67,
         3400.0,
         "2024-03-07",
         90,
         375.25,
         "2024-03-30"
        ],
        [
         65,
         69,
         550.25,
         65,
         25000.25,
         24,
         1250.0,
         "2024-01-24",
         85,
         250.0,
         "2024-03-25"
        ],
        [
         86,
         21,
         8700.5,
         20,
         37500.0,
         29,
         1500.0,
         "2024-01-29",
         53,
         150.0,
         "2024-02-22"
        ],
        [
         15,
         47,
         700.75,
         15,
         25000.75,
         74,
         3750.0,
         "2024-03-14",
         38,
         275.75,
         "2024-02-07"
        ],
        [
         48,
         6,
         4900.0,
         48,
         27500.0,
         77,
         3900.0,
         "2024-03-17",
         96,
         175.0,
         "2024-04-05"
        ],
        [
         3,
         78,
         1500.0,
         3,
         15000.0,
         82,
         4150.0,
         "2024-03-22",
         11,
         100.5,
         "2024-01-11"
        ],
        [
         14,
         64,
         3200.5,
         14,
         30000.5,
         83,
         4200.0,
         "2024-03-23",
         9,
         325.0,
         "2024-01-09"
        ],
        [
         59,
         75,
         475.75,
         59,
         32500.75,
         78,
         3950.0,
         "2024-03-18",
         69,
         325.0,
         "2024-03-09"
        ],
        [
         4,
         34,
         3000.25,
         4,
         30000.25,
         73,
         3700.0,
         "2024-03-13",
         78,
         275.75,
         "2024-03-18"
        ],
        [
         20,
         21,
         2000.0,
         86,
         17500.5,
         35,
         1800.0,
         "2024-02-04",
         60,
         375.25,
         "2024-02-29"
        ],
        [
         64,
         12,
         6500.0,
         64,
         30000.0,
         33,
         1700.0,
         "2024-02-02",
         14,
         300.25,
         "2024-01-14"
        ],
        [
         89,
         54,
         850.25,
         89,
         32500.25,
         4,
         250.0,
         "2024-01-04",
         7,
         225.5,
         "2024-01-07"
        ],
        [
         93,
         79,
         900.25,
         93,
         15000.25,
         72,
         3650.0,
         "2024-03-12",
         87,
         225.5,
         "2024-03-27"
        ],
        [
         62,
         35,
         6300.5,
         62,
         20000.5,
         51,
         2600.0,
         "2024-02-20",
         35,
         250.0,
         "2024-02-04"
        ],
        [
         16,
         18,
         1400.0,
         16,
         17500.0,
         65,
         3300.0,
         "2024-03-05",
         58,
         275.75,
         "2024-02-27"
        ],
        [
         42,
         36,
         4300.5,
         42,
         20000.5,
         31,
         1600.0,
         "2024-01-31",
         54,
         300.25,
         "2024-02-23"
        ],
        [
         75,
         61,
         675.75,
         75,
         25000.75,
         34,
         1750.0,
         "2024-02-03",
         59,
         325.0,
         "2024-02-28"
        ],
        [
         2,
         12,
         2500.75,
         2,
         20000.75,
         91,
         4600.0,
         "2024-03-31",
         82,
         200.75,
         "2024-03-22"
        ],
        [
         52,
         10,
         5300.0,
         52,
         20000.0,
         41,
         2100.0,
         "2024-02-10",
         61,
         100.5,
         "2024-03-01"
        ],
        [
         33,
         85,
         150.25,
         33,
         15000.25,
         12,
         650.0,
         "2024-01-12",
         70,
         375.25,
         "2024-03-10"
        ],
        [
         26,
         25,
         2800.5,
         26,
         17500.5,
         75,
         3800.0,
         "2024-03-15",
         66,
         175.0,
         "2024-03-06"
        ],
        [
         19,
         76,
         400.75,
         19,
         32500.75,
         38,
         1950.0,
         "2024-02-07",
         40,
         375.25,
         "2024-02-09"
        ],
        [
         78,
         4,
         7900.5,
         78,
         27500.5,
         8,
         450.0,
         "2024-01-08",
         3,
         150.0,
         "2024-01-03"
        ],
        [
         73,
         87,
         650.25,
         73,
         15000.25,
         52,
         2650.0,
         "2024-02-21",
         71,
         100.5,
         "2024-03-11"
        ],
        [
         85,
         65,
         800.25,
         85,
         25000.25,
         44,
         2250.0,
         "2024-02-13",
         33,
         150.0,
         "2024-02-02"
        ],
        [
         28,
         7,
         2900.0,
         28,
         27500.0,
         57,
         2900.0,
         "2024-02-26",
         56,
         175.0,
         "2024-02-25"
        ],
        [
         72,
         17,
         7300.0,
         72,
         20000.0,
         61,
         3100.0,
         "2024-03-01",
         51,
         100.5,
         "2024-02-20"
        ],
        [
         40,
         19,
         4100.0,
         40,
         37500.0,
         49,
         2500.0,
         "2024-02-18",
         84,
         300.25,
         "2024-03-24"
        ],
        [
         90,
         38,
         9100.5,
         90,
         37500.5,
         9,
         500.0,
         "2024-01-09",
         97,
         225.5,
         "2024-04-06"
        ],
        [
         71,
         73,
         625.75,
         71,
         10000.75,
         70,
         3550.0,
         "2024-03-10",
         31,
         100.5,
         "2024-01-31"
        ],
        [
         20,
         21,
         2000.0,
         20,
         37500.0,
         29,
         1500.0,
         "2024-01-29",
         60,
         375.25,
         "2024-02-29"
        ],
        [
         56,
         28,
         5700.0,
         56,
         17500.0,
         7,
         400.0,
         "2024-01-07",
         5,
         250.0,
         "2024-01-05"
        ],
        [
         94,
         39,
         9500.5,
         94,
         30000.5,
         63,
         3200.0,
         "2024-03-03",
         27,
         225.5,
         "2024-01-27"
        ],
        [
         68,
         8,
         6900.0,
         68,
         27500.0,
         97,
         4900.0,
         "2024-04-06",
         45,
         250.0,
         "2024-02-14"
        ],
        [
         66,
         26,
         6700.5,
         66,
         17500.5,
         15,
         800.0,
         "2024-01-15",
         25,
         250.0,
         "2024-01-25"
        ],
        [
         36,
         27,
         3700.0,
         36,
         17500.0,
         85,
         4300.0,
         "2024-03-25",
         42,
         200.75,
         "2024-02-11"
        ],
        [
         76,
         22,
         7700.0,
         76,
         17500.0,
         25,
         1300.0,
         "2024-01-25",
         19,
         325.0,
         "2024-01-19"
        ],
        [
         91,
         77,
         875.75,
         91,
         10000.75,
         90,
         4550.0,
         "2024-03-30",
         77,
         225.5,
         "2024-03-17"
        ],
        [
         95,
         60,
         925.75,
         95,
         25000.75,
         54,
         2750.0,
         "2024-02-23",
         47,
         225.5,
         "2024-02-16"
        ],
        [
         33,
         85,
         150.25,
         33,
         15000.25,
         101,
         1000.0,
         "1900-01-01",
         70,
         375.25,
         "2024-03-10"
        ],
        [
         70,
         33,
         7100.5,
         70,
         37500.5,
         79,
         4000.0,
         "2024-03-19",
         81,
         100.5,
         "2024-03-21"
        ],
        [
         50,
         31,
         5100.5,
         50,
         37500.5,
         59,
         3000.0,
         "2024-02-28",
         101,
         400.25,
         "2024-04-09"
        ],
        [
         31,
         71,
         125.75,
         31,
         10000.75,
         30,
         1550.0,
         "2024-01-30",
         50,
         375.25,
         "2024-02-19"
        ],
        [
         13,
         29,
         1300.25,
         13,
         15000.25,
         92,
         4650.0,
         "2024-04-01",
         44,
         300.25,
         "2024-02-13"
        ],
        [
         21,
         53,
         300.25,
         21,
         10000.25,
         20,
         1050.0,
         "2024-01-20",
         20,
         375.25,
         "2024-01-20"
        ],
        [
         43,
         83,
         275.75,
         43,
         15000.75,
         22,
         1150.0,
         "2024-01-22",
         74,
         300.25,
         "2024-03-14"
        ],
        [
         2,
         12,
         2500.75,
         64,
         30000.0,
         33,
         1700.0,
         "2024-02-02",
         82,
         200.75,
         "2024-03-22"
        ],
        [
         60,
         20,
         6100.0,
         60,
         37500.0,
         69,
         3500.0,
         "2024-03-09",
         95,
         250.0,
         "2024-04-04"
        ],
        [
         98,
         49,
         9900.5,
         98,
         27500.5,
         27,
         1400.0,
         "2024-01-27",
         37,
         225.5,
         "2024-02-06"
        ],
        [
         92,
         44,
         9300.0,
         92,
         20000.0,
         81,
         4100.0,
         "2024-03-21",
         10,
         375.25,
         "2024-01-10"
        ],
        [
         25,
         66,
         100.25,
         25,
         25000.25,
         84,
         4250.0,
         "2024-03-24",
         26,
         175.0,
         "2024-01-26"
        ],
        [
         1,
         45,
         1000.5,
         1,
         10000.5,
         99,
         5000.0,
         "2024-04-08",
         88,
         275.75,
         "2024-03-28"
        ],
        [
         79,
         55,
         725.75,
         79,
         32500.75,
         98,
         4950.0,
         "2024-04-07",
         93,
         150.0,
         "2024-04-02"
        ],
        [
         63,
         84,
         525.75,
         63,
         15000.75,
         42,
         2150.0,
         "2024-02-11",
         55,
         250.0,
         "2024-02-24"
        ],
        [
         44,
         13,
         4500.0,
         44,
         30000.0,
         13,
         700.0,
         "2024-01-13",
         92,
         200.75,
         "2024-04-01"
        ],
        [
         81,
         70,
         750.25,
         81,
         10000.25,
         80,
         4050.0,
         "2024-03-20",
         12,
         200.75,
         "2024-01-12"
        ],
        [
         12,
         81,
         2700.0,
         12,
         20000.0,
         5,
         300.0,
         "2024-01-05",
         2,
         200.75,
         "2024-01-02"
        ],
        [
         51,
         72,
         375.75,
         51,
         10000.75,
         50,
         2550.0,
         "2024-02-19",
         41,
         100.5,
         "2024-02-10"
        ],
        [
         22,
         37,
         2400.5,
         22,
         20000.5,
         11,
         600.0,
         "2024-01-11",
         76,
         175.0,
         "2024-03-16"
        ],
        [
         54,
         42,
         5500.5,
         54,
         30000.5,
         23,
         1200.0,
         "2024-01-23",
         89,
         325.0,
         "2024-03-29"
        ],
        [
         58,
         16,
         5900.5,
         58,
         27500.5,
         87,
         4400.0,
         "2024-03-27",
         29,
         325.0,
         "2024-01-29"
        ],
        [
         41,
         51,
         250.25,
         41,
         10000.25,
         40,
         2050.0,
         "2024-02-09",
         34,
         300.25,
         "2024-02-03"
        ],
        [
         64,
         12,
         6500.0,
         2,
         20000.75,
         91,
         4600.0,
         "2024-03-31",
         14,
         300.25,
         "2024-01-14"
        ],
        [
         32,
         9,
         3300.0,
         32,
         20000.0,
         21,
         1100.0,
         "2024-01-21",
         30,
         375.25,
         "2024-01-30"
        ],
        [
         9,
         14,
         900.25,
         9,
         32500.25,
         28,
         1450.0,
         "2024-01-28",
         32,
         200.75,
         "2024-02-01"
        ],
        [
         35,
         62,
         175.75,
         35,
         25000.75,
         94,
         4750.0,
         "2024-04-03",
         62,
         200.75,
         "2024-03-02"
        ],
        [
         11,
         3,
         1100.75,
         11,
         10000.75,
         10,
         550.0,
         "2024-01-10",
         24,
         300.25,
         "2024-01-24"
        ],
        [
         23,
         88,
         200.75,
         23,
         15000.75,
         2,
         150.0,
         "2024-01-02",
         6,
         175.0,
         "2024-01-06"
        ],
        [
         8,
         67,
         2200.0,
         8,
         27500.0,
         37,
         1900.0,
         "2024-02-06",
         68,
         275.75,
         "2024-03-08"
        ],
        [
         45,
         68,
         300.25,
         45,
         25000.25,
         1,
         100.0,
         "2024-01-01",
         1,
         100.5,
         "2024-01-01"
        ],
        [
         29,
         58,
         75.25,
         29,
         32500.25,
         48,
         2450.0,
         "2024-02-17",
         13,
         150.0,
         "2024-01-13"
        ],
        [
         21,
         53,
         300.25,
         21,
         10000.25,
         20,
         1050.0,
         "2024-01-20",
         86,
         175.0,
         "2024-03-26"
        ],
        [
         12,
         81,
         2700.0,
         12,
         20000.0,
         5,
         300.0,
         "2024-01-05",
         64,
         300.25,
         "2024-03-04"
        ],
        [
         61,
         52,
         500.25,
         61,
         10000.25,
         60,
         3050.0,
         "2024-02-29",
         75,
         250.0,
         "2024-03-15"
        ],
        [
         99,
         80,
         975.75,
         99,
         32500.75,
         18,
         950.0,
         "2024-01-18",
         17,
         225.5,
         "2024-01-17"
        ]
       ],
       "datasetInfos": [],
       "dbfsResultPath": null,
       "isJsonSchema": true,
       "metadata": {},
       "overflow": false,
       "plotOptions": {
        "customPlotOptions": {},
        "displayType": "table",
        "pivotAggregation": null,
        "pivotColumns": null,
        "xColumns": null,
        "yColumns": null
       },
       "removedWidgets": [],
       "schema": [
        {
         "metadata": "{}",
         "name": "AccountId",
         "type": "\"integer\""
        },
        {
         "metadata": "{}",
         "name": "CustomerId",
         "type": "\"integer\""
        },
        {
         "metadata": "{}",
         "name": "Balance",
         "type": "\"double\""
        },
        {
         "metadata": "{}",
         "name": "LoanId",
         "type": "\"integer\""
        },
        {
         "metadata": "{}",
         "name": "LoanAmount",
         "type": "\"double\""
        },
        {
         "metadata": "{}",
         "name": "PaymentId",
         "type": "\"integer\""
        },
        {
         "metadata": "{}",
         "name": "PaymentAmount",
         "type": "\"double\""
        },
        {
         "metadata": "{}",
         "name": "PaymentDate",
         "type": "\"date\""
        },
        {
         "metadata": "{}",
         "name": "TransactionId",
         "type": "\"integer\""
        },
        {
         "metadata": "{}",
         "name": "TransactionAmount",
         "type": "\"double\""
        },
        {
         "metadata": "{}",
         "name": "TransactionDate",
         "type": "\"date\""
        }
       ],
       "type": "table"
      }
     },
     "output_type": "display_data"
    }
   ],
   "source": [
    "# Join all processed DataFrames to create a unified view for analysis and to generate a PowerBI report using it.\n",
    "\n",
    "joined_df = accounts_df.join(customers_df, \"CustomerId\", \"inner\")\\\n",
    "    .join(loans_df, \"CustomerId\", \"inner\")\\\n",
    "    .join(loan_payments_df, \"LoanId\", \"inner\")\\\n",
    "    .join(transactions_df, \"AccountId\", \"inner\")\\\n",
    "    .distinct()\\\n",
    "    .select(\"AccountId\", \"CustomerId\", \"Balance\", \"LoanId\", \"LoanAmount\", \"PaymentId\",\\\n",
    "         \"PaymentAmount\", \"PaymentDate\", \"TransactionId\", \"TransactionAmount\", \"TransactionDate\")\\\n",
    "    \n",
    "\n",
    "display(joined_df)\n"
   ]
  },
  {
   "cell_type": "code",
   "execution_count": 0,
   "metadata": {
    "application/vnd.databricks.v1+cell": {
     "cellMetadata": {
      "byteLimit": 2048000,
      "rowLimit": 10000
     },
     "inputWidgets": {},
     "nuid": "a392c54c-bb91-4ee9-9eeb-ee54f947383a",
     "showTitle": false,
     "tableResultSettingsMap": {},
     "title": ""
    }
   },
   "outputs": [
    {
     "output_type": "execute_result",
     "data": {
      "text/plain": [
       "DataFrame[AccountId: int, CustomerId: int, Balance: double, LoanId: int, LoanAmount: double, PaymentId: int, PaymentAmount: double, PaymentDate: date, TransactionId: int, TransactionAmount: double, TransactionDate: date]"
      ]
     },
     "execution_count": 22,
     "metadata": {},
     "output_type": "execute_result"
    }
   ],
   "source": [
    "# Save cleaned and joined DataFrames to Silver Layer in Parquet format\n",
    "\n",
    "put_adls_data(\"/mnt/project2-container/Silver_Layer/\", \"parquet\", accounts_df, \"accounts\", \"overwrite\")\n",
    "put_adls_data(\"/mnt/project2-container/Silver_Layer/\", \"parquet\", customers_df, \"customers\", \"overwrite\")\n",
    "put_adls_data(\"/mnt/project2-container/Silver_Layer/\", \"parquet\", loan_payments_df, \"loan_payments\", \"overwrite\")\n",
    "put_adls_data(\"/mnt/project2-container/Silver_Layer/\", \"parquet\", loans_df, \"loans\", \"overwrite\")\n",
    "put_adls_data(\"/mnt/project2-container/Silver_Layer/\", \"parquet\", transactions_df, \"transactions\", \"overwrite\")\n",
    "\n",
    "put_adls_data(\"/mnt/project2-container/Silver_Layer/\", \"parquet\", joined_df, \"joined_data\", \"append\")\n"
   ]
  },
  {
   "cell_type": "code",
   "execution_count": 0,
   "metadata": {
    "application/vnd.databricks.v1+cell": {
     "cellMetadata": {
      "byteLimit": 2048000,
      "rowLimit": 10000
     },
     "inputWidgets": {},
     "nuid": "58932941-7b1c-4672-ad26-e83fba938b25",
     "showTitle": false,
     "tableResultSettingsMap": {},
     "title": ""
    }
   },
   "outputs": [],
   "source": [
    "all_data_df=[]\n",
    "\n",
    "for i in range(0,len(files)):\n",
    "    all_data_df.append(get_adls_data(\"/mnt/project2-container/Silver_Layer/\", \"parquet\", files[i]\\\n",
    "        .replace(\".csv\", \"\")))\n"
   ]
  },
  {
   "cell_type": "code",
   "execution_count": 0,
   "metadata": {
    "application/vnd.databricks.v1+cell": {
     "cellMetadata": {
      "byteLimit": 2048000,
      "rowLimit": 10000
     },
     "inputWidgets": {},
     "nuid": "9e0fba7f-214f-4a8d-8be5-a5bb4ac29eda",
     "showTitle": false,
     "tableResultSettingsMap": {},
     "title": ""
    }
   },
   "outputs": [
    {
     "output_type": "display_data",
     "data": {
      "text/html": [
       "<style scoped>\n",
       "  .table-result-container {\n",
       "    max-height: 300px;\n",
       "    overflow: auto;\n",
       "  }\n",
       "  table, th, td {\n",
       "    border: 1px solid black;\n",
       "    border-collapse: collapse;\n",
       "  }\n",
       "  th, td {\n",
       "    padding: 5px;\n",
       "  }\n",
       "  th {\n",
       "    text-align: left;\n",
       "  }\n",
       "</style><div class='table-result-container'><table class='table-result'><thead style='background-color: white'><tr><th>AccountId</th><th>CustomerId</th><th>AccountType</th><th>Balance</th></tr></thead><tbody><tr><td>54</td><td>42</td><td>Checking</td><td>5500.5</td></tr><tr><td>88</td><td>1</td><td>Checking</td><td>8900.0</td></tr><tr><td>82</td><td>2</td><td>Checking</td><td>8300.5</td></tr><tr><td>92</td><td>44</td><td>Checking</td><td>9300.0</td></tr><tr><td>21</td><td>53</td><td>Savings</td><td>300.25</td></tr><tr><td>29</td><td>58</td><td>Savings</td><td>75.25</td></tr><tr><td>35</td><td>62</td><td>Savings</td><td>175.75</td></tr><tr><td>38</td><td>15</td><td>Checking</td><td>3900.5</td></tr><tr><td>72</td><td>17</td><td>Checking</td><td>7300.0</td></tr><tr><td>33</td><td>85</td><td>Savings</td><td>150.25</td></tr><tr><td>45</td><td>68</td><td>Savings</td><td>300.25</td></tr><tr><td>86</td><td>21</td><td>Checking</td><td>8700.5</td></tr><tr><td>51</td><td>72</td><td>Savings</td><td>375.75</td></tr><tr><td>84</td><td>40</td><td>Checking</td><td>8500.0</td></tr><tr><td>5</td><td>56</td><td>Savings</td><td>500.0</td></tr><tr><td>15</td><td>47</td><td>Savings</td><td>700.75</td></tr><tr><td>98</td><td>49</td><td>Checking</td><td>9900.5</td></tr><tr><td>27</td><td>94</td><td>Savings</td><td>50.75</td></tr><tr><td>31</td><td>71</td><td>Savings</td><td>125.75</td></tr><tr><td>22</td><td>37</td><td>Checking</td><td>2400.5</td></tr><tr><td>56</td><td>28</td><td>Checking</td><td>5700.0</td></tr><tr><td>83</td><td>82</td><td>Savings</td><td>775.75</td></tr><tr><td>17</td><td>99</td><td>Savings</td><td>600.25</td></tr><tr><td>69</td><td>59</td><td>Savings</td><td>600.25</td></tr><tr><td>14</td><td>64</td><td>Checking</td><td>3200.5</td></tr><tr><td>90</td><td>38</td><td>Checking</td><td>9100.5</td></tr><tr><td>77</td><td>91</td><td>Savings</td><td>700.25</td></tr><tr><td>70</td><td>33</td><td>Checking</td><td>7100.5</td></tr><tr><td>34</td><td>41</td><td>Checking</td><td>3500.5</td></tr><tr><td>95</td><td>60</td><td>Savings</td><td>925.75</td></tr><tr><td>28</td><td>7</td><td>Checking</td><td>2900.0</td></tr><tr><td>1</td><td>45</td><td>Savings</td><td>1000.5</td></tr><tr><td>23</td><td>88</td><td>Savings</td><td>200.75</td></tr><tr><td>26</td><td>25</td><td>Checking</td><td>2800.5</td></tr><tr><td>52</td><td>10</td><td>Checking</td><td>5300.0</td></tr><tr><td>68</td><td>8</td><td>Checking</td><td>6900.0</td></tr><tr><td>32</td><td>9</td><td>Checking</td><td>3300.0</td></tr><tr><td>40</td><td>19</td><td>Checking</td><td>4100.0</td></tr><tr><td>30</td><td>32</td><td>Checking</td><td>3100.5</td></tr><tr><td>73</td><td>87</td><td>Savings</td><td>650.25</td></tr><tr><td>53</td><td>86</td><td>Savings</td><td>400.25</td></tr><tr><td>63</td><td>84</td><td>Savings</td><td>525.75</td></tr><tr><td>99</td><td>80</td><td>Savings</td><td>975.75</td></tr><tr><td>60</td><td>20</td><td>Checking</td><td>6100.0</td></tr><tr><td>78</td><td>4</td><td>Checking</td><td>7900.5</td></tr><tr><td>25</td><td>66</td><td>Savings</td><td>100.25</td></tr><tr><td>8</td><td>67</td><td>Checking</td><td>2200.0</td></tr><tr><td>75</td><td>61</td><td>Savings</td><td>675.75</td></tr><tr><td>94</td><td>39</td><td>Checking</td><td>9500.5</td></tr><tr><td>13</td><td>29</td><td>Savings</td><td>1300.25</td></tr><tr><td>48</td><td>6</td><td>Checking</td><td>4900.0</td></tr><tr><td>100</td><td>50</td><td>Checking</td><td>10100.0</td></tr><tr><td>46</td><td>24</td><td>Checking</td><td>4700.5</td></tr><tr><td>76</td><td>22</td><td>Checking</td><td>7700.0</td></tr><tr><td>42</td><td>36</td><td>Checking</td><td>4300.5</td></tr><tr><td>87</td><td>93</td><td>Savings</td><td>825.75</td></tr><tr><td>79</td><td>55</td><td>Savings</td><td>725.75</td></tr><tr><td>91</td><td>77</td><td>Savings</td><td>875.75</td></tr><tr><td>39</td><td>74</td><td>Savings</td><td>225.75</td></tr><tr><td>19</td><td>76</td><td>Savings</td><td>400.75</td></tr><tr><td>58</td><td>16</td><td>Checking</td><td>5900.5</td></tr><tr><td>50</td><td>31</td><td>Checking</td><td>5100.5</td></tr><tr><td>59</td><td>75</td><td>Savings</td><td>475.75</td></tr><tr><td>67</td><td>96</td><td>Savings</td><td>575.75</td></tr><tr><td>10</td><td>92</td><td>Checking</td><td>1800.5</td></tr><tr><td>71</td><td>73</td><td>Savings</td><td>625.75</td></tr><tr><td>37</td><td>98</td><td>Savings</td><td>200.25</td></tr><tr><td>81</td><td>70</td><td>Savings</td><td>750.25</td></tr><tr><td>85</td><td>65</td><td>Savings</td><td>800.25</td></tr><tr><td>93</td><td>79</td><td>Savings</td><td>900.25</td></tr><tr><td>12</td><td>81</td><td>Checking</td><td>2700.0</td></tr><tr><td>49</td><td>57</td><td>Savings</td><td>350.25</td></tr><tr><td>18</td><td>5</td><td>Checking</td><td>1600.5</td></tr><tr><td>96</td><td>48</td><td>Checking</td><td>9700.0</td></tr><tr><td>24</td><td>11</td><td>Checking</td><td>2600.0</td></tr><tr><td>61</td><td>52</td><td>Savings</td><td>500.25</td></tr><tr><td>47</td><td>95</td><td>Savings</td><td>325.75</td></tr><tr><td>74</td><td>43</td><td>Checking</td><td>7500.5</td></tr><tr><td>9</td><td>14</td><td>Savings</td><td>900.25</td></tr><tr><td>65</td><td>69</td><td>Savings</td><td>550.25</td></tr><tr><td>36</td><td>27</td><td>Checking</td><td>3700.0</td></tr><tr><td>66</td><td>26</td><td>Checking</td><td>6700.5</td></tr><tr><td>16</td><td>18</td><td>Checking</td><td>1400.0</td></tr><tr><td>64</td><td>12</td><td>Checking</td><td>6500.0</td></tr><tr><td>89</td><td>54</td><td>Savings</td><td>850.25</td></tr><tr><td>3</td><td>78</td><td>Savings</td><td>1500.0</td></tr><tr><td>4</td><td>34</td><td>Checking</td><td>3000.25</td></tr><tr><td>6</td><td>23</td><td>Checking</td><td>1200.5</td></tr><tr><td>55</td><td>63</td><td>Savings</td><td>425.75</td></tr><tr><td>11</td><td>3</td><td>Savings</td><td>1100.75</td></tr><tr><td>43</td><td>83</td><td>Savings</td><td>275.75</td></tr><tr><td>20</td><td>21</td><td>Checking</td><td>2000.0</td></tr><tr><td>57</td><td>97</td><td>Savings</td><td>450.25</td></tr><tr><td>7</td><td>89</td><td>Savings</td><td>800.75</td></tr><tr><td>80</td><td>30</td><td>Checking</td><td>8100.0</td></tr><tr><td>41</td><td>51</td><td>Savings</td><td>250.25</td></tr><tr><td>44</td><td>13</td><td>Checking</td><td>4500.0</td></tr><tr><td>2</td><td>12</td><td>Checking</td><td>2500.75</td></tr><tr><td>62</td><td>35</td><td>Checking</td><td>6300.5</td></tr><tr><td>97</td><td>90</td><td>Savings</td><td>950.25</td></tr></tbody></table></div>"
      ]
     },
     "metadata": {
      "application/vnd.databricks.v1+output": {
       "addedWidgets": {},
       "aggData": [],
       "aggError": "",
       "aggOverflow": false,
       "aggSchema": [],
       "aggSeriesLimitReached": false,
       "aggType": "",
       "arguments": {},
       "columnCustomDisplayInfos": {},
       "data": [
        [
         54,
         42,
         "Checking",
         5500.5
        ],
        [
         88,
         1,
         "Checking",
         8900.0
        ],
        [
         82,
         2,
         "Checking",
         8300.5
        ],
        [
         92,
         44,
         "Checking",
         9300.0
        ],
        [
         21,
         53,
         "Savings",
         300.25
        ],
        [
         29,
         58,
         "Savings",
         75.25
        ],
        [
         35,
         62,
         "Savings",
         175.75
        ],
        [
         38,
         15,
         "Checking",
         3900.5
        ],
        [
         72,
         17,
         "Checking",
         7300.0
        ],
        [
         33,
         85,
         "Savings",
         150.25
        ],
        [
         45,
         68,
         "Savings",
         300.25
        ],
        [
         86,
         21,
         "Checking",
         8700.5
        ],
        [
         51,
         72,
         "Savings",
         375.75
        ],
        [
         84,
         40,
         "Checking",
         8500.0
        ],
        [
         5,
         56,
         "Savings",
         500.0
        ],
        [
         15,
         47,
         "Savings",
         700.75
        ],
        [
         98,
         49,
         "Checking",
         9900.5
        ],
        [
         27,
         94,
         "Savings",
         50.75
        ],
        [
         31,
         71,
         "Savings",
         125.75
        ],
        [
         22,
         37,
         "Checking",
         2400.5
        ],
        [
         56,
         28,
         "Checking",
         5700.0
        ],
        [
         83,
         82,
         "Savings",
         775.75
        ],
        [
         17,
         99,
         "Savings",
         600.25
        ],
        [
         69,
         59,
         "Savings",
         600.25
        ],
        [
         14,
         64,
         "Checking",
         3200.5
        ],
        [
         90,
         38,
         "Checking",
         9100.5
        ],
        [
         77,
         91,
         "Savings",
         700.25
        ],
        [
         70,
         33,
         "Checking",
         7100.5
        ],
        [
         34,
         41,
         "Checking",
         3500.5
        ],
        [
         95,
         60,
         "Savings",
         925.75
        ],
        [
         28,
         7,
         "Checking",
         2900.0
        ],
        [
         1,
         45,
         "Savings",
         1000.5
        ],
        [
         23,
         88,
         "Savings",
         200.75
        ],
        [
         26,
         25,
         "Checking",
         2800.5
        ],
        [
         52,
         10,
         "Checking",
         5300.0
        ],
        [
         68,
         8,
         "Checking",
         6900.0
        ],
        [
         32,
         9,
         "Checking",
         3300.0
        ],
        [
         40,
         19,
         "Checking",
         4100.0
        ],
        [
         30,
         32,
         "Checking",
         3100.5
        ],
        [
         73,
         87,
         "Savings",
         650.25
        ],
        [
         53,
         86,
         "Savings",
         400.25
        ],
        [
         63,
         84,
         "Savings",
         525.75
        ],
        [
         99,
         80,
         "Savings",
         975.75
        ],
        [
         60,
         20,
         "Checking",
         6100.0
        ],
        [
         78,
         4,
         "Checking",
         7900.5
        ],
        [
         25,
         66,
         "Savings",
         100.25
        ],
        [
         8,
         67,
         "Checking",
         2200.0
        ],
        [
         75,
         61,
         "Savings",
         675.75
        ],
        [
         94,
         39,
         "Checking",
         9500.5
        ],
        [
         13,
         29,
         "Savings",
         1300.25
        ],
        [
         48,
         6,
         "Checking",
         4900.0
        ],
        [
         100,
         50,
         "Checking",
         10100.0
        ],
        [
         46,
         24,
         "Checking",
         4700.5
        ],
        [
         76,
         22,
         "Checking",
         7700.0
        ],
        [
         42,
         36,
         "Checking",
         4300.5
        ],
        [
         87,
         93,
         "Savings",
         825.75
        ],
        [
         79,
         55,
         "Savings",
         725.75
        ],
        [
         91,
         77,
         "Savings",
         875.75
        ],
        [
         39,
         74,
         "Savings",
         225.75
        ],
        [
         19,
         76,
         "Savings",
         400.75
        ],
        [
         58,
         16,
         "Checking",
         5900.5
        ],
        [
         50,
         31,
         "Checking",
         5100.5
        ],
        [
         59,
         75,
         "Savings",
         475.75
        ],
        [
         67,
         96,
         "Savings",
         575.75
        ],
        [
         10,
         92,
         "Checking",
         1800.5
        ],
        [
         71,
         73,
         "Savings",
         625.75
        ],
        [
         37,
         98,
         "Savings",
         200.25
        ],
        [
         81,
         70,
         "Savings",
         750.25
        ],
        [
         85,
         65,
         "Savings",
         800.25
        ],
        [
         93,
         79,
         "Savings",
         900.25
        ],
        [
         12,
         81,
         "Checking",
         2700.0
        ],
        [
         49,
         57,
         "Savings",
         350.25
        ],
        [
         18,
         5,
         "Checking",
         1600.5
        ],
        [
         96,
         48,
         "Checking",
         9700.0
        ],
        [
         24,
         11,
         "Checking",
         2600.0
        ],
        [
         61,
         52,
         "Savings",
         500.25
        ],
        [
         47,
         95,
         "Savings",
         325.75
        ],
        [
         74,
         43,
         "Checking",
         7500.5
        ],
        [
         9,
         14,
         "Savings",
         900.25
        ],
        [
         65,
         69,
         "Savings",
         550.25
        ],
        [
         36,
         27,
         "Checking",
         3700.0
        ],
        [
         66,
         26,
         "Checking",
         6700.5
        ],
        [
         16,
         18,
         "Checking",
         1400.0
        ],
        [
         64,
         12,
         "Checking",
         6500.0
        ],
        [
         89,
         54,
         "Savings",
         850.25
        ],
        [
         3,
         78,
         "Savings",
         1500.0
        ],
        [
         4,
         34,
         "Checking",
         3000.25
        ],
        [
         6,
         23,
         "Checking",
         1200.5
        ],
        [
         55,
         63,
         "Savings",
         425.75
        ],
        [
         11,
         3,
         "Savings",
         1100.75
        ],
        [
         43,
         83,
         "Savings",
         275.75
        ],
        [
         20,
         21,
         "Checking",
         2000.0
        ],
        [
         57,
         97,
         "Savings",
         450.25
        ],
        [
         7,
         89,
         "Savings",
         800.75
        ],
        [
         80,
         30,
         "Checking",
         8100.0
        ],
        [
         41,
         51,
         "Savings",
         250.25
        ],
        [
         44,
         13,
         "Checking",
         4500.0
        ],
        [
         2,
         12,
         "Checking",
         2500.75
        ],
        [
         62,
         35,
         "Checking",
         6300.5
        ],
        [
         97,
         90,
         "Savings",
         950.25
        ]
       ],
       "datasetInfos": [],
       "dbfsResultPath": null,
       "isJsonSchema": true,
       "metadata": {},
       "overflow": false,
       "plotOptions": {
        "customPlotOptions": {},
        "displayType": "table",
        "pivotAggregation": null,
        "pivotColumns": null,
        "xColumns": null,
        "yColumns": null
       },
       "removedWidgets": [],
       "schema": [
        {
         "metadata": "{}",
         "name": "AccountId",
         "type": "\"integer\""
        },
        {
         "metadata": "{}",
         "name": "CustomerId",
         "type": "\"integer\""
        },
        {
         "metadata": "{}",
         "name": "AccountType",
         "type": "\"string\""
        },
        {
         "metadata": "{}",
         "name": "Balance",
         "type": "\"double\""
        }
       ],
       "type": "table"
      }
     },
     "output_type": "display_data"
    },
    {
     "output_type": "display_data",
     "data": {
      "text/html": [
       "<style scoped>\n",
       "  .table-result-container {\n",
       "    max-height: 300px;\n",
       "    overflow: auto;\n",
       "  }\n",
       "  table, th, td {\n",
       "    border: 1px solid black;\n",
       "    border-collapse: collapse;\n",
       "  }\n",
       "  th, td {\n",
       "    padding: 5px;\n",
       "  }\n",
       "  th {\n",
       "    text-align: left;\n",
       "  }\n",
       "</style><div class='table-result-container'><table class='table-result'><thead style='background-color: white'><tr><th>CustomerId</th><th>FirstName</th><th>LastName</th><th>Address</th><th>City</th><th>State</th><th>Zip</th></tr></thead><tbody><tr><td>45</td><td>Christopher</td><td>Ward</td><td>4444 Maple Ave</td><td>Keswick</td><td>ON</td><td>L4P0A1</td></tr><tr><td>68</td><td>Charlotte</td><td>Griffin</td><td>6767 Poplar St</td><td>Victoria Harbour</td><td>ON</td><td>L0K0A1</td></tr><tr><td>86</td><td>Olivia</td><td>Gibson</td><td>8585 Elm St</td><td>New Liskeard</td><td>ON</td><td>P0J0A1</td></tr><tr><td>80</td><td>Emily</td><td>Jordan</td><td>8888 Airport rd</td><td>North Bay</td><td>ON</td><td>P1B0A1</td></tr><tr><td>37</td><td>Alexander</td><td>Bell</td><td>3636 Redwood Dr</td><td>Stratford</td><td>ON</td><td>N5A0A1</td></tr><tr><td>83</td><td>David</td><td>Fisher</td><td>8282 Ash Blvd</td><td>Verner</td><td>ON</td><td>P0H0A1</td></tr><tr><td>73</td><td>Andrew</td><td>Hamilton</td><td>7272 Maple Ave</td><td>Gravenhurst</td><td>ON</td><td>P1P0A1</td></tr><tr><td>34</td><td>Olivia</td><td>Reed</td><td>3333 Birch Blvd</td><td>Orillia</td><td>ON</td><td>L3V0A1</td></tr><tr><td>3</td><td>Michael</td><td>Johnson</td><td>789 Oak Dr</td><td>Montreal</td><td>QC</td><td>H1A1A1</td></tr><tr><td>9</td><td>William</td><td>Lopez</td><td>808 Redwood Dr</td><td>Victoria</td><td>BC</td><td>V8W0A1</td></tr><tr><td>28</td><td>Emily</td><td>Edwards</td><td>2727 Beech Dr</td><td>Brantford</td><td>ON</td><td>N3T0A1</td></tr><tr><td>43</td><td>Joseph</td><td>Cox</td><td>4242 Cedar Ln</td><td>Aurora</td><td>ON</td><td>L4G0A1</td></tr><tr><td>50</td><td>Evelyn</td><td>Barnes</td><td>4949 Fir St</td><td>Sutton</td><td>ON</td><td>L0E0A1</td></tr><tr><td>69</td><td>Joseph</td><td>Diaz</td><td>6868 Ash Blvd</td><td>Port McNicoll</td><td>ON</td><td>L0K0A1</td></tr><tr><td>56</td><td>Elizabeth</td><td>Long</td><td>5555 Beech Dr</td><td>East Gwillimbury</td><td>ON</td><td>L9N0A1</td></tr><tr><td>70</td><td>Amelia</td><td>Hayes</td><td>6969 Beech Dr</td><td>Unknown</td><td>ON</td><td>L0K0A1</td></tr><tr><td>25</td><td>Daniel</td><td>Campbell</td><td>2424 Willow Rd</td><td>St. Catharines</td><td>ON</td><td>L2R0A1</td></tr><tr><td>44</td><td>Amelia</td><td>Howard</td><td>4343 Elm St</td><td>Bradford</td><td>ON</td><td>L3Z0A1</td></tr><tr><td>85</td><td>John</td><td>Harrison</td><td>8484 Cedar Ln</td><td>Temagami</td><td>ON</td><td>P0H0A1</td></tr><tr><td>64</td><td>Isabella</td><td>Gonzalez</td><td>6363 Fir St</td><td>Wasaga Beach</td><td>ON</td><td>L9Z0A1</td></tr><tr><td>38</td><td>Isabella</td><td>Murphy</td><td>3737 Cypress Ave</td><td>Woodstock</td><td>ON</td><td>N4S0A1</td></tr><tr><td>77</td><td>Daniel</td><td>Woods</td><td>7676 Spruce Ln</td><td>Burks Falls</td><td>ON</td><td>P0A0A1</td></tr><tr><td>40</td><td>Sophia</td><td>Rivera</td><td>3939 Poplar St</td><td>Milton</td><td>ON</td><td>L9T0A1</td></tr><tr><td>13</td><td>Daniel</td><td>Harris</td><td>1212 Ash Blvd</td><td>Charlottetown</td><td>PE</td><td>C1A0A1</td></tr><tr><td>65</td><td>Daniel</td><td>Bryant</td><td>6464 Redwood Dr</td><td>Elmvale</td><td>ON</td><td>L0L0A1</td></tr><tr><td>16</td><td>Charlotte</td><td>Scott</td><td>1515 Elm St</td><td>Iqaluit</td><td>NU</td><td>X0A0A1</td></tr><tr><td>87</td><td>William</td><td>McDonald</td><td>8686 Maple Ave</td><td>Haileybury</td><td>ON</td><td>P0J0A1</td></tr><tr><td>67</td><td>Matthew</td><td>Russell</td><td>6666 Willow Rd</td><td>Penetanguishene</td><td>ON</td><td>L9M0A1</td></tr><tr><td>6</td><td>Emma</td><td>Clark</td><td>505 Cedar St</td><td>Halifax</td><td>NS</td><td>B3H0A1</td></tr><tr><td>1</td><td>John</td><td>Doe</td><td>123 Elm St</td><td>Toronto</td><td>ON</td><td>M4B1B3</td></tr><tr><td>81</td><td>Michael</td><td>Owens</td><td>8080 Willow Rd</td><td>Mattawa</td><td>ON</td><td>P0H0A1</td></tr><tr><td>2</td><td>Jane</td><td>Smith</td><td>456 Maple Ave</td><td>Ottawa</td><td>ON</td><td>K1A0B1</td></tr><tr><td>78</td><td>Abigail</td><td>Cole</td><td>7777 Fir St</td><td>Sundridge</td><td>ON</td><td>P0A0A1</td></tr><tr><td>76</td><td>Evelyn</td><td>Wallace</td><td>7575 Birch Blvd</td><td>Huntsville</td><td>ON</td><td>P1H0A1</td></tr><tr><td>53</td><td>James</td><td>Jenkins</td><td>5252 Willow Rd</td><td>Queensville</td><td>ON</td><td>L0G0A1</td></tr><tr><td>55</td><td>Michael</td><td>Butler</td><td>5454 Ash Blvd</td><td>Holland Landing</td><td>ON</td><td>L9N0A1</td></tr><tr><td>36</td><td>Ava</td><td>Morgan</td><td>3535 Fir St</td><td>Collingwood</td><td>ON</td><td>L9Y0A1</td></tr><tr><td>14</td><td>Sophia</td><td>Young</td><td>1313 Beech Dr</td><td>Yellowknife</td><td>NT</td><td>X1A0A1</td></tr><tr><td>31</td><td>David</td><td>Sanchez</td><td>3030 Maple Ave</td><td>North Bay</td><td>ON</td><td>P1B0A1</td></tr><tr><td>41</td><td>Matthew</td><td>Cooper</td><td>4040 Ash Blvd</td><td>Georgetown</td><td>ON</td><td>L7G0A1</td></tr><tr><td>24</td><td>Evelyn</td><td>Phillips</td><td>2323 Cypress Ave</td><td>Kingston</td><td>ON</td><td>K7L0A1</td></tr><tr><td>72</td><td>Mia</td><td>Ford</td><td>7171 Elm St</td><td>Orillia</td><td>ON</td><td>L3V0A1</td></tr><tr><td>42</td><td>Charlotte</td><td>Richardson</td><td>4141 Beech Dr</td><td>Newmarket</td><td>ON</td><td>L3Y0A1</td></tr><tr><td>12</td><td>Isabella</td><td>Lee</td><td>1111 Poplar St</td><td>Fredericton</td><td>NB</td><td>E3B0A1</td></tr><tr><td>84</td><td>Sophia</td><td>Ellis</td><td>8383 Beech Dr</td><td>Field</td><td>ON</td><td>P0H0A1</td></tr><tr><td>33</td><td>John</td><td>Rogers</td><td>3232 Pine Rd</td><td>Timmins</td><td>ON</td><td>P4N0A1</td></tr><tr><td>58</td><td>Sophia</td><td>Hughes</td><td>5757 Elm St</td><td>Nobleton</td><td>ON</td><td>L0G0A1</td></tr><tr><td>39</td><td>Daniel</td><td>Bailey</td><td>3838 Willow Rd</td><td>Orangeville</td><td>ON</td><td>L9W0A1</td></tr><tr><td>54</td><td>Emily</td><td>Perry</td><td>5353 Poplar St</td><td>Sharon</td><td>ON</td><td>L0G0A1</td></tr><tr><td>61</td><td>William</td><td>Butler</td><td>6060 Pine Rd</td><td>Alliston</td><td>ON</td><td>L9R0A1</td></tr><tr><td>57</td><td>David</td><td>Patterson</td><td>5656 Cedar Ln</td><td>King City</td><td>ON</td><td>L7B0A1</td></tr><tr><td>46</td><td>Mia</td><td>Brooks</td><td>4545 Oak Dr</td><td>Stouffville</td><td>ON</td><td>L4A0A1</td></tr><tr><td>22</td><td>Harper</td><td>Roberts</td><td>2121 Fir St</td><td>Kitchener</td><td>ON</td><td>N2G0A1</td></tr><tr><td>63</td><td>Alexander</td><td>Foster</td><td>6262 Spruce Ln</td><td>Stayner</td><td>ON</td><td>L0M0A1</td></tr><tr><td>66</td><td>Sophia</td><td>Alexander</td><td>6565 Cypress Ave</td><td>Midland</td><td>ON</td><td>L4R0A1</td></tr><tr><td>21</td><td>Andrew</td><td>Mitchell</td><td>2020 Spruce Ln</td><td>Hamilton</td><td>ON</td><td>L8P0A1</td></tr><tr><td>27</td><td>James</td><td>Evans</td><td>2626 Ash Blvd</td><td>Guelph</td><td>ON</td><td>N1H0A1</td></tr><tr><td>51</td><td>Daniel</td><td>Ross</td><td>5050 Redwood Dr</td><td>Pefferlaw</td><td>ON</td><td>L0E0A1</td></tr><tr><td>32</td><td>Sophia</td><td>Morris</td><td>3131 Oak Dr</td><td>Belleville</td><td>ON</td><td>K8N0A1</td></tr><tr><td>8</td><td>Olivia</td><td>Garcia</td><td>707 Fir St</td><td>Edmonton</td><td>AB</td><td>T5A0A1</td></tr><tr><td>18</td><td>Amelia</td><td>Adams</td><td>1717 Oak Dr</td><td>Saskatoon</td><td>SK</td><td>S7K0A1</td></tr><tr><td>35</td><td>William</td><td>Cook</td><td>3434 Spruce Ln</td><td>Midland</td><td>ON</td><td>L4R0A1</td></tr><tr><td>48</td><td>Harper</td><td>James</td><td>4747 Birch Blvd</td><td>Port Perry</td><td>ON</td><td>L9L0A1</td></tr><tr><td>20</td><td>Mia</td><td>Nelson</td><td>1919 Birch Blvd</td><td>London</td><td>ON</td><td>N6A0A1</td></tr><tr><td>30</td><td>Elizabeth</td><td>Stewart</td><td>2929 Elm St</td><td>Peterborough</td><td>ON</td><td>K9H0A1</td></tr><tr><td>26</td><td>Abigail</td><td>Parker</td><td>2525 Poplar St</td><td>Barrie</td><td>ON</td><td>L4M0A1</td></tr><tr><td>79</td><td>James</td><td>West</td><td>7878 Redwood Dr</td><td>South River</td><td>ON</td><td>P0A0A1</td></tr><tr><td>52</td><td>Abigail</td><td>Henderson</td><td>5151 Cypress Ave</td><td>Mount Albert</td><td>ON</td><td>L0G0A1</td></tr><tr><td>75</td><td>Joshua</td><td>Sullivan</td><td>7474 Pine Rd</td><td>Bracebridge</td><td>ON</td><td>P1L0A1</td></tr><tr><td>19</td><td>Christopher</td><td>Baker</td><td>1818 Pine Rd</td><td>Thunder Bay</td><td>ON</td><td>P7A0A1</td></tr><tr><td>23</td><td>Joshua</td><td>Turner</td><td>2222 Redwood Dr</td><td>Windsor</td><td>ON</td><td>N9A0A1</td></tr><tr><td>5</td><td>David</td><td>Wilson</td><td>202 Birch Blvd</td><td>Vancouver</td><td>BC</td><td>V5K0A1</td></tr><tr><td>49</td><td>Joshua</td><td>Bennett</td><td>4848 Spruce Ln</td><td>Beaverton</td><td>ON</td><td>L0K0A1</td></tr><tr><td>15</td><td>Matthew</td><td>King</td><td>1414 Cedar Ln</td><td>Whitehorse</td><td>YT</td><td>Y1A0A1</td></tr><tr><td>82</td><td>Elizabeth</td><td>Reynolds</td><td>8181 Poplar St</td><td>Sturgeon Falls</td><td>ON</td><td>P2B0A1</td></tr><tr><td>4</td><td>Emily</td><td>Davis</td><td>101 Pine Rd</td><td>Calgary</td><td>AB</td><td>T2A0A1</td></tr><tr><td>71</td><td>Christopher</td><td>Myers</td><td>7070 Cedar Ln</td><td>Coldwater</td><td>ON</td><td>L0K0A1</td></tr><tr><td>47</td><td>Andrew</td><td>Gray</td><td>4646 Pine Rd</td><td>Uxbridge</td><td>ON</td><td>L9P0A1</td></tr><tr><td>17</td><td>Joseph</td><td>Green</td><td>1616 Maple Ave</td><td>Regina</td><td>SK</td><td>S4P0A1</td></tr><tr><td>7</td><td>James</td><td>Martinez</td><td>606 Spruce Ln</td><td>Winnipeg</td><td>MB</td><td>R3C0A1</td></tr><tr><td>74</td><td>Harper</td><td>Graham</td><td>7373 Oak Dr</td><td>Bala</td><td>ON</td><td>P0C0A1</td></tr><tr><td>10</td><td>Ava</td><td>Anderson</td><td>909 Cypress Ave</td><td>Quebec City</td><td>QC</td><td>G1A0A1</td></tr><tr><td>11</td><td>Alexander</td><td>Thomas</td><td>1010 Willow Rd</td><td>St. John's</td><td>NL</td><td>A1A0A1</td></tr><tr><td>60</td><td>Olivia</td><td>Washington</td><td>5959 Oak Dr</td><td>Tottenham</td><td>ON</td><td>L0G0A1</td></tr><tr><td>62</td><td>Ava</td><td>Simmons</td><td>6161 Birch Blvd</td><td>Angus</td><td>ON</td><td>L0M0A1</td></tr><tr><td>88</td><td>Harjinder</td><td>Singh</td><td>86 Sunny Ave</td><td>Brampton</td><td>ON</td><td>P0J0A1</td></tr><tr><td>29</td><td>Michael</td><td>Collins</td><td>2828 Cedar Ln</td><td>Thunder Bay</td><td>ON</td><td>P7B0A1</td></tr><tr><td>59</td><td>John</td><td>Flores</td><td>5858 Maple Ave</td><td>Schomberg</td><td>ON</td><td>L0G0A1</td></tr></tbody></table></div>"
      ]
     },
     "metadata": {
      "application/vnd.databricks.v1+output": {
       "addedWidgets": {},
       "aggData": [],
       "aggError": "",
       "aggOverflow": false,
       "aggSchema": [],
       "aggSeriesLimitReached": false,
       "aggType": "",
       "arguments": {},
       "columnCustomDisplayInfos": {},
       "data": [
        [
         45,
         "Christopher",
         "Ward",
         "4444 Maple Ave",
         "Keswick",
         "ON",
         "L4P0A1"
        ],
        [
         68,
         "Charlotte",
         "Griffin",
         "6767 Poplar St",
         "Victoria Harbour",
         "ON",
         "L0K0A1"
        ],
        [
         86,
         "Olivia",
         "Gibson",
         "8585 Elm St",
         "New Liskeard",
         "ON",
         "P0J0A1"
        ],
        [
         80,
         "Emily",
         "Jordan",
         "8888 Airport rd",
         "North Bay",
         "ON",
         "P1B0A1"
        ],
        [
         37,
         "Alexander",
         "Bell",
         "3636 Redwood Dr",
         "Stratford",
         "ON",
         "N5A0A1"
        ],
        [
         83,
         "David",
         "Fisher",
         "8282 Ash Blvd",
         "Verner",
         "ON",
         "P0H0A1"
        ],
        [
         73,
         "Andrew",
         "Hamilton",
         "7272 Maple Ave",
         "Gravenhurst",
         "ON",
         "P1P0A1"
        ],
        [
         34,
         "Olivia",
         "Reed",
         "3333 Birch Blvd",
         "Orillia",
         "ON",
         "L3V0A1"
        ],
        [
         3,
         "Michael",
         "Johnson",
         "789 Oak Dr",
         "Montreal",
         "QC",
         "H1A1A1"
        ],
        [
         9,
         "William",
         "Lopez",
         "808 Redwood Dr",
         "Victoria",
         "BC",
         "V8W0A1"
        ],
        [
         28,
         "Emily",
         "Edwards",
         "2727 Beech Dr",
         "Brantford",
         "ON",
         "N3T0A1"
        ],
        [
         43,
         "Joseph",
         "Cox",
         "4242 Cedar Ln",
         "Aurora",
         "ON",
         "L4G0A1"
        ],
        [
         50,
         "Evelyn",
         "Barnes",
         "4949 Fir St",
         "Sutton",
         "ON",
         "L0E0A1"
        ],
        [
         69,
         "Joseph",
         "Diaz",
         "6868 Ash Blvd",
         "Port McNicoll",
         "ON",
         "L0K0A1"
        ],
        [
         56,
         "Elizabeth",
         "Long",
         "5555 Beech Dr",
         "East Gwillimbury",
         "ON",
         "L9N0A1"
        ],
        [
         70,
         "Amelia",
         "Hayes",
         "6969 Beech Dr",
         "Unknown",
         "ON",
         "L0K0A1"
        ],
        [
         25,
         "Daniel",
         "Campbell",
         "2424 Willow Rd",
         "St. Catharines",
         "ON",
         "L2R0A1"
        ],
        [
         44,
         "Amelia",
         "Howard",
         "4343 Elm St",
         "Bradford",
         "ON",
         "L3Z0A1"
        ],
        [
         85,
         "John",
         "Harrison",
         "8484 Cedar Ln",
         "Temagami",
         "ON",
         "P0H0A1"
        ],
        [
         64,
         "Isabella",
         "Gonzalez",
         "6363 Fir St",
         "Wasaga Beach",
         "ON",
         "L9Z0A1"
        ],
        [
         38,
         "Isabella",
         "Murphy",
         "3737 Cypress Ave",
         "Woodstock",
         "ON",
         "N4S0A1"
        ],
        [
         77,
         "Daniel",
         "Woods",
         "7676 Spruce Ln",
         "Burks Falls",
         "ON",
         "P0A0A1"
        ],
        [
         40,
         "Sophia",
         "Rivera",
         "3939 Poplar St",
         "Milton",
         "ON",
         "L9T0A1"
        ],
        [
         13,
         "Daniel",
         "Harris",
         "1212 Ash Blvd",
         "Charlottetown",
         "PE",
         "C1A0A1"
        ],
        [
         65,
         "Daniel",
         "Bryant",
         "6464 Redwood Dr",
         "Elmvale",
         "ON",
         "L0L0A1"
        ],
        [
         16,
         "Charlotte",
         "Scott",
         "1515 Elm St",
         "Iqaluit",
         "NU",
         "X0A0A1"
        ],
        [
         87,
         "William",
         "McDonald",
         "8686 Maple Ave",
         "Haileybury",
         "ON",
         "P0J0A1"
        ],
        [
         67,
         "Matthew",
         "Russell",
         "6666 Willow Rd",
         "Penetanguishene",
         "ON",
         "L9M0A1"
        ],
        [
         6,
         "Emma",
         "Clark",
         "505 Cedar St",
         "Halifax",
         "NS",
         "B3H0A1"
        ],
        [
         1,
         "John",
         "Doe",
         "123 Elm St",
         "Toronto",
         "ON",
         "M4B1B3"
        ],
        [
         81,
         "Michael",
         "Owens",
         "8080 Willow Rd",
         "Mattawa",
         "ON",
         "P0H0A1"
        ],
        [
         2,
         "Jane",
         "Smith",
         "456 Maple Ave",
         "Ottawa",
         "ON",
         "K1A0B1"
        ],
        [
         78,
         "Abigail",
         "Cole",
         "7777 Fir St",
         "Sundridge",
         "ON",
         "P0A0A1"
        ],
        [
         76,
         "Evelyn",
         "Wallace",
         "7575 Birch Blvd",
         "Huntsville",
         "ON",
         "P1H0A1"
        ],
        [
         53,
         "James",
         "Jenkins",
         "5252 Willow Rd",
         "Queensville",
         "ON",
         "L0G0A1"
        ],
        [
         55,
         "Michael",
         "Butler",
         "5454 Ash Blvd",
         "Holland Landing",
         "ON",
         "L9N0A1"
        ],
        [
         36,
         "Ava",
         "Morgan",
         "3535 Fir St",
         "Collingwood",
         "ON",
         "L9Y0A1"
        ],
        [
         14,
         "Sophia",
         "Young",
         "1313 Beech Dr",
         "Yellowknife",
         "NT",
         "X1A0A1"
        ],
        [
         31,
         "David",
         "Sanchez",
         "3030 Maple Ave",
         "North Bay",
         "ON",
         "P1B0A1"
        ],
        [
         41,
         "Matthew",
         "Cooper",
         "4040 Ash Blvd",
         "Georgetown",
         "ON",
         "L7G0A1"
        ],
        [
         24,
         "Evelyn",
         "Phillips",
         "2323 Cypress Ave",
         "Kingston",
         "ON",
         "K7L0A1"
        ],
        [
         72,
         "Mia",
         "Ford",
         "7171 Elm St",
         "Orillia",
         "ON",
         "L3V0A1"
        ],
        [
         42,
         "Charlotte",
         "Richardson",
         "4141 Beech Dr",
         "Newmarket",
         "ON",
         "L3Y0A1"
        ],
        [
         12,
         "Isabella",
         "Lee",
         "1111 Poplar St",
         "Fredericton",
         "NB",
         "E3B0A1"
        ],
        [
         84,
         "Sophia",
         "Ellis",
         "8383 Beech Dr",
         "Field",
         "ON",
         "P0H0A1"
        ],
        [
         33,
         "John",
         "Rogers",
         "3232 Pine Rd",
         "Timmins",
         "ON",
         "P4N0A1"
        ],
        [
         58,
         "Sophia",
         "Hughes",
         "5757 Elm St",
         "Nobleton",
         "ON",
         "L0G0A1"
        ],
        [
         39,
         "Daniel",
         "Bailey",
         "3838 Willow Rd",
         "Orangeville",
         "ON",
         "L9W0A1"
        ],
        [
         54,
         "Emily",
         "Perry",
         "5353 Poplar St",
         "Sharon",
         "ON",
         "L0G0A1"
        ],
        [
         61,
         "William",
         "Butler",
         "6060 Pine Rd",
         "Alliston",
         "ON",
         "L9R0A1"
        ],
        [
         57,
         "David",
         "Patterson",
         "5656 Cedar Ln",
         "King City",
         "ON",
         "L7B0A1"
        ],
        [
         46,
         "Mia",
         "Brooks",
         "4545 Oak Dr",
         "Stouffville",
         "ON",
         "L4A0A1"
        ],
        [
         22,
         "Harper",
         "Roberts",
         "2121 Fir St",
         "Kitchener",
         "ON",
         "N2G0A1"
        ],
        [
         63,
         "Alexander",
         "Foster",
         "6262 Spruce Ln",
         "Stayner",
         "ON",
         "L0M0A1"
        ],
        [
         66,
         "Sophia",
         "Alexander",
         "6565 Cypress Ave",
         "Midland",
         "ON",
         "L4R0A1"
        ],
        [
         21,
         "Andrew",
         "Mitchell",
         "2020 Spruce Ln",
         "Hamilton",
         "ON",
         "L8P0A1"
        ],
        [
         27,
         "James",
         "Evans",
         "2626 Ash Blvd",
         "Guelph",
         "ON",
         "N1H0A1"
        ],
        [
         51,
         "Daniel",
         "Ross",
         "5050 Redwood Dr",
         "Pefferlaw",
         "ON",
         "L0E0A1"
        ],
        [
         32,
         "Sophia",
         "Morris",
         "3131 Oak Dr",
         "Belleville",
         "ON",
         "K8N0A1"
        ],
        [
         8,
         "Olivia",
         "Garcia",
         "707 Fir St",
         "Edmonton",
         "AB",
         "T5A0A1"
        ],
        [
         18,
         "Amelia",
         "Adams",
         "1717 Oak Dr",
         "Saskatoon",
         "SK",
         "S7K0A1"
        ],
        [
         35,
         "William",
         "Cook",
         "3434 Spruce Ln",
         "Midland",
         "ON",
         "L4R0A1"
        ],
        [
         48,
         "Harper",
         "James",
         "4747 Birch Blvd",
         "Port Perry",
         "ON",
         "L9L0A1"
        ],
        [
         20,
         "Mia",
         "Nelson",
         "1919 Birch Blvd",
         "London",
         "ON",
         "N6A0A1"
        ],
        [
         30,
         "Elizabeth",
         "Stewart",
         "2929 Elm St",
         "Peterborough",
         "ON",
         "K9H0A1"
        ],
        [
         26,
         "Abigail",
         "Parker",
         "2525 Poplar St",
         "Barrie",
         "ON",
         "L4M0A1"
        ],
        [
         79,
         "James",
         "West",
         "7878 Redwood Dr",
         "South River",
         "ON",
         "P0A0A1"
        ],
        [
         52,
         "Abigail",
         "Henderson",
         "5151 Cypress Ave",
         "Mount Albert",
         "ON",
         "L0G0A1"
        ],
        [
         75,
         "Joshua",
         "Sullivan",
         "7474 Pine Rd",
         "Bracebridge",
         "ON",
         "P1L0A1"
        ],
        [
         19,
         "Christopher",
         "Baker",
         "1818 Pine Rd",
         "Thunder Bay",
         "ON",
         "P7A0A1"
        ],
        [
         23,
         "Joshua",
         "Turner",
         "2222 Redwood Dr",
         "Windsor",
         "ON",
         "N9A0A1"
        ],
        [
         5,
         "David",
         "Wilson",
         "202 Birch Blvd",
         "Vancouver",
         "BC",
         "V5K0A1"
        ],
        [
         49,
         "Joshua",
         "Bennett",
         "4848 Spruce Ln",
         "Beaverton",
         "ON",
         "L0K0A1"
        ],
        [
         15,
         "Matthew",
         "King",
         "1414 Cedar Ln",
         "Whitehorse",
         "YT",
         "Y1A0A1"
        ],
        [
         82,
         "Elizabeth",
         "Reynolds",
         "8181 Poplar St",
         "Sturgeon Falls",
         "ON",
         "P2B0A1"
        ],
        [
         4,
         "Emily",
         "Davis",
         "101 Pine Rd",
         "Calgary",
         "AB",
         "T2A0A1"
        ],
        [
         71,
         "Christopher",
         "Myers",
         "7070 Cedar Ln",
         "Coldwater",
         "ON",
         "L0K0A1"
        ],
        [
         47,
         "Andrew",
         "Gray",
         "4646 Pine Rd",
         "Uxbridge",
         "ON",
         "L9P0A1"
        ],
        [
         17,
         "Joseph",
         "Green",
         "1616 Maple Ave",
         "Regina",
         "SK",
         "S4P0A1"
        ],
        [
         7,
         "James",
         "Martinez",
         "606 Spruce Ln",
         "Winnipeg",
         "MB",
         "R3C0A1"
        ],
        [
         74,
         "Harper",
         "Graham",
         "7373 Oak Dr",
         "Bala",
         "ON",
         "P0C0A1"
        ],
        [
         10,
         "Ava",
         "Anderson",
         "909 Cypress Ave",
         "Quebec City",
         "QC",
         "G1A0A1"
        ],
        [
         11,
         "Alexander",
         "Thomas",
         "1010 Willow Rd",
         "St. John's",
         "NL",
         "A1A0A1"
        ],
        [
         60,
         "Olivia",
         "Washington",
         "5959 Oak Dr",
         "Tottenham",
         "ON",
         "L0G0A1"
        ],
        [
         62,
         "Ava",
         "Simmons",
         "6161 Birch Blvd",
         "Angus",
         "ON",
         "L0M0A1"
        ],
        [
         88,
         "Harjinder",
         "Singh",
         "86 Sunny Ave",
         "Brampton",
         "ON",
         "P0J0A1"
        ],
        [
         29,
         "Michael",
         "Collins",
         "2828 Cedar Ln",
         "Thunder Bay",
         "ON",
         "P7B0A1"
        ],
        [
         59,
         "John",
         "Flores",
         "5858 Maple Ave",
         "Schomberg",
         "ON",
         "L0G0A1"
        ]
       ],
       "datasetInfos": [],
       "dbfsResultPath": null,
       "isJsonSchema": true,
       "metadata": {},
       "overflow": false,
       "plotOptions": {
        "customPlotOptions": {},
        "displayType": "table",
        "pivotAggregation": null,
        "pivotColumns": null,
        "xColumns": null,
        "yColumns": null
       },
       "removedWidgets": [],
       "schema": [
        {
         "metadata": "{}",
         "name": "CustomerId",
         "type": "\"integer\""
        },
        {
         "metadata": "{}",
         "name": "FirstName",
         "type": "\"string\""
        },
        {
         "metadata": "{}",
         "name": "LastName",
         "type": "\"string\""
        },
        {
         "metadata": "{}",
         "name": "Address",
         "type": "\"string\""
        },
        {
         "metadata": "{}",
         "name": "City",
         "type": "\"string\""
        },
        {
         "metadata": "{}",
         "name": "State",
         "type": "\"string\""
        },
        {
         "metadata": "{}",
         "name": "Zip",
         "type": "\"string\""
        }
       ],
       "type": "table"
      }
     },
     "output_type": "display_data"
    },
    {
     "output_type": "display_data",
     "data": {
      "text/html": [
       "<style scoped>\n",
       "  .table-result-container {\n",
       "    max-height: 300px;\n",
       "    overflow: auto;\n",
       "  }\n",
       "  table, th, td {\n",
       "    border: 1px solid black;\n",
       "    border-collapse: collapse;\n",
       "  }\n",
       "  th, td {\n",
       "    padding: 5px;\n",
       "  }\n",
       "  th {\n",
       "    text-align: left;\n",
       "  }\n",
       "</style><div class='table-result-container'><table class='table-result'><thead style='background-color: white'><tr><th>PaymentId</th><th>LoanId</th><th>PaymentDate</th><th>PaymentAmount</th></tr></thead><tbody><tr><td>4</td><td>89</td><td>2024-01-04</td><td>250.0</td></tr><tr><td>23</td><td>54</td><td>2024-01-23</td><td>1200.0</td></tr><tr><td>92</td><td>13</td><td>2024-04-01</td><td>4650.0</td></tr><tr><td>6</td><td>34</td><td>2024-01-06</td><td>350.0</td></tr><tr><td>21</td><td>32</td><td>2024-01-21</td><td>1100.0</td></tr><tr><td>39</td><td>30</td><td>2024-02-08</td><td>2000.0</td></tr><tr><td>76</td><td>37</td><td>2024-03-16</td><td>3850.0</td></tr><tr><td>1</td><td>45</td><td>2024-01-01</td><td>100.0</td></tr><tr><td>45</td><td>96</td><td>2024-02-14</td><td>2300.0</td></tr><tr><td>34</td><td>75</td><td>2024-02-03</td><td>1750.0</td></tr><tr><td>65</td><td>16</td><td>2024-03-05</td><td>3300.0</td></tr><tr><td>96</td><td>57</td><td>2024-04-05</td><td>4850.0</td></tr><tr><td>14</td><td>55</td><td>2024-01-14</td><td>750.0</td></tr><tr><td>3</td><td>67</td><td>2024-01-03</td><td>200.0</td></tr><tr><td>36</td><td>97</td><td>2024-02-05</td><td>1850.0</td></tr><tr><td>29</td><td>20</td><td>2024-01-29</td><td>1500.0</td></tr><tr><td>87</td><td>58</td><td>2024-03-27</td><td>4400.0</td></tr><tr><td>72</td><td>93</td><td>2024-03-12</td><td>3650.0</td></tr><tr><td>19</td><td>10</td><td>2024-01-19</td><td>1000.0</td></tr><tr><td>56</td><td>17</td><td>2024-02-25</td><td>2850.0</td></tr><tr><td>7</td><td>56</td><td>2024-01-07</td><td>400.0</td></tr><tr><td>37</td><td>8</td><td>2024-02-06</td><td>1900.0</td></tr><tr><td>88</td><td>69</td><td>2024-03-28</td><td>4450.0</td></tr><tr><td>46</td><td>7</td><td>2024-02-15</td><td>2350.0</td></tr><tr><td>51</td><td>62</td><td>2024-02-20</td><td>2600.0</td></tr><tr><td>52</td><td>73</td><td>2024-02-21</td><td>2650.0</td></tr><tr><td>31</td><td>42</td><td>2024-01-31</td><td>1600.0</td></tr><tr><td>43</td><td>74</td><td>2024-02-12</td><td>2200.0</td></tr><tr><td>78</td><td>59</td><td>2024-03-18</td><td>3950.0</td></tr><tr><td>80</td><td>81</td><td>2024-03-20</td><td>4050.0</td></tr><tr><td>30</td><td>31</td><td>2024-01-30</td><td>1550.0</td></tr><tr><td>57</td><td>28</td><td>2024-02-26</td><td>2900.0</td></tr><tr><td>22</td><td>43</td><td>2024-01-22</td><td>1150.0</td></tr><tr><td>28</td><td>9</td><td>2024-01-28</td><td>1450.0</td></tr><tr><td>101</td><td>33</td><td>1900-01-01</td><td>1000.0</td></tr><tr><td>58</td><td>39</td><td>2024-02-27</td><td>2950.0</td></tr><tr><td>75</td><td>26</td><td>2024-03-15</td><td>3800.0</td></tr><tr><td>100</td><td>33</td><td>2024-04-10</td><td>1000.0</td></tr><tr><td>53</td><td>84</td><td>2024-02-22</td><td>2700.0</td></tr><tr><td>89</td><td>80</td><td>2024-03-29</td><td>4500.0</td></tr><tr><td>69</td><td>60</td><td>2024-03-09</td><td>3500.0</td></tr><tr><td>97</td><td>68</td><td>2024-04-06</td><td>4900.0</td></tr><tr><td>82</td><td>3</td><td>2024-03-22</td><td>4150.0</td></tr><tr><td>60</td><td>61</td><td>2024-02-29</td><td>3050.0</td></tr><tr><td>68</td><td>49</td><td>2024-03-08</td><td>3450.0</td></tr><tr><td>73</td><td>4</td><td>2024-03-13</td><td>3700.0</td></tr><tr><td>94</td><td>35</td><td>2024-04-03</td><td>4750.0</td></tr><tr><td>16</td><td>77</td><td>2024-01-16</td><td>850.0</td></tr><tr><td>54</td><td>95</td><td>2024-02-23</td><td>2750.0</td></tr><tr><td>79</td><td>70</td><td>2024-03-19</td><td>4000.0</td></tr><tr><td>59</td><td>50</td><td>2024-02-28</td><td>3000.0</td></tr><tr><td>47</td><td>18</td><td>2024-02-16</td><td>2400.0</td></tr><tr><td>2</td><td>23</td><td>2024-01-02</td><td>150.0</td></tr><tr><td>77</td><td>48</td><td>2024-03-17</td><td>3900.0</td></tr><tr><td>81</td><td>92</td><td>2024-03-21</td><td>4100.0</td></tr><tr><td>85</td><td>36</td><td>2024-03-25</td><td>4300.0</td></tr><tr><td>55</td><td>6</td><td>2024-02-24</td><td>2800.0</td></tr><tr><td>13</td><td>44</td><td>2024-01-13</td><td>700.0</td></tr><tr><td>20</td><td>21</td><td>2024-01-20</td><td>1050.0</td></tr><tr><td>49</td><td>40</td><td>2024-02-18</td><td>2500.0</td></tr><tr><td>38</td><td>19</td><td>2024-02-07</td><td>1950.0</td></tr><tr><td>74</td><td>15</td><td>2024-03-14</td><td>3750.0</td></tr><tr><td>8</td><td>78</td><td>2024-01-08</td><td>450.0</td></tr><tr><td>95</td><td>46</td><td>2024-04-04</td><td>4800.0</td></tr><tr><td>41</td><td>52</td><td>2024-02-10</td><td>2100.0</td></tr><tr><td>17</td><td>88</td><td>2024-01-17</td><td>900.0</td></tr><tr><td>91</td><td>2</td><td>2024-03-31</td><td>4600.0</td></tr><tr><td>40</td><td>41</td><td>2024-02-09</td><td>2050.0</td></tr><tr><td>84</td><td>25</td><td>2024-03-24</td><td>4250.0</td></tr><tr><td>93</td><td>24</td><td>2024-04-02</td><td>4700.0</td></tr><tr><td>9</td><td>90</td><td>2024-01-09</td><td>500.0</td></tr><tr><td>25</td><td>76</td><td>2024-01-25</td><td>1300.0</td></tr><tr><td>26</td><td>87</td><td>2024-01-26</td><td>1350.0</td></tr><tr><td>48</td><td>29</td><td>2024-02-17</td><td>2450.0</td></tr><tr><td>62</td><td>83</td><td>2024-03-02</td><td>3150.0</td></tr><tr><td>99</td><td>1</td><td>2024-04-08</td><td>5000.0</td></tr><tr><td>15</td><td>66</td><td>2024-01-15</td><td>800.0</td></tr><tr><td>61</td><td>72</td><td>2024-03-01</td><td>3100.0</td></tr><tr><td>33</td><td>64</td><td>2024-02-02</td><td>1700.0</td></tr><tr><td>5</td><td>12</td><td>2024-01-05</td><td>300.0</td></tr><tr><td>27</td><td>98</td><td>2024-01-27</td><td>1400.0</td></tr><tr><td>70</td><td>71</td><td>2024-03-10</td><td>3550.0</td></tr><tr><td>83</td><td>14</td><td>2024-03-23</td><td>4200.0</td></tr><tr><td>50</td><td>51</td><td>2024-02-19</td><td>2550.0</td></tr><tr><td>86</td><td>47</td><td>2024-03-26</td><td>4350.0</td></tr><tr><td>98</td><td>79</td><td>2024-04-07</td><td>4950.0</td></tr><tr><td>32</td><td>53</td><td>2024-02-01</td><td>1650.0</td></tr><tr><td>11</td><td>22</td><td>2024-01-11</td><td>600.0</td></tr><tr><td>67</td><td>38</td><td>2024-03-07</td><td>3400.0</td></tr><tr><td>18</td><td>99</td><td>2024-01-18</td><td>950.0</td></tr><tr><td>42</td><td>63</td><td>2024-02-11</td><td>2150.0</td></tr><tr><td>44</td><td>85</td><td>2024-02-13</td><td>2250.0</td></tr><tr><td>90</td><td>91</td><td>2024-03-30</td><td>4550.0</td></tr><tr><td>71</td><td>82</td><td>2024-03-11</td><td>3600.0</td></tr><tr><td>12</td><td>33</td><td>2024-01-12</td><td>650.0</td></tr><tr><td>24</td><td>65</td><td>2024-01-24</td><td>1250.0</td></tr><tr><td>63</td><td>94</td><td>2024-03-03</td><td>3200.0</td></tr><tr><td>64</td><td>5</td><td>2024-03-04</td><td>3250.0</td></tr><tr><td>35</td><td>86</td><td>2024-02-04</td><td>1800.0</td></tr><tr><td>66</td><td>27</td><td>2024-03-06</td><td>3350.0</td></tr><tr><td>10</td><td>11</td><td>2024-01-10</td><td>550.0</td></tr></tbody></table></div>"
      ]
     },
     "metadata": {
      "application/vnd.databricks.v1+output": {
       "addedWidgets": {},
       "aggData": [],
       "aggError": "",
       "aggOverflow": false,
       "aggSchema": [],
       "aggSeriesLimitReached": false,
       "aggType": "",
       "arguments": {},
       "columnCustomDisplayInfos": {},
       "data": [
        [
         4,
         89,
         "2024-01-04",
         250.0
        ],
        [
         23,
         54,
         "2024-01-23",
         1200.0
        ],
        [
         92,
         13,
         "2024-04-01",
         4650.0
        ],
        [
         6,
         34,
         "2024-01-06",
         350.0
        ],
        [
         21,
         32,
         "2024-01-21",
         1100.0
        ],
        [
         39,
         30,
         "2024-02-08",
         2000.0
        ],
        [
         76,
         37,
         "2024-03-16",
         3850.0
        ],
        [
         1,
         45,
         "2024-01-01",
         100.0
        ],
        [
         45,
         96,
         "2024-02-14",
         2300.0
        ],
        [
         34,
         75,
         "2024-02-03",
         1750.0
        ],
        [
         65,
         16,
         "2024-03-05",
         3300.0
        ],
        [
         96,
         57,
         "2024-04-05",
         4850.0
        ],
        [
         14,
         55,
         "2024-01-14",
         750.0
        ],
        [
         3,
         67,
         "2024-01-03",
         200.0
        ],
        [
         36,
         97,
         "2024-02-05",
         1850.0
        ],
        [
         29,
         20,
         "2024-01-29",
         1500.0
        ],
        [
         87,
         58,
         "2024-03-27",
         4400.0
        ],
        [
         72,
         93,
         "2024-03-12",
         3650.0
        ],
        [
         19,
         10,
         "2024-01-19",
         1000.0
        ],
        [
         56,
         17,
         "2024-02-25",
         2850.0
        ],
        [
         7,
         56,
         "2024-01-07",
         400.0
        ],
        [
         37,
         8,
         "2024-02-06",
         1900.0
        ],
        [
         88,
         69,
         "2024-03-28",
         4450.0
        ],
        [
         46,
         7,
         "2024-02-15",
         2350.0
        ],
        [
         51,
         62,
         "2024-02-20",
         2600.0
        ],
        [
         52,
         73,
         "2024-02-21",
         2650.0
        ],
        [
         31,
         42,
         "2024-01-31",
         1600.0
        ],
        [
         43,
         74,
         "2024-02-12",
         2200.0
        ],
        [
         78,
         59,
         "2024-03-18",
         3950.0
        ],
        [
         80,
         81,
         "2024-03-20",
         4050.0
        ],
        [
         30,
         31,
         "2024-01-30",
         1550.0
        ],
        [
         57,
         28,
         "2024-02-26",
         2900.0
        ],
        [
         22,
         43,
         "2024-01-22",
         1150.0
        ],
        [
         28,
         9,
         "2024-01-28",
         1450.0
        ],
        [
         101,
         33,
         "1900-01-01",
         1000.0
        ],
        [
         58,
         39,
         "2024-02-27",
         2950.0
        ],
        [
         75,
         26,
         "2024-03-15",
         3800.0
        ],
        [
         100,
         33,
         "2024-04-10",
         1000.0
        ],
        [
         53,
         84,
         "2024-02-22",
         2700.0
        ],
        [
         89,
         80,
         "2024-03-29",
         4500.0
        ],
        [
         69,
         60,
         "2024-03-09",
         3500.0
        ],
        [
         97,
         68,
         "2024-04-06",
         4900.0
        ],
        [
         82,
         3,
         "2024-03-22",
         4150.0
        ],
        [
         60,
         61,
         "2024-02-29",
         3050.0
        ],
        [
         68,
         49,
         "2024-03-08",
         3450.0
        ],
        [
         73,
         4,
         "2024-03-13",
         3700.0
        ],
        [
         94,
         35,
         "2024-04-03",
         4750.0
        ],
        [
         16,
         77,
         "2024-01-16",
         850.0
        ],
        [
         54,
         95,
         "2024-02-23",
         2750.0
        ],
        [
         79,
         70,
         "2024-03-19",
         4000.0
        ],
        [
         59,
         50,
         "2024-02-28",
         3000.0
        ],
        [
         47,
         18,
         "2024-02-16",
         2400.0
        ],
        [
         2,
         23,
         "2024-01-02",
         150.0
        ],
        [
         77,
         48,
         "2024-03-17",
         3900.0
        ],
        [
         81,
         92,
         "2024-03-21",
         4100.0
        ],
        [
         85,
         36,
         "2024-03-25",
         4300.0
        ],
        [
         55,
         6,
         "2024-02-24",
         2800.0
        ],
        [
         13,
         44,
         "2024-01-13",
         700.0
        ],
        [
         20,
         21,
         "2024-01-20",
         1050.0
        ],
        [
         49,
         40,
         "2024-02-18",
         2500.0
        ],
        [
         38,
         19,
         "2024-02-07",
         1950.0
        ],
        [
         74,
         15,
         "2024-03-14",
         3750.0
        ],
        [
         8,
         78,
         "2024-01-08",
         450.0
        ],
        [
         95,
         46,
         "2024-04-04",
         4800.0
        ],
        [
         41,
         52,
         "2024-02-10",
         2100.0
        ],
        [
         17,
         88,
         "2024-01-17",
         900.0
        ],
        [
         91,
         2,
         "2024-03-31",
         4600.0
        ],
        [
         40,
         41,
         "2024-02-09",
         2050.0
        ],
        [
         84,
         25,
         "2024-03-24",
         4250.0
        ],
        [
         93,
         24,
         "2024-04-02",
         4700.0
        ],
        [
         9,
         90,
         "2024-01-09",
         500.0
        ],
        [
         25,
         76,
         "2024-01-25",
         1300.0
        ],
        [
         26,
         87,
         "2024-01-26",
         1350.0
        ],
        [
         48,
         29,
         "2024-02-17",
         2450.0
        ],
        [
         62,
         83,
         "2024-03-02",
         3150.0
        ],
        [
         99,
         1,
         "2024-04-08",
         5000.0
        ],
        [
         15,
         66,
         "2024-01-15",
         800.0
        ],
        [
         61,
         72,
         "2024-03-01",
         3100.0
        ],
        [
         33,
         64,
         "2024-02-02",
         1700.0
        ],
        [
         5,
         12,
         "2024-01-05",
         300.0
        ],
        [
         27,
         98,
         "2024-01-27",
         1400.0
        ],
        [
         70,
         71,
         "2024-03-10",
         3550.0
        ],
        [
         83,
         14,
         "2024-03-23",
         4200.0
        ],
        [
         50,
         51,
         "2024-02-19",
         2550.0
        ],
        [
         86,
         47,
         "2024-03-26",
         4350.0
        ],
        [
         98,
         79,
         "2024-04-07",
         4950.0
        ],
        [
         32,
         53,
         "2024-02-01",
         1650.0
        ],
        [
         11,
         22,
         "2024-01-11",
         600.0
        ],
        [
         67,
         38,
         "2024-03-07",
         3400.0
        ],
        [
         18,
         99,
         "2024-01-18",
         950.0
        ],
        [
         42,
         63,
         "2024-02-11",
         2150.0
        ],
        [
         44,
         85,
         "2024-02-13",
         2250.0
        ],
        [
         90,
         91,
         "2024-03-30",
         4550.0
        ],
        [
         71,
         82,
         "2024-03-11",
         3600.0
        ],
        [
         12,
         33,
         "2024-01-12",
         650.0
        ],
        [
         24,
         65,
         "2024-01-24",
         1250.0
        ],
        [
         63,
         94,
         "2024-03-03",
         3200.0
        ],
        [
         64,
         5,
         "2024-03-04",
         3250.0
        ],
        [
         35,
         86,
         "2024-02-04",
         1800.0
        ],
        [
         66,
         27,
         "2024-03-06",
         3350.0
        ],
        [
         10,
         11,
         "2024-01-10",
         550.0
        ]
       ],
       "datasetInfos": [],
       "dbfsResultPath": null,
       "isJsonSchema": true,
       "metadata": {},
       "overflow": false,
       "plotOptions": {
        "customPlotOptions": {},
        "displayType": "table",
        "pivotAggregation": null,
        "pivotColumns": null,
        "xColumns": null,
        "yColumns": null
       },
       "removedWidgets": [],
       "schema": [
        {
         "metadata": "{}",
         "name": "PaymentId",
         "type": "\"integer\""
        },
        {
         "metadata": "{}",
         "name": "LoanId",
         "type": "\"integer\""
        },
        {
         "metadata": "{}",
         "name": "PaymentDate",
         "type": "\"date\""
        },
        {
         "metadata": "{}",
         "name": "PaymentAmount",
         "type": "\"double\""
        }
       ],
       "type": "table"
      }
     },
     "output_type": "display_data"
    },
    {
     "output_type": "display_data",
     "data": {
      "text/html": [
       "<style scoped>\n",
       "  .table-result-container {\n",
       "    max-height: 300px;\n",
       "    overflow: auto;\n",
       "  }\n",
       "  table, th, td {\n",
       "    border: 1px solid black;\n",
       "    border-collapse: collapse;\n",
       "  }\n",
       "  th, td {\n",
       "    padding: 5px;\n",
       "  }\n",
       "  th {\n",
       "    text-align: left;\n",
       "  }\n",
       "</style><div class='table-result-container'><table class='table-result'><thead style='background-color: white'><tr><th>LoanId</th><th>CustomerId</th><th>LoanAmount</th><th>InterestRate</th><th>LoanTerm</th></tr></thead><tbody><tr><td>54</td><td>42</td><td>30000.5</td><td>4.0</td><td>48</td></tr><tr><td>29</td><td>58</td><td>32500.25</td><td>5.0</td><td>36</td></tr><tr><td>72</td><td>17</td><td>20000.0</td><td>3.0</td><td>24</td></tr><tr><td>88</td><td>1</td><td>27500.0</td><td>3.0</td><td>24</td></tr><tr><td>78</td><td>4</td><td>27500.5</td><td>4.0</td><td>48</td></tr><tr><td>18</td><td>5</td><td>27500.5</td><td>4.5</td><td>48</td></tr><tr><td>70</td><td>33</td><td>37500.5</td><td>4.0</td><td>48</td></tr><tr><td>17</td><td>99</td><td>22500.25</td><td>5.5</td><td>36</td></tr><tr><td>46</td><td>24</td><td>17500.5</td><td>4.0</td><td>48</td></tr><tr><td>8</td><td>67</td><td>27500.0</td><td>3.0</td><td>24</td></tr><tr><td>79</td><td>55</td><td>32500.75</td><td>6.5</td><td>60</td></tr><tr><td>23</td><td>88</td><td>15000.75</td><td>6.5</td><td>60</td></tr><tr><td>53</td><td>86</td><td>15000.25</td><td>5.0</td><td>36</td></tr><tr><td>59</td><td>75</td><td>32500.75</td><td>6.0</td><td>60</td></tr><tr><td>1</td><td>45</td><td>10000.5</td><td>5.5</td><td>36</td></tr><tr><td>9</td><td>14</td><td>32500.25</td><td>5.5</td><td>36</td></tr><tr><td>47</td><td>95</td><td>22500.75</td><td>6.5</td><td>60</td></tr><tr><td>64</td><td>12</td><td>30000.0</td><td>3.0</td><td>24</td></tr><tr><td>96</td><td>48</td><td>17500.0</td><td>3.0</td><td>24</td></tr><tr><td>27</td><td>94</td><td>22500.75</td><td>6.0</td><td>60</td></tr><tr><td>84</td><td>40</td><td>30000.0</td><td>3.5</td><td>24</td></tr><tr><td>56</td><td>28</td><td>17500.0</td><td>3.0</td><td>24</td></tr><tr><td>86</td><td>21</td><td>17500.5</td><td>4.0</td><td>48</td></tr><tr><td>50</td><td>31</td><td>37500.5</td><td>4.5</td><td>48</td></tr><tr><td>33</td><td>85</td><td>15000.25</td><td>5.5</td><td>36</td></tr><tr><td>4</td><td>34</td><td>30000.25</td><td>3.5</td><td>24</td></tr><tr><td>16</td><td>18</td><td>17500.0</td><td>3.0</td><td>24</td></tr><tr><td>37</td><td>98</td><td>22500.25</td><td>5.0</td><td>36</td></tr><tr><td>62</td><td>35</td><td>20000.5</td><td>4.0</td><td>48</td></tr><tr><td>93</td><td>79</td><td>15000.25</td><td>5.0</td><td>36</td></tr><tr><td>49</td><td>57</td><td>32500.25</td><td>5.5</td><td>36</td></tr><tr><td>31</td><td>71</td><td>10000.75</td><td>6.5</td><td>60</td></tr><tr><td>69</td><td>59</td><td>32500.25</td><td>5.0</td><td>36</td></tr><tr><td>38</td><td>15</td><td>27500.5</td><td>4.0</td><td>48</td></tr><tr><td>22</td><td>37</td><td>20000.5</td><td>4.0</td><td>48</td></tr><tr><td>83</td><td>82</td><td>15000.75</td><td>6.0</td><td>60</td></tr><tr><td>41</td><td>51</td><td>10000.25</td><td>5.5</td><td>36</td></tr><tr><td>51</td><td>72</td><td>10000.75</td><td>6.0</td><td>60</td></tr><tr><td>77</td><td>91</td><td>22500.25</td><td>5.0</td><td>36</td></tr><tr><td>80</td><td>30</td><td>37500.0</td><td>3.0</td><td>24</td></tr><tr><td>99</td><td>80</td><td>32500.75</td><td>6.0</td><td>60</td></tr><tr><td>97</td><td>90</td><td>22500.25</td><td>5.5</td><td>36</td></tr><tr><td>63</td><td>84</td><td>15000.75</td><td>6.5</td><td>60</td></tr><tr><td>32</td><td>9</td><td>20000.0</td><td>3.0</td><td>24</td></tr><tr><td>58</td><td>16</td><td>27500.5</td><td>4.5</td><td>48</td></tr><tr><td>36</td><td>27</td><td>17500.0</td><td>3.5</td><td>24</td></tr><tr><td>66</td><td>26</td><td>17500.5</td><td>4.5</td><td>48</td></tr><tr><td>67</td><td>96</td><td>22500.75</td><td>6.0</td><td>60</td></tr><tr><td>45</td><td>68</td><td>25000.25</td><td>5.0</td><td>36</td></tr><tr><td>74</td><td>43</td><td>30000.5</td><td>4.5</td><td>48</td></tr><tr><td>13</td><td>29</td><td>15000.25</td><td>5.0</td><td>36</td></tr><tr><td>75</td><td>61</td><td>25000.75</td><td>6.0</td><td>60</td></tr><tr><td>60</td><td>20</td><td>37500.0</td><td>3.5</td><td>24</td></tr><tr><td>95</td><td>60</td><td>25000.75</td><td>6.5</td><td>60</td></tr><tr><td>25</td><td>66</td><td>25000.25</td><td>5.5</td><td>36</td></tr><tr><td>61</td><td>52</td><td>10000.25</td><td>5.0</td><td>36</td></tr><tr><td>12</td><td>81</td><td>20000.0</td><td>3.5</td><td>24</td></tr><tr><td>44</td><td>13</td><td>30000.0</td><td>3.5</td><td>24</td></tr><tr><td>24</td><td>11</td><td>30000.0</td><td>3.0</td><td>24</td></tr><tr><td>26</td><td>25</td><td>17500.5</td><td>4.5</td><td>48</td></tr><tr><td>28</td><td>7</td><td>27500.0</td><td>3.5</td><td>24</td></tr><tr><td>2</td><td>12</td><td>20000.75</td><td>4.5</td><td>48</td></tr><tr><td>30</td><td>32</td><td>37500.5</td><td>4.0</td><td>48</td></tr><tr><td>68</td><td>8</td><td>27500.0</td><td>3.5</td><td>24</td></tr><tr><td>87</td><td>93</td><td>22500.75</td><td>6.5</td><td>60</td></tr><tr><td>82</td><td>2</td><td>20000.5</td><td>4.5</td><td>48</td></tr><tr><td>98</td><td>49</td><td>27500.5</td><td>4.5</td><td>48</td></tr><tr><td>15</td><td>47</td><td>25000.75</td><td>6.5</td><td>60</td></tr><tr><td>71</td><td>73</td><td>10000.75</td><td>6.5</td><td>60</td></tr><tr><td>3</td><td>78</td><td>15000.0</td><td>6.0</td><td>60</td></tr><tr><td>52</td><td>10</td><td>20000.0</td><td>3.5</td><td>24</td></tr><tr><td>7</td><td>89</td><td>22500.75</td><td>6.5</td><td>60</td></tr><tr><td>55</td><td>63</td><td>25000.75</td><td>6.5</td><td>60</td></tr><tr><td>20</td><td>21</td><td>37500.0</td><td>3.5</td><td>24</td></tr><tr><td>43</td><td>83</td><td>15000.75</td><td>6.0</td><td>60</td></tr><tr><td>92</td><td>44</td><td>20000.0</td><td>3.5</td><td>24</td></tr><tr><td>94</td><td>39</td><td>30000.5</td><td>4.0</td><td>48</td></tr><tr><td>21</td><td>53</td><td>10000.25</td><td>5.0</td><td>36</td></tr><tr><td>10</td><td>92</td><td>37500.5</td><td>4.5</td><td>48</td></tr><tr><td>73</td><td>87</td><td>15000.25</td><td>5.5</td><td>36</td></tr><tr><td>89</td><td>54</td><td>32500.25</td><td>5.5</td><td>36</td></tr><tr><td>57</td><td>97</td><td>22500.25</td><td>5.5</td><td>36</td></tr><tr><td>100</td><td>50</td><td>37500.0</td><td>3.5</td><td>24</td></tr><tr><td>6</td><td>23</td><td>17500.5</td><td>4.0</td><td>48</td></tr><tr><td>48</td><td>6</td><td>27500.0</td><td>3.0</td><td>24</td></tr><tr><td>65</td><td>69</td><td>25000.25</td><td>5.5</td><td>36</td></tr><tr><td>90</td><td>38</td><td>37500.5</td><td>4.5</td><td>48</td></tr><tr><td>85</td><td>65</td><td>25000.25</td><td>5.0</td><td>36</td></tr><tr><td>14</td><td>64</td><td>30000.5</td><td>4.0</td><td>48</td></tr><tr><td>40</td><td>19</td><td>37500.0</td><td>3.0</td><td>24</td></tr><tr><td>76</td><td>22</td><td>17500.0</td><td>3.5</td><td>24</td></tr><tr><td>19</td><td>76</td><td>32500.75</td><td>6.0</td><td>60</td></tr><tr><td>81</td><td>70</td><td>10000.25</td><td>5.5</td><td>36</td></tr><tr><td>42</td><td>36</td><td>20000.5</td><td>4.5</td><td>48</td></tr><tr><td>91</td><td>77</td><td>10000.75</td><td>6.0</td><td>60</td></tr><tr><td>5</td><td>56</td><td>25000.0</td><td>5.0</td><td>36</td></tr><tr><td>39</td><td>74</td><td>32500.75</td><td>6.5</td><td>60</td></tr><tr><td>11</td><td>3</td><td>10000.75</td><td>6.0</td><td>60</td></tr><tr><td>35</td><td>62</td><td>25000.75</td><td>6.0</td><td>60</td></tr><tr><td>34</td><td>41</td><td>30000.5</td><td>4.5</td><td>48</td></tr></tbody></table></div>"
      ]
     },
     "metadata": {
      "application/vnd.databricks.v1+output": {
       "addedWidgets": {},
       "aggData": [],
       "aggError": "",
       "aggOverflow": false,
       "aggSchema": [],
       "aggSeriesLimitReached": false,
       "aggType": "",
       "arguments": {},
       "columnCustomDisplayInfos": {},
       "data": [
        [
         54,
         42,
         30000.5,
         4.0,
         48
        ],
        [
         29,
         58,
         32500.25,
         5.0,
         36
        ],
        [
         72,
         17,
         20000.0,
         3.0,
         24
        ],
        [
         88,
         1,
         27500.0,
         3.0,
         24
        ],
        [
         78,
         4,
         27500.5,
         4.0,
         48
        ],
        [
         18,
         5,
         27500.5,
         4.5,
         48
        ],
        [
         70,
         33,
         37500.5,
         4.0,
         48
        ],
        [
         17,
         99,
         22500.25,
         5.5,
         36
        ],
        [
         46,
         24,
         17500.5,
         4.0,
         48
        ],
        [
         8,
         67,
         27500.0,
         3.0,
         24
        ],
        [
         79,
         55,
         32500.75,
         6.5,
         60
        ],
        [
         23,
         88,
         15000.75,
         6.5,
         60
        ],
        [
         53,
         86,
         15000.25,
         5.0,
         36
        ],
        [
         59,
         75,
         32500.75,
         6.0,
         60
        ],
        [
         1,
         45,
         10000.5,
         5.5,
         36
        ],
        [
         9,
         14,
         32500.25,
         5.5,
         36
        ],
        [
         47,
         95,
         22500.75,
         6.5,
         60
        ],
        [
         64,
         12,
         30000.0,
         3.0,
         24
        ],
        [
         96,
         48,
         17500.0,
         3.0,
         24
        ],
        [
         27,
         94,
         22500.75,
         6.0,
         60
        ],
        [
         84,
         40,
         30000.0,
         3.5,
         24
        ],
        [
         56,
         28,
         17500.0,
         3.0,
         24
        ],
        [
         86,
         21,
         17500.5,
         4.0,
         48
        ],
        [
         50,
         31,
         37500.5,
         4.5,
         48
        ],
        [
         33,
         85,
         15000.25,
         5.5,
         36
        ],
        [
         4,
         34,
         30000.25,
         3.5,
         24
        ],
        [
         16,
         18,
         17500.0,
         3.0,
         24
        ],
        [
         37,
         98,
         22500.25,
         5.0,
         36
        ],
        [
         62,
         35,
         20000.5,
         4.0,
         48
        ],
        [
         93,
         79,
         15000.25,
         5.0,
         36
        ],
        [
         49,
         57,
         32500.25,
         5.5,
         36
        ],
        [
         31,
         71,
         10000.75,
         6.5,
         60
        ],
        [
         69,
         59,
         32500.25,
         5.0,
         36
        ],
        [
         38,
         15,
         27500.5,
         4.0,
         48
        ],
        [
         22,
         37,
         20000.5,
         4.0,
         48
        ],
        [
         83,
         82,
         15000.75,
         6.0,
         60
        ],
        [
         41,
         51,
         10000.25,
         5.5,
         36
        ],
        [
         51,
         72,
         10000.75,
         6.0,
         60
        ],
        [
         77,
         91,
         22500.25,
         5.0,
         36
        ],
        [
         80,
         30,
         37500.0,
         3.0,
         24
        ],
        [
         99,
         80,
         32500.75,
         6.0,
         60
        ],
        [
         97,
         90,
         22500.25,
         5.5,
         36
        ],
        [
         63,
         84,
         15000.75,
         6.5,
         60
        ],
        [
         32,
         9,
         20000.0,
         3.0,
         24
        ],
        [
         58,
         16,
         27500.5,
         4.5,
         48
        ],
        [
         36,
         27,
         17500.0,
         3.5,
         24
        ],
        [
         66,
         26,
         17500.5,
         4.5,
         48
        ],
        [
         67,
         96,
         22500.75,
         6.0,
         60
        ],
        [
         45,
         68,
         25000.25,
         5.0,
         36
        ],
        [
         74,
         43,
         30000.5,
         4.5,
         48
        ],
        [
         13,
         29,
         15000.25,
         5.0,
         36
        ],
        [
         75,
         61,
         25000.75,
         6.0,
         60
        ],
        [
         60,
         20,
         37500.0,
         3.5,
         24
        ],
        [
         95,
         60,
         25000.75,
         6.5,
         60
        ],
        [
         25,
         66,
         25000.25,
         5.5,
         36
        ],
        [
         61,
         52,
         10000.25,
         5.0,
         36
        ],
        [
         12,
         81,
         20000.0,
         3.5,
         24
        ],
        [
         44,
         13,
         30000.0,
         3.5,
         24
        ],
        [
         24,
         11,
         30000.0,
         3.0,
         24
        ],
        [
         26,
         25,
         17500.5,
         4.5,
         48
        ],
        [
         28,
         7,
         27500.0,
         3.5,
         24
        ],
        [
         2,
         12,
         20000.75,
         4.5,
         48
        ],
        [
         30,
         32,
         37500.5,
         4.0,
         48
        ],
        [
         68,
         8,
         27500.0,
         3.5,
         24
        ],
        [
         87,
         93,
         22500.75,
         6.5,
         60
        ],
        [
         82,
         2,
         20000.5,
         4.5,
         48
        ],
        [
         98,
         49,
         27500.5,
         4.5,
         48
        ],
        [
         15,
         47,
         25000.75,
         6.5,
         60
        ],
        [
         71,
         73,
         10000.75,
         6.5,
         60
        ],
        [
         3,
         78,
         15000.0,
         6.0,
         60
        ],
        [
         52,
         10,
         20000.0,
         3.5,
         24
        ],
        [
         7,
         89,
         22500.75,
         6.5,
         60
        ],
        [
         55,
         63,
         25000.75,
         6.5,
         60
        ],
        [
         20,
         21,
         37500.0,
         3.5,
         24
        ],
        [
         43,
         83,
         15000.75,
         6.0,
         60
        ],
        [
         92,
         44,
         20000.0,
         3.5,
         24
        ],
        [
         94,
         39,
         30000.5,
         4.0,
         48
        ],
        [
         21,
         53,
         10000.25,
         5.0,
         36
        ],
        [
         10,
         92,
         37500.5,
         4.5,
         48
        ],
        [
         73,
         87,
         15000.25,
         5.5,
         36
        ],
        [
         89,
         54,
         32500.25,
         5.5,
         36
        ],
        [
         57,
         97,
         22500.25,
         5.5,
         36
        ],
        [
         100,
         50,
         37500.0,
         3.5,
         24
        ],
        [
         6,
         23,
         17500.5,
         4.0,
         48
        ],
        [
         48,
         6,
         27500.0,
         3.0,
         24
        ],
        [
         65,
         69,
         25000.25,
         5.5,
         36
        ],
        [
         90,
         38,
         37500.5,
         4.5,
         48
        ],
        [
         85,
         65,
         25000.25,
         5.0,
         36
        ],
        [
         14,
         64,
         30000.5,
         4.0,
         48
        ],
        [
         40,
         19,
         37500.0,
         3.0,
         24
        ],
        [
         76,
         22,
         17500.0,
         3.5,
         24
        ],
        [
         19,
         76,
         32500.75,
         6.0,
         60
        ],
        [
         81,
         70,
         10000.25,
         5.5,
         36
        ],
        [
         42,
         36,
         20000.5,
         4.5,
         48
        ],
        [
         91,
         77,
         10000.75,
         6.0,
         60
        ],
        [
         5,
         56,
         25000.0,
         5.0,
         36
        ],
        [
         39,
         74,
         32500.75,
         6.5,
         60
        ],
        [
         11,
         3,
         10000.75,
         6.0,
         60
        ],
        [
         35,
         62,
         25000.75,
         6.0,
         60
        ],
        [
         34,
         41,
         30000.5,
         4.5,
         48
        ]
       ],
       "datasetInfos": [],
       "dbfsResultPath": null,
       "isJsonSchema": true,
       "metadata": {},
       "overflow": false,
       "plotOptions": {
        "customPlotOptions": {},
        "displayType": "table",
        "pivotAggregation": null,
        "pivotColumns": null,
        "xColumns": null,
        "yColumns": null
       },
       "removedWidgets": [],
       "schema": [
        {
         "metadata": "{}",
         "name": "LoanId",
         "type": "\"integer\""
        },
        {
         "metadata": "{}",
         "name": "CustomerId",
         "type": "\"integer\""
        },
        {
         "metadata": "{}",
         "name": "LoanAmount",
         "type": "\"double\""
        },
        {
         "metadata": "{}",
         "name": "InterestRate",
         "type": "\"double\""
        },
        {
         "metadata": "{}",
         "name": "LoanTerm",
         "type": "\"integer\""
        }
       ],
       "type": "table"
      }
     },
     "output_type": "display_data"
    },
    {
     "output_type": "display_data",
     "data": {
      "text/html": [
       "<style scoped>\n",
       "  .table-result-container {\n",
       "    max-height: 300px;\n",
       "    overflow: auto;\n",
       "  }\n",
       "  table, th, td {\n",
       "    border: 1px solid black;\n",
       "    border-collapse: collapse;\n",
       "  }\n",
       "  th, td {\n",
       "    padding: 5px;\n",
       "  }\n",
       "  th {\n",
       "    text-align: left;\n",
       "  }\n",
       "</style><div class='table-result-container'><table class='table-result'><thead style='background-color: white'><tr><th>TransactionId</th><th>AccountId</th><th>TransactionDate</th><th>TransactionAmount</th><th>TransactionType</th></tr></thead><tbody><tr><td>83</td><td>82</td><td>2024-03-23</td><td>150.0</td><td>Deposit</td></tr><tr><td>81</td><td>70</td><td>2024-03-21</td><td>100.5</td><td>Deposit</td></tr><tr><td>90</td><td>38</td><td>2024-03-30</td><td>375.25</td><td>Withdrawal</td></tr><tr><td>23</td><td>88</td><td>2024-01-23</td><td>150.0</td><td>Deposit</td></tr><tr><td>93</td><td>79</td><td>2024-04-02</td><td>150.0</td><td>Deposit</td></tr><tr><td>69</td><td>59</td><td>2024-03-09</td><td>325.0</td><td>Deposit</td></tr><tr><td>61</td><td>52</td><td>2024-03-01</td><td>100.5</td><td>Deposit</td></tr><tr><td>87</td><td>93</td><td>2024-03-27</td><td>225.5</td><td>Deposit</td></tr><tr><td>17</td><td>99</td><td>2024-01-17</td><td>225.5</td><td>Deposit</td></tr><tr><td>71</td><td>73</td><td>2024-03-11</td><td>100.5</td><td>Deposit</td></tr><tr><td>91</td><td>77</td><td>2024-03-31</td><td>100.5</td><td>Deposit</td></tr><tr><td>42</td><td>36</td><td>2024-02-11</td><td>200.75</td><td>Withdrawal</td></tr><tr><td>38</td><td>15</td><td>2024-02-07</td><td>275.75</td><td>Withdrawal</td></tr><tr><td>89</td><td>54</td><td>2024-03-29</td><td>325.0</td><td>Deposit</td></tr><tr><td>15</td><td>47</td><td>2024-01-15</td><td>250.0</td><td>Deposit</td></tr><tr><td>57</td><td>97</td><td>2024-02-26</td><td>225.5</td><td>Deposit</td></tr><tr><td>95</td><td>60</td><td>2024-04-04</td><td>250.0</td><td>Deposit</td></tr><tr><td>79</td><td>55</td><td>2024-03-19</td><td>325.0</td><td>Deposit</td></tr><tr><td>80</td><td>30</td><td>2024-03-20</td><td>375.25</td><td>Withdrawal</td></tr><tr><td>1</td><td>45</td><td>2024-01-01</td><td>100.5</td><td>Deposit</td></tr><tr><td>11</td><td>3</td><td>2024-01-11</td><td>100.5</td><td>Deposit</td></tr><tr><td>78</td><td>4</td><td>2024-03-18</td><td>275.75</td><td>Withdrawal</td></tr><tr><td>67</td><td>96</td><td>2024-03-07</td><td>225.5</td><td>Deposit</td></tr><tr><td>51</td><td>72</td><td>2024-02-20</td><td>100.5</td><td>Deposit</td></tr><tr><td>21</td><td>53</td><td>2024-01-21</td><td>100.5</td><td>Deposit</td></tr><tr><td>34</td><td>41</td><td>2024-02-03</td><td>300.25</td><td>Withdrawal</td></tr><tr><td>58</td><td>16</td><td>2024-02-27</td><td>275.75</td><td>Withdrawal</td></tr><tr><td>101</td><td>50</td><td>2024-04-09</td><td>400.25</td><td>Withdrawal</td></tr><tr><td>27</td><td>94</td><td>2024-01-27</td><td>225.5</td><td>Deposit</td></tr><tr><td>5</td><td>56</td><td>2024-01-05</td><td>250.0</td><td>Deposit</td></tr><tr><td>3</td><td>78</td><td>2024-01-03</td><td>150.0</td><td>Deposit</td></tr><tr><td>26</td><td>25</td><td>2024-01-26</td><td>175.0</td><td>Withdrawal</td></tr><tr><td>96</td><td>48</td><td>2024-04-05</td><td>175.0</td><td>Withdrawal</td></tr><tr><td>98</td><td>49</td><td>2024-04-07</td><td>275.75</td><td>Withdrawal</td></tr><tr><td>92</td><td>44</td><td>2024-04-01</td><td>200.75</td><td>Withdrawal</td></tr><tr><td>100</td><td>50</td><td>2024-04-09</td><td>550.25</td><td>Deposit</td></tr><tr><td>36</td><td>27</td><td>2024-02-05</td><td>175.0</td><td>Withdrawal</td></tr><tr><td>60</td><td>20</td><td>2024-02-29</td><td>375.25</td><td>Withdrawal</td></tr><tr><td>45</td><td>68</td><td>2024-02-14</td><td>250.0</td><td>Deposit</td></tr><tr><td>94</td><td>39</td><td>2024-04-03</td><td>300.25</td><td>Withdrawal</td></tr><tr><td>18</td><td>5</td><td>2024-01-18</td><td>275.75</td><td>Withdrawal</td></tr><tr><td>32</td><td>9</td><td>2024-02-01</td><td>200.75</td><td>Withdrawal</td></tr><tr><td>33</td><td>85</td><td>2024-02-02</td><td>150.0</td><td>Deposit</td></tr><tr><td>10</td><td>92</td><td>2024-01-10</td><td>375.25</td><td>Withdrawal</td></tr><tr><td>70</td><td>33</td><td>2024-03-10</td><td>375.25</td><td>Withdrawal</td></tr><tr><td>19</td><td>76</td><td>2024-01-19</td><td>325.0</td><td>Deposit</td></tr><tr><td>43</td><td>83</td><td>2024-02-12</td><td>150.0</td><td>Deposit</td></tr><tr><td>55</td><td>63</td><td>2024-02-24</td><td>250.0</td><td>Deposit</td></tr><tr><td>73</td><td>87</td><td>2024-03-13</td><td>150.0</td><td>Deposit</td></tr><tr><td>22</td><td>37</td><td>2024-01-22</td><td>200.75</td><td>Withdrawal</td></tr><tr><td>86</td><td>21</td><td>2024-03-26</td><td>175.0</td><td>Withdrawal</td></tr><tr><td>24</td><td>11</td><td>2024-01-24</td><td>300.25</td><td>Withdrawal</td></tr><tr><td>74</td><td>43</td><td>2024-03-14</td><td>300.25</td><td>Withdrawal</td></tr><tr><td>35</td><td>62</td><td>2024-02-04</td><td>250.0</td><td>Deposit</td></tr><tr><td>49</td><td>57</td><td>2024-02-18</td><td>325.0</td><td>Deposit</td></tr><tr><td>63</td><td>84</td><td>2024-03-03</td><td>150.0</td><td>Deposit</td></tr><tr><td>41</td><td>51</td><td>2024-02-10</td><td>100.5</td><td>Deposit</td></tr><tr><td>97</td><td>90</td><td>2024-04-06</td><td>225.5</td><td>Deposit</td></tr><tr><td>37</td><td>98</td><td>2024-02-06</td><td>225.5</td><td>Deposit</td></tr><tr><td>6</td><td>23</td><td>2024-01-06</td><td>175.0</td><td>Withdrawal</td></tr><tr><td>56</td><td>28</td><td>2024-02-25</td><td>175.0</td><td>Withdrawal</td></tr><tr><td>99</td><td>80</td><td>2024-04-08</td><td>325.0</td><td>Deposit</td></tr><tr><td>9</td><td>14</td><td>2024-01-09</td><td>325.0</td><td>Deposit</td></tr><tr><td>64</td><td>12</td><td>2024-03-04</td><td>300.25</td><td>Withdrawal</td></tr><tr><td>20</td><td>21</td><td>2024-01-20</td><td>375.25</td><td>Withdrawal</td></tr><tr><td>12</td><td>81</td><td>2024-01-12</td><td>200.75</td><td>Withdrawal</td></tr><tr><td>82</td><td>2</td><td>2024-03-22</td><td>200.75</td><td>Withdrawal</td></tr><tr><td>25</td><td>66</td><td>2024-01-25</td><td>250.0</td><td>Deposit</td></tr><tr><td>88</td><td>1</td><td>2024-03-28</td><td>275.75</td><td>Withdrawal</td></tr><tr><td>65</td><td>69</td><td>2024-03-05</td><td>250.0</td><td>Deposit</td></tr><tr><td>8</td><td>67</td><td>2024-01-08</td><td>275.75</td><td>Withdrawal</td></tr><tr><td>62</td><td>35</td><td>2024-03-02</td><td>200.75</td><td>Withdrawal</td></tr><tr><td>50</td><td>31</td><td>2024-02-19</td><td>375.25</td><td>Withdrawal</td></tr><tr><td>66</td><td>26</td><td>2024-03-06</td><td>175.0</td><td>Withdrawal</td></tr><tr><td>4</td><td>34</td><td>2024-01-04</td><td>300.25</td><td>Withdrawal</td></tr><tr><td>46</td><td>24</td><td>2024-02-15</td><td>175.0</td><td>Withdrawal</td></tr><tr><td>13</td><td>29</td><td>2024-01-13</td><td>150.0</td><td>Deposit</td></tr><tr><td>28</td><td>7</td><td>2024-01-28</td><td>275.75</td><td>Withdrawal</td></tr><tr><td>30</td><td>32</td><td>2024-01-30</td><td>375.25</td><td>Withdrawal</td></tr><tr><td>53</td><td>86</td><td>2024-02-22</td><td>150.0</td><td>Deposit</td></tr><tr><td>52</td><td>10</td><td>2024-02-21</td><td>200.75</td><td>Withdrawal</td></tr><tr><td>14</td><td>64</td><td>2024-01-14</td><td>300.25</td><td>Withdrawal</td></tr><tr><td>29</td><td>58</td><td>2024-01-29</td><td>325.0</td><td>Deposit</td></tr><tr><td>44</td><td>13</td><td>2024-02-13</td><td>300.25</td><td>Withdrawal</td></tr><tr><td>7</td><td>89</td><td>2024-01-07</td><td>225.5</td><td>Deposit</td></tr><tr><td>72</td><td>17</td><td>2024-03-12</td><td>200.75</td><td>Withdrawal</td></tr><tr><td>31</td><td>71</td><td>2024-01-31</td><td>100.5</td><td>Deposit</td></tr><tr><td>76</td><td>22</td><td>2024-03-16</td><td>175.0</td><td>Withdrawal</td></tr><tr><td>47</td><td>95</td><td>2024-02-16</td><td>225.5</td><td>Deposit</td></tr><tr><td>54</td><td>42</td><td>2024-02-23</td><td>300.25</td><td>Withdrawal</td></tr><tr><td>2</td><td>12</td><td>2024-01-02</td><td>200.75</td><td>Withdrawal</td></tr><tr><td>77</td><td>91</td><td>2024-03-17</td><td>225.5</td><td>Deposit</td></tr><tr><td>75</td><td>61</td><td>2024-03-15</td><td>250.0</td><td>Deposit</td></tr><tr><td>59</td><td>75</td><td>2024-02-28</td><td>325.0</td><td>Deposit</td></tr><tr><td>85</td><td>65</td><td>2024-03-25</td><td>250.0</td><td>Deposit</td></tr><tr><td>84</td><td>40</td><td>2024-03-24</td><td>300.25</td><td>Withdrawal</td></tr><tr><td>40</td><td>19</td><td>2024-02-09</td><td>375.25</td><td>Withdrawal</td></tr><tr><td>48</td><td>6</td><td>2024-02-17</td><td>275.75</td><td>Withdrawal</td></tr><tr><td>39</td><td>74</td><td>2024-02-08</td><td>325.0</td><td>Deposit</td></tr><tr><td>68</td><td>8</td><td>2024-03-08</td><td>275.75</td><td>Withdrawal</td></tr><tr><td>16</td><td>18</td><td>2024-01-16</td><td>175.0</td><td>Withdrawal</td></tr></tbody></table></div>"
      ]
     },
     "metadata": {
      "application/vnd.databricks.v1+output": {
       "addedWidgets": {},
       "aggData": [],
       "aggError": "",
       "aggOverflow": false,
       "aggSchema": [],
       "aggSeriesLimitReached": false,
       "aggType": "",
       "arguments": {},
       "columnCustomDisplayInfos": {},
       "data": [
        [
         83,
         82,
         "2024-03-23",
         150.0,
         "Deposit"
        ],
        [
         81,
         70,
         "2024-03-21",
         100.5,
         "Deposit"
        ],
        [
         90,
         38,
         "2024-03-30",
         375.25,
         "Withdrawal"
        ],
        [
         23,
         88,
         "2024-01-23",
         150.0,
         "Deposit"
        ],
        [
         93,
         79,
         "2024-04-02",
         150.0,
         "Deposit"
        ],
        [
         69,
         59,
         "2024-03-09",
         325.0,
         "Deposit"
        ],
        [
         61,
         52,
         "2024-03-01",
         100.5,
         "Deposit"
        ],
        [
         87,
         93,
         "2024-03-27",
         225.5,
         "Deposit"
        ],
        [
         17,
         99,
         "2024-01-17",
         225.5,
         "Deposit"
        ],
        [
         71,
         73,
         "2024-03-11",
         100.5,
         "Deposit"
        ],
        [
         91,
         77,
         "2024-03-31",
         100.5,
         "Deposit"
        ],
        [
         42,
         36,
         "2024-02-11",
         200.75,
         "Withdrawal"
        ],
        [
         38,
         15,
         "2024-02-07",
         275.75,
         "Withdrawal"
        ],
        [
         89,
         54,
         "2024-03-29",
         325.0,
         "Deposit"
        ],
        [
         15,
         47,
         "2024-01-15",
         250.0,
         "Deposit"
        ],
        [
         57,
         97,
         "2024-02-26",
         225.5,
         "Deposit"
        ],
        [
         95,
         60,
         "2024-04-04",
         250.0,
         "Deposit"
        ],
        [
         79,
         55,
         "2024-03-19",
         325.0,
         "Deposit"
        ],
        [
         80,
         30,
         "2024-03-20",
         375.25,
         "Withdrawal"
        ],
        [
         1,
         45,
         "2024-01-01",
         100.5,
         "Deposit"
        ],
        [
         11,
         3,
         "2024-01-11",
         100.5,
         "Deposit"
        ],
        [
         78,
         4,
         "2024-03-18",
         275.75,
         "Withdrawal"
        ],
        [
         67,
         96,
         "2024-03-07",
         225.5,
         "Deposit"
        ],
        [
         51,
         72,
         "2024-02-20",
         100.5,
         "Deposit"
        ],
        [
         21,
         53,
         "2024-01-21",
         100.5,
         "Deposit"
        ],
        [
         34,
         41,
         "2024-02-03",
         300.25,
         "Withdrawal"
        ],
        [
         58,
         16,
         "2024-02-27",
         275.75,
         "Withdrawal"
        ],
        [
         101,
         50,
         "2024-04-09",
         400.25,
         "Withdrawal"
        ],
        [
         27,
         94,
         "2024-01-27",
         225.5,
         "Deposit"
        ],
        [
         5,
         56,
         "2024-01-05",
         250.0,
         "Deposit"
        ],
        [
         3,
         78,
         "2024-01-03",
         150.0,
         "Deposit"
        ],
        [
         26,
         25,
         "2024-01-26",
         175.0,
         "Withdrawal"
        ],
        [
         96,
         48,
         "2024-04-05",
         175.0,
         "Withdrawal"
        ],
        [
         98,
         49,
         "2024-04-07",
         275.75,
         "Withdrawal"
        ],
        [
         92,
         44,
         "2024-04-01",
         200.75,
         "Withdrawal"
        ],
        [
         100,
         50,
         "2024-04-09",
         550.25,
         "Deposit"
        ],
        [
         36,
         27,
         "2024-02-05",
         175.0,
         "Withdrawal"
        ],
        [
         60,
         20,
         "2024-02-29",
         375.25,
         "Withdrawal"
        ],
        [
         45,
         68,
         "2024-02-14",
         250.0,
         "Deposit"
        ],
        [
         94,
         39,
         "2024-04-03",
         300.25,
         "Withdrawal"
        ],
        [
         18,
         5,
         "2024-01-18",
         275.75,
         "Withdrawal"
        ],
        [
         32,
         9,
         "2024-02-01",
         200.75,
         "Withdrawal"
        ],
        [
         33,
         85,
         "2024-02-02",
         150.0,
         "Deposit"
        ],
        [
         10,
         92,
         "2024-01-10",
         375.25,
         "Withdrawal"
        ],
        [
         70,
         33,
         "2024-03-10",
         375.25,
         "Withdrawal"
        ],
        [
         19,
         76,
         "2024-01-19",
         325.0,
         "Deposit"
        ],
        [
         43,
         83,
         "2024-02-12",
         150.0,
         "Deposit"
        ],
        [
         55,
         63,
         "2024-02-24",
         250.0,
         "Deposit"
        ],
        [
         73,
         87,
         "2024-03-13",
         150.0,
         "Deposit"
        ],
        [
         22,
         37,
         "2024-01-22",
         200.75,
         "Withdrawal"
        ],
        [
         86,
         21,
         "2024-03-26",
         175.0,
         "Withdrawal"
        ],
        [
         24,
         11,
         "2024-01-24",
         300.25,
         "Withdrawal"
        ],
        [
         74,
         43,
         "2024-03-14",
         300.25,
         "Withdrawal"
        ],
        [
         35,
         62,
         "2024-02-04",
         250.0,
         "Deposit"
        ],
        [
         49,
         57,
         "2024-02-18",
         325.0,
         "Deposit"
        ],
        [
         63,
         84,
         "2024-03-03",
         150.0,
         "Deposit"
        ],
        [
         41,
         51,
         "2024-02-10",
         100.5,
         "Deposit"
        ],
        [
         97,
         90,
         "2024-04-06",
         225.5,
         "Deposit"
        ],
        [
         37,
         98,
         "2024-02-06",
         225.5,
         "Deposit"
        ],
        [
         6,
         23,
         "2024-01-06",
         175.0,
         "Withdrawal"
        ],
        [
         56,
         28,
         "2024-02-25",
         175.0,
         "Withdrawal"
        ],
        [
         99,
         80,
         "2024-04-08",
         325.0,
         "Deposit"
        ],
        [
         9,
         14,
         "2024-01-09",
         325.0,
         "Deposit"
        ],
        [
         64,
         12,
         "2024-03-04",
         300.25,
         "Withdrawal"
        ],
        [
         20,
         21,
         "2024-01-20",
         375.25,
         "Withdrawal"
        ],
        [
         12,
         81,
         "2024-01-12",
         200.75,
         "Withdrawal"
        ],
        [
         82,
         2,
         "2024-03-22",
         200.75,
         "Withdrawal"
        ],
        [
         25,
         66,
         "2024-01-25",
         250.0,
         "Deposit"
        ],
        [
         88,
         1,
         "2024-03-28",
         275.75,
         "Withdrawal"
        ],
        [
         65,
         69,
         "2024-03-05",
         250.0,
         "Deposit"
        ],
        [
         8,
         67,
         "2024-01-08",
         275.75,
         "Withdrawal"
        ],
        [
         62,
         35,
         "2024-03-02",
         200.75,
         "Withdrawal"
        ],
        [
         50,
         31,
         "2024-02-19",
         375.25,
         "Withdrawal"
        ],
        [
         66,
         26,
         "2024-03-06",
         175.0,
         "Withdrawal"
        ],
        [
         4,
         34,
         "2024-01-04",
         300.25,
         "Withdrawal"
        ],
        [
         46,
         24,
         "2024-02-15",
         175.0,
         "Withdrawal"
        ],
        [
         13,
         29,
         "2024-01-13",
         150.0,
         "Deposit"
        ],
        [
         28,
         7,
         "2024-01-28",
         275.75,
         "Withdrawal"
        ],
        [
         30,
         32,
         "2024-01-30",
         375.25,
         "Withdrawal"
        ],
        [
         53,
         86,
         "2024-02-22",
         150.0,
         "Deposit"
        ],
        [
         52,
         10,
         "2024-02-21",
         200.75,
         "Withdrawal"
        ],
        [
         14,
         64,
         "2024-01-14",
         300.25,
         "Withdrawal"
        ],
        [
         29,
         58,
         "2024-01-29",
         325.0,
         "Deposit"
        ],
        [
         44,
         13,
         "2024-02-13",
         300.25,
         "Withdrawal"
        ],
        [
         7,
         89,
         "2024-01-07",
         225.5,
         "Deposit"
        ],
        [
         72,
         17,
         "2024-03-12",
         200.75,
         "Withdrawal"
        ],
        [
         31,
         71,
         "2024-01-31",
         100.5,
         "Deposit"
        ],
        [
         76,
         22,
         "2024-03-16",
         175.0,
         "Withdrawal"
        ],
        [
         47,
         95,
         "2024-02-16",
         225.5,
         "Deposit"
        ],
        [
         54,
         42,
         "2024-02-23",
         300.25,
         "Withdrawal"
        ],
        [
         2,
         12,
         "2024-01-02",
         200.75,
         "Withdrawal"
        ],
        [
         77,
         91,
         "2024-03-17",
         225.5,
         "Deposit"
        ],
        [
         75,
         61,
         "2024-03-15",
         250.0,
         "Deposit"
        ],
        [
         59,
         75,
         "2024-02-28",
         325.0,
         "Deposit"
        ],
        [
         85,
         65,
         "2024-03-25",
         250.0,
         "Deposit"
        ],
        [
         84,
         40,
         "2024-03-24",
         300.25,
         "Withdrawal"
        ],
        [
         40,
         19,
         "2024-02-09",
         375.25,
         "Withdrawal"
        ],
        [
         48,
         6,
         "2024-02-17",
         275.75,
         "Withdrawal"
        ],
        [
         39,
         74,
         "2024-02-08",
         325.0,
         "Deposit"
        ],
        [
         68,
         8,
         "2024-03-08",
         275.75,
         "Withdrawal"
        ],
        [
         16,
         18,
         "2024-01-16",
         175.0,
         "Withdrawal"
        ]
       ],
       "datasetInfos": [],
       "dbfsResultPath": null,
       "isJsonSchema": true,
       "metadata": {},
       "overflow": false,
       "plotOptions": {
        "customPlotOptions": {},
        "displayType": "table",
        "pivotAggregation": null,
        "pivotColumns": null,
        "xColumns": null,
        "yColumns": null
       },
       "removedWidgets": [],
       "schema": [
        {
         "metadata": "{}",
         "name": "TransactionId",
         "type": "\"integer\""
        },
        {
         "metadata": "{}",
         "name": "AccountId",
         "type": "\"integer\""
        },
        {
         "metadata": "{}",
         "name": "TransactionDate",
         "type": "\"date\""
        },
        {
         "metadata": "{}",
         "name": "TransactionAmount",
         "type": "\"double\""
        },
        {
         "metadata": "{}",
         "name": "TransactionType",
         "type": "\"string\""
        }
       ],
       "type": "table"
      }
     },
     "output_type": "display_data"
    }
   ],
   "source": [
    "display(all_data_df[0])\n",
    "display(all_data_df[1])\n",
    "display(all_data_df[2])\n",
    "display(all_data_df[3])\n",
    "display(all_data_df[4])"
   ]
  }
 ],
 "metadata": {
  "application/vnd.databricks.v1+notebook": {
   "computePreferences": null,
   "dashboards": [],
   "environmentMetadata": {
    "base_environment": "",
    "environment_version": "2"
   },
   "inputWidgetPreferences": null,
   "language": "python",
   "notebookMetadata": {
    "mostRecentlyExecutedCommandWithImplicitDF": {
     "commandId": -1,
     "dataframes": [
      "_sqldf"
     ]
    },
    "pythonIndentUnit": 4
   },
   "notebookName": "Silver Layer Notebook",
   "widgets": {}
  },
  "language_info": {
   "name": "python"
  }
 },
 "nbformat": 4,
 "nbformat_minor": 0
}